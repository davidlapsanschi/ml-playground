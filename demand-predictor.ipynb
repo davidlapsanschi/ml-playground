{
 "cells": [
  {
   "cell_type": "code",
   "execution_count": 28,
   "metadata": {},
   "outputs": [],
   "source": [
    "import matplotlib.pyplot as plt\n",
    "import numpy as np\n",
    "import pandas as pd\n",
    "import os\n",
    "import seaborn as sns\n",
    "\n",
    "FOLDER_PATH = path = os.path.join(\"datasets\", \"food_demand\")\n",
    "\n",
    "\n",
    "def load_data(filename):\n",
    "    file_path = os.path.join(FOLDER_PATH, filename)\n",
    "    return pd.read_csv(file_path)\n"
   ]
  },
  {
   "cell_type": "markdown",
   "metadata": {},
   "source": [
    "# Loading the data"
   ]
  },
  {
   "cell_type": "code",
   "execution_count": 29,
   "metadata": {},
   "outputs": [],
   "source": [
    "center_info = load_data(\"fulfilment_center_info.csv\")\n",
    "meal_info = load_data(\"meal_info.csv\")\n",
    "data = load_data(\"train.csv\")"
   ]
  },
  {
   "cell_type": "markdown",
   "metadata": {},
   "source": [
    "# First look over the data"
   ]
  },
  {
   "cell_type": "code",
   "execution_count": 30,
   "metadata": {},
   "outputs": [
    {
     "data": {
      "text/plain": "    center_id  city_code  region_code center_type  op_area\n0          11        679           56      TYPE_A      3.7\n1          13        590           56      TYPE_B      6.7\n2         124        590           56      TYPE_C      4.0\n3          66        648           34      TYPE_A      4.1\n4          94        632           34      TYPE_C      3.6\n..        ...        ...          ...         ...      ...\n72         53        590           56      TYPE_A      3.8\n73         30        604           56      TYPE_A      3.5\n74         76        614           85      TYPE_A      3.0\n75         68        676           34      TYPE_B      4.1\n76         51        638           56      TYPE_A      7.0\n\n[77 rows x 5 columns]",
      "text/html": "<div>\n<style scoped>\n    .dataframe tbody tr th:only-of-type {\n        vertical-align: middle;\n    }\n\n    .dataframe tbody tr th {\n        vertical-align: top;\n    }\n\n    .dataframe thead th {\n        text-align: right;\n    }\n</style>\n<table border=\"1\" class=\"dataframe\">\n  <thead>\n    <tr style=\"text-align: right;\">\n      <th></th>\n      <th>center_id</th>\n      <th>city_code</th>\n      <th>region_code</th>\n      <th>center_type</th>\n      <th>op_area</th>\n    </tr>\n  </thead>\n  <tbody>\n    <tr>\n      <th>0</th>\n      <td>11</td>\n      <td>679</td>\n      <td>56</td>\n      <td>TYPE_A</td>\n      <td>3.7</td>\n    </tr>\n    <tr>\n      <th>1</th>\n      <td>13</td>\n      <td>590</td>\n      <td>56</td>\n      <td>TYPE_B</td>\n      <td>6.7</td>\n    </tr>\n    <tr>\n      <th>2</th>\n      <td>124</td>\n      <td>590</td>\n      <td>56</td>\n      <td>TYPE_C</td>\n      <td>4.0</td>\n    </tr>\n    <tr>\n      <th>3</th>\n      <td>66</td>\n      <td>648</td>\n      <td>34</td>\n      <td>TYPE_A</td>\n      <td>4.1</td>\n    </tr>\n    <tr>\n      <th>4</th>\n      <td>94</td>\n      <td>632</td>\n      <td>34</td>\n      <td>TYPE_C</td>\n      <td>3.6</td>\n    </tr>\n    <tr>\n      <th>...</th>\n      <td>...</td>\n      <td>...</td>\n      <td>...</td>\n      <td>...</td>\n      <td>...</td>\n    </tr>\n    <tr>\n      <th>72</th>\n      <td>53</td>\n      <td>590</td>\n      <td>56</td>\n      <td>TYPE_A</td>\n      <td>3.8</td>\n    </tr>\n    <tr>\n      <th>73</th>\n      <td>30</td>\n      <td>604</td>\n      <td>56</td>\n      <td>TYPE_A</td>\n      <td>3.5</td>\n    </tr>\n    <tr>\n      <th>74</th>\n      <td>76</td>\n      <td>614</td>\n      <td>85</td>\n      <td>TYPE_A</td>\n      <td>3.0</td>\n    </tr>\n    <tr>\n      <th>75</th>\n      <td>68</td>\n      <td>676</td>\n      <td>34</td>\n      <td>TYPE_B</td>\n      <td>4.1</td>\n    </tr>\n    <tr>\n      <th>76</th>\n      <td>51</td>\n      <td>638</td>\n      <td>56</td>\n      <td>TYPE_A</td>\n      <td>7.0</td>\n    </tr>\n  </tbody>\n</table>\n<p>77 rows × 5 columns</p>\n</div>"
     },
     "execution_count": 30,
     "metadata": {},
     "output_type": "execute_result"
    }
   ],
   "source": [
    "center_info"
   ]
  },
  {
   "cell_type": "code",
   "execution_count": 31,
   "metadata": {},
   "outputs": [
    {
     "data": {
      "text/plain": "    meal_id      category      cuisine\n0      1885     Beverages         Thai\n1      1993     Beverages         Thai\n2      2539     Beverages         Thai\n3      1248     Beverages       Indian\n4      2631     Beverages       Indian\n5      1311        Extras         Thai\n6      1062     Beverages      Italian\n7      1778     Beverages      Italian\n8      1803        Extras         Thai\n9      1198        Extras         Thai\n10     2707     Beverages      Italian\n11     1847          Soup         Thai\n12     1438          Soup         Thai\n13     2494          Soup         Thai\n14     2760  Other Snacks         Thai\n15     2490         Salad      Italian\n16     1109     Rice Bowl       Indian\n17     2290     Rice Bowl       Indian\n18     1525  Other Snacks         Thai\n19     2704  Other Snacks         Thai\n20     1878      Starters         Thai\n21     2640      Starters         Thai\n22     2577      Starters         Thai\n23     1754      Sandwich      Italian\n24     1971      Sandwich      Italian\n25     2306         Pasta      Italian\n26     2139     Beverages       Indian\n27     2826      Sandwich      Italian\n28     2664         Salad      Italian\n29     2569         Salad      Italian\n30     1230     Beverages  Continental\n31     1207     Beverages  Continental\n32     2322     Beverages  Continental\n33     2492        Desert       Indian\n34     1216         Pasta      Italian\n35     1727     Rice Bowl       Indian\n36     1902       Biryani       Indian\n37     1247       Biryani       Indian\n38     2304        Desert       Indian\n39     1543        Desert       Indian\n40     1770       Biryani       Indian\n41     2126         Pasta      Italian\n42     1558         Pizza  Continental\n43     2581         Pizza  Continental\n44     1962         Pizza  Continental\n45     1571          Fish  Continental\n46     2956          Fish  Continental\n47     2104          Fish  Continental\n48     2444       Seafood  Continental\n49     2867       Seafood  Continental\n50     1445       Seafood  Continental",
      "text/html": "<div>\n<style scoped>\n    .dataframe tbody tr th:only-of-type {\n        vertical-align: middle;\n    }\n\n    .dataframe tbody tr th {\n        vertical-align: top;\n    }\n\n    .dataframe thead th {\n        text-align: right;\n    }\n</style>\n<table border=\"1\" class=\"dataframe\">\n  <thead>\n    <tr style=\"text-align: right;\">\n      <th></th>\n      <th>meal_id</th>\n      <th>category</th>\n      <th>cuisine</th>\n    </tr>\n  </thead>\n  <tbody>\n    <tr>\n      <th>0</th>\n      <td>1885</td>\n      <td>Beverages</td>\n      <td>Thai</td>\n    </tr>\n    <tr>\n      <th>1</th>\n      <td>1993</td>\n      <td>Beverages</td>\n      <td>Thai</td>\n    </tr>\n    <tr>\n      <th>2</th>\n      <td>2539</td>\n      <td>Beverages</td>\n      <td>Thai</td>\n    </tr>\n    <tr>\n      <th>3</th>\n      <td>1248</td>\n      <td>Beverages</td>\n      <td>Indian</td>\n    </tr>\n    <tr>\n      <th>4</th>\n      <td>2631</td>\n      <td>Beverages</td>\n      <td>Indian</td>\n    </tr>\n    <tr>\n      <th>5</th>\n      <td>1311</td>\n      <td>Extras</td>\n      <td>Thai</td>\n    </tr>\n    <tr>\n      <th>6</th>\n      <td>1062</td>\n      <td>Beverages</td>\n      <td>Italian</td>\n    </tr>\n    <tr>\n      <th>7</th>\n      <td>1778</td>\n      <td>Beverages</td>\n      <td>Italian</td>\n    </tr>\n    <tr>\n      <th>8</th>\n      <td>1803</td>\n      <td>Extras</td>\n      <td>Thai</td>\n    </tr>\n    <tr>\n      <th>9</th>\n      <td>1198</td>\n      <td>Extras</td>\n      <td>Thai</td>\n    </tr>\n    <tr>\n      <th>10</th>\n      <td>2707</td>\n      <td>Beverages</td>\n      <td>Italian</td>\n    </tr>\n    <tr>\n      <th>11</th>\n      <td>1847</td>\n      <td>Soup</td>\n      <td>Thai</td>\n    </tr>\n    <tr>\n      <th>12</th>\n      <td>1438</td>\n      <td>Soup</td>\n      <td>Thai</td>\n    </tr>\n    <tr>\n      <th>13</th>\n      <td>2494</td>\n      <td>Soup</td>\n      <td>Thai</td>\n    </tr>\n    <tr>\n      <th>14</th>\n      <td>2760</td>\n      <td>Other Snacks</td>\n      <td>Thai</td>\n    </tr>\n    <tr>\n      <th>15</th>\n      <td>2490</td>\n      <td>Salad</td>\n      <td>Italian</td>\n    </tr>\n    <tr>\n      <th>16</th>\n      <td>1109</td>\n      <td>Rice Bowl</td>\n      <td>Indian</td>\n    </tr>\n    <tr>\n      <th>17</th>\n      <td>2290</td>\n      <td>Rice Bowl</td>\n      <td>Indian</td>\n    </tr>\n    <tr>\n      <th>18</th>\n      <td>1525</td>\n      <td>Other Snacks</td>\n      <td>Thai</td>\n    </tr>\n    <tr>\n      <th>19</th>\n      <td>2704</td>\n      <td>Other Snacks</td>\n      <td>Thai</td>\n    </tr>\n    <tr>\n      <th>20</th>\n      <td>1878</td>\n      <td>Starters</td>\n      <td>Thai</td>\n    </tr>\n    <tr>\n      <th>21</th>\n      <td>2640</td>\n      <td>Starters</td>\n      <td>Thai</td>\n    </tr>\n    <tr>\n      <th>22</th>\n      <td>2577</td>\n      <td>Starters</td>\n      <td>Thai</td>\n    </tr>\n    <tr>\n      <th>23</th>\n      <td>1754</td>\n      <td>Sandwich</td>\n      <td>Italian</td>\n    </tr>\n    <tr>\n      <th>24</th>\n      <td>1971</td>\n      <td>Sandwich</td>\n      <td>Italian</td>\n    </tr>\n    <tr>\n      <th>25</th>\n      <td>2306</td>\n      <td>Pasta</td>\n      <td>Italian</td>\n    </tr>\n    <tr>\n      <th>26</th>\n      <td>2139</td>\n      <td>Beverages</td>\n      <td>Indian</td>\n    </tr>\n    <tr>\n      <th>27</th>\n      <td>2826</td>\n      <td>Sandwich</td>\n      <td>Italian</td>\n    </tr>\n    <tr>\n      <th>28</th>\n      <td>2664</td>\n      <td>Salad</td>\n      <td>Italian</td>\n    </tr>\n    <tr>\n      <th>29</th>\n      <td>2569</td>\n      <td>Salad</td>\n      <td>Italian</td>\n    </tr>\n    <tr>\n      <th>30</th>\n      <td>1230</td>\n      <td>Beverages</td>\n      <td>Continental</td>\n    </tr>\n    <tr>\n      <th>31</th>\n      <td>1207</td>\n      <td>Beverages</td>\n      <td>Continental</td>\n    </tr>\n    <tr>\n      <th>32</th>\n      <td>2322</td>\n      <td>Beverages</td>\n      <td>Continental</td>\n    </tr>\n    <tr>\n      <th>33</th>\n      <td>2492</td>\n      <td>Desert</td>\n      <td>Indian</td>\n    </tr>\n    <tr>\n      <th>34</th>\n      <td>1216</td>\n      <td>Pasta</td>\n      <td>Italian</td>\n    </tr>\n    <tr>\n      <th>35</th>\n      <td>1727</td>\n      <td>Rice Bowl</td>\n      <td>Indian</td>\n    </tr>\n    <tr>\n      <th>36</th>\n      <td>1902</td>\n      <td>Biryani</td>\n      <td>Indian</td>\n    </tr>\n    <tr>\n      <th>37</th>\n      <td>1247</td>\n      <td>Biryani</td>\n      <td>Indian</td>\n    </tr>\n    <tr>\n      <th>38</th>\n      <td>2304</td>\n      <td>Desert</td>\n      <td>Indian</td>\n    </tr>\n    <tr>\n      <th>39</th>\n      <td>1543</td>\n      <td>Desert</td>\n      <td>Indian</td>\n    </tr>\n    <tr>\n      <th>40</th>\n      <td>1770</td>\n      <td>Biryani</td>\n      <td>Indian</td>\n    </tr>\n    <tr>\n      <th>41</th>\n      <td>2126</td>\n      <td>Pasta</td>\n      <td>Italian</td>\n    </tr>\n    <tr>\n      <th>42</th>\n      <td>1558</td>\n      <td>Pizza</td>\n      <td>Continental</td>\n    </tr>\n    <tr>\n      <th>43</th>\n      <td>2581</td>\n      <td>Pizza</td>\n      <td>Continental</td>\n    </tr>\n    <tr>\n      <th>44</th>\n      <td>1962</td>\n      <td>Pizza</td>\n      <td>Continental</td>\n    </tr>\n    <tr>\n      <th>45</th>\n      <td>1571</td>\n      <td>Fish</td>\n      <td>Continental</td>\n    </tr>\n    <tr>\n      <th>46</th>\n      <td>2956</td>\n      <td>Fish</td>\n      <td>Continental</td>\n    </tr>\n    <tr>\n      <th>47</th>\n      <td>2104</td>\n      <td>Fish</td>\n      <td>Continental</td>\n    </tr>\n    <tr>\n      <th>48</th>\n      <td>2444</td>\n      <td>Seafood</td>\n      <td>Continental</td>\n    </tr>\n    <tr>\n      <th>49</th>\n      <td>2867</td>\n      <td>Seafood</td>\n      <td>Continental</td>\n    </tr>\n    <tr>\n      <th>50</th>\n      <td>1445</td>\n      <td>Seafood</td>\n      <td>Continental</td>\n    </tr>\n  </tbody>\n</table>\n</div>"
     },
     "execution_count": 31,
     "metadata": {},
     "output_type": "execute_result"
    }
   ],
   "source": [
    "meal_info"
   ]
  },
  {
   "cell_type": "code",
   "execution_count": 32,
   "metadata": {},
   "outputs": [
    {
     "data": {
      "text/plain": "             id  week  center_id  meal_id  checkout_price  base_price  \\\n0       1379560     1         55     1885          136.83      152.29   \n1       1466964     1         55     1993          136.83      135.83   \n2       1346989     1         55     2539          134.86      135.86   \n3       1338232     1         55     2139          339.50      437.53   \n4       1448490     1         55     2631          243.50      242.50   \n...         ...   ...        ...      ...             ...         ...   \n456543  1271326   145         61     1543          484.09      484.09   \n456544  1062036   145         61     2304          482.09      482.09   \n456545  1110849   145         61     2664          237.68      321.07   \n456546  1147725   145         61     2569          243.50      313.34   \n456547  1361984   145         61     2490          292.03      290.03   \n\n        emailer_for_promotion  homepage_featured  num_orders  \n0                           0                  0         177  \n1                           0                  0         270  \n2                           0                  0         189  \n3                           0                  0          54  \n4                           0                  0          40  \n...                       ...                ...         ...  \n456543                      0                  0          68  \n456544                      0                  0          42  \n456545                      0                  0         501  \n456546                      0                  0         729  \n456547                      0                  0         162  \n\n[456548 rows x 9 columns]",
      "text/html": "<div>\n<style scoped>\n    .dataframe tbody tr th:only-of-type {\n        vertical-align: middle;\n    }\n\n    .dataframe tbody tr th {\n        vertical-align: top;\n    }\n\n    .dataframe thead th {\n        text-align: right;\n    }\n</style>\n<table border=\"1\" class=\"dataframe\">\n  <thead>\n    <tr style=\"text-align: right;\">\n      <th></th>\n      <th>id</th>\n      <th>week</th>\n      <th>center_id</th>\n      <th>meal_id</th>\n      <th>checkout_price</th>\n      <th>base_price</th>\n      <th>emailer_for_promotion</th>\n      <th>homepage_featured</th>\n      <th>num_orders</th>\n    </tr>\n  </thead>\n  <tbody>\n    <tr>\n      <th>0</th>\n      <td>1379560</td>\n      <td>1</td>\n      <td>55</td>\n      <td>1885</td>\n      <td>136.83</td>\n      <td>152.29</td>\n      <td>0</td>\n      <td>0</td>\n      <td>177</td>\n    </tr>\n    <tr>\n      <th>1</th>\n      <td>1466964</td>\n      <td>1</td>\n      <td>55</td>\n      <td>1993</td>\n      <td>136.83</td>\n      <td>135.83</td>\n      <td>0</td>\n      <td>0</td>\n      <td>270</td>\n    </tr>\n    <tr>\n      <th>2</th>\n      <td>1346989</td>\n      <td>1</td>\n      <td>55</td>\n      <td>2539</td>\n      <td>134.86</td>\n      <td>135.86</td>\n      <td>0</td>\n      <td>0</td>\n      <td>189</td>\n    </tr>\n    <tr>\n      <th>3</th>\n      <td>1338232</td>\n      <td>1</td>\n      <td>55</td>\n      <td>2139</td>\n      <td>339.50</td>\n      <td>437.53</td>\n      <td>0</td>\n      <td>0</td>\n      <td>54</td>\n    </tr>\n    <tr>\n      <th>4</th>\n      <td>1448490</td>\n      <td>1</td>\n      <td>55</td>\n      <td>2631</td>\n      <td>243.50</td>\n      <td>242.50</td>\n      <td>0</td>\n      <td>0</td>\n      <td>40</td>\n    </tr>\n    <tr>\n      <th>...</th>\n      <td>...</td>\n      <td>...</td>\n      <td>...</td>\n      <td>...</td>\n      <td>...</td>\n      <td>...</td>\n      <td>...</td>\n      <td>...</td>\n      <td>...</td>\n    </tr>\n    <tr>\n      <th>456543</th>\n      <td>1271326</td>\n      <td>145</td>\n      <td>61</td>\n      <td>1543</td>\n      <td>484.09</td>\n      <td>484.09</td>\n      <td>0</td>\n      <td>0</td>\n      <td>68</td>\n    </tr>\n    <tr>\n      <th>456544</th>\n      <td>1062036</td>\n      <td>145</td>\n      <td>61</td>\n      <td>2304</td>\n      <td>482.09</td>\n      <td>482.09</td>\n      <td>0</td>\n      <td>0</td>\n      <td>42</td>\n    </tr>\n    <tr>\n      <th>456545</th>\n      <td>1110849</td>\n      <td>145</td>\n      <td>61</td>\n      <td>2664</td>\n      <td>237.68</td>\n      <td>321.07</td>\n      <td>0</td>\n      <td>0</td>\n      <td>501</td>\n    </tr>\n    <tr>\n      <th>456546</th>\n      <td>1147725</td>\n      <td>145</td>\n      <td>61</td>\n      <td>2569</td>\n      <td>243.50</td>\n      <td>313.34</td>\n      <td>0</td>\n      <td>0</td>\n      <td>729</td>\n    </tr>\n    <tr>\n      <th>456547</th>\n      <td>1361984</td>\n      <td>145</td>\n      <td>61</td>\n      <td>2490</td>\n      <td>292.03</td>\n      <td>290.03</td>\n      <td>0</td>\n      <td>0</td>\n      <td>162</td>\n    </tr>\n  </tbody>\n</table>\n<p>456548 rows × 9 columns</p>\n</div>"
     },
     "execution_count": 32,
     "metadata": {},
     "output_type": "execute_result"
    }
   ],
   "source": [
    "data"
   ]
  },
  {
   "cell_type": "markdown",
   "metadata": {},
   "source": [
    "# Checking for null values"
   ]
  },
  {
   "cell_type": "code",
   "execution_count": 33,
   "metadata": {},
   "outputs": [
    {
     "name": "stdout",
     "output_type": "stream",
     "text": [
      "<class 'pandas.core.frame.DataFrame'>\n",
      "RangeIndex: 77 entries, 0 to 76\n",
      "Data columns (total 5 columns):\n",
      " #   Column       Non-Null Count  Dtype  \n",
      "---  ------       --------------  -----  \n",
      " 0   center_id    77 non-null     int64  \n",
      " 1   city_code    77 non-null     int64  \n",
      " 2   region_code  77 non-null     int64  \n",
      " 3   center_type  77 non-null     object \n",
      " 4   op_area      77 non-null     float64\n",
      "dtypes: float64(1), int64(3), object(1)\n",
      "memory usage: 3.1+ KB\n"
     ]
    }
   ],
   "source": [
    "center_info.info()\n"
   ]
  },
  {
   "cell_type": "code",
   "execution_count": 34,
   "metadata": {},
   "outputs": [
    {
     "name": "stdout",
     "output_type": "stream",
     "text": [
      "<class 'pandas.core.frame.DataFrame'>\n",
      "RangeIndex: 51 entries, 0 to 50\n",
      "Data columns (total 3 columns):\n",
      " #   Column    Non-Null Count  Dtype \n",
      "---  ------    --------------  ----- \n",
      " 0   meal_id   51 non-null     int64 \n",
      " 1   category  51 non-null     object\n",
      " 2   cuisine   51 non-null     object\n",
      "dtypes: int64(1), object(2)\n",
      "memory usage: 1.3+ KB\n"
     ]
    }
   ],
   "source": [
    "meal_info.info()"
   ]
  },
  {
   "cell_type": "code",
   "execution_count": 35,
   "metadata": {},
   "outputs": [
    {
     "name": "stdout",
     "output_type": "stream",
     "text": [
      "<class 'pandas.core.frame.DataFrame'>\n",
      "RangeIndex: 456548 entries, 0 to 456547\n",
      "Data columns (total 9 columns):\n",
      " #   Column                 Non-Null Count   Dtype  \n",
      "---  ------                 --------------   -----  \n",
      " 0   id                     456548 non-null  int64  \n",
      " 1   week                   456548 non-null  int64  \n",
      " 2   center_id              456548 non-null  int64  \n",
      " 3   meal_id                456548 non-null  int64  \n",
      " 4   checkout_price         456548 non-null  float64\n",
      " 5   base_price             456548 non-null  float64\n",
      " 6   emailer_for_promotion  456548 non-null  int64  \n",
      " 7   homepage_featured      456548 non-null  int64  \n",
      " 8   num_orders             456548 non-null  int64  \n",
      "dtypes: float64(2), int64(7)\n",
      "memory usage: 31.3 MB\n"
     ]
    }
   ],
   "source": [
    "data.info()"
   ]
  },
  {
   "cell_type": "markdown",
   "metadata": {},
   "source": [
    "# Check if every meal and center in the dataset have entries"
   ]
  },
  {
   "cell_type": "code",
   "execution_count": 36,
   "metadata": {},
   "outputs": [
    {
     "data": {
      "text/plain": "13     7046\n10     7015\n52     6993\n43     6970\n67     6915\n       ... \n139    4627\n57     4501\n162    4366\n41     4083\n91     3432\nName: center_id, Length: 77, dtype: int64"
     },
     "execution_count": 36,
     "metadata": {},
     "output_type": "execute_result"
    }
   ],
   "source": [
    "data[\"center_id\"].value_counts()\n"
   ]
  },
  {
   "cell_type": "code",
   "execution_count": 37,
   "metadata": {},
   "outputs": [
    {
     "data": {
      "text/plain": "True    456548\nName: center_id, dtype: int64"
     },
     "execution_count": 37,
     "metadata": {},
     "output_type": "execute_result"
    }
   ],
   "source": [
    "data['center_id'].isin(center_info['center_id']).value_counts()"
   ]
  },
  {
   "cell_type": "markdown",
   "metadata": {},
   "source": [
    "All center ids in the data set exist"
   ]
  },
  {
   "cell_type": "code",
   "execution_count": 38,
   "metadata": {},
   "outputs": [
    {
     "data": {
      "text/plain": "True    456548\nName: meal_id, dtype: int64"
     },
     "execution_count": 38,
     "metadata": {},
     "output_type": "execute_result"
    }
   ],
   "source": [
    "data['meal_id'].isin(meal_info['meal_id']).value_counts()\n"
   ]
  },
  {
   "cell_type": "markdown",
   "metadata": {},
   "source": [
    "All meal ids in the dataset exist"
   ]
  },
  {
   "cell_type": "markdown",
   "source": [
    "# Splitting data set into train/test sets"
   ],
   "metadata": {
    "collapsed": false
   }
  },
  {
   "cell_type": "markdown",
   "source": [
    "Normally, we'd want to split the data randomly and balanced. As such:"
   ],
   "metadata": {
    "collapsed": false
   }
  },
  {
   "cell_type": "code",
   "execution_count": 39,
   "outputs": [],
   "source": [
    "# from sklearn.model_selection import train_test_split\n",
    "\n",
    "# train_set, test_set = train_test_split(data, test_size=0.2, random_state=42)"
   ],
   "metadata": {
    "collapsed": false
   }
  },
  {
   "cell_type": "markdown",
   "source": [
    "However, in our situation, we're working with a data set that has information for each week and the final purpose is to use information from previous weeks to predict the demand for future weeks. As such, the split above is not correct as it will result in gaps of info in the training set and past week data in the test set. We should keep the data of the last 20% (or less) of weeks in the set as the test set. EX: We will train on weeks 1-125 and predict weeks 126-145.\n",
    "We will try and keep in the test set the last 10 weeks of data."
   ],
   "metadata": {
    "collapsed": false
   }
  },
  {
   "cell_type": "code",
   "execution_count": 40,
   "outputs": [
    {
     "data": {
      "text/plain": "122    3359\n105    3348\n106    3347\n140    3332\n123    3331\n       ... \n13     2838\n12     2831\n14     2830\n7      2795\n8      2786\nName: week, Length: 145, dtype: int64"
     },
     "execution_count": 40,
     "metadata": {},
     "output_type": "execute_result"
    }
   ],
   "source": [
    "data['week'].value_counts()"
   ],
   "metadata": {
    "collapsed": false
   }
  },
  {
   "cell_type": "code",
   "execution_count": 41,
   "outputs": [
    {
     "data": {
      "text/plain": "<AxesSubplot:xlabel='week', ylabel='count'>"
     },
     "execution_count": 41,
     "metadata": {},
     "output_type": "execute_result"
    },
    {
     "data": {
      "text/plain": "<Figure size 640x480 with 1 Axes>",
      "image/png": "[encoded data removed]"
     },
     "metadata": {},
     "output_type": "display_data"
    }
   ],
   "source": [
    "sns.countplot(x=\"week\", data=data)"
   ],
   "metadata": {
    "collapsed": false
   }
  },
  {
   "cell_type": "markdown",
   "source": [
    "Looks fine, every week has similar amounts of data."
   ],
   "metadata": {
    "collapsed": false
   }
  },
  {
   "cell_type": "markdown",
   "source": [
    "Let's include in the test set weeks 131-145"
   ],
   "metadata": {
    "collapsed": false
   }
  },
  {
   "cell_type": "code",
   "execution_count": 42,
   "outputs": [],
   "source": [
    "train_set = data[data[\"week\"] <= 130]\n",
    "test_set = data[data[\"week\"] > 130]"
   ],
   "metadata": {
    "collapsed": false
   }
  },
  {
   "cell_type": "markdown",
   "metadata": {},
   "source": [
    "# Merging the train into one data frame by joining with the centers and meals"
   ]
  },
  {
   "cell_type": "code",
   "execution_count": 43,
   "metadata": {},
   "outputs": [],
   "source": [
    "full_train_data = train_set.merge(center_info, on=\"center_id\", how=\"inner\")\n",
    "full_train_data = full_train_data.merge(meal_info, on=\"meal_id\", how=\"inner\")"
   ]
  },
  {
   "cell_type": "code",
   "execution_count": 44,
   "metadata": {},
   "outputs": [
    {
     "data": {
      "text/plain": "             id  week  center_id  meal_id  checkout_price  base_price  \\\n0       1379560     1         55     1885          136.83      152.29   \n1       1018704     2         55     1885          135.83      152.29   \n2       1196273     3         55     1885          132.92      133.92   \n3       1116527     4         55     1885          135.86      134.86   \n4       1343872     5         55     1885          146.50      147.50   \n...         ...   ...        ...      ...             ...         ...   \n407238  1140443   126         61     2104          629.53      630.53   \n407239  1372283   127         61     2104          631.53      630.53   \n407240  1056661   128         61     2104          629.53      631.53   \n407241  1162703   129         61     2104          436.53      629.53   \n407242  1459241   130         61     2104          442.32      631.53   \n\n        emailer_for_promotion  homepage_featured  num_orders  city_code  \\\n0                           0                  0         177        647   \n1                           0                  0         323        647   \n2                           0                  0          96        647   \n3                           0                  0         163        647   \n4                           0                  0         215        647   \n...                       ...                ...         ...        ...   \n407238                      0                  0          54        473   \n407239                      0                  0          28        473   \n407240                      0                  0          53        473   \n407241                      0                  1         121        473   \n407242                      0                  1         378        473   \n\n        region_code center_type  op_area   category      cuisine  \n0                56      TYPE_C      2.0  Beverages         Thai  \n1                56      TYPE_C      2.0  Beverages         Thai  \n2                56      TYPE_C      2.0  Beverages         Thai  \n3                56      TYPE_C      2.0  Beverages         Thai  \n4                56      TYPE_C      2.0  Beverages         Thai  \n...             ...         ...      ...        ...          ...  \n407238           77      TYPE_A      4.5       Fish  Continental  \n407239           77      TYPE_A      4.5       Fish  Continental  \n407240           77      TYPE_A      4.5       Fish  Continental  \n407241           77      TYPE_A      4.5       Fish  Continental  \n407242           77      TYPE_A      4.5       Fish  Continental  \n\n[407243 rows x 15 columns]",
      "text/html": "<div>\n<style scoped>\n    .dataframe tbody tr th:only-of-type {\n        vertical-align: middle;\n    }\n\n    .dataframe tbody tr th {\n        vertical-align: top;\n    }\n\n    .dataframe thead th {\n        text-align: right;\n    }\n</style>\n<table border=\"1\" class=\"dataframe\">\n  <thead>\n    <tr style=\"text-align: right;\">\n      <th></th>\n      <th>id</th>\n      <th>week</th>\n      <th>center_id</th>\n      <th>meal_id</th>\n      <th>checkout_price</th>\n      <th>base_price</th>\n      <th>emailer_for_promotion</th>\n      <th>homepage_featured</th>\n      <th>num_orders</th>\n      <th>city_code</th>\n      <th>region_code</th>\n      <th>center_type</th>\n      <th>op_area</th>\n      <th>category</th>\n      <th>cuisine</th>\n    </tr>\n  </thead>\n  <tbody>\n    <tr>\n      <th>0</th>\n      <td>1379560</td>\n      <td>1</td>\n      <td>55</td>\n      <td>1885</td>\n      <td>136.83</td>\n      <td>152.29</td>\n      <td>0</td>\n      <td>0</td>\n      <td>177</td>\n      <td>647</td>\n      <td>56</td>\n      <td>TYPE_C</td>\n      <td>2.0</td>\n      <td>Beverages</td>\n      <td>Thai</td>\n    </tr>\n    <tr>\n      <th>1</th>\n      <td>1018704</td>\n      <td>2</td>\n      <td>55</td>\n      <td>1885</td>\n      <td>135.83</td>\n      <td>152.29</td>\n      <td>0</td>\n      <td>0</td>\n      <td>323</td>\n      <td>647</td>\n      <td>56</td>\n      <td>TYPE_C</td>\n      <td>2.0</td>\n      <td>Beverages</td>\n      <td>Thai</td>\n    </tr>\n    <tr>\n      <th>2</th>\n      <td>1196273</td>\n      <td>3</td>\n      <td>55</td>\n      <td>1885</td>\n      <td>132.92</td>\n      <td>133.92</td>\n      <td>0</td>\n      <td>0</td>\n      <td>96</td>\n      <td>647</td>\n      <td>56</td>\n      <td>TYPE_C</td>\n      <td>2.0</td>\n      <td>Beverages</td>\n      <td>Thai</td>\n    </tr>\n    <tr>\n      <th>3</th>\n      <td>1116527</td>\n      <td>4</td>\n      <td>55</td>\n      <td>1885</td>\n      <td>135.86</td>\n      <td>134.86</td>\n      <td>0</td>\n      <td>0</td>\n      <td>163</td>\n      <td>647</td>\n      <td>56</td>\n      <td>TYPE_C</td>\n      <td>2.0</td>\n      <td>Beverages</td>\n      <td>Thai</td>\n    </tr>\n    <tr>\n      <th>4</th>\n      <td>1343872</td>\n      <td>5</td>\n      <td>55</td>\n      <td>1885</td>\n      <td>146.50</td>\n      <td>147.50</td>\n      <td>0</td>\n      <td>0</td>\n      <td>215</td>\n      <td>647</td>\n      <td>56</td>\n      <td>TYPE_C</td>\n      <td>2.0</td>\n      <td>Beverages</td>\n      <td>Thai</td>\n    </tr>\n    <tr>\n      <th>...</th>\n      <td>...</td>\n      <td>...</td>\n      <td>...</td>\n      <td>...</td>\n      <td>...</td>\n      <td>...</td>\n      <td>...</td>\n      <td>...</td>\n      <td>...</td>\n      <td>...</td>\n      <td>...</td>\n      <td>...</td>\n      <td>...</td>\n      <td>...</td>\n      <td>...</td>\n    </tr>\n    <tr>\n      <th>407238</th>\n      <td>1140443</td>\n      <td>126</td>\n      <td>61</td>\n      <td>2104</td>\n      <td>629.53</td>\n      <td>630.53</td>\n      <td>0</td>\n      <td>0</td>\n      <td>54</td>\n      <td>473</td>\n      <td>77</td>\n      <td>TYPE_A</td>\n      <td>4.5</td>\n      <td>Fish</td>\n      <td>Continental</td>\n    </tr>\n    <tr>\n      <th>407239</th>\n      <td>1372283</td>\n      <td>127</td>\n      <td>61</td>\n      <td>2104</td>\n      <td>631.53</td>\n      <td>630.53</td>\n      <td>0</td>\n      <td>0</td>\n      <td>28</td>\n      <td>473</td>\n      <td>77</td>\n      <td>TYPE_A</td>\n      <td>4.5</td>\n      <td>Fish</td>\n      <td>Continental</td>\n    </tr>\n    <tr>\n      <th>407240</th>\n      <td>1056661</td>\n      <td>128</td>\n      <td>61</td>\n      <td>2104</td>\n      <td>629.53</td>\n      <td>631.53</td>\n      <td>0</td>\n      <td>0</td>\n      <td>53</td>\n      <td>473</td>\n      <td>77</td>\n      <td>TYPE_A</td>\n      <td>4.5</td>\n      <td>Fish</td>\n      <td>Continental</td>\n    </tr>\n    <tr>\n      <th>407241</th>\n      <td>1162703</td>\n      <td>129</td>\n      <td>61</td>\n      <td>2104</td>\n      <td>436.53</td>\n      <td>629.53</td>\n      <td>0</td>\n      <td>1</td>\n      <td>121</td>\n      <td>473</td>\n      <td>77</td>\n      <td>TYPE_A</td>\n      <td>4.5</td>\n      <td>Fish</td>\n      <td>Continental</td>\n    </tr>\n    <tr>\n      <th>407242</th>\n      <td>1459241</td>\n      <td>130</td>\n      <td>61</td>\n      <td>2104</td>\n      <td>442.32</td>\n      <td>631.53</td>\n      <td>0</td>\n      <td>1</td>\n      <td>378</td>\n      <td>473</td>\n      <td>77</td>\n      <td>TYPE_A</td>\n      <td>4.5</td>\n      <td>Fish</td>\n      <td>Continental</td>\n    </tr>\n  </tbody>\n</table>\n<p>407243 rows × 15 columns</p>\n</div>"
     },
     "execution_count": 44,
     "metadata": {},
     "output_type": "execute_result"
    }
   ],
   "source": [
    "full_train_data"
   ]
  },
  {
   "cell_type": "markdown",
   "metadata": {},
   "source": [
    "# Checking numerical values"
   ]
  },
  {
   "cell_type": "code",
   "execution_count": 45,
   "metadata": {},
   "outputs": [
    {
     "data": {
      "text/plain": "                 id           week      center_id        meal_id  \\\ncount  4.072430e+05  407243.000000  407243.000000  407243.000000   \nmean   1.249982e+06      67.114241      82.120115    2023.651554   \nstd    1.443946e+05      37.259672      45.977340     547.367071   \nmin    1.000000e+06       1.000000      10.000000    1062.000000   \n25%    1.124816e+06      35.000000      43.000000    1558.000000   \n50%    1.249941e+06      68.000000      76.000000    1971.000000   \n75%    1.375048e+06      99.000000     110.000000    2539.000000   \nmax    1.499999e+06     130.000000     186.000000    2956.000000   \n\n       checkout_price     base_price  emailer_for_promotion  \\\ncount   407243.000000  407243.000000          407243.000000   \nmean       331.265163     353.251941               0.082528   \nstd        153.289316     160.697550               0.275168   \nmin          2.970000      55.350000               0.000000   \n25%        228.010000     243.500000               0.000000   \n50%        292.030000     309.430000               0.000000   \n75%        443.350000     459.810000               0.000000   \nmax        767.330000     767.330000               1.000000   \n\n       homepage_featured     num_orders      city_code    region_code  \\\ncount      407243.000000  407243.000000  407243.000000  407243.000000   \nmean            0.110200     264.387889     601.565449      56.607038   \nstd             0.313139     401.031825      66.212891      17.640190   \nmin             0.000000      13.000000     456.000000      23.000000   \n25%             0.000000      54.000000     553.000000      34.000000   \n50%             0.000000     136.000000     596.000000      56.000000   \n75%             0.000000     324.000000     651.000000      77.000000   \nmax             1.000000   24299.000000     713.000000      93.000000   \n\n             op_area  \ncount  407243.000000  \nmean        4.083209  \nstd         1.091140  \nmin         0.900000  \n25%         3.600000  \n50%         4.000000  \n75%         4.500000  \nmax         7.000000  ",
      "text/html": "<div>\n<style scoped>\n    .dataframe tbody tr th:only-of-type {\n        vertical-align: middle;\n    }\n\n    .dataframe tbody tr th {\n        vertical-align: top;\n    }\n\n    .dataframe thead th {\n        text-align: right;\n    }\n</style>\n<table border=\"1\" class=\"dataframe\">\n  <thead>\n    <tr style=\"text-align: right;\">\n      <th></th>\n      <th>id</th>\n      <th>week</th>\n      <th>center_id</th>\n      <th>meal_id</th>\n      <th>checkout_price</th>\n      <th>base_price</th>\n      <th>emailer_for_promotion</th>\n      <th>homepage_featured</th>\n      <th>num_orders</th>\n      <th>city_code</th>\n      <th>region_code</th>\n      <th>op_area</th>\n    </tr>\n  </thead>\n  <tbody>\n    <tr>\n      <th>count</th>\n      <td>4.072430e+05</td>\n      <td>407243.000000</td>\n      <td>407243.000000</td>\n      <td>407243.000000</td>\n      <td>407243.000000</td>\n      <td>407243.000000</td>\n      <td>407243.000000</td>\n      <td>407243.000000</td>\n      <td>407243.000000</td>\n      <td>407243.000000</td>\n      <td>407243.000000</td>\n      <td>407243.000000</td>\n    </tr>\n    <tr>\n      <th>mean</th>\n      <td>1.249982e+06</td>\n      <td>67.114241</td>\n      <td>82.120115</td>\n      <td>2023.651554</td>\n      <td>331.265163</td>\n      <td>353.251941</td>\n      <td>0.082528</td>\n      <td>0.110200</td>\n      <td>264.387889</td>\n      <td>601.565449</td>\n      <td>56.607038</td>\n      <td>4.083209</td>\n    </tr>\n    <tr>\n      <th>std</th>\n      <td>1.443946e+05</td>\n      <td>37.259672</td>\n      <td>45.977340</td>\n      <td>547.367071</td>\n      <td>153.289316</td>\n      <td>160.697550</td>\n      <td>0.275168</td>\n      <td>0.313139</td>\n      <td>401.031825</td>\n      <td>66.212891</td>\n      <td>17.640190</td>\n      <td>1.091140</td>\n    </tr>\n    <tr>\n      <th>min</th>\n      <td>1.000000e+06</td>\n      <td>1.000000</td>\n      <td>10.000000</td>\n      <td>1062.000000</td>\n      <td>2.970000</td>\n      <td>55.350000</td>\n      <td>0.000000</td>\n      <td>0.000000</td>\n      <td>13.000000</td>\n      <td>456.000000</td>\n      <td>23.000000</td>\n      <td>0.900000</td>\n    </tr>\n    <tr>\n      <th>25%</th>\n      <td>1.124816e+06</td>\n      <td>35.000000</td>\n      <td>43.000000</td>\n      <td>1558.000000</td>\n      <td>228.010000</td>\n      <td>243.500000</td>\n      <td>0.000000</td>\n      <td>0.000000</td>\n      <td>54.000000</td>\n      <td>553.000000</td>\n      <td>34.000000</td>\n      <td>3.600000</td>\n    </tr>\n    <tr>\n      <th>50%</th>\n      <td>1.249941e+06</td>\n      <td>68.000000</td>\n      <td>76.000000</td>\n      <td>1971.000000</td>\n      <td>292.030000</td>\n      <td>309.430000</td>\n      <td>0.000000</td>\n      <td>0.000000</td>\n      <td>136.000000</td>\n      <td>596.000000</td>\n      <td>56.000000</td>\n      <td>4.000000</td>\n    </tr>\n    <tr>\n      <th>75%</th>\n      <td>1.375048e+06</td>\n      <td>99.000000</td>\n      <td>110.000000</td>\n      <td>2539.000000</td>\n      <td>443.350000</td>\n      <td>459.810000</td>\n      <td>0.000000</td>\n      <td>0.000000</td>\n      <td>324.000000</td>\n      <td>651.000000</td>\n      <td>77.000000</td>\n      <td>4.500000</td>\n    </tr>\n    <tr>\n      <th>max</th>\n      <td>1.499999e+06</td>\n      <td>130.000000</td>\n      <td>186.000000</td>\n      <td>2956.000000</td>\n      <td>767.330000</td>\n      <td>767.330000</td>\n      <td>1.000000</td>\n      <td>1.000000</td>\n      <td>24299.000000</td>\n      <td>713.000000</td>\n      <td>93.000000</td>\n      <td>7.000000</td>\n    </tr>\n  </tbody>\n</table>\n</div>"
     },
     "execution_count": 45,
     "metadata": {},
     "output_type": "execute_result"
    }
   ],
   "source": [
    "full_train_data.describe()"
   ]
  },
  {
   "cell_type": "code",
   "execution_count": 46,
   "metadata": {},
   "outputs": [
    {
     "data": {
      "text/plain": "<Figure size 2000x1500 with 12 Axes>",
      "image/png": "[encoded data removed]"
     },
     "metadata": {},
     "output_type": "display_data"
    }
   ],
   "source": [
    "full_train_data.hist(bins=50, figsize=(20, 15))\n",
    "plt.show()\n"
   ]
  },
  {
   "cell_type": "markdown",
   "metadata": {},
   "source": [
    "# Check correlations with number of sales"
   ]
  },
  {
   "cell_type": "code",
   "execution_count": 49,
   "metadata": {},
   "outputs": [],
   "source": [
    "correlations = full_train_data.corr()"
   ]
  },
  {
   "cell_type": "code",
   "execution_count": 50,
   "metadata": {},
   "outputs": [
    {
     "data": {
      "text/plain": "id                       0.001325\nweek                    -0.008712\ncenter_id               -0.051297\nmeal_id                  0.014951\ncheckout_price          -0.285968\nbase_price              -0.223991\nemailer_for_promotion    0.282909\nhomepage_featured        0.299746\nnum_orders               1.000000\ncity_code                0.041095\nregion_code              0.030429\nop_area                  0.175178\nName: num_orders, dtype: float64"
     },
     "execution_count": 50,
     "metadata": {},
     "output_type": "execute_result"
    }
   ],
   "source": [
    "correlations[\"num_orders\"]"
   ]
  },
  {
   "cell_type": "markdown",
   "metadata": {},
   "source": [
    "# Insights:\n",
    "Highest positive correlations are with homepage_features and emails_for promotion.\n",
    "Makes sense, if the meal is marketed either on the website or through an email, the nr of orders increases.\n",
    "Op Area also makes sense. If the center covers a bigger area, the nr of orders increases.\n",
    "\n",
    "Best negative correlations are for the base_price and the checkout_price.\n",
    "Self-explanatory,  if prices are cheaper, more orders appear."
   ]
  },
  {
   "cell_type": "code",
   "execution_count": 51,
   "metadata": {},
   "outputs": [
    {
     "data": {
      "text/plain": "array([[<AxesSubplot:xlabel='num_orders', ylabel='num_orders'>,\n        <AxesSubplot:xlabel='base_price', ylabel='num_orders'>,\n        <AxesSubplot:xlabel='checkout_price', ylabel='num_orders'>],\n       [<AxesSubplot:xlabel='num_orders', ylabel='base_price'>,\n        <AxesSubplot:xlabel='base_price', ylabel='base_price'>,\n        <AxesSubplot:xlabel='checkout_price', ylabel='base_price'>],\n       [<AxesSubplot:xlabel='num_orders', ylabel='checkout_price'>,\n        <AxesSubplot:xlabel='base_price', ylabel='checkout_price'>,\n        <AxesSubplot:xlabel='checkout_price', ylabel='checkout_price'>]],\n      dtype=object)"
     },
     "execution_count": 51,
     "metadata": {},
     "output_type": "execute_result"
    },
    {
     "data": {
      "text/plain": "<Figure size 1200x800 with 9 Axes>",
      "image/png": "[encoded data removed]"
     },
     "metadata": {},
     "output_type": "display_data"
    }
   ],
   "source": [
    "from pandas.plotting import scatter_matrix\n",
    "\n",
    "attributes = [\"num_orders\", \"base_price\", \"checkout_price\"]\n",
    "scatter_matrix(full_train_data[attributes], figsize=(12, 8))"
   ]
  },
  {
   "cell_type": "code",
   "execution_count": 52,
   "metadata": {},
   "outputs": [
    {
     "data": {
      "text/plain": "week\n1       792261\n2       787084\n3       695262\n4       743529\n5      1198675\n        ...   \n126     810838\n127     762737\n128     878397\n129     843661\n130     920019\nName: num_orders, Length: 130, dtype: int64"
     },
     "execution_count": 52,
     "metadata": {},
     "output_type": "execute_result"
    }
   ],
   "source": [
    "nr_order_by_week = full_train_data.groupby([\"week\"])[\"num_orders\"].sum()\n",
    "nr_order_by_week"
   ]
  },
  {
   "cell_type": "code",
   "execution_count": null,
   "metadata": {},
   "outputs": [],
   "source": [
    "#plot the total profit over the years\n",
    "plt.figure(figsize=(18, 12))\n",
    "nr_order_by_week.plot(kind='bar')\n",
    "plt.title('Total Number of Orders By Week')\n",
    "plt.xlabel('week')\n",
    "plt.ylabel('num_orders')\n",
    "plt.xticks(rotation=90)  # text rotation on the x axis\n",
    "plt.tight_layout()\n",
    "plt.show()\n"
   ]
  },
  {
   "cell_type": "code",
   "execution_count": null,
   "metadata": {},
   "outputs": [],
   "source": [
    "plt.figure(figsize=(18, 12))\n",
    "nr_order_by_week.plot(kind='line')\n",
    "plt.title('Total Number of Orders By Week')\n",
    "plt.xlabel('week')\n",
    "plt.ylabel('num_orders')\n",
    "plt.xticks(rotation=90)  # text rotation on the x axis\n",
    "plt.tight_layout()\n",
    "plt.show()\n"
   ]
  },
  {
   "cell_type": "code",
   "execution_count": null,
   "metadata": {},
   "outputs": [],
   "source": [
    "full_train_data.info()\n"
   ]
  },
  {
   "cell_type": "code",
   "execution_count": null,
   "metadata": {},
   "outputs": [],
   "source": [
    "nr_order_by_center = full_train_data.groupby([\"center_id\"])[\"num_orders\"].sum()\n",
    "nr_order_by_center"
   ]
  },
  {
   "cell_type": "code",
   "execution_count": null,
   "metadata": {},
   "outputs": [],
   "source": [
    "plt.figure(figsize=(18, 12))\n",
    "nr_order_by_center.plot(kind='bar')\n",
    "plt.title('Total Number of Orders By Center')\n",
    "plt.xlabel('center_id')\n",
    "plt.ylabel('num_orders')\n",
    "plt.xticks(rotation=90)  # text rotation on the x axis\n",
    "plt.tight_layout()\n",
    "plt.show()"
   ]
  },
  {
   "cell_type": "code",
   "execution_count": null,
   "metadata": {},
   "outputs": [],
   "source": [
    "nr_order_by_center_type = full_train_data.groupby([\"center_type\"])[\"num_orders\"].sum()\n",
    "nr_order_by_center_type"
   ]
  },
  {
   "cell_type": "code",
   "execution_count": null,
   "metadata": {},
   "outputs": [],
   "source": [
    "#plot the total profit over the years\n",
    "plt.figure(figsize=(18, 12))\n",
    "nr_order_by_center_type.plot(kind='bar')\n",
    "plt.title('Total Number of Orders By Center Type')\n",
    "plt.xlabel('center_type')\n",
    "plt.ylabel('num_orders')\n",
    "plt.xticks(rotation=90)  # text rotation on the x axis\n",
    "plt.tight_layout()\n",
    "plt.show()\n"
   ]
  },
  {
   "cell_type": "code",
   "execution_count": null,
   "metadata": {},
   "outputs": [],
   "source": [
    "nr_order_by_op_area = full_train_data.groupby([\"op_area\"])[\"num_orders\"].sum()\n",
    "plt.figure(figsize=(18, 12))\n",
    "nr_order_by_op_area.plot(kind='bar')\n",
    "plt.title('Total Number of Orders By Op Area')\n",
    "plt.xlabel('op_area')\n",
    "plt.ylabel('num_orders')\n",
    "plt.xticks(rotation=90)  # text rotation on the x axis\n",
    "plt.tight_layout()\n",
    "plt.show()"
   ]
  },
  {
   "cell_type": "markdown",
   "metadata": {},
   "source": [
    "## Type A Centers perform much better than Type B. We'll need to understand why.\n"
   ]
  },
  {
   "cell_type": "code",
   "execution_count": null,
   "metadata": {},
   "outputs": [],
   "source": [
    "nr_order_by_meal = full_train_data.groupby([\"meal_id\"])[\"num_orders\"].sum()\n",
    "plt.figure(figsize=(18, 12))\n",
    "nr_order_by_meal.plot(kind='line')\n",
    "plt.title('Total Number of Orders By Meal Id')\n",
    "plt.xlabel('meal_id')\n",
    "plt.ylabel('num_orders')\n",
    "plt.xticks(rotation=90)  # text rotation on the x axis\n",
    "plt.tight_layout()\n",
    "plt.show()"
   ]
  },
  {
   "cell_type": "code",
   "execution_count": null,
   "metadata": {},
   "outputs": [],
   "source": [
    "nr_order_by_meal_category = full_train_data.groupby([\"category\"])[\"num_orders\"].sum()\n",
    "plt.figure(figsize=(18, 12))\n",
    "nr_order_by_meal_category.plot(kind='bar')\n",
    "plt.title('Total Number of Orders By Meal Category')\n",
    "plt.xlabel('category')\n",
    "plt.ylabel('num_orders')\n",
    "plt.xticks(rotation=0)\n",
    "plt.tight_layout()\n",
    "plt.show()\n"
   ]
  },
  {
   "cell_type": "markdown",
   "metadata": {},
   "source": [
    "## Some categories sell much better than others: Beverages win by a lot, followed by Rice Bowls and Sandwiches"
   ]
  },
  {
   "cell_type": "code",
   "execution_count": null,
   "metadata": {},
   "outputs": [],
   "source": [
    "full_train_data[\"cuisine\"].value_counts()"
   ]
  },
  {
   "cell_type": "code",
   "execution_count": null,
   "metadata": {},
   "outputs": [],
   "source": [
    "nr_order_by_meal_cuisine = full_train_data.groupby([\"cuisine\"])[\"num_orders\"].sum()\n",
    "plt.figure(figsize=(18, 12))\n",
    "nr_order_by_meal_cuisine.plot(kind='bar')\n",
    "plt.title('Total Number of Orders By Meal Cuisine')\n",
    "plt.xlabel('cuisine')\n",
    "plt.ylabel('num_orders')\n",
    "plt.xticks(rotation=0)\n",
    "plt.tight_layout()\n",
    "plt.show()"
   ]
  },
  {
   "cell_type": "markdown",
   "metadata": {},
   "source": [
    "# Checking some other connections"
   ]
  },
  {
   "cell_type": "markdown",
   "metadata": {},
   "source": [
    "## Are Type_A centers selling better because of Type_A or because they maybe selling more Beverages or other well selling meal cateogries?"
   ]
  },
  {
   "cell_type": "markdown",
   "metadata": {},
   "source": [
    "Let's look at the order totals for each center_type/category combination"
   ]
  },
  {
   "cell_type": "code",
   "execution_count": null,
   "metadata": {},
   "outputs": [],
   "source": [
    "full_train_data.groupby([\"center_type\", \"category\"])[\"num_orders\"].sum()\n"
   ]
  },
  {
   "cell_type": "markdown",
   "metadata": {},
   "source": [
    "Good info, but we need it in a visual way to understand better.\n",
    "Let's plot these values grouped by center type and category. We expect to see that Type A bars will outperform the rest of the center types because we know Type A sells much more than the others."
   ]
  },
  {
   "cell_type": "code",
   "execution_count": null,
   "metadata": {},
   "outputs": [],
   "source": [
    "sns.set(rc={'figure.figsize': (16, 12)})\n",
    "sns.barplot(x=\"center_type\", y=\"num_orders\", hue=\"category\", data=full_train_data, estimator=\"sum\")"
   ]
  },
  {
   "cell_type": "markdown",
   "metadata": {},
   "source": [
    "OBSERVATIONS:\n",
    "As we assumed, Type A categories outperform those respective categories from other center types.\n",
    "Just eyeballing it, we can see that even though Type A sells much more than the others, it sells each category in a similar proportion to the rest.\n",
    "Eyeballing is not enough, let's check the data."
   ]
  },
  {
   "cell_type": "markdown",
   "metadata": {},
   "source": [
    "## Are the percentages of categories sold in Type A very different that in the other types? Does type A sell many more Beverages compared to it's total sales?\n",
    "## We want to understand if the better performance of Type A is due to it selling meals from a better sold category or if it sells about the same as the other center types in % amount. This will help us understand if the center_type is actually relevant or if the difference in sales for the center_type is due to the meal categories sold."
   ]
  },
  {
   "cell_type": "markdown",
   "metadata": {},
   "source": [
    "Basically, we want to calculate the % of sales from the total for each center_type/category combination.\n",
    "To do this, we first need for each center_type/category combination the total number of orders."
   ]
  },
  {
   "cell_type": "code",
   "execution_count": null,
   "metadata": {},
   "outputs": [],
   "source": [
    "grouped_data_category = full_train_data.groupby(['center_type', 'category'])['num_orders'].sum().reset_index()\n",
    "grouped_data_category\n"
   ]
  },
  {
   "cell_type": "markdown",
   "metadata": {},
   "source": [
    "No we have the total orders for each center_type/category. To calculate the % we first need to know the total nr of orders sold for each center_type regardless of the categories. We create a different dataset for this."
   ]
  },
  {
   "cell_type": "code",
   "execution_count": null,
   "metadata": {},
   "outputs": [],
   "source": [
    "total_orders_by_center = full_train_data.groupby(['center_type'])['num_orders'].sum().reset_index()\n",
    "total_orders_by_center\n"
   ]
  },
  {
   "cell_type": "markdown",
   "metadata": {},
   "source": [
    "Perfect. Now we could calculate the percentage going line by line and looking into the above dataset to find the total, but it's more performant to use pandas. For this we need to add to all the center_type/category combinations, the total nr of orders for that center_type."
   ]
  },
  {
   "cell_type": "code",
   "execution_count": null,
   "metadata": {},
   "outputs": [],
   "source": [
    "grouped_data_category = grouped_data_category.merge(total_orders_by_center, on='center_type', suffixes=('', '_total'))\n",
    "grouped_data_category\n"
   ]
  },
  {
   "cell_type": "markdown",
   "metadata": {},
   "source": [
    "Now that we have everything we need to calculate the percentage in the `grouped_data` dataset, we can use Pandas to apply a \"regula de 3 simpla\" formula:\n",
    "`num_orders / num_orders+total * 100`"
   ]
  },
  {
   "cell_type": "code",
   "execution_count": null,
   "metadata": {},
   "outputs": [],
   "source": [
    "grouped_data_category[\"percentage\"] = grouped_data_category[\"num_orders\"] / grouped_data_category[\n",
    "    \"num_orders_total\"] * 100\n"
   ]
  },
  {
   "cell_type": "code",
   "execution_count": null,
   "metadata": {},
   "outputs": [],
   "source": [
    "grouped_data_category\n"
   ]
  },
  {
   "cell_type": "markdown",
   "metadata": {},
   "source": [
    "Now, we just need to plot the data"
   ]
  },
  {
   "cell_type": "code",
   "execution_count": null,
   "metadata": {},
   "outputs": [],
   "source": [
    "sns.barplot(x=\"center_type\", y=\"percentage\", hue=\"category\", data=grouped_data_category)\n"
   ]
  },
  {
   "cell_type": "markdown",
   "metadata": {},
   "source": [
    "OBSERVATIONS:\n",
    "Given that the percentages for each category is very similar between the center_types it's safe to assume that category does not have a correlation with the high number of orders sold in Type A, and basically a higher Type like Type A or Type B means that that center will sell more.\n",
    "So far, center_type seems like a very important feature to include in the ML training."
   ]
  },
  {
   "cell_type": "code",
   "execution_count": null,
   "metadata": {},
   "outputs": [],
   "source": [
    "full_train_data.info()\n"
   ]
  },
  {
   "cell_type": "markdown",
   "metadata": {},
   "source": [
    "# Are Type_A centers selling better because of Type_A or because they all have higher op_area?"
   ]
  },
  {
   "cell_type": "markdown",
   "metadata": {},
   "source": [
    "Let's check center_type/op_area order totals."
   ]
  },
  {
   "cell_type": "code",
   "execution_count": null,
   "metadata": {},
   "outputs": [],
   "source": [
    "total_orders_by_center_area = full_train_data.groupby(['center_type', \"op_area\"])['num_orders'].sum().reset_index()\n",
    "total_orders_by_center_area\n"
   ]
  },
  {
   "cell_type": "markdown",
   "metadata": {},
   "source": [
    "Nothing to understand. Let's plot it."
   ]
  },
  {
   "cell_type": "code",
   "execution_count": null,
   "metadata": {},
   "outputs": [],
   "source": [
    "sns.set(rc={'figure.figsize': (16, 12)})\n",
    "sns.barplot(x=\"center_type\", y=\"num_orders\", hue=\"op_area\", data=full_train_data, estimator=\"sum\")\n"
   ]
  },
  {
   "cell_type": "markdown",
   "metadata": {},
   "source": [
    "OBSERVATIONS:\n",
    "TYpe C is the only one that sells from centers with a very small op area.\n",
    "Type A might sell better because it has a much more even spread of centers with different op-areas, from smallest to largest.\n",
    "Type C might be selling poorly because it seems it has very few sales from center in range 4.1-5.0, which is a sweet spot and generates a lot of sales for Type A.\n",
    "In order to understand this better, let's look at the percentage spread for each op_area."
   ]
  },
  {
   "cell_type": "code",
   "execution_count": null,
   "metadata": {},
   "outputs": [],
   "source": [
    "grouped_data_area = full_train_data.groupby(['center_type', 'op_area'])['num_orders'].sum().reset_index()\n",
    "grouped_data_area = grouped_data_area.merge(total_orders_by_center, on='center_type', suffixes=('', '_total'))\n",
    "grouped_data_area[\"percentage\"] = grouped_data_area[\"num_orders\"] / grouped_data_area[\"num_orders_total\"] * 100\n",
    "sns.barplot(x=\"center_type\", y=\"percentage\", hue=\"op_area\", data=grouped_data_area)\n"
   ]
  },
  {
   "cell_type": "markdown",
   "metadata": {},
   "source": [
    "As seen above, Type A has a closer to normal (Gaussian) distribution than Type C, which relies heavily on centers in the 4.0-4.2 area. Might be a reason why sales are smaller in type C.\n",
    "\n",
    "Only thing worth mentioning is that TYPE_C, the lowest selling one has centers with small op_area(e.g. centers that ship on a very small distance around them)\n",
    "\n",
    "However, none of these insights are extremely powerful to determine changes in the flow."
   ]
  },
  {
   "cell_type": "markdown",
   "metadata": {},
   "source": [
    "Let's check if each center_type have the same distribution of op_area. We're curious to see if maybe TYPE_C have a lot of small op_area centers and if that's the reason its sales are lower or other reasons."
   ]
  },
  {
   "cell_type": "code",
   "execution_count": null,
   "metadata": {},
   "outputs": [],
   "source": [
    "sns.countplot(x=\"center_type\", hue=\"op_area\", data=full_train_data)"
   ]
  },
  {
   "cell_type": "markdown",
   "metadata": {},
   "source": [
    "OBSERVATIONS:\n",
    "Comparing the count of op_area chart with the number of orders/% for each op, we can see that the sales generated by each op_area are directly proportional to the numbers of centers with that op_area. Makes perfect sense.\n",
    "In conclusion, we cannot say that Type C means that it includes only centers with a specific op_area range or other assumptions like this.\n",
    "We do not see any connection between op_area and center type at the moment, meaning that until further analysis both of these features are relevant for training.\n",
    "\n",
    "\n",
    "Let's bin the op_area to work easily with it and check if we see anything else."
   ]
  },
  {
   "cell_type": "code",
   "execution_count": null,
   "metadata": {},
   "outputs": [],
   "source": [
    "sns.barplot(x=\"op_area\", y=\"num_orders\", data=full_train_data, estimator=\"sum\")"
   ]
  },
  {
   "cell_type": "code",
   "execution_count": null,
   "metadata": {},
   "outputs": [],
   "source": [
    "full_train_data['op_area_bin'] = pd.cut(full_train_data['op_area'], [0, 2.4, 3.7, 4.5, 5.1, 6.7, np.inf],\n",
    "                                        labels=['XS', 'S', 'M', 'L', 'XL', 'XXL'])\n"
   ]
  },
  {
   "cell_type": "code",
   "execution_count": null,
   "metadata": {},
   "outputs": [],
   "source": [
    "sns.barplot(x=\"op_area_bin\", y=\"num_orders\", data=full_train_data, estimator=\"sum\")"
   ]
  },
  {
   "cell_type": "code",
   "execution_count": null,
   "metadata": {},
   "outputs": [],
   "source": [
    "sns.countplot(x=\"center_type\", hue=\"op_area_bin\", data=full_train_data)\n"
   ]
  },
  {
   "cell_type": "markdown",
   "metadata": {},
   "source": []
  },
  {
   "cell_type": "code",
   "execution_count": null,
   "metadata": {},
   "outputs": [],
   "source": [
    "grouped_data_area_bin = full_train_data.groupby(['center_type', 'op_area_bin'])['num_orders'].sum().reset_index()\n",
    "grouped_data_area_bin = grouped_data_area_bin.merge(total_orders_by_center, on='center_type', suffixes=('', '_total'))\n",
    "grouped_data_area_bin[\"percentage\"] = grouped_data_area_bin[\"num_orders\"] / grouped_data_area_bin[\n",
    "    \"num_orders_total\"] * 100\n",
    "sns.barplot(x=\"center_type\", y=\"percentage\", hue=\"op_area_bin\", data=grouped_data_area_bin)\n"
   ]
  },
  {
   "cell_type": "code",
   "execution_count": null,
   "metadata": {},
   "outputs": [],
   "source": [
    "op_area_bin_encoded = pd.get_dummies(full_train_data['op_area_bin'], prefix='op_area')\n",
    "op_area_bin_encoded\n"
   ]
  },
  {
   "cell_type": "code",
   "execution_count": null,
   "metadata": {},
   "outputs": [],
   "source": [
    "full_train_data = pd.concat([full_train_data, op_area_bin_encoded], axis=1)"
   ]
  },
  {
   "cell_type": "code",
   "execution_count": null,
   "metadata": {},
   "outputs": [],
   "source": [
    "full_train_data\n"
   ]
  },
  {
   "cell_type": "code",
   "execution_count": null,
   "metadata": {},
   "outputs": [],
   "source": [
    "new_corrs = full_train_data.corr()\n",
    "new_corrs['num_orders']\n"
   ]
  },
  {
   "cell_type": "markdown",
   "metadata": {},
   "source": [
    "Binning the op_area did not give additional insights. Compared to the number of centers in each type all have similar spread of small/medium/large op_areas.\n",
    "\n",
    "Looking at the correlations of a bin or one hot encoded values with the target is not valid as it will show a linear correlation only (how well it goes up or down with the target). However, a low linear correlation does not mean the bin or encoding is bad. It might still give better results in the ML training if it simplifies the process for the algorithm without losing too much data.\n",
    "\n",
    "We should test ML results with the bin or without it. We should also test with a smaller bin size. A larger bin size means losing more data and finesse."
   ]
  },
  {
   "cell_type": "markdown",
   "metadata": {},
   "source": [
    "# Let's look at data related to cuisine and category. Which cuisine falls in which category and other things here"
   ]
  },
  {
   "cell_type": "code",
   "execution_count": null,
   "metadata": {},
   "outputs": [],
   "source": [
    "sns.barplot(x=\"category\", y=\"num_orders\", hue=\"cuisine\", data=full_train_data, estimator=\"sum\")"
   ]
  },
  {
   "cell_type": "code",
   "execution_count": null,
   "metadata": {},
   "outputs": [],
   "source": [
    "sns.countplot(x=\"category\", hue=\"cuisine\", data=full_train_data)\n"
   ]
  },
  {
   "cell_type": "code",
   "execution_count": null,
   "metadata": {},
   "outputs": [],
   "source": [
    "full_train_data[\"category_cuisine\"] = full_train_data['category'] + \"-\" + full_train_data['cuisine']\n",
    "sns.countplot(x=\"category\", hue=\"category_cuisine\", data=full_train_data)"
   ]
  },
  {
   "cell_type": "markdown",
   "metadata": {},
   "source": [
    "OBSERVATIONS:\n",
    "By looking at the cuisine/category, we can see we only have 4 cuisines.\n",
    "Beverages category is the only category that has meals from every cuisine.\n",
    "The rest of the categories only have means from a single cuisine (Pasta category on contains Italian meals, logically).\n",
    "The cuisine diversity of the beverages category clearly is a factor in the increased sales of beverages as it tells us that almost all centers have beverages regardless of cuisine speciality. However, if a center sells only italian food it will sell Pasta and only other italian things."
   ]
  },
  {
   "cell_type": "markdown",
   "metadata": {},
   "source": [
    "## Let's check the center type/cuisine connection. We want to understand if certain center or center Types specialize in a cuisine"
   ]
  },
  {
   "cell_type": "code",
   "execution_count": null,
   "metadata": {},
   "outputs": [],
   "source": [
    "full_train_data.groupby([\"center_id\", \"cuisine\"])[\"num_orders\"].sum()\n"
   ]
  },
  {
   "cell_type": "markdown",
   "metadata": {},
   "source": [
    "It is clear from the above, that individual centers do NOT have a speciality. Each center sells food from all the 4 cuisines.\n",
    "Let's check if there's any relation with center type, although I don't expect there to be one, and we believe we'll see the same thing"
   ]
  },
  {
   "cell_type": "code",
   "execution_count": null,
   "metadata": {},
   "outputs": [],
   "source": [
    "full_train_data.groupby([\"center_type\", \"cuisine\"])[\"num_orders\"].sum()\n"
   ]
  },
  {
   "cell_type": "code",
   "execution_count": null,
   "metadata": {},
   "outputs": [],
   "source": [
    "sns.barplot(x=\"center_type\", y=\"num_orders\", hue=\"cuisine\", data=full_train_data, estimator=\"sum\")\n"
   ]
  },
  {
   "cell_type": "code",
   "execution_count": null,
   "metadata": {},
   "outputs": [],
   "source": [
    "grouped_data_cuisine = full_train_data.groupby(['center_type', 'cuisine'])['num_orders'].sum().reset_index()\n",
    "grouped_data_cuisine = grouped_data_cuisine.merge(total_orders_by_center, on='center_type', suffixes=('', '_total'))\n",
    "grouped_data_cuisine[\"percentage\"] = grouped_data_cuisine[\"num_orders\"] / grouped_data_cuisine[\"num_orders_total\"] * 100\n",
    "sns.barplot(x=\"center_type\", y=\"percentage\", hue=\"cuisine\", data=grouped_data_cuisine)\n"
   ]
  },
  {
   "cell_type": "code",
   "execution_count": null,
   "metadata": {},
   "outputs": [],
   "source": [
    "grouped_data_cuisine_cat = full_train_data.groupby(['center_type', 'category_cuisine'])[\n",
    "    'num_orders'].sum().reset_index()\n",
    "grouped_data_cuisine_cat = grouped_data_cuisine_cat.merge(total_orders_by_center, on='center_type',\n",
    "                                                          suffixes=('', '_total'))\n",
    "grouped_data_cuisine_cat[\"percentage\"] = grouped_data_cuisine_cat[\"num_orders\"] / grouped_data_cuisine_cat[\n",
    "    \"num_orders_total\"] * 100\n",
    "sns.barplot(x=\"center_type\", y=\"percentage\", hue=\"category_cuisine\", data=grouped_data_cuisine_cat)"
   ]
  },
  {
   "cell_type": "markdown",
   "metadata": {},
   "source": [
    "OBSERVATIONS:\n",
    "When looking at nr of orders, Type A and B are very similar in distribution, however Type C is the outlier.\n",
    "Compared to the other, Type C sells less Thai meals that the other center types. The reason for this might be location based or preference based. We can also see from an above chart that Type C sells less from Thai specific categories, notably, Type C sells less Thai Beverages, Extras, Other snacks and Starters. However, # of thai soups are fine in Type C.\n",
    "\n",
    "The created feature category_cuisine should be checked in ML training to see if it gives better results."
   ]
  },
  {
   "cell_type": "markdown",
   "metadata": {},
   "source": [
    "# How price impacts the num_orders. Try binning that as well. Investigate price patterns compared to other features (center type, category, cuisine). Only do these if they're relevant or answer a specific business question.\n",
    "EX: Are the prices in Type A center higher than type B or C? Does that mean that Type A are \"luxury\" centers?"
   ]
  },
  {
   "cell_type": "code",
   "execution_count": null,
   "metadata": {},
   "outputs": [],
   "source": [
    "plt.figure(figsize=(18, 12))\n",
    "sns.barplot(x='center_type', y='checkout_price', data=full_train_data)\n",
    "plt.title('Checkout Price vs. Center Types')\n",
    "plt.xlabel('Center Types')\n",
    "plt.ylabel('Checkout Price')\n",
    "plt.tight_layout()\n",
    "plt.show()\n"
   ]
  },
  {
   "cell_type": "markdown",
   "metadata": {},
   "source": [
    "#### These average prices per center types do not really vary, they are close to each other, between 320-350.\n",
    "### Let's see these averages by categories too.\n"
   ]
  },
  {
   "cell_type": "code",
   "execution_count": null,
   "metadata": {},
   "outputs": [],
   "source": [
    "mean_prices = full_train_data.groupby(['center_type', 'category'])['checkout_price'].mean().reset_index()\n",
    "# Pivot the data to have center types as columns and categories as rows\n",
    "pivot_table = mean_prices.pivot_table(index='category', columns='center_type', values='checkout_price')\n",
    "\n",
    "plt.figure(figsize=(10, 6))\n",
    "sns.barplot(x='category', y='checkout_price', hue='center_type', data=mean_prices)\n",
    "plt.title('Mean Checkout Price by Category and Center Type')\n",
    "plt.xlabel('Category')\n",
    "plt.ylabel('Mean Checkout Price')\n",
    "\n",
    "plt.tight_layout()\n",
    "plt.legend(title='Center Type')\n",
    "\n",
    "plt.show()"
   ]
  },
  {
   "cell_type": "markdown",
   "metadata": {},
   "source": [
    "##### As the averages by types showed that they are similar, the same this is shown here, by categories. Each type center sells each product with almost the same average price. Foods like Seafood, Fish and Pizza are the most expensive categories, while the Soups, Beverages and Extras as the least expensive.\n",
    "\n",
    "###### Let's see the minimum/maximum checkout price for each center type."
   ]
  },
  {
   "cell_type": "code",
   "execution_count": null,
   "metadata": {},
   "outputs": [],
   "source": [
    "#max price for each center type\n",
    "max_prices = full_train_data.groupby('center_type')['checkout_price'].max()\n",
    "\n",
    "#min price for each center type\n",
    "min_prices = full_train_data.groupby('center_type')['checkout_price'].min()\n",
    "\n",
    "max_prices, min_prices"
   ]
  },
  {
   "cell_type": "markdown",
   "metadata": {},
   "source": [
    "#### The maximum checkout prices are close to each other, only Type A has a higher one, while on the other hand, looking at the minimum prices, Type A has a very low lowest price, compared to B and C.  This means that center type A which sells the most and have the most centers does not mean that it also have very expensive products compared to types B and C.\n",
    "\n",
    "#### Maybe seeing the frequency of the checkout prices split into bins can give us relevant info."
   ]
  },
  {
   "cell_type": "code",
   "execution_count": null,
   "metadata": {
    "scrolled": false
   },
   "outputs": [],
   "source": [
    "# Separate data by type\n",
    "type_a_data = full_train_data[full_train_data['center_type'] == 'TYPE_A']\n",
    "type_b_data = full_train_data[full_train_data['center_type'] == 'TYPE_B']\n",
    "type_c_data = full_train_data[full_train_data['center_type'] == 'TYPE_C']\n",
    "\n",
    "# Create histograms for each type\n",
    "plt.figure(figsize=(12, 6))  # Adjust the figure size as needed\n",
    "plt.hist(type_a_data['checkout_price'], bins=15, color='blue', alpha=0.5, label='Type A', edgecolor='black')\n",
    "plt.hist(type_b_data['checkout_price'], bins=15, color='green', alpha=0.5, label='Type B', edgecolor='black')\n",
    "plt.hist(type_c_data['checkout_price'], bins=15, color='red', alpha=0.5, label='Type C', edgecolor='black')\n",
    "\n",
    "plt.title('Checkout Price Distribution by Type')\n",
    "plt.xlabel('Checkout Price')\n",
    "plt.ylabel('Frequency')\n",
    "plt.legend()\n",
    "plt.tight_layout()\n",
    "plt.xticks(range(0, 900, 50))\n",
    "plt.show()"
   ]
  },
  {
   "cell_type": "markdown",
   "metadata": {},
   "source": [
    "#### This plot can show the frequency of the checkout prices and how they are spread along the three types of centers and as we already know, type A sells most and have most center, therefore it has the highest frequency. Although, all three centers have a similar structure, Types B and C are almost identical, but the \"shape\" is similar. The highest peaks for all are encountered at prices between 250-350. There is a tendency for the center types to sell products with smaller price (till 350), rather than the ones from 400 and so on.\n",
    "\n",
    "### Let's see all the previous plots, but for the base price. In this way, we can follow up if there are trends for ordering more when certain discounts are applied or products are promoted via email/webpage."
   ]
  },
  {
   "cell_type": "code",
   "execution_count": null,
   "metadata": {},
   "outputs": [],
   "source": [
    "plt.figure(figsize=(18, 12))\n",
    "sns.barplot(x='center_type', y='base_price', data=full_train_data)\n",
    "plt.title('Base Price vs. Center Types')\n",
    "plt.xlabel('Center Types')\n",
    "plt.ylabel('Base Price')\n",
    "plt.tight_layout()\n",
    "plt.show()\n"
   ]
  },
  {
   "cell_type": "markdown",
   "metadata": {},
   "source": [
    "#### The situation is similar to the checkout price plot, where Type B has the highest base price, followed by Type A and Type C, but all three of them are close, being situated between 340 and 360. (this range for checkout price was 320-250)\n",
    "\n",
    "### Averages by categories:"
   ]
  },
  {
   "cell_type": "code",
   "execution_count": null,
   "metadata": {},
   "outputs": [],
   "source": [
    "mean_prices = full_train_data.groupby(['center_type', 'category'])['base_price'].mean().reset_index()\n",
    "# Pivot the data to have center types as columns and categories as rows\n",
    "pivot_table = mean_prices.pivot_table(index='category', columns='center_type', values='base_price')\n",
    "\n",
    "plt.figure(figsize=(10, 6))\n",
    "sns.barplot(x='category', y='base_price', hue='center_type', data=mean_prices)\n",
    "plt.title('Mean Base Price by Category and Center Type')\n",
    "plt.xlabel('Category')\n",
    "plt.ylabel('Mean Base Price')\n",
    "\n",
    "plt.tight_layout()\n",
    "plt.legend(title='Center Type')\n",
    "\n",
    "plt.show()"
   ]
  },
  {
   "cell_type": "markdown",
   "metadata": {},
   "source": [
    "##### Again, these bars are similar to the ones created for checkout prices, the only thing to be mentioned here would be that pizza seems to have a higher discount than the other categories, because it has the highest difference between the checkout price and base price.\n",
    "\n",
    "### Here are the minimum/maximum prices for base prices, for each type of center:"
   ]
  },
  {
   "cell_type": "code",
   "execution_count": null,
   "metadata": {},
   "outputs": [],
   "source": [
    "#max price for each center type\n",
    "max_prices = full_train_data.groupby('center_type')['base_price'].max()\n",
    "\n",
    "#min price for each center type\n",
    "min_prices = full_train_data.groupby('center_type')['base_price'].min()\n",
    "\n",
    "max_prices, min_prices"
   ]
  },
  {
   "cell_type": "markdown",
   "metadata": {},
   "source": [
    "#####   So, the maximum prices are identical to the ones for checkout price, but the minimum checkout prices are way different from the minimum base prices:   Checkout_price_ Type A = 2.97   and  Base_price_Type A = 65.02  (biggest discounts, wow, maybe Type A give the best discounts, we should definitely investigate that), Checkout_price_Type B = 53.41 and Base_price_Type B = 84.39 (again, here it can be observed that it offers big discounts), Checkout_price_Type C = 55.35 and Base_price_Type C = 45.62 (smaller price difference)\n",
    "\n",
    "### Let's create a new column to compare the checkout price to the base price, and if the checkout price is smaller, it means that there is a discount applied. "
   ]
  },
  {
   "cell_type": "code",
   "execution_count": null,
   "metadata": {},
   "outputs": [],
   "source": [
    "full_train_data['is_discount'] = (full_train_data['checkout_price'] < full_train_data['base_price']).astype(int)"
   ]
  },
  {
   "cell_type": "code",
   "execution_count": null,
   "metadata": {},
   "outputs": [],
   "source": [
    "full_train_data"
   ]
  },
  {
   "cell_type": "markdown",
   "metadata": {},
   "source": [
    "##### How many values have discounts?  "
   ]
  },
  {
   "cell_type": "code",
   "execution_count": null,
   "metadata": {},
   "outputs": [],
   "source": [
    "full_train_data['is_discount'].value_counts()"
   ]
  },
  {
   "cell_type": "markdown",
   "metadata": {},
   "source": [
    "#### 50% of them have discounts!"
   ]
  },
  {
   "cell_type": "markdown",
   "metadata": {},
   "source": [
    "##### But how are they distributed along center types? "
   ]
  },
  {
   "cell_type": "code",
   "execution_count": null,
   "metadata": {},
   "outputs": [],
   "source": [
    "grouped_data = full_train_data.groupby(['center_type', 'is_discount']).size().unstack(fill_value=0)\n",
    "\n",
    "ax = grouped_data.plot(kind='bar', figsize=(8, 6), stacked=True, color=['lightskyblue', 'lightcoral'])\n",
    "plt.title('Distribution of Price Comparison by Type')\n",
    "plt.xlabel('Center Type')\n",
    "plt.ylabel('Count')\n",
    "plt.legend(['is_discount 0', 'is_discount 1'])\n",
    "plt.tight_layout()\n",
    "plt.show()"
   ]
  },
  {
   "cell_type": "markdown",
   "metadata": {},
   "source": [
    "#### Looks like they all have about 50% discounts and 50% without discounts, at different scales, becauze A sells the most and have the most number of center."
   ]
  },
  {
   "cell_type": "code",
   "execution_count": null,
   "metadata": {},
   "outputs": [],
   "source": [
    "percentages = grouped_data.div(grouped_data.sum(axis=1), axis=0) * 100\n",
    "\n",
    "ax = percentages.plot(kind='bar', figsize=(8, 6), stacked=True, color=['lightskyblue', 'lightcoral'])\n",
    "\n",
    "plt.title('Percentage Distribution of is_discount by Type')\n",
    "plt.xlabel('Center Type')\n",
    "plt.ylabel('Percentage')\n",
    "plt.legend(['is_discount 0', 'is_discount 1'], loc='upper right')\n",
    "\n",
    "plt.tight_layout()\n",
    "plt.show()"
   ]
  },
  {
   "cell_type": "markdown",
   "metadata": {},
   "source": [
    "##### Analyzing the percentages, they are similar, around 50% discount, 50% non-discount for all center types. Let's see what is the average discount per center type by first introducing a new column in the dataset that calculates the difference between base price and checkout price, then where this difference is positive, or when is_discount column is equal to one, the data is grouped and mean() function applied."
   ]
  },
  {
   "cell_type": "code",
   "execution_count": null,
   "metadata": {},
   "outputs": [],
   "source": [
    "full_train_data['discount_value'] = full_train_data['base_price'] - full_train_data['checkout_price']\n"
   ]
  },
  {
   "cell_type": "code",
   "execution_count": null,
   "metadata": {
    "scrolled": true
   },
   "outputs": [],
   "source": [
    "full_train_data"
   ]
  },
  {
   "cell_type": "code",
   "execution_count": null,
   "metadata": {},
   "outputs": [],
   "source": [
    "average_discount_by_type = full_train_data[full_train_data['is_discount'] == 1].groupby('center_type')[\n",
    "    'discount_value'].mean()"
   ]
  },
  {
   "cell_type": "code",
   "execution_count": null,
   "metadata": {},
   "outputs": [],
   "source": [
    "average_discount_by_type"
   ]
  },
  {
   "cell_type": "markdown",
   "metadata": {},
   "source": [
    "##### Again, nothing very special, Type A did not give higher discounts than the other two center types, they are similar. "
   ]
  },
  {
   "cell_type": "markdown",
   "metadata": {},
   "source": [
    "### Let's analyze the emailer_for_promotion and homepage_featured, maybe we can find interesting insights related to them."
   ]
  },
  {
   "cell_type": "code",
   "execution_count": null,
   "metadata": {},
   "outputs": [],
   "source": [
    "full_train_data['emailer_for_promotion'].value_counts()"
   ]
  },
  {
   "cell_type": "code",
   "execution_count": null,
   "metadata": {},
   "outputs": [],
   "source": [
    "full_train_data['homepage_featured'].value_counts()"
   ]
  },
  {
   "cell_type": "markdown",
   "metadata": {},
   "source": [
    "#### We observed earlier that ~50% of the total orders have discounts. Now, 8% were promoted via email and almost 11% on homepage."
   ]
  },
  {
   "cell_type": "code",
   "execution_count": null,
   "metadata": {},
   "outputs": [],
   "source": [
    "promotion_email = full_train_data[(full_train_data['emailer_for_promotion'] == 1)].groupby(['center_type'])[\n",
    "    'is_discount'].count()"
   ]
  },
  {
   "cell_type": "code",
   "execution_count": null,
   "metadata": {},
   "outputs": [],
   "source": [
    "promotion_email"
   ]
  },
  {
   "cell_type": "code",
   "execution_count": null,
   "metadata": {},
   "outputs": [],
   "source": [
    "promotion_homepage = full_train_data[(full_train_data['homepage_featured'] == 1)].groupby(['center_type'])[\n",
    "    'is_discount'].count()"
   ]
  },
  {
   "cell_type": "code",
   "execution_count": null,
   "metadata": {},
   "outputs": [],
   "source": [
    "promotion_homepage"
   ]
  },
  {
   "cell_type": "markdown",
   "metadata": {},
   "source": [
    "##### Looks like Type A is more promoted via email and homepage than the others. It's like 3x more promoted. Maybe it has to do with the fact that there are more centers? "
   ]
  },
  {
   "cell_type": "code",
   "execution_count": null,
   "metadata": {},
   "outputs": [],
   "source": [
    "promotion_email = full_train_data[(full_train_data['is_discount']) == 1 & (full_train_data['emailer_for_promotion'] == 1)].groupby(\n",
    "        ['center_type'])['discount_value'].count()"
   ]
  },
  {
   "cell_type": "code",
   "execution_count": null,
   "metadata": {},
   "outputs": [],
   "source": [
    "promotion_email"
   ]
  },
  {
   "cell_type": "markdown",
   "metadata": {},
   "source": [
    "####  Is there an effect of Email Promotions on  nr of orders? We have to calculate the average number of orders for items that were promoted through email (\"emailer_for_promotion\" = 1) compared to items that were not and to take conclusions about the volumes on days when emails were sent compared to when they are not.\n"
   ]
  },
  {
   "cell_type": "code",
   "execution_count": null,
   "metadata": {},
   "outputs": [],
   "source": [
    "average_orders_with_promotion = full_train_data[full_train_data['emailer_for_promotion'] == 1]['num_orders'].mean()\n",
    "average_orders_without_promotion = full_train_data[full_train_data['emailer_for_promotion'] == 0]['num_orders'].mean()\n",
    "\n",
    "print(\"Average Orders with Email Promotion:\", average_orders_with_promotion)\n",
    "print(\"Average Orders without Email Promotion:\", average_orders_without_promotion)"
   ]
  },
  {
   "cell_type": "code",
   "execution_count": null,
   "metadata": {},
   "outputs": [],
   "source": [
    "labels = ['With Promotion', 'Without Promotion']\n",
    "average_orders = [average_orders_with_promotion, average_orders_without_promotion]\n",
    "plt.figure(figsize=(6, 4))\n",
    "plt.bar(labels, average_orders, color=['green', 'red'])\n",
    "plt.title('Average Orders with and without Email Promotion')\n",
    "plt.xlabel('Promotion Status')\n",
    "plt.ylabel('Average Orders')\n",
    "plt.show()"
   ]
  },
  {
   "cell_type": "markdown",
   "metadata": {},
   "source": [
    "##### Interesting, we can clearly tell that the emails with promotions did a great job by generating a triple number of orders! "
   ]
  },
  {
   "cell_type": "markdown",
   "metadata": {},
   "source": [
    "#### But what is the effect of Homepage Featured on nr of orders? We have to calculate the average number of orders for items that were featured on the homepage (\"homepage_featured\" = 1) compared to items that were not and analyze whether featuring items on the homepage influences customers to order more."
   ]
  },
  {
   "cell_type": "code",
   "execution_count": null,
   "metadata": {},
   "outputs": [],
   "source": [
    "# Calculate the average number of orders for homepage featured items and non-featured items\n",
    "average_orders_featured = full_train_data[full_train_data['homepage_featured'] == 1]['num_orders'].mean()\n",
    "average_orders_non_featured = full_train_data[full_train_data['homepage_featured'] == 0]['num_orders'].mean()\n",
    "\n",
    "print(\"Average Orders with Homepage Featured Items:\", average_orders_featured)\n",
    "print(\"Average Orders without Homepage Featured Items:\", average_orders_non_featured)"
   ]
  },
  {
   "cell_type": "code",
   "execution_count": null,
   "metadata": {},
   "outputs": [],
   "source": [
    "labels = ['Is Homepage Featured', 'Is not Homepage Featured']\n",
    "average_orders = [average_orders_featured, average_orders_non_featured]\n",
    "plt.figure(figsize=(6, 4))\n",
    "plt.bar(labels, average_orders, color=['green', 'red'])\n",
    "plt.title('Average Orders that are/are not Homepage Featured')\n",
    "plt.xlabel('Homepage Feature Status')\n",
    "plt.ylabel('Average Orders')\n",
    "plt.show()"
   ]
  },
  {
   "cell_type": "markdown",
   "metadata": {},
   "source": [
    "##### Hmm, again, almost 3x more orders with homepage featured, just like email promotions. \n",
    "\n",
    "### Let's create a more visual plot to see different combinations:\n",
    "- email + homepage\n",
    "- only email, not homepage\n",
    "- not email, only homepage\n",
    "- none"
   ]
  },
  {
   "cell_type": "code",
   "execution_count": null,
   "metadata": {},
   "outputs": [],
   "source": [
    "average_orders_with_email_promo_and_featured = \\\n",
    "    full_train_data[(full_train_data['emailer_for_promotion'] == 1) & (full_train_data['homepage_featured'] == 1)][\n",
    "        'num_orders'].mean()\n",
    "average_orders_with_email_promo_only = \\\n",
    "    full_train_data[(full_train_data['emailer_for_promotion'] == 1) & (full_train_data['homepage_featured'] == 0)][\n",
    "        'num_orders'].mean()\n",
    "average_orders_with_featured_only = \\\n",
    "    full_train_data[(full_train_data['emailer_for_promotion'] == 0) & (full_train_data['homepage_featured'] == 1)][\n",
    "        'num_orders'].mean()\n",
    "average_orders_without_promo_or_featured = \\\n",
    "    full_train_data[(full_train_data['emailer_for_promotion'] == 0) & (full_train_data['homepage_featured'] == 0)][\n",
    "        'num_orders'].mean()\n",
    "\n",
    "labels = ['Email Promo & Featured', 'Email Promo Only', 'Featured Only', 'No Promo or Featured']\n",
    "\n",
    "average_orders = [average_orders_with_email_promo_and_featured, average_orders_with_email_promo_only,\n",
    "                  average_orders_with_featured_only, average_orders_without_promo_or_featured]\n",
    "\n",
    "plt.figure(figsize=(10, 6))\n",
    "plt.bar(labels, average_orders, color=['blue', 'cyan', 'cornflowerblue', 'slateblue'])\n",
    "plt.title('Average Orders for Different Combinations of Email Promotion and Homepage Featured Items')\n",
    "plt.xlabel('Combinations')\n",
    "plt.ylabel('Average Orders')\n",
    "plt.show()"
   ]
  },
  {
   "cell_type": "markdown",
   "metadata": {},
   "source": [
    "#### Emails and being Homepage Featured bring the most number of orders. Without being promoted, orders are not generated so much as having at least email or homepage featured. In the following scenarios, the discounts will be analyzed. \n",
    "\n",
    "### Are promoted items more likely to have discounts? How are the checkout prices spread here? Are the items with big discounts cheap? We will investigate whether email promotions or homepage featured items correlate with specific discount levels and checkout price ranges. "
   ]
  },
  {
   "cell_type": "code",
   "execution_count": null,
   "metadata": {},
   "outputs": [],
   "source": [
    "# Create labels for different scenarios\n",
    "scenario_labels = []\n",
    "\n",
    "for email_promo in [0, 1]:\n",
    "    for homepage_featured in [0, 1]:\n",
    "        scenario_labels.append(f\"Email Promo: {email_promo}, Featured: {homepage_featured}\")"
   ]
  },
  {
   "cell_type": "code",
   "execution_count": null,
   "metadata": {},
   "outputs": [],
   "source": [
    "scenario_labels"
   ]
  },
  {
   "cell_type": "code",
   "execution_count": null,
   "metadata": {},
   "outputs": [],
   "source": [
    "average_checkout_prices = []\n",
    "average_discounts = []\n",
    "\n",
    "for email_promo in [0, 1]:\n",
    "    for homepage_featured in [0, 1]:\n",
    "        average_checkout_price = full_train_data[(full_train_data['emailer_for_promotion'] == email_promo) & (\n",
    "                full_train_data['homepage_featured'] == homepage_featured)]['checkout_price'].mean()\n",
    "        average_discount = full_train_data[(full_train_data['emailer_for_promotion'] == email_promo) & (\n",
    "                full_train_data['homepage_featured'] == homepage_featured)]['discount_value'].mean()\n",
    "        average_checkout_prices.append(average_checkout_price)\n",
    "        average_discounts.append(average_discount)"
   ]
  },
  {
   "cell_type": "code",
   "execution_count": null,
   "metadata": {},
   "outputs": [],
   "source": [
    "average_checkout_prices"
   ]
  },
  {
   "cell_type": "code",
   "execution_count": null,
   "metadata": {},
   "outputs": [],
   "source": [
    "average_discounts"
   ]
  },
  {
   "cell_type": "markdown",
   "metadata": {},
   "source": [
    "#### Let's plot these!"
   ]
  },
  {
   "cell_type": "code",
   "execution_count": null,
   "metadata": {},
   "outputs": [],
   "source": [
    "plt.figure(figsize=(10, 4))\n",
    "plt.bar([label + \" (Price)\" for label in scenario_labels], average_checkout_prices, color='rebeccapurple', alpha=0.6,\n",
    "        label='Avg. Checkout Price')\n",
    "plt.bar([label + \" (Discount)\" for label in scenario_labels], average_discounts, color='mediumpurple', alpha=0.6,\n",
    "        label='Avg. Discount Amount')\n",
    "\n",
    "plt.title('Average Checkout Prices and Discounts for Different Scenarios')\n",
    "plt.xlabel('Scenarios')\n",
    "plt.ylabel('Amount')\n",
    "plt.legend(loc='upper right')\n",
    "plt.tight_layout()\n",
    "plt.xticks(rotation=45, ha=\"right\")\n",
    "plt.show()"
   ]
  },
  {
   "cell_type": "markdown",
   "metadata": {},
   "source": [
    "#### OBSERVATIONS:\n",
    "- Products that have no promotion have a high average checkout price and a small discount amount,\n",
    "- Products that are promoted via email have the lowest average checkout price and a higher discount,\n",
    "- Products that are promoted via homepage have a bit higher price and also higher discounts,\n",
    "- Products that are promoted both ways are having the highest checkout price and the highest discounts"
   ]
  },
  {
   "cell_type": "code",
   "execution_count": null,
   "metadata": {},
   "outputs": [],
   "source": [
    "grouped_data = full_train_data.groupby(['week', 'emailer_for_promotion', 'homepage_featured'])[\n",
    "    'num_orders'].mean().reset_index()\n",
    "\n",
    "plt.figure(figsize=(12, 8))\n",
    "\n",
    "for email_promo in [0, 1]:\n",
    "    for homepage_featured in [0, 1]:\n",
    "        scenario_data = grouped_data[(grouped_data['emailer_for_promotion'] == email_promo) & (\n",
    "                grouped_data['homepage_featured'] == homepage_featured)]\n",
    "        plt.plot(scenario_data['week'], scenario_data['num_orders'],\n",
    "                 label=f'Email Promo: {email_promo}, Featured: {homepage_featured}')\n",
    "\n",
    "plt.title('Average Order Trends Over Time for Different Promotion Scenarios')\n",
    "plt.xlabel('Week')\n",
    "plt.ylabel('Average Number of Orders')\n",
    "plt.legend(loc='upper right')\n",
    "plt.grid(True)\n",
    "plt.show()"
   ]
  },
  {
   "cell_type": "code",
   "execution_count": null,
   "metadata": {},
   "outputs": [],
   "source": [
    "full_train_data.info()"
   ]
  },
  {
   "cell_type": "markdown",
   "metadata": {},
   "source": [
    "# Let's build a pipeline that does all the necessary transformations and prepare the dataset for training!"
   ]
  },
  {
   "cell_type": "code",
   "execution_count": null,
   "outputs": [],
   "source": [
    "from sklearn.compose import ColumnTransformer\n",
    "from sklearn.pipeline import Pipeline\n",
    "from sklearn.impute import SimpleImputer\n",
    "from sklearn.preprocessing import StandardScaler, MinMaxScaler, OneHotEncoder\n",
    "from sklearn.base import BaseEstimator, TransformerMixin\n",
    "\n",
    "\n",
    "class FoodDataMerger(BaseEstimator, TransformerMixin):\n",
    "    center_info = None\n",
    "    meal_info = None\n",
    "\n",
    "    def __init__(self, center_info, meal_info):\n",
    "        self.center_info = center_info\n",
    "        self.meal_info = meal_info\n",
    "\n",
    "    def fit(self, data):\n",
    "        return self\n",
    "\n",
    "    def transform(self, data):\n",
    "        merged_data = data.merge(self.center_info, on=\"center_id\", how=\"inner\", sort=False)\n",
    "        merged_data = merged_data.merge(self.meal_info, on=\"meal_id\", how=\"inner\", sort=False)\n",
    "        return merged_data\n",
    "\n",
    "\n",
    "class FeatureAdder(BaseEstimator, TransformerMixin):\n",
    "    def __init__(self):\n",
    "        pass\n",
    "\n",
    "    def fit(self, X, y=None):\n",
    "        return self\n",
    "\n",
    "    def transform(self, X):\n",
    "        new_data = X.copy()\n",
    "\n",
    "        new_data['op_area_bin'] = pd.cut(new_data['op_area'], [0, 2.4, 3.7, 4.5, 5.1, 6.7, np.inf],\n",
    "                                         labels=['XS', 'S', 'M', 'L', 'XL', 'XXL'])\n",
    "\n",
    "        new_data['checkout_price_bin'] = pd.cut(new_data['checkout_price'], [0, 100, 250, 350, 520, np.inf],\n",
    "                                                labels=['Very Cheap', 'Cheap', 'Medium', 'Expensive', 'Luxury'])\n",
    "\n",
    "        new_data['base_price_bin'] = pd.cut(new_data['base_price'], [0, 100, 250, 350, 520, np.inf],\n",
    "                                            labels=['Very Cheap', 'Cheap', 'Medium', 'Expensive', 'Luxury'])\n",
    "\n",
    "        new_data[\"category_cuisine\"] = new_data['category'] + \"-\" + new_data['cuisine']\n",
    "\n",
    "        new_data[\"region_city\"] = new_data['region_code'].astype(str) + \"-\" + new_data['city_code'].astype(str)\n",
    "\n",
    "        new_data['is_discount'] = (new_data['checkout_price'] <= new_data['base_price']).astype(int)\n",
    "\n",
    "        new_data['discount_value'] = new_data.apply(\n",
    "            lambda row: row['base_price'] - row['checkout_price'] if row['checkout_price'] <= row['base_price'] else 0,\n",
    "            axis=1)\n",
    "\n",
    "        return new_data\n",
    "\n",
    "\n",
    "class DataFrameReconstructor(BaseEstimator, TransformerMixin):\n",
    "    pipeline = None\n",
    "\n",
    "    def __init__(self, pipeline):\n",
    "        self.pipeline = pipeline\n",
    "\n",
    "    def fit(self, data):\n",
    "        return self\n",
    "\n",
    "    def transform(self, data):\n",
    "        return pd.DataFrame(data, columns=self.pipeline.get_feature_names_out())\n",
    "\n",
    "\n",
    "class FeatureSelector(BaseEstimator, TransformerMixin):\n",
    "    feature_list = None\n",
    "\n",
    "    def __init__(self, feature_list):\n",
    "        self.feature_list = feature_list\n",
    "\n",
    "    def fit(self, X, y=None):\n",
    "        return self\n",
    "\n",
    "    def transform(self, X):\n",
    "        return X[self.feature_list]\n",
    "\n",
    "\n",
    "class PipelineBuilder:\n",
    "    median_attribs = None\n",
    "    most_freq_attribs = None\n",
    "    standard_scaling_attribs = None\n",
    "    normalization_attribs = None\n",
    "    selected_features = None\n",
    "    one_hot_attribs = None\n",
    "    include_one_hot = True\n",
    "\n",
    "    def __init__(self, median_attribs, most_freq_attribs, standard_scaling_attribs, normalization_attribs,\n",
    "                 selected_features, one_hot_attribs, include_one_hot = True):\n",
    "        self.median_attribs = median_attribs\n",
    "        self.most_freq_attribs = most_freq_attribs\n",
    "        self.standard_scaling_attribs = standard_scaling_attribs\n",
    "        self.normalization_attribs = normalization_attribs\n",
    "        self.selected_features = selected_features\n",
    "        self.one_hot_attribs = one_hot_attribs\n",
    "        self.include_one_hot = include_one_hot\n",
    "\n",
    "    def build(self):\n",
    "        fill_missing_pipeline = ColumnTransformer(\n",
    "            transformers=[\n",
    "                ('num', SimpleImputer(strategy=\"median\"), self.median_attribs),\n",
    "                ('cat', SimpleImputer(strategy=\"most_frequent\"), self.most_freq_attribs)\n",
    "            ],\n",
    "            remainder='passthrough',\n",
    "            verbose_feature_names_out=False)\n",
    "\n",
    "        scaling_pipeline = ColumnTransformer(\n",
    "            transformers=[\n",
    "                ('standard', StandardScaler(), self.standard_scaling_attribs),\n",
    "                ('normalization', MinMaxScaler(), self.normalization_attribs)\n",
    "            ],\n",
    "            remainder='passthrough',\n",
    "            verbose_feature_names_out=False)\n",
    "\n",
    "        one_hot_pipeline = ColumnTransformer(\n",
    "            transformers=[\n",
    "                ('one-hot', OneHotEncoder(), self.one_hot_attribs)\n",
    "            ],\n",
    "            remainder='passthrough',\n",
    "            verbose_feature_names_out=False)\n",
    "\n",
    "        if self.include_one_hot:\n",
    "            return Pipeline([\n",
    "                ('merger', FoodDataMerger(center_info, meal_info)),\n",
    "                ('missing_data_filler', fill_missing_pipeline),\n",
    "                ('missing_reconstructor', DataFrameReconstructor(fill_missing_pipeline)),\n",
    "                ('feature_adder', FeatureAdder()),\n",
    "                ('scaler', scaling_pipeline),\n",
    "                ('scaler_reconstructor', DataFrameReconstructor(scaling_pipeline)),\n",
    "                ('feature_selector', FeatureSelector(self.selected_features)),\n",
    "                ('one_hot_encoding', one_hot_pipeline)\n",
    "            ])\n",
    "        else:\n",
    "            return Pipeline([\n",
    "                ('merger', FoodDataMerger(center_info, meal_info)),\n",
    "                ('missing_data_filler', fill_missing_pipeline),\n",
    "                ('missing_reconstructor', DataFrameReconstructor(fill_missing_pipeline)),\n",
    "                ('feature_adder', FeatureAdder()),\n",
    "                ('scaler', scaling_pipeline),\n",
    "                ('scaler_reconstructor', DataFrameReconstructor(scaling_pipeline)),\n",
    "                ('feature_selector', FeatureSelector(self.selected_features))\n",
    "\n",
    "            ])"
   ],
   "metadata": {
    "collapsed": false
   }
  },
  {
   "cell_type": "code",
   "execution_count": null,
   "outputs": [],
   "source": [
    "#imputer columns\n",
    "median_attribs = ['checkout_price', 'base_price', 'op_area']\n",
    "most_freq_attribs = ['center_id', 'meal_id', 'city_code', 'region_code', 'category', 'cuisine', 'center_type', 'week']\n",
    "#standardization columns\n",
    "standard_scaling_attribs = ['checkout_price', 'base_price', 'op_area', 'discount_value']\n",
    "normalization_attribs = ['week']\n",
    "#selected columns\n",
    "selected_features = ['week', 'center_id', 'meal_id', 'op_area_bin', 'city_code', 'region_code', 'category_cuisine',\n",
    "                     'center_type', 'checkout_price_bin', 'base_price_bin', 'discount_value', 'is_discount',\n",
    "                     'emailer_for_promotion', 'homepage_featured']\n",
    "#one-hot column\n",
    "\n",
    "one_hot_attribs = ['center_id', 'meal_id', 'op_area_bin', 'city_code', 'region_code', 'category_cuisine',\n",
    "                   'center_type', 'checkout_price_bin', 'base_price_bin']\n",
    "\n",
    "final_pipeline = PipelineBuilder(median_attribs, most_freq_attribs, standard_scaling_attribs, normalization_attribs,\n",
    "                                 selected_features, one_hot_attribs).build()"
   ],
   "metadata": {
    "collapsed": false
   }
  },
  {
   "cell_type": "markdown",
   "source": [
    "# Let's shortlist a few models to find the best performing ones"
   ],
   "metadata": {
    "collapsed": false
   }
  },
  {
   "cell_type": "code",
   "execution_count": null,
   "outputs": [],
   "source": [
    "sorted_train_data = train_set.sort_values(by='id', ascending=True)\n",
    "final_train_data = final_pipeline.fit_transform(sorted_train_data)\n",
    "final_train_labels = sorted_train_data['num_orders'].copy()"
   ],
   "metadata": {
    "collapsed": false
   }
  },
  {
   "cell_type": "code",
   "execution_count": null,
   "outputs": [],
   "source": [
    "def display_scores(scores):\n",
    "    print(\"Scores:\", scores)\n",
    "    print(\"Mean:\", scores.mean())\n",
    "    print(\"Standard Deviation:\", scores.std())\n",
    "    print(\"CV %:\", (scores.std() / scores.mean()) * 100)"
   ],
   "metadata": {
    "collapsed": false
   }
  },
  {
   "cell_type": "markdown",
   "source": [
    "## Linear Regression"
   ],
   "metadata": {
    "collapsed": false
   }
  },
  {
   "cell_type": "code",
   "execution_count": null,
   "outputs": [],
   "source": [
    "from sklearn.model_selection import cross_val_score\n",
    "from sklearn.linear_model import LinearRegression\n",
    "\n",
    "lin_reg = LinearRegression()\n",
    "\n",
    "lin_reg_scores = cross_val_score(lin_reg, final_train_data, final_train_labels, scoring=\"neg_mean_squared_error\", cv=10)\n",
    "lin_rmse_scores = np.sqrt(-lin_reg_scores)\n",
    "display_scores(lin_rmse_scores)\n",
    "\n"
   ],
   "metadata": {
    "collapsed": false
   }
  },
  {
   "cell_type": "code",
   "execution_count": null,
   "outputs": [],
   "source": [
    "lin_reg.fit(final_train_data, final_train_labels)\n",
    "\n",
    "predictions = lin_reg.predict(final_train_data)\n",
    "\n",
    "plt.figure(figsize=(17, 8))\n",
    "\n",
    "plt.rcParams['agg.path.chunksize'] = 20000\n",
    "plt.plot(final_train_labels.reset_index(drop=True), label=\"actual\")\n",
    "plt.plot(predictions, color='red', label=\"predicted\")\n",
    "plt.legend(loc='best')\n",
    "#pyplot.plot(predictions, color='red')\n",
    "plt.show()\n"
   ],
   "metadata": {
    "collapsed": false
   }
  },
  {
   "cell_type": "markdown",
   "source": [
    "# XGB Regressor"
   ],
   "metadata": {
    "collapsed": false
   }
  },
  {
   "cell_type": "code",
   "execution_count": null,
   "outputs": [],
   "source": [
    "from xgboost import XGBRegressor\n",
    "\n",
    "xgb_reg = XGBRegressor(random_state=42)\n",
    "\n",
    "xgb_reg_scores = cross_val_score(xgb_reg, final_train_data, final_train_labels, scoring=\"neg_mean_squared_error\", cv=10,\n",
    "                                 verbose=3)\n",
    "xgb_reg_rmse_scores = np.sqrt(-xgb_reg_scores)\n",
    "display_scores(xgb_reg_rmse_scores)"
   ],
   "metadata": {
    "collapsed": false
   }
  },
  {
   "cell_type": "code",
   "execution_count": null,
   "outputs": [],
   "source": [
    "from xgboost import plot_importance\n",
    "\n",
    "xgb_reg.fit(final_train_data, final_train_labels)\n",
    "\n",
    "plot_importance(xgb_reg, max_num_features=10)"
   ],
   "metadata": {
    "collapsed": false
   }
  },
  {
   "cell_type": "code",
   "execution_count": null,
   "outputs": [],
   "source": [
    "predictions = xgb_reg.predict(final_train_data)"
   ],
   "metadata": {
    "collapsed": false
   }
  },
  {
   "cell_type": "code",
   "execution_count": null,
   "outputs": [],
   "source": [
    "plt.figure(figsize=(17, 8))\n",
    "\n",
    "plt.rcParams['agg.path.chunksize'] = 20000\n",
    "plt.plot(final_train_labels.reset_index(drop=True), label=\"actual\")\n",
    "plt.plot(predictions, color='red', label=\"predicted\")\n",
    "plt.legend(loc='best')\n",
    "#pyplot.plot(predictions, color='red')\n",
    "plt.show()\n"
   ],
   "metadata": {
    "collapsed": false
   }
  },
  {
   "cell_type": "markdown",
   "source": [
    "# Feature selection"
   ],
   "metadata": {
    "collapsed": false
   }
  },
  {
   "cell_type": "markdown",
   "source": [
    "There needs to be a discussion related to how to compare 2 different models in order to determine which is best.\n",
    "We are calculating the RMSE for all of them. Should we look only at the mean of the score? Should we consider the Standard Deviation?\n",
    "If we need to look at both is Coefficient of Variation a good metric?\n",
    "In this situation, we will rely more on the Mean value, as long as the CV % does not get incredibly high.\n",
    "We will be mainly using the CV% score when deciding between 2 models with very similar mean and STD.\n",
    "\n",
    "Given the business need a less than 5% CV is acceptable to us."
   ],
   "metadata": {
    "collapsed": false
   }
  },
  {
   "cell_type": "markdown",
   "source": [
    "## Keeping checkout and base prices instead of their bins"
   ],
   "metadata": {
    "collapsed": false
   }
  },
  {
   "cell_type": "code",
   "execution_count": null,
   "outputs": [],
   "source": [
    "#imputer columns\n",
    "median_attribs = ['checkout_price', 'base_price', 'op_area']\n",
    "most_freq_attribs = ['center_id', 'meal_id', 'city_code', 'region_code', 'category', 'cuisine', 'center_type', 'week']\n",
    "#standardization columns\n",
    "standard_scaling_attribs = ['checkout_price', 'base_price', 'op_area', 'discount_value']\n",
    "normalization_attribs = ['week']\n",
    "#selected columns\n",
    "selected_features = ['week', 'center_id', 'meal_id', 'op_area_bin', 'city_code', 'region_code', 'category_cuisine',\n",
    "                     'center_type', 'checkout_price', 'base_price', 'discount_value', 'is_discount',\n",
    "                     'emailer_for_promotion', 'homepage_featured']\n",
    "\n",
    "#one-hot column\n",
    "one_hot_attribs = ['center_id', 'meal_id', 'op_area_bin', 'city_code', 'region_code', 'category_cuisine',\n",
    "                   'center_type']\n",
    "\n",
    "final_pipeline = PipelineBuilder(median_attribs, most_freq_attribs, standard_scaling_attribs, normalization_attribs,\n",
    "                                 selected_features, one_hot_attribs).build()\n",
    "\n",
    "final_train_data = final_pipeline.fit_transform(sorted_train_data)\n",
    "final_train_labels = sorted_train_data['num_orders'].copy()\n",
    "\n",
    "xgb_reg = XGBRegressor(random_state=42)\n",
    "\n",
    "xgb_reg_scores = cross_val_score(xgb_reg, final_train_data, final_train_labels, scoring=\"neg_mean_squared_error\", cv=10,\n",
    "                                 verbose=3)\n",
    "xgb_reg_rmse_scores = np.sqrt(-xgb_reg_scores)\n",
    "display_scores(xgb_reg_rmse_scores)\n"
   ],
   "metadata": {
    "collapsed": false
   }
  },
  {
   "cell_type": "markdown",
   "source": [
    "OBSERVATION: Using actual prices is better than using the price bins overall"
   ],
   "metadata": {
    "collapsed": false
   }
  },
  {
   "cell_type": "markdown",
   "source": [
    "## Checking if using op_area value instead on bins is better. Keeping only better versions as we go"
   ],
   "metadata": {
    "collapsed": false
   }
  },
  {
   "cell_type": "code",
   "execution_count": null,
   "outputs": [],
   "source": [
    "#imputer columns\n",
    "median_attribs = ['checkout_price', 'base_price', 'op_area']\n",
    "most_freq_attribs = ['center_id', 'meal_id', 'city_code', 'region_code', 'category', 'cuisine', 'center_type', 'week']\n",
    "#standardization columns\n",
    "standard_scaling_attribs = ['checkout_price', 'base_price', 'op_area', 'discount_value']\n",
    "normalization_attribs = ['week']\n",
    "#selected columns\n",
    "selected_features = ['week', 'center_id', 'meal_id', 'op_area', 'city_code', 'region_code', 'category_cuisine',\n",
    "                     'center_type', 'checkout_price', 'base_price', 'discount_value', 'is_discount',\n",
    "                     'emailer_for_promotion', 'homepage_featured']\n",
    "\n",
    "#one-hot column\n",
    "one_hot_attribs = ['center_id', 'meal_id', 'city_code', 'region_code', 'category_cuisine',\n",
    "                   'center_type']\n",
    "\n",
    "final_pipeline = PipelineBuilder(median_attribs, most_freq_attribs, standard_scaling_attribs, normalization_attribs,\n",
    "                                 selected_features, one_hot_attribs).build()\n",
    "\n",
    "final_train_data = final_pipeline.fit_transform(sorted_train_data)\n",
    "final_train_labels = sorted_train_data['num_orders'].copy()\n",
    "\n",
    "xgb_reg = XGBRegressor(random_state=42)\n",
    "\n",
    "xgb_reg_scores = cross_val_score(xgb_reg, final_train_data, final_train_labels, scoring=\"neg_mean_squared_error\", cv=10,\n",
    "                                 verbose=3)\n",
    "xgb_reg_rmse_scores = np.sqrt(-xgb_reg_scores)\n",
    "display_scores(xgb_reg_rmse_scores)\n"
   ],
   "metadata": {
    "collapsed": false
   }
  },
  {
   "cell_type": "markdown",
   "source": [
    "OBS: Using actual value of op_area is better than the bins but it's weird. Mean is lower but SD is higher. However, mean reduction if mor important for us and SD is still under 5%"
   ],
   "metadata": {
    "collapsed": false
   }
  },
  {
   "cell_type": "markdown",
   "source": [
    "## Checking if using the category and cuisine separately instead of the combined category_cuisine"
   ],
   "metadata": {
    "collapsed": false
   }
  },
  {
   "cell_type": "code",
   "execution_count": null,
   "outputs": [],
   "source": [
    "#imputer columns\n",
    "median_attribs = ['checkout_price', 'base_price', 'op_area']\n",
    "most_freq_attribs = ['center_id', 'meal_id', 'city_code', 'region_code', 'category', 'cuisine', 'center_type', 'week']\n",
    "#standardization columns\n",
    "standard_scaling_attribs = ['checkout_price', 'base_price', 'op_area', 'discount_value']\n",
    "normalization_attribs = ['week']\n",
    "#selected columns\n",
    "selected_features = ['week', 'center_id', 'meal_id', 'op_area', 'city_code', 'region_code', 'category', 'cuisine',\n",
    "                     'center_type', 'checkout_price', 'base_price', 'discount_value', 'is_discount',\n",
    "                     'emailer_for_promotion', 'homepage_featured']\n",
    "\n",
    "#one-hot column\n",
    "one_hot_attribs = ['center_id', 'meal_id', 'city_code', 'region_code', 'category', 'cuisine',\n",
    "                   'center_type']\n",
    "\n",
    "final_pipeline = PipelineBuilder(median_attribs, most_freq_attribs, standard_scaling_attribs, normalization_attribs,\n",
    "                                 selected_features, one_hot_attribs).build()\n",
    "\n",
    "final_train_data = final_pipeline.fit_transform(sorted_train_data)\n",
    "final_train_labels = sorted_train_data['num_orders'].copy()\n",
    "\n",
    "xgb_reg = XGBRegressor(random_state=42)\n",
    "\n",
    "xgb_reg_scores = cross_val_score(xgb_reg, final_train_data, final_train_labels, scoring=\"neg_mean_squared_error\", cv=10,\n",
    "                                 verbose=3)\n",
    "xgb_reg_rmse_scores = np.sqrt(-xgb_reg_scores)\n",
    "display_scores(xgb_reg_rmse_scores)\n"
   ],
   "metadata": {
    "collapsed": false
   }
  },
  {
   "cell_type": "markdown",
   "source": [
    "OBS: category_cuisine seems to be very similar instead of separate. Separately it results in a slightly higher Mean but a better SD and CV%. IN close situations we will look at the CV%. We will keep them separate."
   ],
   "metadata": {
    "collapsed": false
   }
  },
  {
   "cell_type": "markdown",
   "source": [
    "## Checking if discount features added are actually helping or not"
   ],
   "metadata": {
    "collapsed": false
   }
  },
  {
   "cell_type": "code",
   "execution_count": null,
   "outputs": [],
   "source": [
    "#imputer columns\n",
    "median_attribs = ['checkout_price', 'base_price', 'op_area']\n",
    "most_freq_attribs = ['center_id', 'meal_id', 'city_code', 'region_code', 'category', 'cuisine', 'center_type', 'week']\n",
    "#standardization columns\n",
    "standard_scaling_attribs = ['checkout_price', 'base_price', 'op_area', 'discount_value']\n",
    "normalization_attribs = ['week']\n",
    "#selected columns\n",
    "selected_features = ['week', 'center_id', 'meal_id', 'op_area', 'city_code', 'region_code', 'category', 'cuisine',\n",
    "                     'center_type', 'checkout_price', 'base_price',\n",
    "                     'emailer_for_promotion', 'homepage_featured']\n",
    "\n",
    "#one-hot column\n",
    "one_hot_attribs = ['center_id', 'meal_id', 'city_code', 'region_code', 'category', 'cuisine',\n",
    "                   'center_type']\n",
    "\n",
    "final_pipeline = PipelineBuilder(median_attribs, most_freq_attribs, standard_scaling_attribs, normalization_attribs,\n",
    "                                 selected_features, one_hot_attribs).build()\n",
    "\n",
    "final_train_data = final_pipeline.fit_transform(sorted_train_data)\n",
    "final_train_labels = sorted_train_data['num_orders'].copy()\n",
    "\n",
    "xgb_reg = XGBRegressor(random_state=42)\n",
    "\n",
    "xgb_reg_scores = cross_val_score(xgb_reg, final_train_data, final_train_labels, scoring=\"neg_mean_squared_error\", cv=10,\n",
    "                                 verbose=3)\n",
    "xgb_reg_rmse_scores = np.sqrt(-xgb_reg_scores)\n",
    "display_scores(xgb_reg_rmse_scores)\n"
   ],
   "metadata": {
    "collapsed": false
   }
  },
  {
   "cell_type": "markdown",
   "source": [
    "OBS: Engineered features discount_value and is_discount do not seem to help. Let's check them individually."
   ],
   "metadata": {
    "collapsed": false
   }
  },
  {
   "cell_type": "markdown",
   "source": [
    "## Do both discount features help, or is only one better?\n",
    "Testing with only discount_value"
   ],
   "metadata": {
    "collapsed": false
   }
  },
  {
   "cell_type": "code",
   "execution_count": null,
   "outputs": [],
   "source": [
    "#imputer columns\n",
    "median_attribs = ['checkout_price', 'base_price', 'op_area']\n",
    "most_freq_attribs = ['center_id', 'meal_id', 'city_code', 'region_code', 'category', 'cuisine', 'center_type', 'week']\n",
    "#standardization columns\n",
    "standard_scaling_attribs = ['checkout_price', 'base_price', 'op_area', 'discount_value']\n",
    "normalization_attribs = ['week']\n",
    "#selected columns\n",
    "selected_features = ['week', 'center_id', 'meal_id', 'op_area', 'city_code', 'region_code', 'category', 'cuisine',\n",
    "                     'center_type', 'checkout_price', 'base_price', 'discount_value',\n",
    "                     'emailer_for_promotion', 'homepage_featured']\n",
    "\n",
    "#one-hot column\n",
    "one_hot_attribs = ['center_id', 'meal_id', 'city_code', 'region_code', 'category', 'cuisine',\n",
    "                   'center_type']\n",
    "\n",
    "final_pipeline = PipelineBuilder(median_attribs, most_freq_attribs, standard_scaling_attribs, normalization_attribs,\n",
    "                                 selected_features, one_hot_attribs).build()\n",
    "\n",
    "final_train_data = final_pipeline.fit_transform(sorted_train_data)\n",
    "final_train_labels = sorted_train_data['num_orders'].copy()\n",
    "\n",
    "xgb_reg = XGBRegressor(random_state=42)\n",
    "\n",
    "xgb_reg_scores = cross_val_score(xgb_reg, final_train_data, final_train_labels, scoring=\"neg_mean_squared_error\", cv=10,\n",
    "                                 verbose=3)\n",
    "xgb_reg_rmse_scores = np.sqrt(-xgb_reg_scores)\n",
    "display_scores(xgb_reg_rmse_scores)"
   ],
   "metadata": {
    "collapsed": false
   }
  },
  {
   "cell_type": "markdown",
   "source": [
    "Testing with only is_discount"
   ],
   "metadata": {
    "collapsed": false
   }
  },
  {
   "cell_type": "code",
   "execution_count": null,
   "outputs": [],
   "source": [
    "#imputer columns\n",
    "median_attribs = ['checkout_price', 'base_price', 'op_area']\n",
    "most_freq_attribs = ['center_id', 'meal_id', 'city_code', 'region_code', 'category', 'cuisine', 'center_type', 'week']\n",
    "#standardization columns\n",
    "standard_scaling_attribs = ['checkout_price', 'base_price', 'op_area', 'discount_value']\n",
    "normalization_attribs = ['week']\n",
    "#selected columns\n",
    "selected_features = ['week', 'center_id', 'meal_id', 'op_area', 'city_code', 'region_code', 'category', 'cuisine',\n",
    "                     'center_type', 'checkout_price', 'base_price', 'is_discount',\n",
    "                     'emailer_for_promotion', 'homepage_featured']\n",
    "\n",
    "#one-hot column\n",
    "one_hot_attribs = ['center_id', 'meal_id', 'city_code', 'region_code', 'category', 'cuisine',\n",
    "                   'center_type']\n",
    "\n",
    "final_pipeline = PipelineBuilder(median_attribs, most_freq_attribs, standard_scaling_attribs, normalization_attribs,\n",
    "                                 selected_features, one_hot_attribs).build()\n",
    "\n",
    "final_train_data = final_pipeline.fit_transform(sorted_train_data)\n",
    "final_train_labels = sorted_train_data['num_orders'].copy()\n",
    "\n",
    "xgb_reg = XGBRegressor(random_state=42)\n",
    "\n",
    "xgb_reg_scores = cross_val_score(xgb_reg, final_train_data, final_train_labels, scoring=\"neg_mean_squared_error\", cv=10,\n",
    "                                 verbose=3)\n",
    "xgb_reg_rmse_scores = np.sqrt(-xgb_reg_scores)\n",
    "display_scores(xgb_reg_rmse_scores)"
   ],
   "metadata": {
    "collapsed": false
   }
  },
  {
   "cell_type": "markdown",
   "source": [
    "OBS: discount features do not help. We will remove them"
   ],
   "metadata": {
    "collapsed": false
   }
  },
  {
   "cell_type": "markdown",
   "source": [
    "## Checking if meal_id helps or not"
   ],
   "metadata": {
    "collapsed": false
   }
  },
  {
   "cell_type": "code",
   "execution_count": null,
   "outputs": [],
   "source": [
    "#imputer columns\n",
    "median_attribs = ['checkout_price', 'base_price', 'op_area']\n",
    "most_freq_attribs = ['center_id', 'meal_id', 'city_code', 'region_code', 'category', 'cuisine', 'center_type', 'week']\n",
    "#standardization columns\n",
    "standard_scaling_attribs = ['checkout_price', 'base_price', 'op_area', 'discount_value']\n",
    "normalization_attribs = ['week']\n",
    "#selected columns\n",
    "selected_features = ['week', 'center_id', 'op_area', 'city_code', 'region_code', 'category', 'cuisine',\n",
    "                     'center_type', 'checkout_price', 'base_price',\n",
    "                     'emailer_for_promotion', 'homepage_featured']\n",
    "\n",
    "#one-hot column\n",
    "one_hot_attribs = ['center_id', 'city_code', 'region_code', 'category', 'cuisine',\n",
    "                   'center_type']\n",
    "\n",
    "final_pipeline = PipelineBuilder(median_attribs, most_freq_attribs, standard_scaling_attribs, normalization_attribs,\n",
    "                                 selected_features, one_hot_attribs).build()\n",
    "\n",
    "final_train_data = final_pipeline.fit_transform(sorted_train_data)\n",
    "final_train_labels = sorted_train_data['num_orders'].copy()\n",
    "\n",
    "xgb_reg = XGBRegressor(random_state=42)\n",
    "\n",
    "xgb_reg_scores = cross_val_score(xgb_reg, final_train_data, final_train_labels, scoring=\"neg_mean_squared_error\", cv=10,\n",
    "                                 verbose=3)\n",
    "xgb_reg_rmse_scores = np.sqrt(-xgb_reg_scores)\n",
    "display_scores(xgb_reg_rmse_scores)"
   ],
   "metadata": {
    "collapsed": false
   }
  },
  {
   "cell_type": "markdown",
   "source": [
    "OBS: Removing the meal_id is much worse due to high mean increase."
   ],
   "metadata": {
    "collapsed": false
   }
  },
  {
   "cell_type": "markdown",
   "source": [
    "## Keeping meal id, but not doing 1-hot"
   ],
   "metadata": {
    "collapsed": false
   }
  },
  {
   "cell_type": "code",
   "execution_count": null,
   "outputs": [],
   "source": [
    "#imputer columns\n",
    "median_attribs = ['checkout_price', 'base_price', 'op_area']\n",
    "most_freq_attribs = ['center_id', 'meal_id', 'city_code', 'region_code', 'category', 'cuisine', 'center_type', 'week']\n",
    "#standardization columns\n",
    "standard_scaling_attribs = ['checkout_price', 'base_price', 'op_area', 'discount_value']\n",
    "normalization_attribs = ['week']\n",
    "#selected columns\n",
    "selected_features = ['week', 'center_id', 'meal_id', 'op_area', 'city_code', 'region_code', 'category', 'cuisine',\n",
    "                     'center_type', 'checkout_price', 'base_price',\n",
    "                     'emailer_for_promotion', 'homepage_featured']\n",
    "\n",
    "#one-hot column\n",
    "one_hot_attribs = ['center_id', 'city_code', 'region_code', 'category', 'cuisine',\n",
    "                   'center_type']\n",
    "\n",
    "final_pipeline = PipelineBuilder(median_attribs, most_freq_attribs, standard_scaling_attribs, normalization_attribs,\n",
    "                                 selected_features, one_hot_attribs).build()\n",
    "\n",
    "final_train_data = final_pipeline.fit_transform(sorted_train_data)\n",
    "final_train_labels = sorted_train_data['num_orders'].copy()\n",
    "\n",
    "xgb_reg = XGBRegressor(random_state=42)\n",
    "\n",
    "xgb_reg_scores = cross_val_score(xgb_reg, final_train_data, final_train_labels, scoring=\"neg_mean_squared_error\", cv=10,\n",
    "                                 verbose=3)\n",
    "xgb_reg_rmse_scores = np.sqrt(-xgb_reg_scores)\n",
    "display_scores(xgb_reg_rmse_scores)"
   ],
   "metadata": {
    "collapsed": false
   }
  },
  {
   "cell_type": "markdown",
   "source": [
    "OBS: Removing the 1-hot enc from meal-id made it worse. We will keep meal id and the 1 hot enc on it."
   ],
   "metadata": {
    "collapsed": false
   }
  },
  {
   "cell_type": "markdown",
   "source": [
    "## Is center id relevant?"
   ],
   "metadata": {
    "collapsed": false
   }
  },
  {
   "cell_type": "code",
   "execution_count": null,
   "outputs": [],
   "source": [
    "#imputer columns\n",
    "median_attribs = ['checkout_price', 'base_price', 'op_area']\n",
    "most_freq_attribs = ['center_id', 'meal_id', 'city_code', 'region_code', 'category', 'cuisine', 'center_type', 'week']\n",
    "#standardization columns\n",
    "standard_scaling_attribs = ['checkout_price', 'base_price', 'op_area', 'discount_value']\n",
    "normalization_attribs = ['week']\n",
    "#selected columns\n",
    "selected_features = ['week', 'meal_id', 'op_area', 'city_code', 'region_code', 'category', 'cuisine',\n",
    "                     'center_type', 'checkout_price', 'base_price',\n",
    "                     'emailer_for_promotion', 'homepage_featured']\n",
    "\n",
    "#one-hot column\n",
    "one_hot_attribs = ['meal_id', 'city_code', 'region_code', 'category', 'cuisine',\n",
    "                   'center_type']\n",
    "\n",
    "final_pipeline = PipelineBuilder(median_attribs, most_freq_attribs, standard_scaling_attribs, normalization_attribs,\n",
    "                                 selected_features, one_hot_attribs).build()\n",
    "\n",
    "final_train_data = final_pipeline.fit_transform(sorted_train_data)\n",
    "final_train_labels = sorted_train_data['num_orders'].copy()\n",
    "\n",
    "xgb_reg = XGBRegressor(random_state=42)\n",
    "\n",
    "xgb_reg_scores = cross_val_score(xgb_reg, final_train_data, final_train_labels, scoring=\"neg_mean_squared_error\", cv=10,\n",
    "                                 verbose=3)\n",
    "xgb_reg_rmse_scores = np.sqrt(-xgb_reg_scores)\n",
    "display_scores(xgb_reg_rmse_scores)"
   ],
   "metadata": {
    "collapsed": false
   }
  },
  {
   "cell_type": "markdown",
   "source": [
    "OBS: Worse without the center ID"
   ],
   "metadata": {
    "collapsed": false
   }
  },
  {
   "cell_type": "markdown",
   "source": [
    "## Is performance better without 1-hot enc on center ID?"
   ],
   "metadata": {
    "collapsed": false
   }
  },
  {
   "cell_type": "code",
   "execution_count": null,
   "outputs": [],
   "source": [
    "#imputer columns\n",
    "median_attribs = ['checkout_price', 'base_price', 'op_area']\n",
    "most_freq_attribs = ['center_id', 'meal_id', 'city_code', 'region_code', 'category', 'cuisine', 'center_type', 'week']\n",
    "#standardization columns\n",
    "standard_scaling_attribs = ['checkout_price', 'base_price', 'op_area', 'discount_value']\n",
    "normalization_attribs = ['week']\n",
    "#selected columns\n",
    "selected_features = ['week', 'center_id', 'meal_id', 'op_area', 'city_code', 'region_code', 'category', 'cuisine',\n",
    "                     'center_type', 'checkout_price', 'base_price',\n",
    "                     'emailer_for_promotion', 'homepage_featured']\n",
    "\n",
    "#one-hot column\n",
    "one_hot_attribs = ['meal_id', 'city_code', 'region_code', 'category', 'cuisine',\n",
    "                   'center_type']\n",
    "\n",
    "final_pipeline = PipelineBuilder(median_attribs, most_freq_attribs, standard_scaling_attribs, normalization_attribs,\n",
    "                                 selected_features, one_hot_attribs).build()\n",
    "\n",
    "final_train_data = final_pipeline.fit_transform(sorted_train_data)\n",
    "final_train_labels = sorted_train_data['num_orders'].copy()\n",
    "\n",
    "xgb_reg = XGBRegressor(random_state=42)\n",
    "\n",
    "xgb_reg_scores = cross_val_score(xgb_reg, final_train_data, final_train_labels, scoring=\"neg_mean_squared_error\", cv=10,\n",
    "                                 verbose=3)\n",
    "xgb_reg_rmse_scores = np.sqrt(-xgb_reg_scores)\n",
    "display_scores(xgb_reg_rmse_scores)"
   ],
   "metadata": {
    "collapsed": false
   }
  },
  {
   "cell_type": "markdown",
   "source": [
    "OBS: Removing 1-hot enc from center ID lowered the mean by increased the SD. Selecting based on lower CV% to keep encoding. 1-hot enc the center ID is logically correct. We will be keeping it.\n",
    "It is the expected result based on our assumptions as the meal id and center id are categorical attributes where the actual number on the IDs is not relevant. It is only a unique identifier"
   ],
   "metadata": {
    "collapsed": false
   }
  },
  {
   "cell_type": "markdown",
   "source": [
    "## Is city code relevant?"
   ],
   "metadata": {
    "collapsed": false
   }
  },
  {
   "cell_type": "code",
   "execution_count": null,
   "outputs": [],
   "source": [
    "#imputer columns\n",
    "median_attribs = ['checkout_price', 'base_price', 'op_area']\n",
    "most_freq_attribs = ['center_id', 'meal_id', 'city_code', 'region_code', 'category', 'cuisine', 'center_type', 'week']\n",
    "#standardization columns\n",
    "standard_scaling_attribs = ['checkout_price', 'base_price', 'op_area', 'discount_value']\n",
    "normalization_attribs = ['week']\n",
    "#selected columns\n",
    "selected_features = ['week', 'center_id', 'meal_id', 'op_area', 'region_code', 'category', 'cuisine',\n",
    "                     'center_type', 'checkout_price', 'base_price',\n",
    "                     'emailer_for_promotion', 'homepage_featured']\n",
    "\n",
    "#one-hot column\n",
    "one_hot_attribs = ['center_id', 'meal_id', 'region_code', 'category', 'cuisine',\n",
    "                   'center_type']\n",
    "\n",
    "final_pipeline = PipelineBuilder(median_attribs, most_freq_attribs, standard_scaling_attribs, normalization_attribs,\n",
    "                                 selected_features, one_hot_attribs).build()\n",
    "\n",
    "final_train_data = final_pipeline.fit_transform(sorted_train_data)\n",
    "final_train_labels = sorted_train_data['num_orders'].copy()\n",
    "\n",
    "xgb_reg = XGBRegressor(random_state=42)\n",
    "\n",
    "xgb_reg_scores = cross_val_score(xgb_reg, final_train_data, final_train_labels, scoring=\"neg_mean_squared_error\", cv=10,\n",
    "                                 verbose=3)\n",
    "xgb_reg_rmse_scores = np.sqrt(-xgb_reg_scores)\n",
    "display_scores(xgb_reg_rmse_scores)"
   ],
   "metadata": {
    "collapsed": false
   }
  },
  {
   "cell_type": "markdown",
   "source": [
    "OBS: removing the city code seems slightly better. However, the data is relevant and we should keep it."
   ],
   "metadata": {
    "collapsed": false
   }
  },
  {
   "cell_type": "markdown",
   "source": [
    "## Is removing the 1 hot enc from city code better?"
   ],
   "metadata": {
    "collapsed": false
   }
  },
  {
   "cell_type": "code",
   "execution_count": null,
   "outputs": [],
   "source": [
    "#imputer columns\n",
    "median_attribs = ['checkout_price', 'base_price', 'op_area']\n",
    "most_freq_attribs = ['center_id', 'meal_id', 'city_code', 'region_code', 'category', 'cuisine', 'center_type', 'week']\n",
    "#standardization columns\n",
    "standard_scaling_attribs = ['checkout_price', 'base_price', 'op_area', 'discount_value']\n",
    "normalization_attribs = ['week']\n",
    "#selected columns\n",
    "selected_features = ['week', 'center_id', 'meal_id', 'op_area', 'city_code', 'region_code', 'category', 'cuisine',\n",
    "                     'center_type', 'checkout_price', 'base_price',\n",
    "                     'emailer_for_promotion', 'homepage_featured']\n",
    "\n",
    "#one-hot column\n",
    "one_hot_attribs = ['center_id', 'meal_id', 'region_code', 'category', 'cuisine',\n",
    "                   'center_type']\n",
    "\n",
    "final_pipeline = PipelineBuilder(median_attribs, most_freq_attribs, standard_scaling_attribs, normalization_attribs,\n",
    "                                 selected_features, one_hot_attribs).build()\n",
    "\n",
    "final_train_data = final_pipeline.fit_transform(sorted_train_data)\n",
    "final_train_labels = sorted_train_data['num_orders'].copy()\n",
    "\n",
    "xgb_reg = XGBRegressor(random_state=42)\n",
    "\n",
    "xgb_reg_scores = cross_val_score(xgb_reg, final_train_data, final_train_labels, scoring=\"neg_mean_squared_error\", cv=10,\n",
    "                                 verbose=3)\n",
    "xgb_reg_rmse_scores = np.sqrt(-xgb_reg_scores)\n",
    "display_scores(xgb_reg_rmse_scores)"
   ],
   "metadata": {
    "collapsed": false
   }
  },
  {
   "cell_type": "markdown",
   "source": [
    "OBS: removing 1 hot enc makes it worse. Keeping it as originally intended."
   ],
   "metadata": {
    "collapsed": false
   }
  },
  {
   "cell_type": "markdown",
   "source": [
    "## Is region code relevant?"
   ],
   "metadata": {
    "collapsed": false
   }
  },
  {
   "cell_type": "code",
   "execution_count": null,
   "outputs": [],
   "source": [
    "#imputer columns\n",
    "median_attribs = ['checkout_price', 'base_price', 'op_area']\n",
    "most_freq_attribs = ['center_id', 'meal_id', 'city_code', 'region_code', 'category', 'cuisine', 'center_type', 'week']\n",
    "#standardization columns\n",
    "standard_scaling_attribs = ['checkout_price', 'base_price', 'op_area', 'discount_value']\n",
    "normalization_attribs = ['week']\n",
    "#selected columns\n",
    "selected_features = ['week', 'center_id', 'meal_id', 'op_area', 'city_code', 'category', 'cuisine',\n",
    "                     'center_type', 'checkout_price', 'base_price',\n",
    "                     'emailer_for_promotion', 'homepage_featured']\n",
    "\n",
    "#one-hot column\n",
    "one_hot_attribs = ['center_id', 'meal_id', 'city_code', 'category', 'cuisine',\n",
    "                   'center_type']\n",
    "\n",
    "final_pipeline = PipelineBuilder(median_attribs, most_freq_attribs, standard_scaling_attribs, normalization_attribs,\n",
    "                                 selected_features, one_hot_attribs).build()\n",
    "\n",
    "final_train_data = final_pipeline.fit_transform(sorted_train_data)\n",
    "final_train_labels = sorted_train_data['num_orders'].copy()\n",
    "\n",
    "xgb_reg = XGBRegressor(random_state=42)\n",
    "\n",
    "xgb_reg_scores = cross_val_score(xgb_reg, final_train_data, final_train_labels, scoring=\"neg_mean_squared_error\", cv=10,\n",
    "                                 verbose=3)\n",
    "xgb_reg_rmse_scores = np.sqrt(-xgb_reg_scores)\n",
    "display_scores(xgb_reg_rmse_scores)"
   ],
   "metadata": {
    "collapsed": false
   }
  },
  {
   "cell_type": "markdown",
   "source": [
    "OBS: Removing it is worse"
   ],
   "metadata": {
    "collapsed": false
   }
  },
  {
   "cell_type": "markdown",
   "source": [
    "## Is removing the 1 hot enc from region code better?"
   ],
   "metadata": {
    "collapsed": false
   }
  },
  {
   "cell_type": "code",
   "execution_count": null,
   "outputs": [],
   "source": [
    "#imputer columns\n",
    "median_attribs = ['checkout_price', 'base_price', 'op_area']\n",
    "most_freq_attribs = ['center_id', 'meal_id', 'city_code', 'region_code', 'category', 'cuisine', 'center_type', 'week']\n",
    "#standardization columns\n",
    "standard_scaling_attribs = ['checkout_price', 'base_price', 'op_area', 'discount_value']\n",
    "normalization_attribs = ['week']\n",
    "#selected columns\n",
    "selected_features = ['week', 'center_id', 'meal_id', 'op_area', 'city_code', 'region_code', 'category', 'cuisine',\n",
    "                     'center_type', 'checkout_price', 'base_price',\n",
    "                     'emailer_for_promotion', 'homepage_featured']\n",
    "\n",
    "#one-hot column\n",
    "one_hot_attribs = ['center_id', 'meal_id', 'city_code', 'category', 'cuisine',\n",
    "                   'center_type']\n",
    "\n",
    "final_pipeline = PipelineBuilder(median_attribs, most_freq_attribs, standard_scaling_attribs, normalization_attribs,\n",
    "                                 selected_features, one_hot_attribs).build()\n",
    "\n",
    "final_train_data = final_pipeline.fit_transform(sorted_train_data)\n",
    "final_train_labels = sorted_train_data['num_orders'].copy()\n",
    "\n",
    "xgb_reg = XGBRegressor(random_state=42)\n",
    "\n",
    "xgb_reg_scores = cross_val_score(xgb_reg, final_train_data, final_train_labels, scoring=\"neg_mean_squared_error\", cv=10,\n",
    "                                 verbose=3)\n",
    "xgb_reg_rmse_scores = np.sqrt(-xgb_reg_scores)\n",
    "display_scores(xgb_reg_rmse_scores)"
   ],
   "metadata": {
    "collapsed": false
   }
  },
  {
   "cell_type": "markdown",
   "source": [
    "OBS: removing 1 hot encoding from region code made it worse"
   ],
   "metadata": {
    "collapsed": false
   }
  },
  {
   "cell_type": "markdown",
   "source": [
    "## Does week normalization help?"
   ],
   "metadata": {
    "collapsed": false
   }
  },
  {
   "cell_type": "code",
   "execution_count": null,
   "outputs": [],
   "source": [
    "#imputer columns\n",
    "median_attribs = ['checkout_price', 'base_price', 'op_area']\n",
    "most_freq_attribs = ['center_id', 'meal_id', 'city_code', 'region_code', 'category', 'cuisine', 'center_type', 'week']\n",
    "#standardization columns\n",
    "standard_scaling_attribs = ['checkout_price', 'base_price', 'op_area', 'discount_value']\n",
    "normalization_attribs = []\n",
    "#selected columns\n",
    "selected_features = ['week', 'center_id', 'meal_id', 'op_area', 'city_code', 'region_code', 'category', 'cuisine',\n",
    "                     'center_type', 'checkout_price', 'base_price',\n",
    "                     'emailer_for_promotion', 'homepage_featured']\n",
    "\n",
    "#one-hot column\n",
    "one_hot_attribs = ['center_id', 'meal_id', 'city_code', 'region_code', 'category', 'cuisine',\n",
    "                   'center_type']\n",
    "\n",
    "final_pipeline = PipelineBuilder(median_attribs, most_freq_attribs, standard_scaling_attribs, normalization_attribs,\n",
    "                                 selected_features, one_hot_attribs).build()\n",
    "\n",
    "final_train_data = final_pipeline.fit_transform(sorted_train_data)\n",
    "final_train_labels = sorted_train_data['num_orders'].copy()\n",
    "\n",
    "xgb_reg = XGBRegressor(random_state=42)\n",
    "\n",
    "xgb_reg_scores = cross_val_score(xgb_reg, final_train_data, final_train_labels, scoring=\"neg_mean_squared_error\", cv=10,\n",
    "                                 verbose=3)\n",
    "xgb_reg_rmse_scores = np.sqrt(-xgb_reg_scores)\n",
    "display_scores(xgb_reg_rmse_scores)"
   ],
   "metadata": {
    "collapsed": false
   }
  },
  {
   "cell_type": "markdown",
   "source": [
    "OBS: Normalization of the week was a correct decision. We normalized because we wanted to preserve the distribution but look in a smaller range."
   ],
   "metadata": {
    "collapsed": false
   }
  },
  {
   "cell_type": "markdown",
   "source": [
    "## Will scaling week instead of normalizing it be better?"
   ],
   "metadata": {
    "collapsed": false
   }
  },
  {
   "cell_type": "code",
   "execution_count": null,
   "outputs": [],
   "source": [
    "#imputer columns\n",
    "median_attribs = ['checkout_price', 'base_price', 'op_area']\n",
    "most_freq_attribs = ['center_id', 'meal_id', 'city_code', 'region_code', 'category', 'cuisine', 'center_type', 'week']\n",
    "#standardization columns\n",
    "standard_scaling_attribs = ['checkout_price', 'base_price', 'op_area', 'discount_value', 'week']\n",
    "normalization_attribs = []\n",
    "#selected columns\n",
    "selected_features = ['week', 'center_id', 'meal_id', 'op_area', 'city_code', 'region_code', 'category_cuisine',\n",
    "                     'center_type', 'checkout_price', 'base_price', 'discount_value',\n",
    "                     'emailer_for_promotion', 'homepage_featured']\n",
    "\n",
    "#one-hot column\n",
    "one_hot_attribs = ['center_id', 'meal_id', 'city_code', 'region_code', 'category_cuisine',\n",
    "                   'center_type']\n",
    "\n",
    "final_pipeline = PipelineBuilder(median_attribs, most_freq_attribs, standard_scaling_attribs, normalization_attribs,\n",
    "                                 selected_features, one_hot_attribs).build()\n",
    "\n",
    "final_train_data = final_pipeline.fit_transform(sorted_train_data)\n",
    "final_train_labels = sorted_train_data['num_orders'].copy()\n",
    "\n",
    "xgb_reg = XGBRegressor(random_state=42)\n",
    "\n",
    "xgb_reg_scores = cross_val_score(xgb_reg, final_train_data, final_train_labels, scoring=\"neg_mean_squared_error\", cv=10,\n",
    "                                 verbose=3)\n",
    "xgb_reg_rmse_scores = np.sqrt(-xgb_reg_scores)\n",
    "display_scores(xgb_reg_rmse_scores)"
   ],
   "metadata": {
    "collapsed": false
   }
  },
  {
   "cell_type": "markdown",
   "source": [
    "OBS: As expected, week should be normalized instead of scaled. Week is an increasing value where the distance between a value and the one before it is important and the same. We want to keep it as it is but just work with smaller values."
   ],
   "metadata": {
    "collapsed": false
   }
  },
  {
   "cell_type": "markdown",
   "source": [
    "## Will normalizing op_area instead of scaling it be better?"
   ],
   "metadata": {
    "collapsed": false
   }
  },
  {
   "cell_type": "code",
   "execution_count": null,
   "outputs": [],
   "source": [
    "#imputer columns\n",
    "median_attribs = ['checkout_price', 'base_price', 'op_area']\n",
    "most_freq_attribs = ['center_id', 'meal_id', 'city_code', 'region_code', 'category', 'cuisine', 'center_type', 'week']\n",
    "#standardization columns\n",
    "standard_scaling_attribs = ['checkout_price', 'base_price', 'discount_value']\n",
    "normalization_attribs = ['week', 'op_area']\n",
    "#selected columns\n",
    "selected_features = ['week', 'center_id', 'meal_id', 'op_area', 'city_code', 'region_code', 'category_cuisine',\n",
    "                     'center_type', 'checkout_price', 'base_price', 'discount_value',\n",
    "                     'emailer_for_promotion', 'homepage_featured']\n",
    "\n",
    "#one-hot column\n",
    "one_hot_attribs = ['center_id', 'meal_id', 'city_code', 'region_code', 'category_cuisine',\n",
    "                   'center_type']\n",
    "\n",
    "final_pipeline = PipelineBuilder(median_attribs, most_freq_attribs, standard_scaling_attribs, normalization_attribs,\n",
    "                                 selected_features, one_hot_attribs).build()\n",
    "\n",
    "final_train_data = final_pipeline.fit_transform(sorted_train_data)\n",
    "final_train_labels = sorted_train_data['num_orders'].copy()\n",
    "\n",
    "xgb_reg = XGBRegressor(random_state=42)\n",
    "\n",
    "xgb_reg_scores = cross_val_score(xgb_reg, final_train_data, final_train_labels, scoring=\"neg_mean_squared_error\", cv=10,\n",
    "                                 verbose=3)\n",
    "xgb_reg_rmse_scores = np.sqrt(-xgb_reg_scores)\n",
    "display_scores(xgb_reg_rmse_scores)"
   ],
   "metadata": {
    "collapsed": false
   }
  },
  {
   "cell_type": "markdown",
   "source": [
    "OBS: As expected, normalizing op-area instead of scaling it resulted in worse score. This is because we want the op_area to be on the same scale as the other numerical attributes like the prices."
   ],
   "metadata": {
    "collapsed": false
   }
  },
  {
   "cell_type": "markdown",
   "source": [
    "## Is normalizing the price features better than scaling them?"
   ],
   "metadata": {
    "collapsed": false
   }
  },
  {
   "cell_type": "code",
   "execution_count": null,
   "outputs": [],
   "source": [
    "#imputer columns\n",
    "median_attribs = ['checkout_price', 'base_price', 'op_area']\n",
    "most_freq_attribs = ['center_id', 'meal_id', 'city_code', 'region_code', 'category', 'cuisine', 'center_type', 'week']\n",
    "#standardization columns\n",
    "standard_scaling_attribs = ['op_area']\n",
    "normalization_attribs = ['week', 'checkout_price', 'base_price', 'discount_value']\n",
    "#selected columns\n",
    "selected_features = ['week', 'center_id', 'meal_id', 'op_area', 'city_code', 'region_code', 'category_cuisine',\n",
    "                     'center_type', 'checkout_price', 'base_price', 'discount_value',\n",
    "                     'emailer_for_promotion', 'homepage_featured']\n",
    "\n",
    "#one-hot column\n",
    "one_hot_attribs = ['center_id', 'meal_id', 'city_code', 'region_code', 'category_cuisine',\n",
    "                   'center_type']\n",
    "\n",
    "final_pipeline = PipelineBuilder(median_attribs, most_freq_attribs, standard_scaling_attribs, normalization_attribs,\n",
    "                                 selected_features, one_hot_attribs).build()\n",
    "\n",
    "final_train_data = final_pipeline.fit_transform(sorted_train_data)\n",
    "final_train_labels = sorted_train_data['num_orders'].copy()\n",
    "\n",
    "xgb_reg = XGBRegressor(random_state=42)\n",
    "\n",
    "xgb_reg_scores = cross_val_score(xgb_reg, final_train_data, final_train_labels, scoring=\"neg_mean_squared_error\", cv=10,\n",
    "                                 verbose=3)\n",
    "xgb_reg_rmse_scores = np.sqrt(-xgb_reg_scores)\n",
    "display_scores(xgb_reg_rmse_scores)\n"
   ],
   "metadata": {
    "collapsed": false
   }
  },
  {
   "cell_type": "markdown",
   "source": [
    "OBS: Normalizing the prices is worse. This is because they will work on a different scale than other relevant training features like the op_area."
   ],
   "metadata": {
    "collapsed": false
   }
  },
  {
   "cell_type": "markdown",
   "source": [
    "## Is scaling and normalization actually helping?"
   ],
   "metadata": {
    "collapsed": false
   }
  },
  {
   "cell_type": "code",
   "execution_count": null,
   "outputs": [],
   "source": [
    "#imputer columns\n",
    "median_attribs = ['checkout_price', 'base_price', 'op_area']\n",
    "most_freq_attribs = ['center_id', 'meal_id', 'city_code', 'region_code', 'category', 'cuisine', 'center_type', 'week']\n",
    "#standardization columns\n",
    "standard_scaling_attribs = []\n",
    "normalization_attribs = []\n",
    "#selected columns\n",
    "selected_features = ['week', 'center_id', 'meal_id', 'op_area', 'city_code', 'region_code', 'category_cuisine',\n",
    "                     'center_type', 'checkout_price', 'base_price', 'discount_value',\n",
    "                     'emailer_for_promotion', 'homepage_featured']\n",
    "\n",
    "#one-hot column\n",
    "one_hot_attribs = ['center_id', 'meal_id', 'city_code', 'region_code', 'category_cuisine',\n",
    "                   'center_type']\n",
    "\n",
    "final_pipeline = PipelineBuilder(median_attribs, most_freq_attribs, standard_scaling_attribs, normalization_attribs,\n",
    "                                 selected_features, one_hot_attribs).build()\n",
    "\n",
    "final_train_data = final_pipeline.fit_transform(sorted_train_data)\n",
    "final_train_labels = sorted_train_data['num_orders'].copy()\n",
    "\n",
    "xgb_reg = XGBRegressor(random_state=42)\n",
    "\n",
    "xgb_reg_scores = cross_val_score(xgb_reg, final_train_data, final_train_labels, scoring=\"neg_mean_squared_error\", cv=10,\n",
    "                                 verbose=3)\n",
    "xgb_reg_rmse_scores = np.sqrt(-xgb_reg_scores)\n",
    "display_scores(xgb_reg_rmse_scores)\n"
   ],
   "metadata": {
    "collapsed": false
   }
  },
  {
   "cell_type": "markdown",
   "source": [
    "OBS: It's worse. It's because we have numerical attributes that represent different scales(e.g feature 1: 0 - 50000 and feature 2: 0 - 5). Leaving them as is will let the model learn that feature 1 is much more important than feature 2 only because its scale is larger. But both features are equally important."
   ],
   "metadata": {
    "collapsed": false
   }
  },
  {
   "cell_type": "markdown",
   "source": [
    "## Is using the engineered feature region_city better than the 2 separate features?"
   ],
   "metadata": {
    "collapsed": false
   }
  },
  {
   "cell_type": "code",
   "execution_count": null,
   "outputs": [],
   "source": [
    "#imputer columns\n",
    "median_attribs = ['checkout_price', 'base_price', 'op_area']\n",
    "most_freq_attribs = ['center_id', 'meal_id', 'city_code', 'region_code', 'category', 'cuisine', 'center_type', 'week']\n",
    "#standardization columns\n",
    "standard_scaling_attribs = ['checkout_price', 'base_price', 'op_area', 'discount_value']\n",
    "normalization_attribs = ['week']\n",
    "#selected columns\n",
    "selected_features = ['week', 'center_id', 'meal_id', 'op_area', 'region_city', 'category_cuisine',\n",
    "                     'center_type', 'checkout_price', 'base_price', 'discount_value',\n",
    "                     'emailer_for_promotion', 'homepage_featured']\n",
    "\n",
    "#one-hot column\n",
    "one_hot_attribs = ['center_id', 'meal_id', 'region_city', 'category_cuisine',\n",
    "                   'center_type']\n",
    "\n",
    "final_pipeline = PipelineBuilder(median_attribs, most_freq_attribs, standard_scaling_attribs, normalization_attribs,\n",
    "                                 selected_features, one_hot_attribs).build()\n",
    "\n",
    "final_train_data = final_pipeline.fit_transform(sorted_train_data)\n",
    "final_train_labels = sorted_train_data['num_orders'].copy()\n",
    "\n",
    "xgb_reg = XGBRegressor(random_state=42)\n",
    "\n",
    "xgb_reg_scores = cross_val_score(xgb_reg, final_train_data, final_train_labels, scoring=\"neg_mean_squared_error\", cv=10,\n",
    "                                 verbose=3)\n",
    "xgb_reg_rmse_scores = np.sqrt(-xgb_reg_scores)\n",
    "display_scores(xgb_reg_rmse_scores)\n"
   ],
   "metadata": {
    "collapsed": false
   }
  },
  {
   "cell_type": "markdown",
   "source": [
    "OBS: Much worse, we will be keeping region and city separately"
   ],
   "metadata": {
    "collapsed": false
   }
  },
  {
   "cell_type": "markdown",
   "source": [
    "# Final Feature version before HyperParameter tuning"
   ],
   "metadata": {
    "collapsed": false
   }
  },
  {
   "cell_type": "code",
   "execution_count": null,
   "outputs": [],
   "source": [
    "#imputer columns\n",
    "median_attribs = ['checkout_price', 'base_price', 'op_area']\n",
    "most_freq_attribs = ['center_id', 'meal_id', 'city_code', 'region_code', 'category', 'cuisine', 'center_type', 'week']\n",
    "#standardization columns\n",
    "standard_scaling_attribs = ['checkout_price', 'base_price', 'op_area', 'discount_value']\n",
    "normalization_attribs = ['week']\n",
    "#selected columns\n",
    "selected_features = ['week', 'center_id', 'meal_id', 'op_area', 'city_code', 'region_code', 'category', 'cuisine',\n",
    "                     'center_type', 'checkout_price', 'base_price',\n",
    "                     'emailer_for_promotion', 'homepage_featured']\n",
    "\n",
    "#one-hot column\n",
    "one_hot_attribs = ['center_id', 'meal_id', 'city_code', 'region_code', 'category', 'cuisine',\n",
    "                   'center_type']\n",
    "\n",
    "final_pipeline = PipelineBuilder(median_attribs, most_freq_attribs, standard_scaling_attribs, normalization_attribs,\n",
    "                                 selected_features, one_hot_attribs).build()\n",
    "\n",
    "final_train_data = final_pipeline.fit_transform(sorted_train_data)\n",
    "final_train_labels = sorted_train_data['num_orders'].copy()\n",
    "\n",
    "xgb_reg = XGBRegressor(random_state=42)\n",
    "\n",
    "xgb_reg_scores = cross_val_score(xgb_reg, final_train_data, final_train_labels, scoring=\"neg_mean_squared_error\", cv=10,\n",
    "                                 verbose=3)\n",
    "xgb_reg_rmse_scores = np.sqrt(-xgb_reg_scores)\n",
    "display_scores(xgb_reg_rmse_scores)\n"
   ],
   "metadata": {
    "collapsed": false
   }
  },
  {
   "cell_type": "code",
   "execution_count": null,
   "outputs": [],
   "source": [
    "xgb_reg.fit(final_train_data, final_train_labels)\n",
    "predictions = xgb_reg.predict(final_train_data)\n",
    "\n",
    "plt.figure(figsize=(17, 8))\n",
    "\n",
    "plt.rcParams['agg.path.chunksize'] = 20000\n",
    "plt.plot(final_train_labels.reset_index(drop=True), label=\"actual\")\n",
    "plt.plot(predictions, color='red', label=\"predicted\")\n",
    "plt.legend(loc='best')\n",
    "#pyplot.plot(predictions, color='red')\n",
    "plt.show()\n"
   ],
   "metadata": {
    "collapsed": false
   }
  },
  {
   "cell_type": "markdown",
   "source": [
    "# Fine-Tuning the Model"
   ],
   "metadata": {
    "collapsed": false
   }
  },
  {
   "cell_type": "code",
   "execution_count": null,
   "outputs": [],
   "source": [
    "# TODO\n",
    "\n",
    "final_xgb_reg = XGBRegressor(random_state=42)\n",
    "final_xgb_reg.fit(final_train_data, final_train_labels)"
   ],
   "metadata": {
    "collapsed": false
   }
  },
  {
   "cell_type": "markdown",
   "source": [
    "# Checking performance on the test set"
   ],
   "metadata": {
    "collapsed": false
   }
  },
  {
   "cell_type": "code",
   "execution_count": null,
   "outputs": [],
   "source": [
    "from sklearn.metrics import mean_squared_error\n",
    "\n",
    "sorted_test_data = test_set.sort_values(by='id', ascending=True)\n",
    "final_test_data = final_pipeline.fit_transform(sorted_test_data)\n",
    "final_test_labels = sorted_test_data['num_orders'].copy()\n",
    "\n",
    "predictions = final_xgb_reg.predict(final_test_data)\n",
    "\n",
    "\n",
    "final_mse = mean_squared_error(final_test_labels, predictions)\n",
    "final_rmse = np.sqrt(final_mse)\n",
    "print(\"Final score on test set:\", final_rmse)"
   ],
   "metadata": {
    "collapsed": false
   }
  },
  {
   "cell_type": "code",
   "execution_count": null,
   "outputs": [],
   "source": [
    "plt.figure(figsize=(17, 8))\n",
    "\n",
    "plt.rcParams['agg.path.chunksize'] = 20000\n",
    "plt.plot(final_test_labels.reset_index(drop=True), label=\"actual\")\n",
    "plt.plot(predictions, color='red', label=\"predicted\")\n",
    "plt.legend(loc='best')\n",
    "#pyplot.plot(predictions, color='red')\n",
    "plt.show()\n"
   ],
   "metadata": {
    "collapsed": false
   }
  }
 ],
 "metadata": {
  "kernelspec": {
   "display_name": "Python 3 (ipykernel)",
   "language": "python",
   "name": "python3"
  },
  "language_info": {
   "codemirror_mode": {
    "name": "ipython",
    "version": 3
   },
   "file_extension": ".py",
   "mimetype": "text/x-python",
   "name": "python",
   "nbconvert_exporter": "python",
   "pygments_lexer": "ipython3",
   "version": "3.11.4"
  }
 },
 "nbformat": 4,
 "nbformat_minor": 1
}
