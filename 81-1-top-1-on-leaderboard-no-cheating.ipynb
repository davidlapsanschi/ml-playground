{
 "cells": [
  {
   "cell_type": "markdown",
   "id": "0cf73192",
   "metadata": {
    "papermill": {
     "duration": 0.018771,
     "end_time": "2023-02-07T21:51:56.863523",
     "exception": false,
     "start_time": "2023-02-07T21:51:56.844752",
     "status": "completed"
    },
    "tags": []
   },
   "source": [
    "Many begginers here comparing their result with the leaderboard have the impression that they are doing something wrong, but a result of about 77% is a normal one, the problem is to push it a few percents higher.\n",
    "\n",
    "This notebook used the standard dataset and scored 0.811 on the leaderboard that puts it in top 1%, if not take in account the top results based on cheating or that used an extended dataset. \n",
    "\n",
    "Some feature engineering showed here could be interesting for many beginners as am I by myself, so all the critics, sugestions and rocks of any diameter thrown - are very welcome :)\n",
    "\n",
    "Have fun!"
   ]
  },
  {
   "cell_type": "code",
   "execution_count": 5,
   "id": "b5fac73d",
   "metadata": {
    "execution": {
     "iopub.execute_input": "2023-02-07T21:51:56.896659Z",
     "iopub.status.busy": "2023-02-07T21:51:56.896282Z",
     "iopub.status.idle": "2023-02-07T21:51:58.745607Z",
     "shell.execute_reply": "2023-02-07T21:51:58.744286Z"
    },
    "papermill": {
     "duration": 1.868941,
     "end_time": "2023-02-07T21:51:58.748090",
     "exception": false,
     "start_time": "2023-02-07T21:51:56.879149",
     "status": "completed"
    },
    "tags": []
   },
   "outputs": [],
   "source": [
    "import pandas as pd\n",
    "import numpy as np\n",
    "\n",
    "import matplotlib.pyplot as plt\n",
    "import seaborn as sns\n",
    "\n",
    "from sklearn.experimental import enable_iterative_imputer\n",
    "from sklearn.impute import (SimpleImputer, IterativeImputer)\n",
    "from sklearn.preprocessing import (OneHotEncoder, StandardScaler)\n",
    "from sklearn.model_selection import (GridSearchCV, cross_val_score)\n",
    "from sklearn.cluster import KMeans\n",
    "from catboost import CatBoostClassifier"
   ]
  },
  {
   "cell_type": "code",
   "execution_count": 6,
   "outputs": [],
   "source": [
    "import matplotlib.pyplot as plt\n",
    "import numpy as np\n",
    "import pandas as pd\n",
    "import os\n",
    "\n",
    "TITANIC_FOLDER_PATH = path = os.path.join(\"datasets\", \"titanic\")\n",
    "\n",
    "\n",
    "def load_titanic_data(filename):\n",
    "    file_path = os.path.join(TITANIC_FOLDER_PATH, filename)\n",
    "    return pd.read_csv(file_path)"
   ],
   "metadata": {
    "collapsed": false
   }
  },
  {
   "cell_type": "code",
   "execution_count": 7,
   "id": "6b5a72c8",
   "metadata": {
    "execution": {
     "iopub.execute_input": "2023-02-07T21:51:58.782213Z",
     "iopub.status.busy": "2023-02-07T21:51:58.781446Z",
     "iopub.status.idle": "2023-02-07T21:51:58.813252Z",
     "shell.execute_reply": "2023-02-07T21:51:58.811885Z"
    },
    "papermill": {
     "duration": 0.051318,
     "end_time": "2023-02-07T21:51:58.815647",
     "exception": false,
     "start_time": "2023-02-07T21:51:58.764329",
     "status": "completed"
    },
    "tags": []
   },
   "outputs": [],
   "source": [
    "# Load data\n",
    "full_df = load_titanic_data(\"train.csv\")\n",
    "test_df = load_titanic_data(\"test.csv\")"
   ]
  },
  {
   "cell_type": "markdown",
   "id": "4ad727dc",
   "metadata": {
    "papermill": {
     "duration": 0.015362,
     "end_time": "2023-02-07T21:51:58.847039",
     "exception": false,
     "start_time": "2023-02-07T21:51:58.831677",
     "status": "completed"
    },
    "tags": []
   },
   "source": [
    "**Analyze data**"
   ]
  },
  {
   "cell_type": "code",
   "execution_count": 8,
   "id": "38fcad06",
   "metadata": {
    "execution": {
     "iopub.execute_input": "2023-02-07T21:51:58.880107Z",
     "iopub.status.busy": "2023-02-07T21:51:58.879766Z",
     "iopub.status.idle": "2023-02-07T21:51:58.901066Z",
     "shell.execute_reply": "2023-02-07T21:51:58.900222Z"
    },
    "papermill": {
     "duration": 0.040448,
     "end_time": "2023-02-07T21:51:58.903127",
     "exception": false,
     "start_time": "2023-02-07T21:51:58.862679",
     "status": "completed"
    },
    "tags": []
   },
   "outputs": [
    {
     "data": {
      "text/plain": "   PassengerId  Survived  Pclass  \\\n0            1         0       3   \n1            2         1       1   \n2            3         1       3   \n3            4         1       1   \n4            5         0       3   \n\n                                                Name     Sex   Age  SibSp  \\\n0                            Braund, Mr. Owen Harris    male  22.0      1   \n1  Cumings, Mrs. John Bradley (Florence Briggs Th...  female  38.0      1   \n2                             Heikkinen, Miss. Laina  female  26.0      0   \n3       Futrelle, Mrs. Jacques Heath (Lily May Peel)  female  35.0      1   \n4                           Allen, Mr. William Henry    male  35.0      0   \n\n   Parch            Ticket     Fare Cabin Embarked  \n0      0         A/5 21171   7.2500   NaN        S  \n1      0          PC 17599  71.2833   C85        C  \n2      0  STON/O2. 3101282   7.9250   NaN        S  \n3      0            113803  53.1000  C123        S  \n4      0            373450   8.0500   NaN        S  ",
      "text/html": "<div>\n<style scoped>\n    .dataframe tbody tr th:only-of-type {\n        vertical-align: middle;\n    }\n\n    .dataframe tbody tr th {\n        vertical-align: top;\n    }\n\n    .dataframe thead th {\n        text-align: right;\n    }\n</style>\n<table border=\"1\" class=\"dataframe\">\n  <thead>\n    <tr style=\"text-align: right;\">\n      <th></th>\n      <th>PassengerId</th>\n      <th>Survived</th>\n      <th>Pclass</th>\n      <th>Name</th>\n      <th>Sex</th>\n      <th>Age</th>\n      <th>SibSp</th>\n      <th>Parch</th>\n      <th>Ticket</th>\n      <th>Fare</th>\n      <th>Cabin</th>\n      <th>Embarked</th>\n    </tr>\n  </thead>\n  <tbody>\n    <tr>\n      <th>0</th>\n      <td>1</td>\n      <td>0</td>\n      <td>3</td>\n      <td>Braund, Mr. Owen Harris</td>\n      <td>male</td>\n      <td>22.0</td>\n      <td>1</td>\n      <td>0</td>\n      <td>A/5 21171</td>\n      <td>7.2500</td>\n      <td>NaN</td>\n      <td>S</td>\n    </tr>\n    <tr>\n      <th>1</th>\n      <td>2</td>\n      <td>1</td>\n      <td>1</td>\n      <td>Cumings, Mrs. John Bradley (Florence Briggs Th...</td>\n      <td>female</td>\n      <td>38.0</td>\n      <td>1</td>\n      <td>0</td>\n      <td>PC 17599</td>\n      <td>71.2833</td>\n      <td>C85</td>\n      <td>C</td>\n    </tr>\n    <tr>\n      <th>2</th>\n      <td>3</td>\n      <td>1</td>\n      <td>3</td>\n      <td>Heikkinen, Miss. Laina</td>\n      <td>female</td>\n      <td>26.0</td>\n      <td>0</td>\n      <td>0</td>\n      <td>STON/O2. 3101282</td>\n      <td>7.9250</td>\n      <td>NaN</td>\n      <td>S</td>\n    </tr>\n    <tr>\n      <th>3</th>\n      <td>4</td>\n      <td>1</td>\n      <td>1</td>\n      <td>Futrelle, Mrs. Jacques Heath (Lily May Peel)</td>\n      <td>female</td>\n      <td>35.0</td>\n      <td>1</td>\n      <td>0</td>\n      <td>113803</td>\n      <td>53.1000</td>\n      <td>C123</td>\n      <td>S</td>\n    </tr>\n    <tr>\n      <th>4</th>\n      <td>5</td>\n      <td>0</td>\n      <td>3</td>\n      <td>Allen, Mr. William Henry</td>\n      <td>male</td>\n      <td>35.0</td>\n      <td>0</td>\n      <td>0</td>\n      <td>373450</td>\n      <td>8.0500</td>\n      <td>NaN</td>\n      <td>S</td>\n    </tr>\n  </tbody>\n</table>\n</div>"
     },
     "execution_count": 8,
     "metadata": {},
     "output_type": "execute_result"
    }
   ],
   "source": [
    "full_df.head()"
   ]
  },
  {
   "cell_type": "code",
   "execution_count": 9,
   "id": "48b56a0e",
   "metadata": {
    "execution": {
     "iopub.execute_input": "2023-02-07T21:51:58.936984Z",
     "iopub.status.busy": "2023-02-07T21:51:58.936383Z",
     "iopub.status.idle": "2023-02-07T21:51:58.968452Z",
     "shell.execute_reply": "2023-02-07T21:51:58.967828Z"
    },
    "papermill": {
     "duration": 0.051383,
     "end_time": "2023-02-07T21:51:58.970476",
     "exception": false,
     "start_time": "2023-02-07T21:51:58.919093",
     "status": "completed"
    },
    "tags": []
   },
   "outputs": [
    {
     "name": "stdout",
     "output_type": "stream",
     "text": [
      "<class 'pandas.core.frame.DataFrame'>\n",
      "RangeIndex: 1309 entries, 0 to 1308\n",
      "Data columns (total 10 columns):\n",
      " #   Column    Non-Null Count  Dtype  \n",
      "---  ------    --------------  -----  \n",
      " 0   Pclass    1309 non-null   int64  \n",
      " 1   Name      1309 non-null   object \n",
      " 2   Sex       1309 non-null   object \n",
      " 3   Age       1046 non-null   float64\n",
      " 4   SibSp     1309 non-null   int64  \n",
      " 5   Parch     1309 non-null   int64  \n",
      " 6   Ticket    1309 non-null   object \n",
      " 7   Fare      1308 non-null   float64\n",
      " 8   Cabin     295 non-null    object \n",
      " 9   Embarked  1307 non-null   object \n",
      "dtypes: float64(2), int64(3), object(5)\n",
      "memory usage: 102.4+ KB\n"
     ]
    }
   ],
   "source": [
    "# Separate test_df PassengerId (will need it for submission)\n",
    "test_pass_id = test_df.pop('PassengerId')\n",
    "\n",
    "# Keep max index that will be used to back split training and test data\n",
    "X_max_index = full_df.shape[0]\n",
    "\n",
    "# Separate features and target\n",
    "y = full_df.Survived\n",
    "\n",
    "df = full_df.drop(['Survived', 'PassengerId'], axis=1)\n",
    "df = pd.concat([df, test_df], axis=0).reset_index(drop=True)\n",
    "\n",
    "df.info()"
   ]
  },
  {
   "cell_type": "markdown",
   "id": "b1a640cf",
   "metadata": {
    "papermill": {
     "duration": 0.015621,
     "end_time": "2023-02-07T21:51:59.002190",
     "exception": false,
     "start_time": "2023-02-07T21:51:58.986569",
     "status": "completed"
    },
    "tags": []
   },
   "source": [
    "- Some features need imputation\n",
    "- Cabin column has a lot of missing values, we will use the availble \n",
    "  values to create a new feature and will drop Cabin\n",
    "- We will create the feature Deck level, using the correlation between\n",
    "  Pclass and info deducted from Cabin column. We suppose that the deck \n",
    "  level could take a rol in survivability of the people as the lifeboats \n",
    "  were on the top level.\n",
    "- From Name we will keep just the last name and use it during creation \n",
    "  of Deck_level.\n",
    "- We will create the feature Title, extracting the title from Name column, \n",
    "  supposing that some people had priority for embarking lifeboats."
   ]
  },
  {
   "cell_type": "markdown",
   "id": "892a1d06",
   "metadata": {
    "papermill": {
     "duration": 0.015342,
     "end_time": "2023-02-07T21:51:59.033514",
     "exception": false,
     "start_time": "2023-02-07T21:51:59.018172",
     "status": "completed"
    },
    "tags": []
   },
   "source": [
    "**Unprocessed data correlation**\n",
    "\n"
   ]
  },
  {
   "cell_type": "code",
   "execution_count": 10,
   "id": "e5fe2fff",
   "metadata": {
    "execution": {
     "iopub.execute_input": "2023-02-07T21:51:59.068122Z",
     "iopub.status.busy": "2023-02-07T21:51:59.067767Z",
     "iopub.status.idle": "2023-02-07T21:51:59.078487Z",
     "shell.execute_reply": "2023-02-07T21:51:59.077460Z"
    },
    "papermill": {
     "duration": 0.030559,
     "end_time": "2023-02-07T21:51:59.080235",
     "exception": false,
     "start_time": "2023-02-07T21:51:59.049676",
     "status": "completed"
    },
    "tags": []
   },
   "outputs": [
    {
     "data": {
      "text/plain": "Survived       1.000000\nFare           0.257307\nParch          0.081629\nPassengerId   -0.005007\nSibSp         -0.035322\nAge           -0.077221\nPclass        -0.338481\nName: Survived, dtype: float64"
     },
     "execution_count": 10,
     "metadata": {},
     "output_type": "execute_result"
    }
   ],
   "source": [
    "full_df.corr()['Survived'].sort_values(ascending=False)"
   ]
  },
  {
   "cell_type": "markdown",
   "id": "7206f410",
   "metadata": {
    "papermill": {
     "duration": 0.016327,
     "end_time": "2023-02-07T21:51:59.113144",
     "exception": false,
     "start_time": "2023-02-07T21:51:59.096817",
     "status": "completed"
    },
    "tags": []
   },
   "source": [
    "- Fare and Pclass have the highest correlation to Survived, it seams higher class (also higher Fare) had priority to embarc the lifeboats.\n",
    "- Pclass has negative correlation because Pclass is numbered 1, 2, 3 (high, medium, low), but results to an invers survivability (class 3 = lower chance to survive, class 1 = higher chance)."
   ]
  },
  {
   "cell_type": "markdown",
   "id": "79ef6b6d",
   "metadata": {
    "papermill": {
     "duration": 0.015093,
     "end_time": "2023-02-07T21:51:59.143713",
     "exception": false,
     "start_time": "2023-02-07T21:51:59.128620",
     "status": "completed"
    },
    "tags": []
   },
   "source": [
    "**Features' instances**"
   ]
  },
  {
   "cell_type": "code",
   "execution_count": 11,
   "id": "e10a0b8c",
   "metadata": {
    "execution": {
     "iopub.execute_input": "2023-02-07T21:51:59.175858Z",
     "iopub.status.busy": "2023-02-07T21:51:59.175322Z",
     "iopub.status.idle": "2023-02-07T21:51:59.903155Z",
     "shell.execute_reply": "2023-02-07T21:51:59.902200Z"
    },
    "papermill": {
     "duration": 0.74636,
     "end_time": "2023-02-07T21:51:59.904886",
     "exception": false,
     "start_time": "2023-02-07T21:51:59.158526",
     "status": "completed"
    },
    "tags": []
   },
   "outputs": [
    {
     "data": {
      "text/plain": "<Figure size 864x576 with 6 Axes>",
      "image/png": "[encoded data removed]"
     },
     "metadata": {},
     "output_type": "display_data"
    }
   ],
   "source": [
    "df.hist(bins=30, figsize=(12, 8))\n",
    "plt.show()"
   ]
  },
  {
   "cell_type": "markdown",
   "id": "0e287f7d",
   "metadata": {
    "papermill": {
     "duration": 0.016372,
     "end_time": "2023-02-07T21:51:59.937972",
     "exception": false,
     "start_time": "2023-02-07T21:51:59.921600",
     "status": "completed"
    },
    "tags": []
   },
   "source": [
    "- Attributes have different scales\n",
    "- Some features are skewed right, we should check for outliers and normalize data\n",
    "- Fare has values of 0 that looks weird"
   ]
  },
  {
   "cell_type": "code",
   "execution_count": 12,
   "id": "e168ecb7",
   "metadata": {
    "execution": {
     "iopub.execute_input": "2023-02-07T21:51:59.972444Z",
     "iopub.status.busy": "2023-02-07T21:51:59.971839Z",
     "iopub.status.idle": "2023-02-07T21:51:59.976693Z",
     "shell.execute_reply": "2023-02-07T21:51:59.976137Z"
    },
    "papermill": {
     "duration": 0.023918,
     "end_time": "2023-02-07T21:51:59.978456",
     "exception": false,
     "start_time": "2023-02-07T21:51:59.954538",
     "status": "completed"
    },
    "tags": []
   },
   "outputs": [],
   "source": [
    "# Zero values in Fare we will consider as an error or outlier and will delete for further imputation\n",
    "df.loc[df.Fare == 0, 'Fare'] = np.nan"
   ]
  },
  {
   "cell_type": "markdown",
   "id": "2e90e9ef",
   "metadata": {
    "papermill": {
     "duration": 0.016081,
     "end_time": "2023-02-07T21:52:00.010943",
     "exception": false,
     "start_time": "2023-02-07T21:51:59.994862",
     "status": "completed"
    },
    "tags": []
   },
   "source": [
    "**Create Lastname feature**"
   ]
  },
  {
   "cell_type": "code",
   "execution_count": 13,
   "id": "8994cc27",
   "metadata": {
    "execution": {
     "iopub.execute_input": "2023-02-07T21:52:00.045236Z",
     "iopub.status.busy": "2023-02-07T21:52:00.044725Z",
     "iopub.status.idle": "2023-02-07T21:52:00.051917Z",
     "shell.execute_reply": "2023-02-07T21:52:00.051347Z"
    },
    "papermill": {
     "duration": 0.026454,
     "end_time": "2023-02-07T21:52:00.053683",
     "exception": false,
     "start_time": "2023-02-07T21:52:00.027229",
     "status": "completed"
    },
    "tags": []
   },
   "outputs": [],
   "source": [
    "df['Lastname'] = df.Name.str.split(', ').str[0]"
   ]
  },
  {
   "cell_type": "markdown",
   "id": "3ceb9334",
   "metadata": {
    "execution": {
     "iopub.execute_input": "2023-01-11T15:59:25.339772Z",
     "iopub.status.busy": "2023-01-11T15:59:25.336617Z",
     "iopub.status.idle": "2023-01-11T15:59:25.372076Z",
     "shell.execute_reply": "2023-01-11T15:59:25.371041Z",
     "shell.execute_reply.started": "2023-01-11T15:59:25.339713Z"
    },
    "papermill": {
     "duration": 0.015729,
     "end_time": "2023-02-07T21:52:00.086191",
     "exception": false,
     "start_time": "2023-02-07T21:52:00.070462",
     "status": "completed"
    },
    "tags": []
   },
   "source": [
    "**Create 'Title' feature**"
   ]
  },
  {
   "cell_type": "code",
   "execution_count": 14,
   "id": "c2498c27",
   "metadata": {
    "execution": {
     "iopub.execute_input": "2023-02-07T21:52:00.120654Z",
     "iopub.status.busy": "2023-02-07T21:52:00.120193Z",
     "iopub.status.idle": "2023-02-07T21:52:00.130796Z",
     "shell.execute_reply": "2023-02-07T21:52:00.129175Z"
    },
    "papermill": {
     "duration": 0.030482,
     "end_time": "2023-02-07T21:52:00.133191",
     "exception": false,
     "start_time": "2023-02-07T21:52:00.102709",
     "status": "completed"
    },
    "tags": []
   },
   "outputs": [],
   "source": [
    "# Extracting the Title from Name column\n",
    "df['Title'] = df.Name.str.split(', ').str[1]\n",
    "df['Title'] = df.Title.str.split('.').str[0]"
   ]
  },
  {
   "cell_type": "code",
   "execution_count": 15,
   "id": "6cb4027d",
   "metadata": {
    "execution": {
     "iopub.execute_input": "2023-02-07T21:52:00.168503Z",
     "iopub.status.busy": "2023-02-07T21:52:00.168160Z",
     "iopub.status.idle": "2023-02-07T21:52:00.176877Z",
     "shell.execute_reply": "2023-02-07T21:52:00.175499Z"
    },
    "papermill": {
     "duration": 0.029227,
     "end_time": "2023-02-07T21:52:00.179416",
     "exception": false,
     "start_time": "2023-02-07T21:52:00.150189",
     "status": "completed"
    },
    "tags": []
   },
   "outputs": [
    {
     "data": {
      "text/plain": "Mr              757\nMiss            260\nMrs             197\nMaster           61\nRev               8\nDr                8\nCol               4\nMlle              2\nMajor             2\nMs                2\nLady              1\nSir               1\nMme               1\nDon               1\nCapt              1\nthe Countess      1\nJonkheer          1\nDona              1\nName: Title, dtype: int64"
     },
     "execution_count": 15,
     "metadata": {},
     "output_type": "execute_result"
    }
   ],
   "source": [
    "# Analyze titles\n",
    "df.Title.value_counts()"
   ]
  },
  {
   "cell_type": "markdown",
   "id": "1820dcf7",
   "metadata": {
    "papermill": {
     "duration": 0.016064,
     "end_time": "2023-02-07T21:52:00.212300",
     "exception": false,
     "start_time": "2023-02-07T21:52:00.196236",
     "status": "completed"
    },
    "tags": []
   },
   "source": [
    "There are some title with the same meaning that should be joined together and also many unique titles that we will group under the title 'Noble'"
   ]
  },
  {
   "cell_type": "code",
   "execution_count": 16,
   "id": "a3491b07",
   "metadata": {
    "execution": {
     "iopub.execute_input": "2023-02-07T21:52:00.247676Z",
     "iopub.status.busy": "2023-02-07T21:52:00.246519Z",
     "iopub.status.idle": "2023-02-07T21:52:00.260443Z",
     "shell.execute_reply": "2023-02-07T21:52:00.259306Z"
    },
    "papermill": {
     "duration": 0.033852,
     "end_time": "2023-02-07T21:52:00.262524",
     "exception": false,
     "start_time": "2023-02-07T21:52:00.228672",
     "status": "completed"
    },
    "tags": []
   },
   "outputs": [
    {
     "data": {
      "text/plain": "count    581.000000\nmean      32.252151\nstd       12.422089\nmin       11.000000\n25%       23.000000\n50%       29.000000\n75%       39.000000\nmax       80.000000\nName: Age, dtype: float64"
     },
     "execution_count": 16,
     "metadata": {},
     "output_type": "execute_result"
    }
   ],
   "source": [
    "# Analyze the title Mr and the Age\n",
    "df[df.Title == 'Mr'].Age.describe()"
   ]
  },
  {
   "cell_type": "code",
   "execution_count": 17,
   "id": "06e185eb",
   "metadata": {
    "execution": {
     "iopub.execute_input": "2023-02-07T21:52:00.300377Z",
     "iopub.status.busy": "2023-02-07T21:52:00.299139Z",
     "iopub.status.idle": "2023-02-07T21:52:00.310930Z",
     "shell.execute_reply": "2023-02-07T21:52:00.309305Z"
    },
    "papermill": {
     "duration": 0.03253,
     "end_time": "2023-02-07T21:52:00.313618",
     "exception": false,
     "start_time": "2023-02-07T21:52:00.281088",
     "status": "completed"
    },
    "tags": []
   },
   "outputs": [
    {
     "data": {
      "text/plain": "count    53.000000\nmean      5.482642\nstd       4.161554\nmin       0.330000\n25%       2.000000\n50%       4.000000\n75%       9.000000\nmax      14.500000\nName: Age, dtype: float64"
     },
     "execution_count": 17,
     "metadata": {},
     "output_type": "execute_result"
    }
   ],
   "source": [
    "# Analyze the title Master and the Age\n",
    "df[df.Title == 'Master'].Age.describe()"
   ]
  },
  {
   "cell_type": "markdown",
   "id": "474e7e0f",
   "metadata": {
    "papermill": {
     "duration": 0.016712,
     "end_time": "2023-02-07T21:52:00.347677",
     "exception": false,
     "start_time": "2023-02-07T21:52:00.330965",
     "status": "completed"
    },
    "tags": []
   },
   "source": [
    "Title Mr was used from 11 years old and Master to maximum 15 years old. \n",
    "Master is an antiquated title for an underage male.\n",
    "We will join them together and then split again at age 18 to have a clean delimeter."
   ]
  },
  {
   "cell_type": "code",
   "execution_count": 18,
   "id": "51dcfc72",
   "metadata": {
    "execution": {
     "iopub.execute_input": "2023-02-07T21:52:00.384529Z",
     "iopub.status.busy": "2023-02-07T21:52:00.384217Z",
     "iopub.status.idle": "2023-02-07T21:52:00.396688Z",
     "shell.execute_reply": "2023-02-07T21:52:00.395347Z"
    },
    "papermill": {
     "duration": 0.033641,
     "end_time": "2023-02-07T21:52:00.399182",
     "exception": false,
     "start_time": "2023-02-07T21:52:00.365541",
     "status": "completed"
    },
    "tags": []
   },
   "outputs": [],
   "source": [
    "# Grouping the same type titles \n",
    "\n",
    "# We change also Miss to Mrs, but later we will convert back \n",
    "# to Miss just for underage females as for now Miss is not \n",
    "# very usefull as it represents a young lady and also \n",
    "# an unmarried adult one of any age\n",
    "females = ['Ms', 'Miss', 'Mlle', 'Mrs', 'Mme']\n",
    "df.loc[df.Title.isin(females), 'Title'] = 'Mrs'\n",
    "\n",
    "males = ['Master', 'Mr']\n",
    "df.loc[(df.Title.isin(males)), 'Title'] = 'Mr'\n",
    "\n",
    "# Change the titles for underage persons to Master and Miss\n",
    "df.loc[((df.Title == 'Mr') & (df.Age < 18)), 'Title'] = 'Master'\n",
    "df.loc[((df.Title == 'Mrs') & (df.Age < 18)), 'Title'] = 'Miss'\n",
    "\n",
    "# Create noble title\n",
    "df.loc[(~df.Title.isin(females) & ~df.Title.isin(males)), 'Title'] = 'Noble'"
   ]
  },
  {
   "cell_type": "markdown",
   "id": "9582ce3f",
   "metadata": {
    "papermill": {
     "duration": 0.016656,
     "end_time": "2023-02-07T21:52:00.432909",
     "exception": false,
     "start_time": "2023-02-07T21:52:00.416253",
     "status": "completed"
    },
    "tags": []
   },
   "source": [
    "**Create Price feature**\n",
    "\n",
    "We should divide the Fare by number of passengers on the same ticket"
   ]
  },
  {
   "cell_type": "code",
   "execution_count": 19,
   "id": "c9b3d337",
   "metadata": {
    "execution": {
     "iopub.execute_input": "2023-02-07T21:52:00.467770Z",
     "iopub.status.busy": "2023-02-07T21:52:00.467461Z",
     "iopub.status.idle": "2023-02-07T21:52:00.485348Z",
     "shell.execute_reply": "2023-02-07T21:52:00.483443Z"
    },
    "papermill": {
     "duration": 0.037316,
     "end_time": "2023-02-07T21:52:00.487240",
     "exception": false,
     "start_time": "2023-02-07T21:52:00.449924",
     "status": "completed"
    },
    "tags": []
   },
   "outputs": [
    {
     "data": {
      "text/plain": "1"
     },
     "execution_count": 19,
     "metadata": {},
     "output_type": "execute_result"
    }
   ],
   "source": [
    "# Analyze Fare by ticket number\n",
    "# Just to be sure that the Fare represents the full price \n",
    "# of the ticket and not the price per person\n",
    "\n",
    "# Split Ticket by series and number\n",
    "df['Ticket_series'] = [i[0] if len(i) > 1 else 0 for i in df.Ticket.str.split()]\n",
    "df['Ticket_nr'] = [i[-1] for i in df.Ticket.str.split()]\n",
    "\n",
    "# Check if Fare min and Fare max of the same ticket number are the same\n",
    "df_fare = df[~df.Fare.isna()]\n",
    "multi_tickets = df_fare.groupby(df_fare.Ticket_nr[df_fare.Ticket_nr.duplicated()])\n",
    "(multi_tickets.Fare.min() != multi_tickets.Fare.max()).sum()"
   ]
  },
  {
   "cell_type": "markdown",
   "id": "a8530521",
   "metadata": {
    "execution": {
     "iopub.execute_input": "2023-02-04T20:10:52.855161Z",
     "iopub.status.busy": "2023-02-04T20:10:52.854685Z",
     "iopub.status.idle": "2023-02-04T20:10:52.865727Z",
     "shell.execute_reply": "2023-02-04T20:10:52.864764Z",
     "shell.execute_reply.started": "2023-02-04T20:10:52.855120Z"
    },
    "papermill": {
     "duration": 0.017567,
     "end_time": "2023-02-07T21:52:00.522597",
     "exception": false,
     "start_time": "2023-02-07T21:52:00.505030",
     "status": "completed"
    },
    "tags": []
   },
   "source": [
    "There is just 1 ticket where min and max don't corespond, we will ignore it as a mistake"
   ]
  },
  {
   "cell_type": "code",
   "execution_count": 20,
   "id": "b63e056d",
   "metadata": {
    "execution": {
     "iopub.execute_input": "2023-02-07T21:52:00.559731Z",
     "iopub.status.busy": "2023-02-07T21:52:00.558962Z",
     "iopub.status.idle": "2023-02-07T21:52:00.570073Z",
     "shell.execute_reply": "2023-02-07T21:52:00.568770Z"
    },
    "papermill": {
     "duration": 0.031989,
     "end_time": "2023-02-07T21:52:00.572327",
     "exception": false,
     "start_time": "2023-02-07T21:52:00.540338",
     "status": "completed"
    },
    "tags": []
   },
   "outputs": [],
   "source": [
    "# Create a column with the passengers number by ticket \n",
    "ticket_dict = df.groupby('Ticket_nr').Lastname.count().to_dict()\n",
    "df['Passengers_ticket'] = df.Ticket_nr.map(ticket_dict)\n",
    "\n",
    "# Create Price column\n",
    "df['Price'] = (df.Fare / df.Passengers_ticket).round()"
   ]
  },
  {
   "cell_type": "markdown",
   "id": "b36bd3c8",
   "metadata": {
    "papermill": {
     "duration": 0.016146,
     "end_time": "2023-02-07T21:52:00.605396",
     "exception": false,
     "start_time": "2023-02-07T21:52:00.589250",
     "status": "completed"
    },
    "tags": []
   },
   "source": [
    "**Create Deck feature**\n",
    "\n",
    "This will have the deck letter"
   ]
  },
  {
   "cell_type": "code",
   "execution_count": 21,
   "id": "1ab3eb7b",
   "metadata": {
    "execution": {
     "iopub.execute_input": "2023-02-07T21:52:00.642284Z",
     "iopub.status.busy": "2023-02-07T21:52:00.641930Z",
     "iopub.status.idle": "2023-02-07T21:52:00.651542Z",
     "shell.execute_reply": "2023-02-07T21:52:00.650544Z"
    },
    "papermill": {
     "duration": 0.031487,
     "end_time": "2023-02-07T21:52:00.654056",
     "exception": false,
     "start_time": "2023-02-07T21:52:00.622569",
     "status": "completed"
    },
    "tags": []
   },
   "outputs": [
    {
     "data": {
      "text/plain": "1014"
     },
     "execution_count": 21,
     "metadata": {},
     "output_type": "execute_result"
    }
   ],
   "source": [
    "# Extract Deck letter from Cabin column\n",
    "df['Deck'] = df.Cabin.str[0]\n",
    "\n",
    "# Check how many missing values we have at this step\n",
    "df.Deck.isna().sum()"
   ]
  },
  {
   "cell_type": "code",
   "execution_count": 22,
   "id": "4e21867d",
   "metadata": {
    "execution": {
     "iopub.execute_input": "2023-02-07T21:52:00.690695Z",
     "iopub.status.busy": "2023-02-07T21:52:00.690343Z",
     "iopub.status.idle": "2023-02-07T21:52:00.700141Z",
     "shell.execute_reply": "2023-02-07T21:52:00.698685Z"
    },
    "papermill": {
     "duration": 0.030699,
     "end_time": "2023-02-07T21:52:00.702062",
     "exception": false,
     "start_time": "2023-02-07T21:52:00.671363",
     "status": "completed"
    },
    "tags": []
   },
   "outputs": [
    {
     "data": {
      "text/plain": "Pclass  Deck\n1       C       94\n        B       65\n        D       40\n        E       34\n        A       22\n        T        1\n2       F       13\n        D        6\n        E        4\n3       F        8\n        G        5\n        E        3\nName: Deck, dtype: int64"
     },
     "execution_count": 22,
     "metadata": {},
     "output_type": "execute_result"
    }
   ],
   "source": [
    "# Deck distribution by Pclass\n",
    "df.groupby('Pclass').Deck.value_counts()"
   ]
  },
  {
   "cell_type": "code",
   "execution_count": 23,
   "id": "704b9c55",
   "metadata": {
    "execution": {
     "iopub.execute_input": "2023-02-07T21:52:00.739319Z",
     "iopub.status.busy": "2023-02-07T21:52:00.738984Z",
     "iopub.status.idle": "2023-02-07T21:52:00.746427Z",
     "shell.execute_reply": "2023-02-07T21:52:00.745549Z"
    },
    "papermill": {
     "duration": 0.028569,
     "end_time": "2023-02-07T21:52:00.748070",
     "exception": false,
     "start_time": "2023-02-07T21:52:00.719501",
     "status": "completed"
    },
    "tags": []
   },
   "outputs": [
    {
     "data": {
      "text/plain": "3    693\n2    254\n1     67\nName: Pclass, dtype: int64"
     },
     "execution_count": 23,
     "metadata": {},
     "output_type": "execute_result"
    }
   ],
   "source": [
    "# Deck missing values by Pclass\n",
    "df.loc[df.Deck.isna(), 'Pclass'].value_counts()"
   ]
  },
  {
   "cell_type": "markdown",
   "id": "f6b4555b",
   "metadata": {
    "papermill": {
     "duration": 0.016924,
     "end_time": "2023-02-07T21:52:00.781460",
     "exception": false,
     "start_time": "2023-02-07T21:52:00.764536",
     "status": "completed"
    },
    "tags": []
   },
   "source": [
    "- On the 1st step we will impute the Deck letter based on Ticket_nr, if the same Ticket_nr has already an available \n",
    "  value for Deck in other rows\n",
    "  \n",
    "- On the 2nd step we will impute based on Lastname using the same method as in the first step, but to be sure that \n",
    "  the passengers are not from different families with the same Lastname we will use some filters in the process.\n",
    "\n",
    "- On the 3rd step we will impute based on Pclass, as every Pclass was on separate Deck with some intersections between \n",
    "  (some googling confirms that class-deck distribution corresponds to our Deck distribution by Pclass analysis). \n",
    "  To improve the accuracy we will check also the mean Price for each Pclass-Deck group to determine the Deck. "
   ]
  },
  {
   "cell_type": "code",
   "execution_count": 24,
   "id": "b757a552",
   "metadata": {
    "execution": {
     "iopub.execute_input": "2023-02-07T21:52:00.818839Z",
     "iopub.status.busy": "2023-02-07T21:52:00.818535Z",
     "iopub.status.idle": "2023-02-07T21:52:00.825787Z",
     "shell.execute_reply": "2023-02-07T21:52:00.824590Z"
    },
    "papermill": {
     "duration": 0.028079,
     "end_time": "2023-02-07T21:52:00.827555",
     "exception": false,
     "start_time": "2023-02-07T21:52:00.799476",
     "status": "completed"
    },
    "tags": []
   },
   "outputs": [],
   "source": [
    "# Function for imputing Deck\n",
    "def impute_deck_by(feature):\n",
    "    for pclass in range(1, 4):\n",
    "        # Create a mapping dictionary\n",
    "        map_dic = (df[~df.Deck.isna() \n",
    "                      & (df.Pclass == pclass)]\n",
    "                       .groupby(feature)\n",
    "                       .Deck.unique()\n",
    "                       .apply(list).to_dict())\n",
    "\n",
    "        # Keep just the keys with a single deck to avoid \n",
    "        # the same key on different decks\n",
    "        map_dic = {i:j[0] for i, j in map_dic.items() \n",
    "                   if len(j) == 1}\n",
    "\n",
    "        # Imputing Deck from map_dic\n",
    "        df.loc[df.Deck.isna() & (df.Pclass == pclass), \n",
    "               'Deck'] = df[feature].map(map_dic)\n",
    "\n",
    "    # Check how many missing values we have at this step\n",
    "    print(df.Deck.isna().sum())"
   ]
  },
  {
   "cell_type": "code",
   "execution_count": 25,
   "id": "790c0833",
   "metadata": {
    "execution": {
     "iopub.execute_input": "2023-02-07T21:52:00.863985Z",
     "iopub.status.busy": "2023-02-07T21:52:00.863643Z",
     "iopub.status.idle": "2023-02-07T21:52:00.889290Z",
     "shell.execute_reply": "2023-02-07T21:52:00.887853Z"
    },
    "papermill": {
     "duration": 0.046751,
     "end_time": "2023-02-07T21:52:00.891456",
     "exception": false,
     "start_time": "2023-02-07T21:52:00.844705",
     "status": "completed"
    },
    "tags": []
   },
   "outputs": [
    {
     "name": "stdout",
     "output_type": "stream",
     "text": [
      "997\n"
     ]
    }
   ],
   "source": [
    "impute_deck_by('Ticket_nr')"
   ]
  },
  {
   "cell_type": "code",
   "execution_count": 26,
   "id": "a6809a17",
   "metadata": {
    "execution": {
     "iopub.execute_input": "2023-02-07T21:52:00.926514Z",
     "iopub.status.busy": "2023-02-07T21:52:00.925296Z",
     "iopub.status.idle": "2023-02-07T21:52:00.956202Z",
     "shell.execute_reply": "2023-02-07T21:52:00.955023Z"
    },
    "papermill": {
     "duration": 0.050401,
     "end_time": "2023-02-07T21:52:00.958734",
     "exception": false,
     "start_time": "2023-02-07T21:52:00.908333",
     "status": "completed"
    },
    "tags": []
   },
   "outputs": [
    {
     "name": "stdout",
     "output_type": "stream",
     "text": [
      "989\n"
     ]
    }
   ],
   "source": [
    "impute_deck_by('Lastname')"
   ]
  },
  {
   "cell_type": "markdown",
   "id": "9cb718df",
   "metadata": {
    "papermill": {
     "duration": 0.017346,
     "end_time": "2023-02-07T21:52:00.993400",
     "exception": false,
     "start_time": "2023-02-07T21:52:00.976054",
     "status": "completed"
    },
    "tags": []
   },
   "source": [
    "We have recovered 25 values, not much, but they correspond to reality,\n",
    "the rest we will impute later based on Pclass and Price as mentioned earlier."
   ]
  },
  {
   "cell_type": "markdown",
   "id": "40408009",
   "metadata": {
    "papermill": {
     "duration": 0.017077,
     "end_time": "2023-02-07T21:52:01.027736",
     "exception": false,
     "start_time": "2023-02-07T21:52:01.010659",
     "status": "completed"
    },
    "tags": []
   },
   "source": [
    "**Analyze and impute missing prices**\n",
    "\n",
    "We impute prices first as there are less missing values in Price than in Deck and we use them both for imputation"
   ]
  },
  {
   "cell_type": "code",
   "execution_count": 27,
   "id": "f6f91197",
   "metadata": {
    "execution": {
     "iopub.execute_input": "2023-02-07T21:52:01.064079Z",
     "iopub.status.busy": "2023-02-07T21:52:01.063490Z",
     "iopub.status.idle": "2023-02-07T21:52:01.108622Z",
     "shell.execute_reply": "2023-02-07T21:52:01.107078Z"
    },
    "papermill": {
     "duration": 0.065945,
     "end_time": "2023-02-07T21:52:01.110666",
     "exception": false,
     "start_time": "2023-02-07T21:52:01.044721",
     "status": "completed"
    },
    "tags": []
   },
   "outputs": [
    {
     "data": {
      "text/plain": "             count       mean        std   min    25%   50%   75%    max\nPclass Deck                                                             \n1      A      21.0  32.857143   7.066015  26.0  28.00  30.0  36.0   50.0\n       B      65.0  43.030769  25.892789   5.0  29.00  37.0  46.0  128.0\n       C     105.0  35.809524   9.686524  25.0  28.00  34.0  42.0   68.0\n       D      42.0  31.904762   9.714986  20.0  26.00  27.5  38.0   67.0\n       E      35.0  26.342857   5.058149   9.0  26.50  27.0  28.0   38.0\n       T       1.0  36.000000        NaN  36.0  36.00  36.0  36.0   36.0\n2      D       6.0  13.666667   0.816497  13.0  13.00  13.5  14.0   15.0\n       E       6.0   9.500000   3.619392   5.0   6.25  11.0  12.0   13.0\n       F      16.0  10.937500   1.691892   9.0  10.00  10.0  13.0   13.0\n3      E       3.0   6.666667   1.154701   6.0   6.00   6.0   7.0    8.0\n       F      11.0   7.545455   0.522233   7.0   7.00   8.0   8.0    8.0\n       G       5.0   5.600000   0.547723   5.0   5.00   6.0   6.0    6.0",
      "text/html": "<div>\n<style scoped>\n    .dataframe tbody tr th:only-of-type {\n        vertical-align: middle;\n    }\n\n    .dataframe tbody tr th {\n        vertical-align: top;\n    }\n\n    .dataframe thead th {\n        text-align: right;\n    }\n</style>\n<table border=\"1\" class=\"dataframe\">\n  <thead>\n    <tr style=\"text-align: right;\">\n      <th></th>\n      <th></th>\n      <th>count</th>\n      <th>mean</th>\n      <th>std</th>\n      <th>min</th>\n      <th>25%</th>\n      <th>50%</th>\n      <th>75%</th>\n      <th>max</th>\n    </tr>\n    <tr>\n      <th>Pclass</th>\n      <th>Deck</th>\n      <th></th>\n      <th></th>\n      <th></th>\n      <th></th>\n      <th></th>\n      <th></th>\n      <th></th>\n      <th></th>\n    </tr>\n  </thead>\n  <tbody>\n    <tr>\n      <th rowspan=\"6\" valign=\"top\">1</th>\n      <th>A</th>\n      <td>21.0</td>\n      <td>32.857143</td>\n      <td>7.066015</td>\n      <td>26.0</td>\n      <td>28.00</td>\n      <td>30.0</td>\n      <td>36.0</td>\n      <td>50.0</td>\n    </tr>\n    <tr>\n      <th>B</th>\n      <td>65.0</td>\n      <td>43.030769</td>\n      <td>25.892789</td>\n      <td>5.0</td>\n      <td>29.00</td>\n      <td>37.0</td>\n      <td>46.0</td>\n      <td>128.0</td>\n    </tr>\n    <tr>\n      <th>C</th>\n      <td>105.0</td>\n      <td>35.809524</td>\n      <td>9.686524</td>\n      <td>25.0</td>\n      <td>28.00</td>\n      <td>34.0</td>\n      <td>42.0</td>\n      <td>68.0</td>\n    </tr>\n    <tr>\n      <th>D</th>\n      <td>42.0</td>\n      <td>31.904762</td>\n      <td>9.714986</td>\n      <td>20.0</td>\n      <td>26.00</td>\n      <td>27.5</td>\n      <td>38.0</td>\n      <td>67.0</td>\n    </tr>\n    <tr>\n      <th>E</th>\n      <td>35.0</td>\n      <td>26.342857</td>\n      <td>5.058149</td>\n      <td>9.0</td>\n      <td>26.50</td>\n      <td>27.0</td>\n      <td>28.0</td>\n      <td>38.0</td>\n    </tr>\n    <tr>\n      <th>T</th>\n      <td>1.0</td>\n      <td>36.000000</td>\n      <td>NaN</td>\n      <td>36.0</td>\n      <td>36.00</td>\n      <td>36.0</td>\n      <td>36.0</td>\n      <td>36.0</td>\n    </tr>\n    <tr>\n      <th rowspan=\"3\" valign=\"top\">2</th>\n      <th>D</th>\n      <td>6.0</td>\n      <td>13.666667</td>\n      <td>0.816497</td>\n      <td>13.0</td>\n      <td>13.00</td>\n      <td>13.5</td>\n      <td>14.0</td>\n      <td>15.0</td>\n    </tr>\n    <tr>\n      <th>E</th>\n      <td>6.0</td>\n      <td>9.500000</td>\n      <td>3.619392</td>\n      <td>5.0</td>\n      <td>6.25</td>\n      <td>11.0</td>\n      <td>12.0</td>\n      <td>13.0</td>\n    </tr>\n    <tr>\n      <th>F</th>\n      <td>16.0</td>\n      <td>10.937500</td>\n      <td>1.691892</td>\n      <td>9.0</td>\n      <td>10.00</td>\n      <td>10.0</td>\n      <td>13.0</td>\n      <td>13.0</td>\n    </tr>\n    <tr>\n      <th rowspan=\"3\" valign=\"top\">3</th>\n      <th>E</th>\n      <td>3.0</td>\n      <td>6.666667</td>\n      <td>1.154701</td>\n      <td>6.0</td>\n      <td>6.00</td>\n      <td>6.0</td>\n      <td>7.0</td>\n      <td>8.0</td>\n    </tr>\n    <tr>\n      <th>F</th>\n      <td>11.0</td>\n      <td>7.545455</td>\n      <td>0.522233</td>\n      <td>7.0</td>\n      <td>7.00</td>\n      <td>8.0</td>\n      <td>8.0</td>\n      <td>8.0</td>\n    </tr>\n    <tr>\n      <th>G</th>\n      <td>5.0</td>\n      <td>5.600000</td>\n      <td>0.547723</td>\n      <td>5.0</td>\n      <td>5.00</td>\n      <td>6.0</td>\n      <td>6.0</td>\n      <td>6.0</td>\n    </tr>\n  </tbody>\n</table>\n</div>"
     },
     "execution_count": 27,
     "metadata": {},
     "output_type": "execute_result"
    }
   ],
   "source": [
    "# Analyze Price by Deck and Pclass\n",
    "df.groupby(['Pclass', 'Deck']).Price.describe()"
   ]
  },
  {
   "cell_type": "markdown",
   "id": "09a9b049",
   "metadata": {
    "papermill": {
     "duration": 0.017019,
     "end_time": "2023-02-07T21:52:01.145175",
     "exception": false,
     "start_time": "2023-02-07T21:52:01.128156",
     "status": "completed"
    },
    "tags": []
   },
   "source": [
    "Very large standard deviation in Pclass 1, Deck B comparing to others, we should analyze this. Also we will take a look into Deck C"
   ]
  },
  {
   "cell_type": "code",
   "execution_count": 28,
   "id": "16d5e558",
   "metadata": {
    "execution": {
     "iopub.execute_input": "2023-02-07T21:52:01.181977Z",
     "iopub.status.busy": "2023-02-07T21:52:01.181442Z",
     "iopub.status.idle": "2023-02-07T21:52:01.185859Z",
     "shell.execute_reply": "2023-02-07T21:52:01.185262Z"
    },
    "papermill": {
     "duration": 0.025687,
     "end_time": "2023-02-07T21:52:01.188250",
     "exception": false,
     "start_time": "2023-02-07T21:52:01.162563",
     "status": "completed"
    },
    "tags": []
   },
   "outputs": [],
   "source": [
    "# Cabin T was on the upper deck (google helps), \n",
    "# so we will replace it with A deck as it has just a single value\n",
    "df.loc[df.Deck == 'T', 'Deck'] = 'A'"
   ]
  },
  {
   "cell_type": "code",
   "execution_count": 29,
   "id": "2c659569",
   "metadata": {
    "execution": {
     "iopub.execute_input": "2023-02-07T21:52:01.225141Z",
     "iopub.status.busy": "2023-02-07T21:52:01.224624Z",
     "iopub.status.idle": "2023-02-07T21:52:01.241298Z",
     "shell.execute_reply": "2023-02-07T21:52:01.240377Z"
    },
    "papermill": {
     "duration": 0.036942,
     "end_time": "2023-02-07T21:52:01.242938",
     "exception": false,
     "start_time": "2023-02-07T21:52:01.205996",
     "status": "completed"
    },
    "tags": []
   },
   "outputs": [
    {
     "data": {
      "text/plain": "      Pclass                                       Name     Sex   Age  SibSp  \\\n872        1                   Carlsson, Mr. Frans Olof    male  33.0      0   \n690        1                    Dick, Mr. Albert Adrian    male  31.0      1   \n781        1  Dick, Mrs. Albert Adrian (Vera Gillespie)  female  17.0      1   \n1199       1                 Hays, Mr. Charles Melville    male  55.0      1   \n1281       1                 Payne, Mr. Vivian Ponsonby    male  23.0      0   \n\n      Parch Ticket  Fare        Cabin Embarked  Lastname Title Ticket_series  \\\n872       0    695   5.0  B51 B53 B55        S  Carlsson    Mr             0   \n690       0  17474  57.0          B20        S      Dick    Mr             0   \n781       0  17474  57.0          B20        S      Dick  Miss             0   \n1199      1  12749  93.5          B69        S      Hays    Mr             0   \n1281      0  12749  93.5          B24        S     Payne    Mr             0   \n\n     Ticket_nr  Passengers_ticket  Price Deck  \n872        695                  1    5.0    B  \n690      17474                  3   19.0    B  \n781      17474                  3   19.0    B  \n1199     12749                  4   23.0    B  \n1281     12749                  4   23.0    B  ",
      "text/html": "<div>\n<style scoped>\n    .dataframe tbody tr th:only-of-type {\n        vertical-align: middle;\n    }\n\n    .dataframe tbody tr th {\n        vertical-align: top;\n    }\n\n    .dataframe thead th {\n        text-align: right;\n    }\n</style>\n<table border=\"1\" class=\"dataframe\">\n  <thead>\n    <tr style=\"text-align: right;\">\n      <th></th>\n      <th>Pclass</th>\n      <th>Name</th>\n      <th>Sex</th>\n      <th>Age</th>\n      <th>SibSp</th>\n      <th>Parch</th>\n      <th>Ticket</th>\n      <th>Fare</th>\n      <th>Cabin</th>\n      <th>Embarked</th>\n      <th>Lastname</th>\n      <th>Title</th>\n      <th>Ticket_series</th>\n      <th>Ticket_nr</th>\n      <th>Passengers_ticket</th>\n      <th>Price</th>\n      <th>Deck</th>\n    </tr>\n  </thead>\n  <tbody>\n    <tr>\n      <th>872</th>\n      <td>1</td>\n      <td>Carlsson, Mr. Frans Olof</td>\n      <td>male</td>\n      <td>33.0</td>\n      <td>0</td>\n      <td>0</td>\n      <td>695</td>\n      <td>5.0</td>\n      <td>B51 B53 B55</td>\n      <td>S</td>\n      <td>Carlsson</td>\n      <td>Mr</td>\n      <td>0</td>\n      <td>695</td>\n      <td>1</td>\n      <td>5.0</td>\n      <td>B</td>\n    </tr>\n    <tr>\n      <th>690</th>\n      <td>1</td>\n      <td>Dick, Mr. Albert Adrian</td>\n      <td>male</td>\n      <td>31.0</td>\n      <td>1</td>\n      <td>0</td>\n      <td>17474</td>\n      <td>57.0</td>\n      <td>B20</td>\n      <td>S</td>\n      <td>Dick</td>\n      <td>Mr</td>\n      <td>0</td>\n      <td>17474</td>\n      <td>3</td>\n      <td>19.0</td>\n      <td>B</td>\n    </tr>\n    <tr>\n      <th>781</th>\n      <td>1</td>\n      <td>Dick, Mrs. Albert Adrian (Vera Gillespie)</td>\n      <td>female</td>\n      <td>17.0</td>\n      <td>1</td>\n      <td>0</td>\n      <td>17474</td>\n      <td>57.0</td>\n      <td>B20</td>\n      <td>S</td>\n      <td>Dick</td>\n      <td>Miss</td>\n      <td>0</td>\n      <td>17474</td>\n      <td>3</td>\n      <td>19.0</td>\n      <td>B</td>\n    </tr>\n    <tr>\n      <th>1199</th>\n      <td>1</td>\n      <td>Hays, Mr. Charles Melville</td>\n      <td>male</td>\n      <td>55.0</td>\n      <td>1</td>\n      <td>1</td>\n      <td>12749</td>\n      <td>93.5</td>\n      <td>B69</td>\n      <td>S</td>\n      <td>Hays</td>\n      <td>Mr</td>\n      <td>0</td>\n      <td>12749</td>\n      <td>4</td>\n      <td>23.0</td>\n      <td>B</td>\n    </tr>\n    <tr>\n      <th>1281</th>\n      <td>1</td>\n      <td>Payne, Mr. Vivian Ponsonby</td>\n      <td>male</td>\n      <td>23.0</td>\n      <td>0</td>\n      <td>0</td>\n      <td>12749</td>\n      <td>93.5</td>\n      <td>B24</td>\n      <td>S</td>\n      <td>Payne</td>\n      <td>Mr</td>\n      <td>0</td>\n      <td>12749</td>\n      <td>4</td>\n      <td>23.0</td>\n      <td>B</td>\n    </tr>\n  </tbody>\n</table>\n</div>"
     },
     "execution_count": 29,
     "metadata": {},
     "output_type": "execute_result"
    }
   ],
   "source": [
    "# Check the cheapest prices for Deck B\n",
    "df[df.Deck == 'B'].sort_values('Price').head()"
   ]
  },
  {
   "cell_type": "code",
   "execution_count": 30,
   "id": "48747ee5",
   "metadata": {
    "execution": {
     "iopub.execute_input": "2023-02-07T21:52:01.279841Z",
     "iopub.status.busy": "2023-02-07T21:52:01.279297Z",
     "iopub.status.idle": "2023-02-07T21:52:01.283713Z",
     "shell.execute_reply": "2023-02-07T21:52:01.283145Z"
    },
    "papermill": {
     "duration": 0.02487,
     "end_time": "2023-02-07T21:52:01.285322",
     "exception": false,
     "start_time": "2023-02-07T21:52:01.260452",
     "status": "completed"
    },
    "tags": []
   },
   "outputs": [],
   "source": [
    "# Maybe Mr Carlsson paid just 5 pounds for that 1st class ticket, \n",
    "# but this value is an outlier that we will replace with the next min\n",
    "df.loc[(df.Ticket_nr == '695'), 'Price'] = 19"
   ]
  },
  {
   "cell_type": "code",
   "execution_count": 31,
   "id": "5b51e8fd",
   "metadata": {
    "execution": {
     "iopub.execute_input": "2023-02-07T21:52:01.323831Z",
     "iopub.status.busy": "2023-02-07T21:52:01.323322Z",
     "iopub.status.idle": "2023-02-07T21:52:01.341828Z",
     "shell.execute_reply": "2023-02-07T21:52:01.341239Z"
    },
    "papermill": {
     "duration": 0.03942,
     "end_time": "2023-02-07T21:52:01.343516",
     "exception": false,
     "start_time": "2023-02-07T21:52:01.304096",
     "status": "completed"
    },
    "tags": []
   },
   "outputs": [
    {
     "data": {
      "text/plain": "      Pclass                                               Name     Sex   Age  \\\n1234       1  Cardeza, Mrs. James Warburton Martinez (Charlo...  female  58.0   \n258        1                                   Ward, Miss. Anna  female  35.0   \n737        1                             Lesurer, Mr. Gustave J    male  35.0   \n679        1                 Cardeza, Mr. Thomas Drake Martinez    male  36.0   \n118        1                           Baxter, Mr. Quigg Edmond    male  24.0   \n1075       1  Douglas, Mrs. Frederick Charles (Mary Helene B...  female  27.0   \n299        1    Baxter, Mrs. James (Helene DeLaudeniere Chaput)  female  50.0   \n730        1                      Allen, Miss. Elisabeth Walton  female  29.0   \n1215       1                             Kreuchen, Miss. Emilie  female  39.0   \n779        1  Robert, Mrs. Edward Scott (Elisabeth Walton Mc...  female  43.0   \n\n      SibSp  Parch    Ticket      Fare        Cabin Embarked  Lastname Title  \\\n1234      0      1  PC 17755  512.3292  B51 B53 B55        C   Cardeza   Mrs   \n258       0      0  PC 17755  512.3292          NaN        C      Ward   Mrs   \n737       0      0  PC 17755  512.3292         B101        C   Lesurer    Mr   \n679       0      1  PC 17755  512.3292  B51 B53 B55        C   Cardeza    Mr   \n118       0      1  PC 17558  247.5208      B58 B60        C    Baxter    Mr   \n1075      1      1  PC 17558  247.5208      B58 B60        C   Douglas   Mrs   \n299       0      1  PC 17558  247.5208      B58 B60        C    Baxter   Mrs   \n730       0      0     24160  211.3375           B5        S     Allen   Mrs   \n1215      0      0     24160  211.3375          NaN        S  Kreuchen   Mrs   \n779       0      1     24160  211.3375           B3        S    Robert   Mrs   \n\n     Ticket_series Ticket_nr  Passengers_ticket  Price Deck  \n1234            PC     17755                  4  128.0    B  \n258             PC     17755                  4  128.0    B  \n737             PC     17755                  4  128.0    B  \n679             PC     17755                  4  128.0    B  \n118             PC     17558                  3   83.0    B  \n1075            PC     17558                  3   83.0    B  \n299             PC     17558                  3   83.0    B  \n730              0     24160                  4   53.0    B  \n1215             0     24160                  4   53.0    B  \n779              0     24160                  4   53.0    B  ",
      "text/html": "<div>\n<style scoped>\n    .dataframe tbody tr th:only-of-type {\n        vertical-align: middle;\n    }\n\n    .dataframe tbody tr th {\n        vertical-align: top;\n    }\n\n    .dataframe thead th {\n        text-align: right;\n    }\n</style>\n<table border=\"1\" class=\"dataframe\">\n  <thead>\n    <tr style=\"text-align: right;\">\n      <th></th>\n      <th>Pclass</th>\n      <th>Name</th>\n      <th>Sex</th>\n      <th>Age</th>\n      <th>SibSp</th>\n      <th>Parch</th>\n      <th>Ticket</th>\n      <th>Fare</th>\n      <th>Cabin</th>\n      <th>Embarked</th>\n      <th>Lastname</th>\n      <th>Title</th>\n      <th>Ticket_series</th>\n      <th>Ticket_nr</th>\n      <th>Passengers_ticket</th>\n      <th>Price</th>\n      <th>Deck</th>\n    </tr>\n  </thead>\n  <tbody>\n    <tr>\n      <th>1234</th>\n      <td>1</td>\n      <td>Cardeza, Mrs. James Warburton Martinez (Charlo...</td>\n      <td>female</td>\n      <td>58.0</td>\n      <td>0</td>\n      <td>1</td>\n      <td>PC 17755</td>\n      <td>512.3292</td>\n      <td>B51 B53 B55</td>\n      <td>C</td>\n      <td>Cardeza</td>\n      <td>Mrs</td>\n      <td>PC</td>\n      <td>17755</td>\n      <td>4</td>\n      <td>128.0</td>\n      <td>B</td>\n    </tr>\n    <tr>\n      <th>258</th>\n      <td>1</td>\n      <td>Ward, Miss. Anna</td>\n      <td>female</td>\n      <td>35.0</td>\n      <td>0</td>\n      <td>0</td>\n      <td>PC 17755</td>\n      <td>512.3292</td>\n      <td>NaN</td>\n      <td>C</td>\n      <td>Ward</td>\n      <td>Mrs</td>\n      <td>PC</td>\n      <td>17755</td>\n      <td>4</td>\n      <td>128.0</td>\n      <td>B</td>\n    </tr>\n    <tr>\n      <th>737</th>\n      <td>1</td>\n      <td>Lesurer, Mr. Gustave J</td>\n      <td>male</td>\n      <td>35.0</td>\n      <td>0</td>\n      <td>0</td>\n      <td>PC 17755</td>\n      <td>512.3292</td>\n      <td>B101</td>\n      <td>C</td>\n      <td>Lesurer</td>\n      <td>Mr</td>\n      <td>PC</td>\n      <td>17755</td>\n      <td>4</td>\n      <td>128.0</td>\n      <td>B</td>\n    </tr>\n    <tr>\n      <th>679</th>\n      <td>1</td>\n      <td>Cardeza, Mr. Thomas Drake Martinez</td>\n      <td>male</td>\n      <td>36.0</td>\n      <td>0</td>\n      <td>1</td>\n      <td>PC 17755</td>\n      <td>512.3292</td>\n      <td>B51 B53 B55</td>\n      <td>C</td>\n      <td>Cardeza</td>\n      <td>Mr</td>\n      <td>PC</td>\n      <td>17755</td>\n      <td>4</td>\n      <td>128.0</td>\n      <td>B</td>\n    </tr>\n    <tr>\n      <th>118</th>\n      <td>1</td>\n      <td>Baxter, Mr. Quigg Edmond</td>\n      <td>male</td>\n      <td>24.0</td>\n      <td>0</td>\n      <td>1</td>\n      <td>PC 17558</td>\n      <td>247.5208</td>\n      <td>B58 B60</td>\n      <td>C</td>\n      <td>Baxter</td>\n      <td>Mr</td>\n      <td>PC</td>\n      <td>17558</td>\n      <td>3</td>\n      <td>83.0</td>\n      <td>B</td>\n    </tr>\n    <tr>\n      <th>1075</th>\n      <td>1</td>\n      <td>Douglas, Mrs. Frederick Charles (Mary Helene B...</td>\n      <td>female</td>\n      <td>27.0</td>\n      <td>1</td>\n      <td>1</td>\n      <td>PC 17558</td>\n      <td>247.5208</td>\n      <td>B58 B60</td>\n      <td>C</td>\n      <td>Douglas</td>\n      <td>Mrs</td>\n      <td>PC</td>\n      <td>17558</td>\n      <td>3</td>\n      <td>83.0</td>\n      <td>B</td>\n    </tr>\n    <tr>\n      <th>299</th>\n      <td>1</td>\n      <td>Baxter, Mrs. James (Helene DeLaudeniere Chaput)</td>\n      <td>female</td>\n      <td>50.0</td>\n      <td>0</td>\n      <td>1</td>\n      <td>PC 17558</td>\n      <td>247.5208</td>\n      <td>B58 B60</td>\n      <td>C</td>\n      <td>Baxter</td>\n      <td>Mrs</td>\n      <td>PC</td>\n      <td>17558</td>\n      <td>3</td>\n      <td>83.0</td>\n      <td>B</td>\n    </tr>\n    <tr>\n      <th>730</th>\n      <td>1</td>\n      <td>Allen, Miss. Elisabeth Walton</td>\n      <td>female</td>\n      <td>29.0</td>\n      <td>0</td>\n      <td>0</td>\n      <td>24160</td>\n      <td>211.3375</td>\n      <td>B5</td>\n      <td>S</td>\n      <td>Allen</td>\n      <td>Mrs</td>\n      <td>0</td>\n      <td>24160</td>\n      <td>4</td>\n      <td>53.0</td>\n      <td>B</td>\n    </tr>\n    <tr>\n      <th>1215</th>\n      <td>1</td>\n      <td>Kreuchen, Miss. Emilie</td>\n      <td>female</td>\n      <td>39.0</td>\n      <td>0</td>\n      <td>0</td>\n      <td>24160</td>\n      <td>211.3375</td>\n      <td>NaN</td>\n      <td>S</td>\n      <td>Kreuchen</td>\n      <td>Mrs</td>\n      <td>0</td>\n      <td>24160</td>\n      <td>4</td>\n      <td>53.0</td>\n      <td>B</td>\n    </tr>\n    <tr>\n      <th>779</th>\n      <td>1</td>\n      <td>Robert, Mrs. Edward Scott (Elisabeth Walton Mc...</td>\n      <td>female</td>\n      <td>43.0</td>\n      <td>0</td>\n      <td>1</td>\n      <td>24160</td>\n      <td>211.3375</td>\n      <td>B3</td>\n      <td>S</td>\n      <td>Robert</td>\n      <td>Mrs</td>\n      <td>0</td>\n      <td>24160</td>\n      <td>4</td>\n      <td>53.0</td>\n      <td>B</td>\n    </tr>\n  </tbody>\n</table>\n</div>"
     },
     "execution_count": 31,
     "metadata": {},
     "output_type": "execute_result"
    }
   ],
   "source": [
    "# Check the most expensive prices for Deck B\n",
    "df[df.Deck == 'B'].sort_values('Price', ascending=False).head(10)"
   ]
  },
  {
   "cell_type": "code",
   "execution_count": 32,
   "id": "dc7095c7",
   "metadata": {
    "execution": {
     "iopub.execute_input": "2023-02-07T21:52:01.381921Z",
     "iopub.status.busy": "2023-02-07T21:52:01.381367Z",
     "iopub.status.idle": "2023-02-07T21:52:01.387057Z",
     "shell.execute_reply": "2023-02-07T21:52:01.386156Z"
    },
    "papermill": {
     "duration": 0.027346,
     "end_time": "2023-02-07T21:52:01.389191",
     "exception": false,
     "start_time": "2023-02-07T21:52:01.361845",
     "status": "completed"
    },
    "tags": []
   },
   "outputs": [],
   "source": [
    "# Two most expensive tickets are outliers,\n",
    "# we will cap them at the next overall highest Price \n",
    "df.loc[(df.Ticket_nr == '17755'), 'Price'] = 68\n",
    "df.loc[(df.Ticket_nr == '17558'), 'Price'] = 68"
   ]
  },
  {
   "cell_type": "code",
   "execution_count": 33,
   "id": "181650d3",
   "metadata": {
    "execution": {
     "iopub.execute_input": "2023-02-07T21:52:01.427209Z",
     "iopub.status.busy": "2023-02-07T21:52:01.426486Z",
     "iopub.status.idle": "2023-02-07T21:52:01.458673Z",
     "shell.execute_reply": "2023-02-07T21:52:01.457227Z"
    },
    "papermill": {
     "duration": 0.053814,
     "end_time": "2023-02-07T21:52:01.461188",
     "exception": false,
     "start_time": "2023-02-07T21:52:01.407374",
     "status": "completed"
    },
    "tags": []
   },
   "outputs": [],
   "source": [
    "# Create a data frame of mean prices by Pclass and Deck \n",
    "class_deck_price = pd.DataFrame(df.groupby(['Pclass', 'Deck'])\n",
    "                                .Price.mean().round(2)).reset_index()\n",
    "\n",
    "# Impute missing prices \n",
    "# Where Deck is missing we will use the mean price by Pclass only\n",
    "for index, row in df.loc[df.Price.isna(), \n",
    "                         ['Pclass', 'Deck']].iterrows():\n",
    "    if not pd.isna(row.Deck):\n",
    "        new_price = class_deck_price.loc[\n",
    "            ((class_deck_price.Pclass == row.Pclass) \n",
    "            & (class_deck_price.Deck == row.Deck)), 'Price'].mean()\n",
    "    else:\n",
    "        new_price = class_deck_price[\n",
    "            class_deck_price.Pclass == row.Pclass].Price.mean()\n",
    "\n",
    "    df.loc[[index], 'Price'] = new_price"
   ]
  },
  {
   "cell_type": "markdown",
   "id": "8a45d8c1",
   "metadata": {
    "papermill": {
     "duration": 0.018051,
     "end_time": "2023-02-07T21:52:01.498616",
     "exception": false,
     "start_time": "2023-02-07T21:52:01.480565",
     "status": "completed"
    },
    "tags": []
   },
   "source": [
    "**Analyze and impute missing Deck**"
   ]
  },
  {
   "cell_type": "code",
   "execution_count": 34,
   "id": "a3f04c25",
   "metadata": {
    "execution": {
     "iopub.execute_input": "2023-02-07T21:52:01.537475Z",
     "iopub.status.busy": "2023-02-07T21:52:01.537126Z",
     "iopub.status.idle": "2023-02-07T21:52:02.040489Z",
     "shell.execute_reply": "2023-02-07T21:52:02.039395Z"
    },
    "papermill": {
     "duration": 0.525716,
     "end_time": "2023-02-07T21:52:02.042886",
     "exception": false,
     "start_time": "2023-02-07T21:52:01.517170",
     "status": "completed"
    },
    "tags": []
   },
   "outputs": [],
   "source": [
    "# Create dictionaries with aproximative price ranges by deck \n",
    "# concluded from previous analisys\n",
    "first_cl = {'A': [25, 30],\n",
    "            'B': [35, 70],\n",
    "            'C': [30, 35],\n",
    "            'D': [19, 25],\n",
    "            'E': [9, 19]}\n",
    "\n",
    "second_cl = {'D': [13, 17],\n",
    "             'E': [5, 9],\n",
    "             'F': [9, 13]}\n",
    "\n",
    "third_cl = {'E': [8, 9],\n",
    "            'F': [9, 21],\n",
    "            'G': [0, 8]}\n",
    "\n",
    "# Create a dictionary pairing Pclass and respective price dictionary\n",
    "class_dict = {1: first_cl,\n",
    "              2: second_cl,\n",
    "              3: third_cl}\n",
    "\n",
    "# Impute missing Deck values \n",
    "for index, row in df.loc[df.Deck.isna(), ['Pclass', 'Price']].iterrows():\n",
    "    for c, d in class_dict.items():\n",
    "        if row.Pclass == c:\n",
    "            for i, j in d.items():\n",
    "                if max(j) > row.Price >= min(j):\n",
    "                    df.loc[[index], 'Deck'] = i\n",
    "\n",
    "# Encode Deck with it's deck level number counting from the bottom\n",
    "deck_level = {'G': 1, 'F': 2, 'E': 3, 'D': 4, 'C': 5, 'B': 6, 'A': 7}\n",
    "\n",
    "df.Deck = df.Deck.replace(deck_level)"
   ]
  },
  {
   "cell_type": "markdown",
   "id": "9f36ffc4",
   "metadata": {
    "papermill": {
     "duration": 0.019167,
     "end_time": "2023-02-07T21:52:02.081189",
     "exception": false,
     "start_time": "2023-02-07T21:52:02.062022",
     "status": "completed"
    },
    "tags": []
   },
   "source": [
    "**Create 'Escape_density' feature**\n",
    "\n",
    "Crowded decks could lead to jams and chaos when everybody wanted to go to the upper deck as the lifeboats were there.\n",
    "This feature will show through which amount of people each deck passenger needed to pass to arrive on top. \n",
    "Basically for each deck we will have a number of people equal to the summ of its own value and all the decks that are upper from it."
   ]
  },
  {
   "cell_type": "code",
   "execution_count": 35,
   "id": "b55c17f4",
   "metadata": {
    "execution": {
     "iopub.execute_input": "2023-02-07T21:52:02.120520Z",
     "iopub.status.busy": "2023-02-07T21:52:02.119669Z",
     "iopub.status.idle": "2023-02-07T21:52:02.129367Z",
     "shell.execute_reply": "2023-02-07T21:52:02.128373Z"
    },
    "papermill": {
     "duration": 0.0317,
     "end_time": "2023-02-07T21:52:02.131615",
     "exception": false,
     "start_time": "2023-02-07T21:52:02.099915",
     "status": "completed"
    },
    "tags": []
   },
   "outputs": [
    {
     "data": {
      "text/plain": "{1: 283, 2: 202, 3: 408, 4: 176, 5: 116, 6: 76, 7: 48}"
     },
     "execution_count": 35,
     "metadata": {},
     "output_type": "execute_result"
    }
   ],
   "source": [
    "# Analyse how many people were on each deck.\n",
    "# Many values were imputed with aproximation,but at least we will have \n",
    "# an aproximative crowd mass each passenger has to pass going up\n",
    "deck_people = df.Deck.value_counts().sort_index().to_dict()\n",
    "deck_people"
   ]
  },
  {
   "cell_type": "code",
   "execution_count": 36,
   "id": "9acfa5d8",
   "metadata": {
    "execution": {
     "iopub.execute_input": "2023-02-07T21:52:02.170934Z",
     "iopub.status.busy": "2023-02-07T21:52:02.170178Z",
     "iopub.status.idle": "2023-02-07T21:52:02.175792Z",
     "shell.execute_reply": "2023-02-07T21:52:02.175248Z"
    },
    "papermill": {
     "duration": 0.027016,
     "end_time": "2023-02-07T21:52:02.177301",
     "exception": false,
     "start_time": "2023-02-07T21:52:02.150285",
     "status": "completed"
    },
    "tags": []
   },
   "outputs": [
    {
     "data": {
      "text/plain": "{1: 1309, 2: 1026, 3: 824, 4: 416, 5: 240, 6: 124, 7: 48}"
     },
     "execution_count": 36,
     "metadata": {},
     "output_type": "execute_result"
    }
   ],
   "source": [
    "# Create an escape density dictionary from which we will impute data to our new feature\n",
    "escape_density = {}\n",
    "for i in range(1, 8):\n",
    "    escape_density[i] = sum(deck_people.values())\n",
    "    del deck_people[i]\n",
    "    \n",
    "escape_density"
   ]
  },
  {
   "cell_type": "code",
   "execution_count": 37,
   "id": "d7064900",
   "metadata": {
    "execution": {
     "iopub.execute_input": "2023-02-07T21:52:02.216922Z",
     "iopub.status.busy": "2023-02-07T21:52:02.216362Z",
     "iopub.status.idle": "2023-02-07T21:52:02.221396Z",
     "shell.execute_reply": "2023-02-07T21:52:02.220427Z"
    },
    "papermill": {
     "duration": 0.027621,
     "end_time": "2023-02-07T21:52:02.224160",
     "exception": false,
     "start_time": "2023-02-07T21:52:02.196539",
     "status": "completed"
    },
    "tags": []
   },
   "outputs": [],
   "source": [
    "# Create Escape_density column\n",
    "df['Escape_density'] = df.Deck.replace(escape_density)"
   ]
  },
  {
   "cell_type": "markdown",
   "id": "83ab4196",
   "metadata": {
    "papermill": {
     "duration": 0.01782,
     "end_time": "2023-02-07T21:52:02.260407",
     "exception": false,
     "start_time": "2023-02-07T21:52:02.242587",
     "status": "completed"
    },
    "tags": []
   },
   "source": [
    "**Create Family_size feature**\n",
    "\n",
    "It will represent how big the family was"
   ]
  },
  {
   "cell_type": "code",
   "execution_count": 38,
   "id": "fab0764e",
   "metadata": {
    "execution": {
     "iopub.execute_input": "2023-02-07T21:52:02.298646Z",
     "iopub.status.busy": "2023-02-07T21:52:02.298110Z",
     "iopub.status.idle": "2023-02-07T21:52:02.302897Z",
     "shell.execute_reply": "2023-02-07T21:52:02.301974Z"
    },
    "papermill": {
     "duration": 0.026047,
     "end_time": "2023-02-07T21:52:02.304563",
     "exception": false,
     "start_time": "2023-02-07T21:52:02.278516",
     "status": "completed"
    },
    "tags": []
   },
   "outputs": [],
   "source": [
    "# We add together the person and his SibSp and Parch\n",
    "df['Family_size'] = 1 + df.SibSp + df.Parch"
   ]
  },
  {
   "cell_type": "markdown",
   "id": "bd616be1",
   "metadata": {
    "papermill": {
     "duration": 0.018273,
     "end_time": "2023-02-07T21:52:02.341805",
     "exception": false,
     "start_time": "2023-02-07T21:52:02.323532",
     "status": "completed"
    },
    "tags": []
   },
   "source": [
    "**Create Family_survivers**\n",
    "\n",
    "This feature can't be used for modeling as it will provide target leakage, but by analysing it later we can separate families that could have higher surviving chance"
   ]
  },
  {
   "cell_type": "code",
   "execution_count": 39,
   "id": "717e47ad",
   "metadata": {
    "execution": {
     "iopub.execute_input": "2023-02-07T21:52:02.379351Z",
     "iopub.status.busy": "2023-02-07T21:52:02.379021Z",
     "iopub.status.idle": "2023-02-07T21:52:02.458056Z",
     "shell.execute_reply": "2023-02-07T21:52:02.457154Z"
    },
    "papermill": {
     "duration": 0.100479,
     "end_time": "2023-02-07T21:52:02.460422",
     "exception": false,
     "start_time": "2023-02-07T21:52:02.359943",
     "status": "completed"
    },
    "tags": []
   },
   "outputs": [],
   "source": [
    "# Create full data frame for analysis\n",
    "X = df[:X_max_index]\n",
    "test_df = df[X_max_index:].copy()\n",
    "full_df = pd.concat([X, y], axis=1).copy()\n",
    "\n",
    "# Check for families that has survivers and create a dictionary with mean value of their family survivability\n",
    "family_survivers = full_df[['Lastname', 'Survived']].groupby('Lastname').mean().round(2).reset_index()\n",
    "family_survivers_dict = dict(zip(family_survivers.Lastname, family_survivers.Survived))\n",
    "\n",
    "# Reduce the dictionary to the list of families that are both in train and test data\n",
    "common_survivers = {}\n",
    "for lastname, survived in family_survivers_dict.items():\n",
    "    if lastname in list(test_df['Lastname'].unique()):\n",
    "        common_survivers[lastname] = survived\n",
    "\n",
    "# Create Family_survivers feature\n",
    "test_df['Family_survivers'] = test_df.Lastname.map(common_survivers)\n",
    "full_df['Family_survivers'] = full_df.Lastname.map(common_survivers)\n",
    "\n",
    "# For the families that are not present in both train and test we will impute the overall mean value\n",
    "test_df.Family_survivers = test_df.Family_survivers.fillna(test_df.Family_survivers.mean())\n",
    "full_df.Family_survivers = full_df.Family_survivers.fillna(full_df.Family_survivers.mean())\n",
    "\n",
    "# Separate back features and target\n",
    "y = full_df.Survived\n",
    "\n",
    "df = full_df.drop('Survived', axis=1)\n",
    "df = pd.concat([df, test_df], axis=0).reset_index(drop=True)"
   ]
  },
  {
   "cell_type": "markdown",
   "id": "3e1ab4d7",
   "metadata": {
    "papermill": {
     "duration": 0.017316,
     "end_time": "2023-02-07T21:52:02.496136",
     "exception": false,
     "start_time": "2023-02-07T21:52:02.478820",
     "status": "completed"
    },
    "tags": []
   },
   "source": [
    "**Clean data**"
   ]
  },
  {
   "cell_type": "code",
   "execution_count": 40,
   "id": "3888cb6d",
   "metadata": {
    "execution": {
     "iopub.execute_input": "2023-02-07T21:52:02.532096Z",
     "iopub.status.busy": "2023-02-07T21:52:02.531729Z",
     "iopub.status.idle": "2023-02-07T21:52:02.536846Z",
     "shell.execute_reply": "2023-02-07T21:52:02.536001Z"
    },
    "papermill": {
     "duration": 0.025766,
     "end_time": "2023-02-07T21:52:02.538831",
     "exception": false,
     "start_time": "2023-02-07T21:52:02.513065",
     "status": "completed"
    },
    "tags": []
   },
   "outputs": [],
   "source": [
    "# Change Pclass dtype to category as it's a classification feature\n",
    "df.Pclass = df.Pclass.astype('category')"
   ]
  },
  {
   "cell_type": "code",
   "execution_count": 41,
   "id": "1bf7cb59",
   "metadata": {
    "execution": {
     "iopub.execute_input": "2023-02-07T21:52:02.578912Z",
     "iopub.status.busy": "2023-02-07T21:52:02.578578Z",
     "iopub.status.idle": "2023-02-07T21:52:02.584552Z",
     "shell.execute_reply": "2023-02-07T21:52:02.583802Z"
    },
    "papermill": {
     "duration": 0.027959,
     "end_time": "2023-02-07T21:52:02.586115",
     "exception": false,
     "start_time": "2023-02-07T21:52:02.558156",
     "status": "completed"
    },
    "tags": []
   },
   "outputs": [],
   "source": [
    "# Drop further unused columns\n",
    "col_drop = ['Name', 'Ticket', 'Fare', 'Cabin', 'Lastname','Ticket_nr',  \n",
    "            'Ticket_series', 'Passengers_ticket']\n",
    "df = df.drop(col_drop, axis=1)"
   ]
  },
  {
   "cell_type": "markdown",
   "id": "cc23ef1c",
   "metadata": {
    "execution": {
     "iopub.execute_input": "2023-02-06T22:59:43.980076Z",
     "iopub.status.busy": "2023-02-06T22:59:43.979632Z",
     "iopub.status.idle": "2023-02-06T22:59:43.997049Z",
     "shell.execute_reply": "2023-02-06T22:59:43.994931Z",
     "shell.execute_reply.started": "2023-02-06T22:59:43.980040Z"
    },
    "papermill": {
     "duration": 0.017882,
     "end_time": "2023-02-07T21:52:02.622859",
     "exception": false,
     "start_time": "2023-02-07T21:52:02.604977",
     "status": "completed"
    },
    "tags": []
   },
   "source": [
    "**Impute categorical features**"
   ]
  },
  {
   "cell_type": "code",
   "execution_count": 42,
   "id": "f9eee213",
   "metadata": {
    "execution": {
     "iopub.execute_input": "2023-02-07T21:52:02.660475Z",
     "iopub.status.busy": "2023-02-07T21:52:02.660140Z",
     "iopub.status.idle": "2023-02-07T21:52:02.671696Z",
     "shell.execute_reply": "2023-02-07T21:52:02.671077Z"
    },
    "papermill": {
     "duration": 0.032458,
     "end_time": "2023-02-07T21:52:02.673722",
     "exception": false,
     "start_time": "2023-02-07T21:52:02.641264",
     "status": "completed"
    },
    "tags": []
   },
   "outputs": [],
   "source": [
    "# List of categorical columns\n",
    "categ_cols = list(df.select_dtypes(['object', 'category']).columns)\n",
    "\n",
    "# Impute categoricals with most frequent value\n",
    "cat_imputer = SimpleImputer(strategy='most_frequent')\n",
    "\n",
    "df_cat = cat_imputer.fit_transform(df[categ_cols])\n",
    "df_cat = pd.DataFrame(df_cat, columns=df[categ_cols].columns)"
   ]
  },
  {
   "cell_type": "markdown",
   "id": "42204d79",
   "metadata": {
    "execution": {
     "iopub.status.busy": "2023-02-06T22:59:44.001404Z",
     "iopub.status.idle": "2023-02-06T22:59:44.001884Z",
     "shell.execute_reply": "2023-02-06T22:59:44.001686Z",
     "shell.execute_reply.started": "2023-02-06T22:59:44.001661Z"
    },
    "papermill": {
     "duration": 0.018014,
     "end_time": "2023-02-07T21:52:02.710330",
     "exception": false,
     "start_time": "2023-02-07T21:52:02.692316",
     "status": "completed"
    },
    "tags": []
   },
   "source": [
    "**Encode categorical features**"
   ]
  },
  {
   "cell_type": "code",
   "execution_count": 43,
   "id": "5b465649",
   "metadata": {
    "execution": {
     "iopub.execute_input": "2023-02-07T21:52:02.749254Z",
     "iopub.status.busy": "2023-02-07T21:52:02.748697Z",
     "iopub.status.idle": "2023-02-07T21:52:02.756478Z",
     "shell.execute_reply": "2023-02-07T21:52:02.755591Z"
    },
    "papermill": {
     "duration": 0.029807,
     "end_time": "2023-02-07T21:52:02.758649",
     "exception": false,
     "start_time": "2023-02-07T21:52:02.728842",
     "status": "completed"
    },
    "tags": []
   },
   "outputs": [],
   "source": [
    "# Encode categoricals with One Hot Encoding\n",
    "ohe = OneHotEncoder(sparse=False)\n",
    "\n",
    "df_cat = pd.DataFrame(ohe.fit_transform(df_cat),\n",
    "                  columns=ohe.get_feature_names_out())"
   ]
  },
  {
   "cell_type": "markdown",
   "id": "b8a664b7",
   "metadata": {
    "execution": {
     "iopub.status.busy": "2023-02-06T22:59:44.006430Z",
     "iopub.status.idle": "2023-02-06T22:59:44.006895Z",
     "shell.execute_reply": "2023-02-06T22:59:44.006708Z",
     "shell.execute_reply.started": "2023-02-06T22:59:44.006687Z"
    },
    "papermill": {
     "duration": 0.018424,
     "end_time": "2023-02-07T21:52:02.795485",
     "exception": false,
     "start_time": "2023-02-07T21:52:02.777061",
     "status": "completed"
    },
    "tags": []
   },
   "source": [
    "**Impute numericals**"
   ]
  },
  {
   "cell_type": "code",
   "execution_count": 44,
   "id": "0150b506",
   "metadata": {
    "execution": {
     "iopub.execute_input": "2023-02-07T21:52:02.835671Z",
     "iopub.status.busy": "2023-02-07T21:52:02.835329Z",
     "iopub.status.idle": "2023-02-07T21:52:02.887772Z",
     "shell.execute_reply": "2023-02-07T21:52:02.887138Z"
    },
    "papermill": {
     "duration": 0.074847,
     "end_time": "2023-02-07T21:52:02.889802",
     "exception": false,
     "start_time": "2023-02-07T21:52:02.814955",
     "status": "completed"
    },
    "tags": []
   },
   "outputs": [],
   "source": [
    "# List of numerical columns\n",
    "num_cols = [col for col in df.columns \n",
    "            if df[col].dtype in ['int64', 'float64']]\n",
    "\n",
    "# Impute numericals\n",
    "it_imp = IterativeImputer()\n",
    "\n",
    "df_num = pd.DataFrame(it_imp.fit_transform(df[num_cols]),\n",
    "                      columns=df[num_cols].columns)\n",
    "\n",
    "# Concatenate with encoded categorical columns\n",
    "df = pd.concat([df_cat, df_num], axis=1)"
   ]
  },
  {
   "cell_type": "markdown",
   "id": "e1e2e8dd",
   "metadata": {
    "execution": {
     "iopub.status.busy": "2023-02-06T22:59:44.011554Z",
     "iopub.status.idle": "2023-02-06T22:59:44.012037Z",
     "shell.execute_reply": "2023-02-06T22:59:44.011833Z",
     "shell.execute_reply.started": "2023-02-06T22:59:44.011810Z"
    },
    "papermill": {
     "duration": 0.018971,
     "end_time": "2023-02-07T21:52:02.927663",
     "exception": false,
     "start_time": "2023-02-07T21:52:02.908692",
     "status": "completed"
    },
    "tags": []
   },
   "source": [
    "**Feature engineering**"
   ]
  },
  {
   "cell_type": "code",
   "execution_count": 45,
   "id": "1057d709",
   "metadata": {
    "execution": {
     "iopub.execute_input": "2023-02-07T21:52:02.966968Z",
     "iopub.status.busy": "2023-02-07T21:52:02.966338Z",
     "iopub.status.idle": "2023-02-07T21:52:02.972545Z",
     "shell.execute_reply": "2023-02-07T21:52:02.971504Z"
    },
    "papermill": {
     "duration": 0.028614,
     "end_time": "2023-02-07T21:52:02.974723",
     "exception": false,
     "start_time": "2023-02-07T21:52:02.946109",
     "status": "completed"
    },
    "tags": []
   },
   "outputs": [],
   "source": [
    "# Create a full data frame for analysis\n",
    "X = df[:X_max_index]\n",
    "full_df = pd.concat([X, y], axis=1)"
   ]
  },
  {
   "cell_type": "code",
   "execution_count": 46,
   "id": "b5758dc5",
   "metadata": {
    "execution": {
     "iopub.execute_input": "2023-02-07T21:52:03.014205Z",
     "iopub.status.busy": "2023-02-07T21:52:03.013615Z",
     "iopub.status.idle": "2023-02-07T21:52:03.019815Z",
     "shell.execute_reply": "2023-02-07T21:52:03.018837Z"
    },
    "papermill": {
     "duration": 0.028758,
     "end_time": "2023-02-07T21:52:03.022368",
     "exception": false,
     "start_time": "2023-02-07T21:52:02.993610",
     "status": "completed"
    },
    "tags": []
   },
   "outputs": [],
   "source": [
    "# Function for kde plotting\n",
    "def survive_chance_by(feature, xticks=None, xlim=None):\n",
    "    survived = full_df[full_df.Survived == 1]\n",
    "    not_survived = full_df[full_df.Survived == 0]\n",
    "\n",
    "    plt.figure(figsize=(10, 5))\n",
    "\n",
    "    survived[feature].plot(kind='kde', label='survived')\n",
    "    not_survived[feature].plot(kind='kde', label='not_survived')\n",
    "    \n",
    "    plt.xlim(xlim)\n",
    "    plt.xticks(xticks)\n",
    "    plt.legend()\n",
    "    plt.grid()\n",
    "    plt.xlabel(feature)\n",
    "    plt.show()"
   ]
  },
  {
   "cell_type": "markdown",
   "id": "572a46dd",
   "metadata": {
    "execution": {
     "iopub.status.busy": "2023-02-06T22:59:44.021554Z",
     "iopub.status.idle": "2023-02-06T22:59:44.022458Z",
     "shell.execute_reply": "2023-02-06T22:59:44.022251Z",
     "shell.execute_reply.started": "2023-02-06T22:59:44.022224Z"
    },
    "papermill": {
     "duration": 0.024971,
     "end_time": "2023-02-07T21:52:03.072645",
     "exception": false,
     "start_time": "2023-02-07T21:52:03.047674",
     "status": "completed"
    },
    "tags": []
   },
   "source": [
    "**Create Age_group feature**\n",
    "\n",
    "This feature wasn't used for the top score as it gave a slightly lower score, but I leave it here in a markdown cell for learning purposes"
   ]
  },
  {
   "cell_type": "code",
   "execution_count": 47,
   "id": "2652e5e2",
   "metadata": {
    "execution": {
     "iopub.execute_input": "2023-02-07T21:52:03.116189Z",
     "iopub.status.busy": "2023-02-07T21:52:03.115433Z",
     "iopub.status.idle": "2023-02-07T21:52:03.364891Z",
     "shell.execute_reply": "2023-02-07T21:52:03.363507Z"
    },
    "papermill": {
     "duration": 0.272626,
     "end_time": "2023-02-07T21:52:03.367176",
     "exception": false,
     "start_time": "2023-02-07T21:52:03.094550",
     "status": "completed"
    },
    "tags": []
   },
   "outputs": [
    {
     "data": {
      "text/plain": "<Figure size 720x360 with 1 Axes>",
      "image/png": "[encoded data removed]"
     },
     "metadata": {},
     "output_type": "display_data"
    }
   ],
   "source": [
    "# Survivers by Age\n",
    "survive_chance_by('Age', np.arange(0, 81, 5), (0, 80))"
   ]
  },
  {
   "cell_type": "markdown",
   "id": "ae12bc1c",
   "metadata": {
    "execution": {
     "iopub.execute_input": "2023-02-06T23:00:51.490531Z",
     "iopub.status.busy": "2023-02-06T23:00:51.489379Z",
     "iopub.status.idle": "2023-02-06T23:00:51.499884Z",
     "shell.execute_reply": "2023-02-06T23:00:51.497841Z",
     "shell.execute_reply.started": "2023-02-06T23:00:51.490487Z"
    },
    "papermill": {
     "duration": 0.02183,
     "end_time": "2023-02-07T21:52:03.411789",
     "exception": false,
     "start_time": "2023-02-07T21:52:03.389959",
     "status": "completed"
    },
    "tags": []
   },
   "source": [
    "By curves intersection points we can separate 4 age groups:\n",
    "    \n",
    "    1. 0-16 years old have higher survivability chance\n",
    "    2. 16-27 years old lower chance\n",
    "    3. 27-39 years old even lower chance\n",
    "    4. For the rest the chances are almost equal"
   ]
  },
  {
   "cell_type": "markdown",
   "id": "e86b026f",
   "metadata": {
    "execution": {
     "iopub.execute_input": "2023-02-07T20:00:05.774759Z",
     "iopub.status.busy": "2023-02-07T20:00:05.774023Z",
     "iopub.status.idle": "2023-02-07T20:00:05.784059Z",
     "shell.execute_reply": "2023-02-07T20:00:05.783018Z",
     "shell.execute_reply.started": "2023-02-07T20:00:05.774714Z"
    },
    "papermill": {
     "duration": 0.018234,
     "end_time": "2023-02-07T21:52:03.449065",
     "exception": false,
     "start_time": "2023-02-07T21:52:03.430831",
     "status": "completed"
    },
    "tags": []
   },
   "source": [
    "df['Age_group'] = pd.cut(x=df.Age, bins=[0, 16, 27, 39, df.Age.max()],\n",
    "                         labels=['Child', 'Young', 'Adult', 'Old'])"
   ]
  },
  {
   "cell_type": "markdown",
   "id": "317b0378",
   "metadata": {
    "execution": {
     "iopub.status.busy": "2023-02-06T22:59:44.030628Z",
     "iopub.status.idle": "2023-02-06T22:59:44.031418Z",
     "shell.execute_reply": "2023-02-06T22:59:44.031221Z",
     "shell.execute_reply.started": "2023-02-06T22:59:44.031192Z"
    },
    "papermill": {
     "duration": 0.018525,
     "end_time": "2023-02-07T21:52:03.486197",
     "exception": false,
     "start_time": "2023-02-07T21:52:03.467672",
     "status": "completed"
    },
    "tags": []
   },
   "source": [
    "**Create Family_group feature**"
   ]
  },
  {
   "cell_type": "code",
   "execution_count": 48,
   "id": "f4e914a4",
   "metadata": {
    "execution": {
     "iopub.execute_input": "2023-02-07T21:52:03.527180Z",
     "iopub.status.busy": "2023-02-07T21:52:03.526638Z",
     "iopub.status.idle": "2023-02-07T21:52:03.719381Z",
     "shell.execute_reply": "2023-02-07T21:52:03.717982Z"
    },
    "papermill": {
     "duration": 0.215743,
     "end_time": "2023-02-07T21:52:03.721644",
     "exception": false,
     "start_time": "2023-02-07T21:52:03.505901",
     "status": "completed"
    },
    "tags": []
   },
   "outputs": [
    {
     "data": {
      "text/plain": "<Figure size 720x360 with 1 Axes>",
      "image/png": "[encoded data removed]"
     },
     "metadata": {},
     "output_type": "display_data"
    }
   ],
   "source": [
    "# Survivers by Family_size\n",
    "survive_chance_by('Family_size', np.arange(0, 10, 1), (0, 10))"
   ]
  },
  {
   "cell_type": "markdown",
   "id": "73611691",
   "metadata": {
    "execution": {
     "iopub.status.busy": "2023-02-06T23:00:51.508081Z",
     "iopub.status.idle": "2023-02-06T23:00:51.508891Z",
     "shell.execute_reply": "2023-02-06T23:00:51.508565Z",
     "shell.execute_reply.started": "2023-02-06T23:00:51.508529Z"
    },
    "papermill": {
     "duration": 0.020495,
     "end_time": "2023-02-07T21:52:03.763062",
     "exception": false,
     "start_time": "2023-02-07T21:52:03.742567",
     "status": "completed"
    },
    "tags": []
   },
   "source": [
    "Here we can separate 3 groups:\n",
    "\n",
    "    1. Single persons had lower chance to survive\n",
    "    2. 2-4 members families had higher chances, as they had some priority to safeboats with 1-2 children with them\n",
    "    3. 5 and more members families had almost equal chances"
   ]
  },
  {
   "cell_type": "code",
   "execution_count": 49,
   "id": "d7bd7268",
   "metadata": {
    "execution": {
     "iopub.execute_input": "2023-02-07T21:52:03.804322Z",
     "iopub.status.busy": "2023-02-07T21:52:03.803730Z",
     "iopub.status.idle": "2023-02-07T21:52:03.813016Z",
     "shell.execute_reply": "2023-02-07T21:52:03.812043Z"
    },
    "papermill": {
     "duration": 0.032122,
     "end_time": "2023-02-07T21:52:03.815071",
     "exception": false,
     "start_time": "2023-02-07T21:52:03.782949",
     "status": "completed"
    },
    "tags": []
   },
   "outputs": [],
   "source": [
    "# Create Family_group feature\n",
    "df['Family_group'] = pd.cut(x=df.Family_size, \n",
    "                            bins=[0, 1, 4, df.Family_size.max()],\n",
    "                            labels=['Single', 'Medium', 'Large'])"
   ]
  },
  {
   "cell_type": "markdown",
   "id": "770598db",
   "metadata": {
    "papermill": {
     "duration": 0.021953,
     "end_time": "2023-02-07T21:52:03.855998",
     "exception": false,
     "start_time": "2023-02-07T21:52:03.834045",
     "status": "completed"
    },
    "tags": []
   },
   "source": [
    "**Create Lucky_family feature**\n",
    "\n",
    "To create this feature we analyse earlier created Family_survivers that used by itself would overfit the model"
   ]
  },
  {
   "cell_type": "code",
   "execution_count": 50,
   "id": "c2339e96",
   "metadata": {
    "execution": {
     "iopub.execute_input": "2023-02-07T21:52:03.896555Z",
     "iopub.status.busy": "2023-02-07T21:52:03.896001Z",
     "iopub.status.idle": "2023-02-07T21:52:04.100187Z",
     "shell.execute_reply": "2023-02-07T21:52:04.098788Z"
    },
    "papermill": {
     "duration": 0.227372,
     "end_time": "2023-02-07T21:52:04.103016",
     "exception": false,
     "start_time": "2023-02-07T21:52:03.875644",
     "status": "completed"
    },
    "tags": []
   },
   "outputs": [
    {
     "data": {
      "text/plain": "<Figure size 720x360 with 1 Axes>",
      "image/png": "[encoded data removed]"
     },
     "metadata": {},
     "output_type": "display_data"
    }
   ],
   "source": [
    "# Survivers by Family_survivers\n",
    "survive_chance_by('Family_survivers', np.arange(0, 1.5, 0.1), (0, 1.5))"
   ]
  },
  {
   "cell_type": "code",
   "execution_count": 51,
   "id": "5466949d",
   "metadata": {
    "execution": {
     "iopub.execute_input": "2023-02-07T21:52:04.145040Z",
     "iopub.status.busy": "2023-02-07T21:52:04.144697Z",
     "iopub.status.idle": "2023-02-07T21:52:04.153773Z",
     "shell.execute_reply": "2023-02-07T21:52:04.151794Z"
    },
    "papermill": {
     "duration": 0.033442,
     "end_time": "2023-02-07T21:52:04.156567",
     "exception": false,
     "start_time": "2023-02-07T21:52:04.123125",
     "status": "completed"
    },
    "tags": []
   },
   "outputs": [],
   "source": [
    "# Create Lucky_family feature\n",
    "df['Lucky_family'] = pd.cut(x=df.Family_survivers, \n",
    "                            bins=[0, 0.22, 0.35, 0.49, df.Family_survivers.max()],\n",
    "                            labels=['Low', 'Medium', 'Very_low', 'High'])"
   ]
  },
  {
   "cell_type": "code",
   "execution_count": 52,
   "id": "23874bef",
   "metadata": {
    "execution": {
     "iopub.execute_input": "2023-02-07T21:52:04.201010Z",
     "iopub.status.busy": "2023-02-07T21:52:04.200650Z",
     "iopub.status.idle": "2023-02-07T21:52:04.212246Z",
     "shell.execute_reply": "2023-02-07T21:52:04.211341Z"
    },
    "papermill": {
     "duration": 0.036986,
     "end_time": "2023-02-07T21:52:04.214282",
     "exception": false,
     "start_time": "2023-02-07T21:52:04.177296",
     "status": "completed"
    },
    "tags": []
   },
   "outputs": [],
   "source": [
    "# Encode categoricals\n",
    "df = pd.get_dummies(df)"
   ]
  },
  {
   "cell_type": "markdown",
   "id": "a03f2fba",
   "metadata": {
    "execution": {
     "iopub.status.busy": "2023-02-06T22:59:44.042968Z",
     "iopub.status.idle": "2023-02-06T22:59:44.043445Z",
     "shell.execute_reply": "2023-02-06T22:59:44.043231Z",
     "shell.execute_reply.started": "2023-02-06T22:59:44.043210Z"
    },
    "papermill": {
     "duration": 0.020463,
     "end_time": "2023-02-07T21:52:04.254991",
     "exception": false,
     "start_time": "2023-02-07T21:52:04.234528",
     "status": "completed"
    },
    "tags": []
   },
   "source": [
    "**Standardization**"
   ]
  },
  {
   "cell_type": "code",
   "execution_count": 53,
   "id": "f3748372",
   "metadata": {
    "execution": {
     "iopub.execute_input": "2023-02-07T21:52:04.299635Z",
     "iopub.status.busy": "2023-02-07T21:52:04.299030Z",
     "iopub.status.idle": "2023-02-07T21:52:04.309584Z",
     "shell.execute_reply": "2023-02-07T21:52:04.308557Z"
    },
    "papermill": {
     "duration": 0.036259,
     "end_time": "2023-02-07T21:52:04.312464",
     "exception": false,
     "start_time": "2023-02-07T21:52:04.276205",
     "status": "completed"
    },
    "tags": []
   },
   "outputs": [],
   "source": [
    "# Apply np.log to normalize the skewed right Price\n",
    "df.Price = df.Price.apply(np.log1p)\n",
    "\n",
    "# Standardize \n",
    "std_scaler = StandardScaler()\n",
    "\n",
    "df_scaled = std_scaler.fit_transform(df)\n",
    "df = pd.DataFrame(df_scaled, columns=df.columns)"
   ]
  },
  {
   "cell_type": "code",
   "execution_count": 54,
   "id": "bc88c480",
   "metadata": {
    "execution": {
     "iopub.execute_input": "2023-02-07T21:52:04.354970Z",
     "iopub.status.busy": "2023-02-07T21:52:04.354606Z",
     "iopub.status.idle": "2023-02-07T21:52:04.360637Z",
     "shell.execute_reply": "2023-02-07T21:52:04.359105Z"
    },
    "papermill": {
     "duration": 0.030622,
     "end_time": "2023-02-07T21:52:04.363111",
     "exception": false,
     "start_time": "2023-02-07T21:52:04.332489",
     "status": "completed"
    },
    "tags": []
   },
   "outputs": [],
   "source": [
    "# Drop features not used for modeling\n",
    "cols_to_drop = ['Family_survivers', 'SibSp', 'Parch', 'Family_size']\n",
    "df = df.drop(cols_to_drop, axis=1)"
   ]
  },
  {
   "cell_type": "markdown",
   "id": "57c06856",
   "metadata": {
    "execution": {
     "iopub.execute_input": "2023-02-06T23:01:18.326265Z",
     "iopub.status.busy": "2023-02-06T23:01:18.325562Z",
     "iopub.status.idle": "2023-02-06T23:01:18.338288Z",
     "shell.execute_reply": "2023-02-06T23:01:18.336437Z",
     "shell.execute_reply.started": "2023-02-06T23:01:18.326196Z"
    },
    "papermill": {
     "duration": 0.019426,
     "end_time": "2023-02-07T21:52:04.403353",
     "exception": false,
     "start_time": "2023-02-07T21:52:04.383927",
     "status": "completed"
    },
    "tags": []
   },
   "source": [
    "**Split train and test data**"
   ]
  },
  {
   "cell_type": "code",
   "execution_count": 55,
   "id": "2829ff16",
   "metadata": {
    "execution": {
     "iopub.execute_input": "2023-02-07T21:52:04.445523Z",
     "iopub.status.busy": "2023-02-07T21:52:04.445188Z",
     "iopub.status.idle": "2023-02-07T21:52:04.451900Z",
     "shell.execute_reply": "2023-02-07T21:52:04.450802Z"
    },
    "papermill": {
     "duration": 0.030551,
     "end_time": "2023-02-07T21:52:04.454054",
     "exception": false,
     "start_time": "2023-02-07T21:52:04.423503",
     "status": "completed"
    },
    "tags": []
   },
   "outputs": [],
   "source": [
    "X = df[:X_max_index]\n",
    "test_df = df[X_max_index:]"
   ]
  },
  {
   "cell_type": "markdown",
   "id": "40486c75",
   "metadata": {
    "execution": {
     "iopub.status.busy": "2023-02-06T23:01:18.340647Z",
     "iopub.status.idle": "2023-02-06T23:01:18.341374Z",
     "shell.execute_reply": "2023-02-06T23:01:18.341057Z",
     "shell.execute_reply.started": "2023-02-06T23:01:18.341023Z"
    },
    "papermill": {
     "duration": 0.020221,
     "end_time": "2023-02-07T21:52:04.494692",
     "exception": false,
     "start_time": "2023-02-07T21:52:04.474471",
     "status": "completed"
    },
    "tags": []
   },
   "source": [
    "**Processed data correlation**"
   ]
  },
  {
   "cell_type": "code",
   "execution_count": 56,
   "id": "9e57a6a6",
   "metadata": {
    "execution": {
     "iopub.execute_input": "2023-02-07T21:52:04.535633Z",
     "iopub.status.busy": "2023-02-07T21:52:04.535314Z",
     "iopub.status.idle": "2023-02-07T21:52:04.904327Z",
     "shell.execute_reply": "2023-02-07T21:52:04.903392Z"
    },
    "papermill": {
     "duration": 0.392566,
     "end_time": "2023-02-07T21:52:04.906904",
     "exception": false,
     "start_time": "2023-02-07T21:52:04.514338",
     "status": "completed"
    },
    "tags": []
   },
   "outputs": [
    {
     "data": {
      "text/plain": "<Figure size 720x360 with 1 Axes>",
      "image/png": "[encoded data removed]"
     },
     "metadata": {},
     "output_type": "display_data"
    }
   ],
   "source": [
    "# Concatenate into a full dataset\n",
    "full_df = pd.concat([X, y], axis=1)\n",
    "\n",
    "correlation = full_df.corr()['Survived'].sort_values(ascending=False)\n",
    "\n",
    "# Correlation graph\n",
    "correlation[1:].plot(kind='bar', figsize=(10,5), title='Survivability dependency')\n",
    "plt.show()"
   ]
  },
  {
   "cell_type": "markdown",
   "id": "84883a3e",
   "metadata": {
    "execution": {
     "iopub.status.busy": "2023-02-06T22:59:44.058440Z",
     "iopub.status.idle": "2023-02-06T22:59:44.058839Z",
     "shell.execute_reply": "2023-02-06T22:59:44.058670Z",
     "shell.execute_reply.started": "2023-02-06T22:59:44.058649Z"
    },
    "papermill": {
     "duration": 0.019358,
     "end_time": "2023-02-07T21:52:04.947380",
     "exception": false,
     "start_time": "2023-02-07T21:52:04.928022",
     "status": "completed"
    },
    "tags": []
   },
   "source": [
    "**Conclusion:**\n",
    "\n",
    "On the Titanic is better to not be an usual single adult male on a lower deck and embarked from Southampton with a cheap ticket in the pocket - RIP Jack Dawson :-("
   ]
  },
  {
   "cell_type": "markdown",
   "id": "aef5639b",
   "metadata": {
    "papermill": {
     "duration": 0.019899,
     "end_time": "2023-02-07T21:52:04.986857",
     "exception": false,
     "start_time": "2023-02-07T21:52:04.966958",
     "status": "completed"
    },
    "tags": []
   },
   "source": [
    "**CatBoost grid search parameter tuning**"
   ]
  },
  {
   "cell_type": "code",
   "execution_count": 57,
   "id": "db5fb4da",
   "metadata": {
    "execution": {
     "iopub.execute_input": "2023-02-07T21:52:05.027700Z",
     "iopub.status.busy": "2023-02-07T21:52:05.027341Z",
     "iopub.status.idle": "2023-02-07T21:52:52.173853Z",
     "shell.execute_reply": "2023-02-07T21:52:52.172785Z"
    },
    "papermill": {
     "duration": 47.188913,
     "end_time": "2023-02-07T21:52:52.195368",
     "exception": false,
     "start_time": "2023-02-07T21:52:05.006455",
     "status": "completed"
    },
    "tags": []
   },
   "outputs": [
    {
     "name": "stdout",
     "output_type": "stream",
     "text": [
      "Results from Grid Search\n",
      "\n",
      " Best Score:\n",
      " 0.8383838383838383\n",
      "\n",
      " Best parameters:\n",
      " {'depth': 4, 'iterations': 3000, 'learning_rate': 0.0003, 'thread_count': -1, 'verbose': False}\n"
     ]
    }
   ],
   "source": [
    "# Define model\n",
    "cat_model = CatBoostClassifier()\n",
    "\n",
    "# Define parameters' grid\n",
    "grid = {'verbose': [False],\n",
    "        'thread_count': [-1],\n",
    "        'depth': [4, 5],\n",
    "        'iterations': [2000, 3000],\n",
    "        'learning_rate': [0.0001, 0.0003]}\n",
    "\n",
    "# Define GridSearchCV\n",
    "grid_cat = GridSearchCV(estimator=cat_model, param_grid=grid, cv=3, n_jobs=-1)\n",
    "grid_cat.fit(X, y)\n",
    "\n",
    "print('Results from Grid Search')\n",
    "print('\\n Best Score:\\n', grid_cat.best_score_)\n",
    "print('\\n Best parameters:\\n', grid_cat.best_params_)"
   ]
  },
  {
   "cell_type": "markdown",
   "id": "09bfc2f0",
   "metadata": {
    "execution": {
     "iopub.status.busy": "2023-02-06T22:59:44.061203Z",
     "iopub.status.idle": "2023-02-06T22:59:44.061641Z",
     "shell.execute_reply": "2023-02-06T22:59:44.061463Z",
     "shell.execute_reply.started": "2023-02-06T22:59:44.061442Z"
    },
    "papermill": {
     "duration": 0.019838,
     "end_time": "2023-02-07T21:52:52.235251",
     "exception": false,
     "start_time": "2023-02-07T21:52:52.215413",
     "status": "completed"
    },
    "tags": []
   },
   "source": [
    "**CatBoost model test**"
   ]
  },
  {
   "cell_type": "code",
   "execution_count": 58,
   "id": "872f7601",
   "metadata": {
    "execution": {
     "iopub.execute_input": "2023-02-07T21:52:52.277981Z",
     "iopub.status.busy": "2023-02-07T21:52:52.276904Z",
     "iopub.status.idle": "2023-02-07T21:52:56.895307Z",
     "shell.execute_reply": "2023-02-07T21:52:56.893986Z"
    },
    "papermill": {
     "duration": 4.642668,
     "end_time": "2023-02-07T21:52:56.897917",
     "exception": false,
     "start_time": "2023-02-07T21:52:52.255249",
     "status": "completed"
    },
    "tags": []
   },
   "outputs": [
    {
     "name": "stdout",
     "output_type": "stream",
     "text": [
      "count    5.000000\n",
      "mean     0.822641\n",
      "std      0.019584\n",
      "min      0.803371\n",
      "25%      0.803371\n",
      "50%      0.825843\n",
      "75%      0.831461\n",
      "max      0.849162\n",
      "dtype: float64\n",
      "\n",
      "                Feature Id  Importances\n",
      "0                Sex_male    21.841377\n",
      "1              Sex_female    20.690120\n",
      "2       Lucky_family_High    19.887859\n",
      "3                Title_Mr    10.087607\n",
      "4                Pclass_3     6.886640\n",
      "5                   Price     4.536172\n",
      "6   Lucky_family_Very_low     3.395928\n",
      "7      Family_group_Large     2.675349\n",
      "8          Escape_density     1.819732\n",
      "9                    Deck     1.819502\n",
      "10               Pclass_1     1.630287\n",
      "11                    Age     1.554983\n",
      "12              Title_Mrs     1.128956\n",
      "13    Family_group_Medium     0.556310\n",
      "14               Pclass_2     0.514946\n",
      "15           Title_Master     0.279859\n",
      "16    Family_group_Single     0.273912\n",
      "17            Title_Noble     0.088251\n",
      "18             Title_Miss     0.085064\n",
      "19             Embarked_C     0.081789\n",
      "20             Embarked_S     0.061552\n",
      "21    Lucky_family_Medium     0.051243\n",
      "22             Embarked_Q     0.035253\n",
      "23       Lucky_family_Low     0.017312\n"
     ]
    }
   ],
   "source": [
    "# Define parameters\n",
    "# They were manualy adjusted after grid search as gave a better leaderboard score\n",
    "params = {'depth': 4, \n",
    "          'iterations': 1000, \n",
    "          'learning_rate': 0.0001, \n",
    "          'thread_count': -1, \n",
    "          'verbose': False}\n",
    "\n",
    "# Define and fit the model\n",
    "cat_model = CatBoostClassifier(**params)\n",
    "cat_model.fit(X, y)\n",
    "\n",
    "# Check accuracy and features importance\n",
    "cat_rmses = cross_val_score(cat_model, X, y, cv=5)\n",
    "\n",
    "print(pd.Series(cat_rmses).describe())\n",
    "print('\\n', cat_model.get_feature_importance(prettified=True))"
   ]
  },
  {
   "cell_type": "markdown",
   "id": "1371f60c",
   "metadata": {
    "execution": {
     "iopub.status.busy": "2023-02-06T22:59:44.065525Z",
     "iopub.status.idle": "2023-02-06T22:59:44.066348Z",
     "shell.execute_reply": "2023-02-06T22:59:44.066094Z",
     "shell.execute_reply.started": "2023-02-06T22:59:44.066054Z"
    },
    "papermill": {
     "duration": 0.019808,
     "end_time": "2023-02-07T21:52:56.938140",
     "exception": false,
     "start_time": "2023-02-07T21:52:56.918332",
     "status": "completed"
    },
    "tags": []
   },
   "source": [
    "**Scoring**"
   ]
  },
  {
   "cell_type": "code",
   "execution_count": 59,
   "id": "3b71a219",
   "metadata": {
    "execution": {
     "iopub.execute_input": "2023-02-07T21:52:56.980669Z",
     "iopub.status.busy": "2023-02-07T21:52:56.980348Z",
     "iopub.status.idle": "2023-02-07T21:52:56.998248Z",
     "shell.execute_reply": "2023-02-07T21:52:56.996379Z"
    },
    "papermill": {
     "duration": 0.042244,
     "end_time": "2023-02-07T21:52:57.000653",
     "exception": false,
     "start_time": "2023-02-07T21:52:56.958409",
     "status": "completed"
    },
    "tags": []
   },
   "outputs": [],
   "source": [
    "# Make predictions which we will submit.\n",
    "test_preds = cat_model.predict(test_df)\n",
    "\n",
    "# Save predictions in the format used for competition scoring\n",
    "output = pd.DataFrame({'PassengerId': test_pass_id,\n",
    "                       'Survived': test_preds})\n",
    "output.to_csv('submission.csv', index=False)\n"
   ]
  }
 ],
 "metadata": {
  "kernelspec": {
   "display_name": "Python 3",
   "language": "python",
   "name": "python3"
  },
  "language_info": {
   "codemirror_mode": {
    "name": "ipython",
    "version": 3
   },
   "file_extension": ".py",
   "mimetype": "text/x-python",
   "name": "python",
   "nbconvert_exporter": "python",
   "pygments_lexer": "ipython3",
   "version": "3.7.12"
  },
  "papermill": {
   "default_parameters": {},
   "duration": 70.207566,
   "end_time": "2023-02-07T21:52:59.642822",
   "environment_variables": {},
   "exception": null,
   "input_path": "__notebook__.ipynb",
   "output_path": "__notebook__.ipynb",
   "parameters": {},
   "start_time": "2023-02-07T21:51:49.435256",
   "version": "2.3.4"
  }
 },
 "nbformat": 4,
 "nbformat_minor": 5
}
