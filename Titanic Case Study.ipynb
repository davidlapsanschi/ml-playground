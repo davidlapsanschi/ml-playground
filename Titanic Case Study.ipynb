{
 "cells": [
  {
   "cell_type": "markdown",
   "source": [
    "# Loading the data"
   ],
   "metadata": {
    "collapsed": false
   }
  },
  {
   "cell_type": "code",
   "execution_count": 1,
   "outputs": [],
   "source": [
    "import matplotlib.pyplot as plt\n",
    "import numpy as np\n",
    "import pandas as pd\n",
    "import os\n",
    "\n",
    "TITANIC_FOLDER_PATH = path = os.path.join(\"datasets\", \"titanic\")\n",
    "\n",
    "\n",
    "def load_titanic_data(filename):\n",
    "    file_path = os.path.join(TITANIC_FOLDER_PATH, filename)\n",
    "    return pd.read_csv(file_path)"
   ],
   "metadata": {
    "collapsed": false
   }
  },
  {
   "cell_type": "code",
   "execution_count": 2,
   "outputs": [],
   "source": [
    "train_data = load_titanic_data(\"train.csv\")\n",
    "test_data = load_titanic_data(\"test.csv\")\n",
    "gender_submission_data = load_titanic_data(\"gender_submission.csv\")"
   ],
   "metadata": {
    "collapsed": false
   }
  },
  {
   "cell_type": "code",
   "execution_count": 3,
   "metadata": {
    "collapsed": true
   },
   "outputs": [
    {
     "data": {
      "text/plain": "   PassengerId  Survived  Pclass  \\\n0            1         0       3   \n1            2         1       1   \n2            3         1       3   \n3            4         1       1   \n4            5         0       3   \n\n                                                Name     Sex   Age  SibSp  \\\n0                            Braund, Mr. Owen Harris    male  22.0      1   \n1  Cumings, Mrs. John Bradley (Florence Briggs Th...  female  38.0      1   \n2                             Heikkinen, Miss. Laina  female  26.0      0   \n3       Futrelle, Mrs. Jacques Heath (Lily May Peel)  female  35.0      1   \n4                           Allen, Mr. William Henry    male  35.0      0   \n\n   Parch            Ticket     Fare Cabin Embarked  \n0      0         A/5 21171   7.2500   NaN        S  \n1      0          PC 17599  71.2833   C85        C  \n2      0  STON/O2. 3101282   7.9250   NaN        S  \n3      0            113803  53.1000  C123        S  \n4      0            373450   8.0500   NaN        S  ",
      "text/html": "<div>\n<style scoped>\n    .dataframe tbody tr th:only-of-type {\n        vertical-align: middle;\n    }\n\n    .dataframe tbody tr th {\n        vertical-align: top;\n    }\n\n    .dataframe thead th {\n        text-align: right;\n    }\n</style>\n<table border=\"1\" class=\"dataframe\">\n  <thead>\n    <tr style=\"text-align: right;\">\n      <th></th>\n      <th>PassengerId</th>\n      <th>Survived</th>\n      <th>Pclass</th>\n      <th>Name</th>\n      <th>Sex</th>\n      <th>Age</th>\n      <th>SibSp</th>\n      <th>Parch</th>\n      <th>Ticket</th>\n      <th>Fare</th>\n      <th>Cabin</th>\n      <th>Embarked</th>\n    </tr>\n  </thead>\n  <tbody>\n    <tr>\n      <th>0</th>\n      <td>1</td>\n      <td>0</td>\n      <td>3</td>\n      <td>Braund, Mr. Owen Harris</td>\n      <td>male</td>\n      <td>22.0</td>\n      <td>1</td>\n      <td>0</td>\n      <td>A/5 21171</td>\n      <td>7.2500</td>\n      <td>NaN</td>\n      <td>S</td>\n    </tr>\n    <tr>\n      <th>1</th>\n      <td>2</td>\n      <td>1</td>\n      <td>1</td>\n      <td>Cumings, Mrs. John Bradley (Florence Briggs Th...</td>\n      <td>female</td>\n      <td>38.0</td>\n      <td>1</td>\n      <td>0</td>\n      <td>PC 17599</td>\n      <td>71.2833</td>\n      <td>C85</td>\n      <td>C</td>\n    </tr>\n    <tr>\n      <th>2</th>\n      <td>3</td>\n      <td>1</td>\n      <td>3</td>\n      <td>Heikkinen, Miss. Laina</td>\n      <td>female</td>\n      <td>26.0</td>\n      <td>0</td>\n      <td>0</td>\n      <td>STON/O2. 3101282</td>\n      <td>7.9250</td>\n      <td>NaN</td>\n      <td>S</td>\n    </tr>\n    <tr>\n      <th>3</th>\n      <td>4</td>\n      <td>1</td>\n      <td>1</td>\n      <td>Futrelle, Mrs. Jacques Heath (Lily May Peel)</td>\n      <td>female</td>\n      <td>35.0</td>\n      <td>1</td>\n      <td>0</td>\n      <td>113803</td>\n      <td>53.1000</td>\n      <td>C123</td>\n      <td>S</td>\n    </tr>\n    <tr>\n      <th>4</th>\n      <td>5</td>\n      <td>0</td>\n      <td>3</td>\n      <td>Allen, Mr. William Henry</td>\n      <td>male</td>\n      <td>35.0</td>\n      <td>0</td>\n      <td>0</td>\n      <td>373450</td>\n      <td>8.0500</td>\n      <td>NaN</td>\n      <td>S</td>\n    </tr>\n  </tbody>\n</table>\n</div>"
     },
     "execution_count": 3,
     "metadata": {},
     "output_type": "execute_result"
    }
   ],
   "source": [
    "train_data.head()"
   ]
  },
  {
   "cell_type": "markdown",
   "source": [
    "The attributes have the following meaning:\n",
    "* **PassengerId**: a unique identifier for each passenger\n",
    "* **Survived**: that's the target, 0 means the passenger did not survive, while 1 means he/she survived.\n",
    "* **Pclass**: passenger class.\n",
    "* **Name**, **Sex**, **Age**: self-explanatory\n",
    "* **SibSp**: how many siblings & spouses of the passenger aboard the Titanic.\n",
    "* **Parch**: how many children & parents of the passenger aboard the Titanic.\n",
    "* **Ticket**: ticket id\n",
    "* **Fare**: price paid (in pounds)\n",
    "* **Cabin**: passenger's cabin number\n",
    "* **Embarked**: where the passenger embarked the Titanic\n",
    "\n",
    "Ok, we have the data. The test set does not have a label. That's meant to run your model on it and make the submissions and see the result."
   ],
   "metadata": {
    "collapsed": false
   }
  },
  {
   "cell_type": "markdown",
   "source": [
    "# Explore the data"
   ],
   "metadata": {
    "collapsed": false
   }
  },
  {
   "cell_type": "code",
   "execution_count": 4,
   "outputs": [
    {
     "data": {
      "text/plain": "       PassengerId    Survived      Pclass         Age       SibSp  \\\ncount   891.000000  891.000000  891.000000  714.000000  891.000000   \nmean    446.000000    0.383838    2.308642   29.699118    0.523008   \nstd     257.353842    0.486592    0.836071   14.526497    1.102743   \nmin       1.000000    0.000000    1.000000    0.420000    0.000000   \n25%     223.500000    0.000000    2.000000   20.125000    0.000000   \n50%     446.000000    0.000000    3.000000   28.000000    0.000000   \n75%     668.500000    1.000000    3.000000   38.000000    1.000000   \nmax     891.000000    1.000000    3.000000   80.000000    8.000000   \n\n            Parch        Fare  \ncount  891.000000  891.000000  \nmean     0.381594   32.204208  \nstd      0.806057   49.693429  \nmin      0.000000    0.000000  \n25%      0.000000    7.910400  \n50%      0.000000   14.454200  \n75%      0.000000   31.000000  \nmax      6.000000  512.329200  ",
      "text/html": "<div>\n<style scoped>\n    .dataframe tbody tr th:only-of-type {\n        vertical-align: middle;\n    }\n\n    .dataframe tbody tr th {\n        vertical-align: top;\n    }\n\n    .dataframe thead th {\n        text-align: right;\n    }\n</style>\n<table border=\"1\" class=\"dataframe\">\n  <thead>\n    <tr style=\"text-align: right;\">\n      <th></th>\n      <th>PassengerId</th>\n      <th>Survived</th>\n      <th>Pclass</th>\n      <th>Age</th>\n      <th>SibSp</th>\n      <th>Parch</th>\n      <th>Fare</th>\n    </tr>\n  </thead>\n  <tbody>\n    <tr>\n      <th>count</th>\n      <td>891.000000</td>\n      <td>891.000000</td>\n      <td>891.000000</td>\n      <td>714.000000</td>\n      <td>891.000000</td>\n      <td>891.000000</td>\n      <td>891.000000</td>\n    </tr>\n    <tr>\n      <th>mean</th>\n      <td>446.000000</td>\n      <td>0.383838</td>\n      <td>2.308642</td>\n      <td>29.699118</td>\n      <td>0.523008</td>\n      <td>0.381594</td>\n      <td>32.204208</td>\n    </tr>\n    <tr>\n      <th>std</th>\n      <td>257.353842</td>\n      <td>0.486592</td>\n      <td>0.836071</td>\n      <td>14.526497</td>\n      <td>1.102743</td>\n      <td>0.806057</td>\n      <td>49.693429</td>\n    </tr>\n    <tr>\n      <th>min</th>\n      <td>1.000000</td>\n      <td>0.000000</td>\n      <td>1.000000</td>\n      <td>0.420000</td>\n      <td>0.000000</td>\n      <td>0.000000</td>\n      <td>0.000000</td>\n    </tr>\n    <tr>\n      <th>25%</th>\n      <td>223.500000</td>\n      <td>0.000000</td>\n      <td>2.000000</td>\n      <td>20.125000</td>\n      <td>0.000000</td>\n      <td>0.000000</td>\n      <td>7.910400</td>\n    </tr>\n    <tr>\n      <th>50%</th>\n      <td>446.000000</td>\n      <td>0.000000</td>\n      <td>3.000000</td>\n      <td>28.000000</td>\n      <td>0.000000</td>\n      <td>0.000000</td>\n      <td>14.454200</td>\n    </tr>\n    <tr>\n      <th>75%</th>\n      <td>668.500000</td>\n      <td>1.000000</td>\n      <td>3.000000</td>\n      <td>38.000000</td>\n      <td>1.000000</td>\n      <td>0.000000</td>\n      <td>31.000000</td>\n    </tr>\n    <tr>\n      <th>max</th>\n      <td>891.000000</td>\n      <td>1.000000</td>\n      <td>3.000000</td>\n      <td>80.000000</td>\n      <td>8.000000</td>\n      <td>6.000000</td>\n      <td>512.329200</td>\n    </tr>\n  </tbody>\n</table>\n</div>"
     },
     "execution_count": 4,
     "metadata": {},
     "output_type": "execute_result"
    }
   ],
   "source": [
    "train_data.describe()"
   ],
   "metadata": {
    "collapsed": false
   }
  },
  {
   "cell_type": "markdown",
   "source": [
    "## Does the dataset have empty values?"
   ],
   "metadata": {
    "collapsed": false
   }
  },
  {
   "cell_type": "code",
   "execution_count": 5,
   "outputs": [
    {
     "name": "stdout",
     "output_type": "stream",
     "text": [
      "<class 'pandas.core.frame.DataFrame'>\n",
      "RangeIndex: 891 entries, 0 to 890\n",
      "Data columns (total 12 columns):\n",
      " #   Column       Non-Null Count  Dtype  \n",
      "---  ------       --------------  -----  \n",
      " 0   PassengerId  891 non-null    int64  \n",
      " 1   Survived     891 non-null    int64  \n",
      " 2   Pclass       891 non-null    int64  \n",
      " 3   Name         891 non-null    object \n",
      " 4   Sex          891 non-null    object \n",
      " 5   Age          714 non-null    float64\n",
      " 6   SibSp        891 non-null    int64  \n",
      " 7   Parch        891 non-null    int64  \n",
      " 8   Ticket       891 non-null    object \n",
      " 9   Fare         891 non-null    float64\n",
      " 10  Cabin        204 non-null    object \n",
      " 11  Embarked     889 non-null    object \n",
      "dtypes: float64(2), int64(5), object(5)\n",
      "memory usage: 83.7+ KB\n"
     ]
    }
   ],
   "source": [
    "train_data.info()"
   ],
   "metadata": {
    "collapsed": false
   }
  },
  {
   "cell_type": "code",
   "execution_count": 6,
   "outputs": [
    {
     "data": {
      "text/plain": "PassengerId    0.000000\nSurvived       0.000000\nPclass         0.000000\nName           0.000000\nSex            0.000000\nAge            0.198653\nSibSp          0.000000\nParch          0.000000\nTicket         0.000000\nFare           0.000000\nCabin          0.771044\nEmbarked       0.002245\ndtype: float64"
     },
     "execution_count": 6,
     "metadata": {},
     "output_type": "execute_result"
    }
   ],
   "source": [
    "train_data.isna().sum() / len(train_data)"
   ],
   "metadata": {
    "collapsed": false
   }
  },
  {
   "cell_type": "markdown",
   "source": [
    "There are empty values. Almost 20% of age, 77% of Cabin and 0.02 % of Embarked. Let's check closer."
   ],
   "metadata": {
    "collapsed": false
   }
  },
  {
   "cell_type": "code",
   "execution_count": 7,
   "outputs": [
    {
     "data": {
      "text/plain": "24.00    30\n22.00    27\n18.00    26\n19.00    25\n28.00    25\n         ..\n36.50     1\n55.50     1\n0.92      1\n23.50     1\n74.00     1\nName: Age, Length: 88, dtype: int64"
     },
     "execution_count": 7,
     "metadata": {},
     "output_type": "execute_result"
    }
   ],
   "source": [
    "train_data[\"Age\"].value_counts()\n"
   ],
   "metadata": {
    "collapsed": false
   }
  },
  {
   "cell_type": "code",
   "execution_count": 8,
   "outputs": [
    {
     "data": {
      "text/plain": "B96 B98        4\nG6             4\nC23 C25 C27    4\nC22 C26        3\nF33            3\n              ..\nE34            1\nC7             1\nC54            1\nE36            1\nC148           1\nName: Cabin, Length: 147, dtype: int64"
     },
     "execution_count": 8,
     "metadata": {},
     "output_type": "execute_result"
    }
   ],
   "source": [
    "train_data[\"Cabin\"].value_counts()\n"
   ],
   "metadata": {
    "collapsed": false
   }
  },
  {
   "cell_type": "markdown",
   "source": [
    "Cabin seems to be a categorical value. Doesn't help a lot since there are a lot of values. But what if we just keep the cabin number? Like A, B, C, D ? Maybe we could engineer that feature."
   ],
   "metadata": {
    "collapsed": false
   }
  },
  {
   "cell_type": "code",
   "execution_count": 9,
   "outputs": [
    {
     "data": {
      "text/plain": "347082      7\nCA. 2343    7\n1601        7\n3101295     6\nCA 2144     6\n           ..\n9234        1\n19988       1\n2693        1\nPC 17612    1\n370376      1\nName: Ticket, Length: 681, dtype: int64"
     },
     "execution_count": 9,
     "metadata": {},
     "output_type": "execute_result"
    }
   ],
   "source": [
    "train_data[\"Ticket\"].value_counts()"
   ],
   "metadata": {
    "collapsed": false
   }
  },
  {
   "cell_type": "markdown",
   "source": [
    "Same thing for Ticket. A categorical value with a lot of values. Not very helpful at first sight."
   ],
   "metadata": {
    "collapsed": false
   }
  },
  {
   "cell_type": "code",
   "execution_count": 10,
   "outputs": [
    {
     "data": {
      "text/plain": "S    644\nC    168\nQ     77\nName: Embarked, dtype: int64"
     },
     "execution_count": 10,
     "metadata": {},
     "output_type": "execute_result"
    }
   ],
   "source": [
    "train_data[\"Embarked\"].value_counts()\n"
   ],
   "metadata": {
    "collapsed": false
   }
  },
  {
   "cell_type": "markdown",
   "source": [
    "Just 3 categories here representing 3 different embarking locations. The Embarked attribute tells us where the passenger embarked: C=Cherbourg, Q=Queenstown, S=Southampton."
   ],
   "metadata": {
    "collapsed": false
   }
  },
  {
   "cell_type": "markdown",
   "source": [
    "## Even before exploring the data more let's train a classifier and see the result we get\n",
    "We'll train a model by applying just a simple transformation. Filling in empty values with the median for numerical columns and scaling them. For categorical values we'll fill in the missing values with the most frequest since median can't work and encoding them using a one hot encoder.\n",
    "\n",
    "We won't use all the columns for the training since some are useless for us at the moment before we learn more and we do some feature engineering. Here's what we'll drop:\n",
    "* **PassengerId**: does not contain any info\n",
    "* **Survived**: that's the target that we're predicting so no need for it\n",
    "* **Name**: Not good info at the moment, name should not affect survival rate. But maybe it does, we should check\n",
    "* **Ticket**: Too many values to treat as a category, so we'll drop it\n",
    "* **Cabin**: Too many values to treat as a category, so we'll drop it\n",
    "\n",
    "We'll keep the rest of them though and pass through a pipeline transformer"
   ],
   "metadata": {
    "collapsed": false
   }
  },
  {
   "cell_type": "code",
   "execution_count": 11,
   "outputs": [],
   "source": [
    "from sklearn.impute import SimpleImputer\n",
    "from sklearn.pipeline import Pipeline\n",
    "from sklearn.preprocessing import StandardScaler, OneHotEncoder\n",
    "\n",
    "num_pipeline = Pipeline([\n",
    "    ('imputer', SimpleImputer(strategy=\"median\")),\n",
    "    ('scaler', StandardScaler()),\n",
    "])\n",
    "\n",
    "cat_pipeline = Pipeline([\n",
    "    ('imputer', SimpleImputer(strategy=\"most_frequent\")),\n",
    "    ('encoder', OneHotEncoder()),\n",
    "])\n",
    "\n",
    "from sklearn.compose import ColumnTransformer\n",
    "\n",
    "num_attribs = [\"Age\", \"SibSp\", \"Parch\", \"Fare\"]\n",
    "cat_attribs = [\"Pclass\", \"Sex\", \"Embarked\"]\n",
    "\n",
    "preprocess_pipeline = ColumnTransformer([\n",
    "    (\"num\", num_pipeline, num_attribs),\n",
    "    (\"cat\", cat_pipeline, cat_attribs),\n",
    "])\n"
   ],
   "metadata": {
    "collapsed": false
   }
  },
  {
   "cell_type": "code",
   "execution_count": 12,
   "outputs": [
    {
     "data": {
      "text/plain": "      Age  SibSp  Parch     Fare  Pclass     Sex Embarked\n0    22.0      1      0   7.2500       3    male        S\n1    38.0      1      0  71.2833       1  female        C\n2    26.0      0      0   7.9250       3  female        S\n3    35.0      1      0  53.1000       1  female        S\n4    35.0      0      0   8.0500       3    male        S\n..    ...    ...    ...      ...     ...     ...      ...\n886  27.0      0      0  13.0000       2    male        S\n887  19.0      0      0  30.0000       1  female        S\n888   NaN      1      2  23.4500       3  female        S\n889  26.0      0      0  30.0000       1    male        C\n890  32.0      0      0   7.7500       3    male        Q\n\n[891 rows x 7 columns]",
      "text/html": "<div>\n<style scoped>\n    .dataframe tbody tr th:only-of-type {\n        vertical-align: middle;\n    }\n\n    .dataframe tbody tr th {\n        vertical-align: top;\n    }\n\n    .dataframe thead th {\n        text-align: right;\n    }\n</style>\n<table border=\"1\" class=\"dataframe\">\n  <thead>\n    <tr style=\"text-align: right;\">\n      <th></th>\n      <th>Age</th>\n      <th>SibSp</th>\n      <th>Parch</th>\n      <th>Fare</th>\n      <th>Pclass</th>\n      <th>Sex</th>\n      <th>Embarked</th>\n    </tr>\n  </thead>\n  <tbody>\n    <tr>\n      <th>0</th>\n      <td>22.0</td>\n      <td>1</td>\n      <td>0</td>\n      <td>7.2500</td>\n      <td>3</td>\n      <td>male</td>\n      <td>S</td>\n    </tr>\n    <tr>\n      <th>1</th>\n      <td>38.0</td>\n      <td>1</td>\n      <td>0</td>\n      <td>71.2833</td>\n      <td>1</td>\n      <td>female</td>\n      <td>C</td>\n    </tr>\n    <tr>\n      <th>2</th>\n      <td>26.0</td>\n      <td>0</td>\n      <td>0</td>\n      <td>7.9250</td>\n      <td>3</td>\n      <td>female</td>\n      <td>S</td>\n    </tr>\n    <tr>\n      <th>3</th>\n      <td>35.0</td>\n      <td>1</td>\n      <td>0</td>\n      <td>53.1000</td>\n      <td>1</td>\n      <td>female</td>\n      <td>S</td>\n    </tr>\n    <tr>\n      <th>4</th>\n      <td>35.0</td>\n      <td>0</td>\n      <td>0</td>\n      <td>8.0500</td>\n      <td>3</td>\n      <td>male</td>\n      <td>S</td>\n    </tr>\n    <tr>\n      <th>...</th>\n      <td>...</td>\n      <td>...</td>\n      <td>...</td>\n      <td>...</td>\n      <td>...</td>\n      <td>...</td>\n      <td>...</td>\n    </tr>\n    <tr>\n      <th>886</th>\n      <td>27.0</td>\n      <td>0</td>\n      <td>0</td>\n      <td>13.0000</td>\n      <td>2</td>\n      <td>male</td>\n      <td>S</td>\n    </tr>\n    <tr>\n      <th>887</th>\n      <td>19.0</td>\n      <td>0</td>\n      <td>0</td>\n      <td>30.0000</td>\n      <td>1</td>\n      <td>female</td>\n      <td>S</td>\n    </tr>\n    <tr>\n      <th>888</th>\n      <td>NaN</td>\n      <td>1</td>\n      <td>2</td>\n      <td>23.4500</td>\n      <td>3</td>\n      <td>female</td>\n      <td>S</td>\n    </tr>\n    <tr>\n      <th>889</th>\n      <td>26.0</td>\n      <td>0</td>\n      <td>0</td>\n      <td>30.0000</td>\n      <td>1</td>\n      <td>male</td>\n      <td>C</td>\n    </tr>\n    <tr>\n      <th>890</th>\n      <td>32.0</td>\n      <td>0</td>\n      <td>0</td>\n      <td>7.7500</td>\n      <td>3</td>\n      <td>male</td>\n      <td>Q</td>\n    </tr>\n  </tbody>\n</table>\n<p>891 rows × 7 columns</p>\n</div>"
     },
     "execution_count": 12,
     "metadata": {},
     "output_type": "execute_result"
    }
   ],
   "source": [
    "cleaned_training_data = train_data[num_attribs + cat_attribs]\n",
    "cleaned_training_data"
   ],
   "metadata": {
    "collapsed": false
   }
  },
  {
   "cell_type": "markdown",
   "source": [
    "Let's transform the training data"
   ],
   "metadata": {
    "collapsed": false
   }
  },
  {
   "cell_type": "code",
   "execution_count": 13,
   "outputs": [
    {
     "data": {
      "text/plain": "array([[-0.56573646,  0.43279337, -0.47367361, ...,  0.        ,\n         0.        ,  1.        ],\n       [ 0.66386103,  0.43279337, -0.47367361, ...,  1.        ,\n         0.        ,  0.        ],\n       [-0.25833709, -0.4745452 , -0.47367361, ...,  0.        ,\n         0.        ,  1.        ],\n       ...,\n       [-0.1046374 ,  0.43279337,  2.00893337, ...,  0.        ,\n         0.        ,  1.        ],\n       [-0.25833709, -0.4745452 , -0.47367361, ...,  1.        ,\n         0.        ,  0.        ],\n       [ 0.20276197, -0.4745452 , -0.47367361, ...,  0.        ,\n         1.        ,  0.        ]])"
     },
     "execution_count": 13,
     "metadata": {},
     "output_type": "execute_result"
    }
   ],
   "source": [
    "X_train = preprocess_pipeline.fit_transform(cleaned_training_data)\n",
    "X_train"
   ],
   "metadata": {
    "collapsed": false
   }
  },
  {
   "cell_type": "markdown",
   "source": [
    "Looks good. Let's train a classifier for this. Let's keep the labels in a different variable before."
   ],
   "metadata": {
    "collapsed": false
   }
  },
  {
   "cell_type": "code",
   "execution_count": 14,
   "outputs": [
    {
     "data": {
      "text/plain": "0      0\n1      1\n2      1\n3      1\n4      0\n      ..\n886    0\n887    1\n888    0\n889    1\n890    0\nName: Survived, Length: 891, dtype: int64"
     },
     "execution_count": 14,
     "metadata": {},
     "output_type": "execute_result"
    }
   ],
   "source": [
    "y_train = train_data[\"Survived\"]\n",
    "y_train"
   ],
   "metadata": {
    "collapsed": false
   }
  },
  {
   "cell_type": "code",
   "execution_count": 15,
   "outputs": [
    {
     "data": {
      "text/plain": "0.8092759051186016"
     },
     "execution_count": 15,
     "metadata": {},
     "output_type": "execute_result"
    }
   ],
   "source": [
    "from sklearn.ensemble import RandomForestClassifier\n",
    "from sklearn.model_selection import cross_val_score\n",
    "\n",
    "forest_clf = RandomForestClassifier(n_estimators=100, random_state=42)\n",
    "forest_scores = cross_val_score(forest_clf, X_train, y_train, cv=10)\n",
    "forest_scores.mean()"
   ],
   "metadata": {
    "collapsed": false
   }
  },
  {
   "cell_type": "markdown",
   "source": [
    "How about a different model? Like an SVC"
   ],
   "metadata": {
    "collapsed": false
   }
  },
  {
   "cell_type": "code",
   "execution_count": 16,
   "outputs": [
    {
     "data": {
      "text/plain": "0.8249313358302123"
     },
     "execution_count": 16,
     "metadata": {},
     "output_type": "execute_result"
    }
   ],
   "source": [
    "from sklearn.svm import SVC\n",
    "\n",
    "svm_clf = SVC(gamma=\"auto\")\n",
    "svm_scores = cross_val_score(svm_clf, X_train, y_train, cv=10)\n",
    "svm_scores.mean()"
   ],
   "metadata": {
    "collapsed": false
   }
  },
  {
   "cell_type": "markdown",
   "source": [
    "Over 80% accuracy on the validation set using both models. That's not bad at all. And we did this before doing any meaningful exploration and feature engineering.\n",
    "* Are the features we used relevant? What if we don't need all\n",
    "* Do the features we dropped contain relevant information? Can we adjust and use them?\n",
    "* Is the model good? We should try a few more\n",
    "* We should fine-tune the hyperparameters as well"
   ],
   "metadata": {
    "collapsed": false
   }
  },
  {
   "cell_type": "markdown",
   "source": [
    "# Let's explore the data in more depth"
   ],
   "metadata": {
    "collapsed": false
   }
  },
  {
   "cell_type": "code",
   "execution_count": 17,
   "outputs": [
    {
     "data": {
      "text/plain": "Survived       1.000000\nFare           0.257307\nParch          0.081629\nPassengerId   -0.005007\nSibSp         -0.035322\nAge           -0.077221\nPclass        -0.338481\nName: Survived, dtype: float64"
     },
     "execution_count": 17,
     "metadata": {},
     "output_type": "execute_result"
    }
   ],
   "source": [
    "corr_matrix = train_data.corr()\n",
    "corr_matrix[\"Survived\"].sort_values(ascending=False)\n"
   ],
   "metadata": {
    "collapsed": false
   }
  },
  {
   "cell_type": "markdown",
   "source": [
    "\n",
    "## Let's check how many passengers survived"
   ],
   "metadata": {
    "collapsed": false
   }
  },
  {
   "cell_type": "code",
   "execution_count": 18,
   "outputs": [
    {
     "data": {
      "text/plain": "0    549\n1    342\nName: Survived, dtype: int64"
     },
     "execution_count": 18,
     "metadata": {},
     "output_type": "execute_result"
    }
   ],
   "source": [
    "train_data[\"Survived\"].value_counts()"
   ],
   "metadata": {
    "collapsed": false
   }
  },
  {
   "cell_type": "code",
   "execution_count": 19,
   "outputs": [
    {
     "data": {
      "text/plain": "0    0.616162\n1    0.383838\nName: Survived, dtype: float64"
     },
     "execution_count": 19,
     "metadata": {},
     "output_type": "execute_result"
    }
   ],
   "source": [
    "train_data[\"Survived\"].value_counts(normalize=True)\n"
   ],
   "metadata": {
    "collapsed": false
   }
  },
  {
   "cell_type": "markdown",
   "source": [
    "I'll create a method to plot different dataframes based on survival since i'll need this later."
   ],
   "metadata": {
    "collapsed": false
   }
  },
  {
   "cell_type": "code",
   "execution_count": 20,
   "outputs": [
    {
     "data": {
      "text/plain": "<Figure size 360x360 with 1 Axes>",
      "image/png": "[encoded data removed]"
     },
     "metadata": {},
     "output_type": "display_data"
    }
   ],
   "source": [
    "def survival_chart_stacked(data, feature, stacked=True):\n",
    "    survived = data[data[\"Survived\"] == 1][feature].value_counts()\n",
    "    dead = data[data[\"Survived\"] == 0][feature].value_counts()\n",
    "    survived_dead = pd.DataFrame([survived, dead])\n",
    "    survived_dead.index = [\"Survived\", \"Dead\"]\n",
    "    survived_dead.plot(kind=\"bar\", stacked=stacked, figsize=(5, 5))\n",
    "\n",
    "\n",
    "survival_chart_stacked(train_data, \"Survived\")"
   ],
   "metadata": {
    "collapsed": false
   }
  },
  {
   "cell_type": "markdown",
   "source": [
    "So yea, 38% only survived. The data set suffers from imbalance but this imbalance is important, so we shouldn't sample it.\n",
    "\n",
    "## Is the likelihood of survival dependent on gender?"
   ],
   "metadata": {
    "collapsed": false
   }
  },
  {
   "cell_type": "code",
   "execution_count": 21,
   "outputs": [
    {
     "data": {
      "text/plain": "male      577\nfemale    314\nName: Sex, dtype: int64"
     },
     "execution_count": 21,
     "metadata": {},
     "output_type": "execute_result"
    }
   ],
   "source": [
    "train_data[\"Sex\"].value_counts()\n"
   ],
   "metadata": {
    "collapsed": false
   }
  },
  {
   "cell_type": "code",
   "execution_count": 22,
   "outputs": [
    {
     "data": {
      "text/plain": "male      0.647587\nfemale    0.352413\nName: Sex, dtype: float64"
     },
     "execution_count": 22,
     "metadata": {},
     "output_type": "execute_result"
    }
   ],
   "source": [
    "train_data[\"Sex\"].value_counts(normalize=True)\n"
   ],
   "metadata": {
    "collapsed": false
   }
  },
  {
   "cell_type": "code",
   "execution_count": 23,
   "outputs": [
    {
     "data": {
      "text/plain": "Sex\nfemale    0.742038\nmale      0.188908\nName: Survived, dtype: float64"
     },
     "execution_count": 23,
     "metadata": {},
     "output_type": "execute_result"
    }
   ],
   "source": [
    "train_data.groupby(\"Sex\")[\"Survived\"].mean()\n"
   ],
   "metadata": {
    "collapsed": false
   }
  },
  {
   "cell_type": "code",
   "execution_count": 24,
   "outputs": [
    {
     "data": {
      "text/plain": "<Figure size 360x360 with 1 Axes>",
      "image/png": "[encoded data removed]"
     },
     "metadata": {},
     "output_type": "display_data"
    }
   ],
   "source": [
    "survival_chart_stacked(train_data, \"Sex\")\n"
   ],
   "metadata": {
    "collapsed": false
   }
  },
  {
   "cell_type": "markdown",
   "source": [
    "It's clear here that the majority of people who survived were women. 4 times higher that the survival rate for men. It confirms that they  applied the women and children first.\n",
    "\n",
    "## Is the likelihood of survival dependent on class?"
   ],
   "metadata": {
    "collapsed": false
   }
  },
  {
   "cell_type": "code",
   "execution_count": 25,
   "outputs": [
    {
     "data": {
      "text/plain": "3    0.551066\n1    0.242424\n2    0.206510\nName: Pclass, dtype: float64"
     },
     "execution_count": 25,
     "metadata": {},
     "output_type": "execute_result"
    }
   ],
   "source": [
    "train_data[\"Pclass\"].value_counts(normalize=True)"
   ],
   "metadata": {
    "collapsed": false
   }
  },
  {
   "cell_type": "code",
   "execution_count": 26,
   "outputs": [
    {
     "data": {
      "text/plain": "Pclass\n1    0.629630\n2    0.472826\n3    0.242363\nName: Survived, dtype: float64"
     },
     "execution_count": 26,
     "metadata": {},
     "output_type": "execute_result"
    }
   ],
   "source": [
    "train_data.groupby(\"Pclass\")[\"Survived\"].mean()\n"
   ],
   "metadata": {
    "collapsed": false
   }
  },
  {
   "cell_type": "code",
   "execution_count": 27,
   "outputs": [
    {
     "data": {
      "text/plain": "<Figure size 360x360 with 1 Axes>",
      "image/png": "[encoded data removed]"
     },
     "metadata": {},
     "output_type": "display_data"
    }
   ],
   "source": [
    "survival_chart_stacked(train_data, \"Pclass\")\n"
   ],
   "metadata": {
    "collapsed": false
   }
  },
  {
   "cell_type": "markdown",
   "source": [
    "The class seems to be relevant. Most of the passengers (55%) had class 3 tickets but only 24% of them survived. 63% of class 1 survived which is very relevant and 47% of class 2.\n",
    "We should explore if the higher survival rate in class 1 is due to the actual class and not another reason.\n",
    "\n",
    "## Is the higher survival rate in Class 1 due to the class itself or due to a skewed gender distribution in which female passengers dominate?"
   ],
   "metadata": {
    "collapsed": false
   }
  },
  {
   "cell_type": "code",
   "execution_count": 28,
   "outputs": [
    {
     "data": {
      "text/plain": "Pclass  Sex   \n1       female    0.968085\n        male      0.368852\n2       female    0.921053\n        male      0.157407\n3       female    0.500000\n        male      0.135447\nName: Survived, dtype: float64"
     },
     "execution_count": 28,
     "metadata": {},
     "output_type": "execute_result"
    }
   ],
   "source": [
    "train_data.groupby([\"Pclass\", \"Sex\"])[\"Survived\"].mean()"
   ],
   "metadata": {
    "collapsed": false
   }
  },
  {
   "cell_type": "code",
   "execution_count": 29,
   "outputs": [
    {
     "data": {
      "text/plain": "Pclass  Sex   \n1       male      122\n        female     94\n2       male      108\n        female     76\n3       male      347\n        female    144\nName: Sex, dtype: int64"
     },
     "execution_count": 29,
     "metadata": {},
     "output_type": "execute_result"
    }
   ],
   "source": [
    "train_data.groupby([\"Pclass\"])[\"Sex\"].value_counts()"
   ],
   "metadata": {
    "collapsed": false
   }
  },
  {
   "cell_type": "markdown",
   "source": [
    "We can see that no, there's not a horrible bias in numbers towards women in class 1. So let's check the survival rate grouping by class and sex."
   ],
   "metadata": {
    "collapsed": false
   }
  },
  {
   "cell_type": "code",
   "execution_count": 30,
   "outputs": [
    {
     "data": {
      "text/plain": "<AxesSubplot:xlabel='Pclass', ylabel='Survived'>"
     },
     "execution_count": 30,
     "metadata": {},
     "output_type": "execute_result"
    },
    {
     "data": {
      "text/plain": "<Figure size 432x288 with 1 Axes>",
      "image/png": "[encoded data removed]"
     },
     "metadata": {},
     "output_type": "display_data"
    }
   ],
   "source": [
    "import seaborn as sns\n",
    "\n",
    "sns.barplot(x=\"Pclass\", y=\"Survived\", hue=\"Sex\", data=train_data)\n"
   ],
   "metadata": {
    "collapsed": false
   }
  },
  {
   "cell_type": "markdown",
   "source": [
    "We can see that our question made sense. Regardless of the class, the most important thing was gender. We can see however that men had a higher chance of survival if they bought class 1 tickets. This shows that both Sex and the class are good features affecting the survival chance.\n",
    "* Survival females class 1: 96.8%\n",
    "* Survival females class 2: 92.1%\n",
    "* Survival females class 3: 50%\n",
    "* Survival males class 1: 36.8% (even the highest survival rate based on class for men si still lower that the lowest survival rate of women)"
   ],
   "metadata": {
    "collapsed": false
   }
  },
  {
   "cell_type": "markdown",
   "source": [
    "## Did a passengers age influence the chance of survival?"
   ],
   "metadata": {
    "collapsed": false
   }
  },
  {
   "cell_type": "code",
   "execution_count": 31,
   "outputs": [
    {
     "data": {
      "text/plain": "<seaborn.axisgrid.FacetGrid at 0x2d969866f70>"
     },
     "execution_count": 31,
     "metadata": {},
     "output_type": "execute_result"
    },
    {
     "data": {
      "text/plain": "<Figure size 360x360 with 1 Axes>",
      "image/png": "[encoded data removed]"
     },
     "metadata": {},
     "output_type": "display_data"
    }
   ],
   "source": [
    "sns.displot(train_data[\"Age\"], color='b', bins=20)\n"
   ],
   "metadata": {
    "collapsed": false
   }
  },
  {
   "cell_type": "markdown",
   "source": [
    "It's a pretty normal Gaussian distribution. Let's plot survivors and deaths based on age."
   ],
   "metadata": {
    "collapsed": false
   }
  },
  {
   "cell_type": "code",
   "execution_count": 32,
   "outputs": [
    {
     "data": {
      "text/plain": "<seaborn.axisgrid.FacetGrid at 0x2d96a9e6e50>"
     },
     "execution_count": 32,
     "metadata": {},
     "output_type": "execute_result"
    },
    {
     "data": {
      "text/plain": "<Figure size 360x360 with 1 Axes>",
      "image/png": "[encoded data removed]"
     },
     "metadata": {},
     "output_type": "display_data"
    }
   ],
   "source": [
    "sns.displot(train_data[train_data[\"Survived\"] == 1][\"Age\"], color='g', bins=20)"
   ],
   "metadata": {
    "collapsed": false
   }
  },
  {
   "cell_type": "code",
   "execution_count": 33,
   "outputs": [
    {
     "data": {
      "text/plain": "<seaborn.axisgrid.FacetGrid at 0x2d96a9a34c0>"
     },
     "execution_count": 33,
     "metadata": {},
     "output_type": "execute_result"
    },
    {
     "data": {
      "text/plain": "<Figure size 360x360 with 1 Axes>",
      "image/png": "[encoded data removed]"
     },
     "metadata": {},
     "output_type": "display_data"
    }
   ],
   "source": [
    "sns.displot(train_data[train_data[\"Survived\"] == 0][\"Age\"], color='r', bins=20)"
   ],
   "metadata": {
    "collapsed": false
   }
  },
  {
   "cell_type": "markdown",
   "source": [
    "Not very visible. Let's put then on top of each other."
   ],
   "metadata": {
    "collapsed": false
   }
  },
  {
   "cell_type": "code",
   "execution_count": 34,
   "outputs": [
    {
     "data": {
      "text/plain": "<matplotlib.legend.Legend at 0x2d9698d4490>"
     },
     "execution_count": 34,
     "metadata": {},
     "output_type": "execute_result"
    },
    {
     "data": {
      "text/plain": "<Figure size 360x360 with 1 Axes>",
      "image/png": "[encoded data removed]"
     },
     "metadata": {},
     "output_type": "display_data"
    }
   ],
   "source": [
    "fig, ax = plt.subplots(figsize=(5, 5))\n",
    "sns.kdeplot(train_data[train_data[\"Survived\"] == 1][\"Age\"], shade=True, ax=ax, label=\"Survived\", color='g')\n",
    "sns.kdeplot(train_data[train_data[\"Survived\"] == 0][\"Age\"], shade=True, ax=ax, label=\"Died\", color='r')\n",
    "plt.legend()\n"
   ],
   "metadata": {
    "collapsed": false
   }
  },
  {
   "cell_type": "markdown",
   "source": [
    "We didn't learn a lot by looking at this except the fact that seems to be a raise in survivors at a very small age. We should try and investigate the age and the sex together because it makes sense that age SHOULD HAVE an influence on survival:"
   ],
   "metadata": {
    "collapsed": false
   }
  },
  {
   "cell_type": "code",
   "execution_count": 35,
   "outputs": [
    {
     "data": {
      "text/plain": "<AxesSubplot:xlabel='Age', ylabel='Sex'>"
     },
     "execution_count": 35,
     "metadata": {},
     "output_type": "execute_result"
    },
    {
     "data": {
      "text/plain": "<Figure size 1296x360 with 1 Axes>",
      "image/png": "[encoded data removed]"
     },
     "metadata": {},
     "output_type": "display_data"
    }
   ],
   "source": [
    "fix, ax = plt.subplots(figsize=(18, 5))\n",
    "plt.xticks(list(range(0, 100, 2)))\n",
    "sns.swarmplot(x=\"Age\", y=\"Sex\", hue=\"Survived\", data=train_data)\n"
   ],
   "metadata": {
    "collapsed": false
   }
  },
  {
   "cell_type": "markdown",
   "source": [
    "This view gives us a bit more information that before. We can see that a big portion of the male survivors are between 0-12 years old. Alsom the oldest passenger, an 80 year old survived.\n",
    "\n",
    "Let's also check the survival rate between age and class:"
   ],
   "metadata": {
    "collapsed": false
   }
  },
  {
   "cell_type": "code",
   "execution_count": 36,
   "outputs": [
    {
     "data": {
      "text/plain": "<AxesSubplot:xlabel='Pclass', ylabel='Age'>"
     },
     "execution_count": 36,
     "metadata": {},
     "output_type": "execute_result"
    },
    {
     "data": {
      "text/plain": "<Figure size 1296x360 with 1 Axes>",
      "image/png": "[encoded data removed]"
     },
     "metadata": {},
     "output_type": "display_data"
    }
   ],
   "source": [
    "fix, ax = plt.subplots(figsize=(18, 5))\n",
    "sns.swarmplot(x=\"Pclass\", y=\"Age\", hue=\"Survived\", data=train_data)\n"
   ],
   "metadata": {
    "collapsed": false
   }
  },
  {
   "cell_type": "markdown",
   "source": [
    "As expected a lot of survivors in class 1. It's also interesting to see that there were not a lot of children inb class 1. Maybe rich people don't make a lot of kids?\n",
    "\n",
    "## Did paying the ticket price influence the chance of survival?"
   ],
   "metadata": {
    "collapsed": false
   }
  },
  {
   "cell_type": "code",
   "execution_count": 37,
   "outputs": [
    {
     "data": {
      "text/plain": "count    891.000000\nmean      32.204208\nstd       49.693429\nmin        0.000000\n25%        7.910400\n50%       14.454200\n75%       31.000000\nmax      512.329200\nName: Fare, dtype: float64"
     },
     "execution_count": 37,
     "metadata": {},
     "output_type": "execute_result"
    }
   ],
   "source": [
    "train_data[\"Fare\"].describe()\n"
   ],
   "metadata": {
    "collapsed": false
   }
  },
  {
   "cell_type": "code",
   "execution_count": 38,
   "outputs": [
    {
     "data": {
      "text/plain": "<seaborn.axisgrid.FacetGrid at 0x2d96ab024c0>"
     },
     "execution_count": 38,
     "metadata": {},
     "output_type": "execute_result"
    },
    {
     "data": {
      "text/plain": "<Figure size 360x360 with 1 Axes>",
      "image/png": "[encoded data removed]"
     },
     "metadata": {},
     "output_type": "display_data"
    }
   ],
   "source": [
    "sns.displot(train_data[\"Fare\"], color='g', bins=50)\n"
   ],
   "metadata": {
    "collapsed": false
   }
  },
  {
   "cell_type": "markdown",
   "source": [
    "It's not a normal distribution and it has a huge spike between 0-100. 75% of the people paid under 31$ and the most pricey ticket was 512$.\n",
    "Maybe we should scale this feature depending on the model.\n",
    "\n",
    "As befor we should check the correlation between the survival and the fares but the problem is we have too many different values for the Fares. A way of approaching this is to group the fares into categories to visualize them better. The way we decide these categories are looking at the distribution above. This process of cateogrizing numerical features is called binning. We could actually use this new cateogry when training the model. We're not sure it will help but we can check with it and without it."
   ],
   "metadata": {
    "collapsed": false
   }
  },
  {
   "cell_type": "code",
   "execution_count": 39,
   "outputs": [
    {
     "data": {
      "text/plain": "<AxesSubplot:xlabel='Fare', ylabel='Survived'>"
     },
     "execution_count": 39,
     "metadata": {},
     "output_type": "execute_result"
    },
    {
     "data": {
      "text/plain": "<Figure size 360x360 with 1 Axes>",
      "image/png": "[encoded data removed]"
     },
     "metadata": {},
     "output_type": "display_data"
    }
   ],
   "source": [
    "fig, ax = plt.subplots(figsize=(5, 5))\n",
    "fare_categories = pd.qcut(train_data[\"Fare\"], 4, labels=['Cheap', 'Standard', 'Expensive',\n",
    "                                                         'Luxury'])  # This splits it based on %: 0 0.25 0.5 0.75 1\n",
    "sns.barplot(x=fare_categories, y=train_data[\"Survived\"], ax=ax)\n"
   ],
   "metadata": {
    "collapsed": false
   }
  },
  {
   "cell_type": "markdown",
   "source": [
    "It's pretty clear to see that chances of survivability clearly go up with the Fare price.\n",
    "* Cheap (0-25% of max price) Survival Rate 0.2\n",
    "* Standard (25-50% of max price) Survival Rate 0.3\n",
    "* Expensive (50-75% of max price) Survival Rate 0.45\n",
    "* Luxury (75-100% of max price) Survival Rate 0.55\n",
    "\n",
    "We can also check the relationship between the fare, sex and survival rate to understand more about the importance of the fare:"
   ],
   "metadata": {
    "collapsed": false
   }
  },
  {
   "cell_type": "code",
   "execution_count": 40,
   "outputs": [
    {
     "name": "stderr",
     "output_type": "stream",
     "text": [
      "C:\\ProgramData\\Anaconda3\\lib\\site-packages\\seaborn\\categorical.py:1296: UserWarning: 45.8% of the points cannot be placed; you may want to decrease the size of the markers or use stripplot.\n",
      "  warnings.warn(msg, UserWarning)\n",
      "C:\\ProgramData\\Anaconda3\\lib\\site-packages\\seaborn\\categorical.py:1296: UserWarning: 16.2% of the points cannot be placed; you may want to decrease the size of the markers or use stripplot.\n",
      "  warnings.warn(msg, UserWarning)\n"
     ]
    },
    {
     "data": {
      "text/plain": "<AxesSubplot:xlabel='Sex', ylabel='Fare'>"
     },
     "execution_count": 40,
     "metadata": {},
     "output_type": "execute_result"
    },
    {
     "data": {
      "text/plain": "<Figure size 1296x360 with 1 Axes>",
      "image/png": "[encoded data removed]"
     },
     "metadata": {},
     "output_type": "display_data"
    }
   ],
   "source": [
    "fix, ax = plt.subplots(figsize=(18, 5))\n",
    "sns.swarmplot(x=\"Sex\", y=\"Fare\", hue=\"Survived\", data=train_data)\n"
   ],
   "metadata": {
    "collapsed": false
   }
  },
  {
   "cell_type": "markdown",
   "source": [
    "We can see some more things with this. All people, no matter the sex with tickets above 500 survived.\n",
    "All male passengers between 200-300 died but all women between 200-300 survived. Interesting.\n",
    "All of these are patterns that a classifier can see.\n",
    "\n",
    "Another thing we can see in the describe is that the smallest Fare paid was 0.0 .This does not seem right. Let's check out who these people were:"
   ],
   "metadata": {
    "collapsed": false
   }
  },
  {
   "cell_type": "code",
   "execution_count": 41,
   "outputs": [
    {
     "data": {
      "text/plain": "     PassengerId  Survived  Pclass                              Name   Sex  \\\n179          180         0       3               Leonard, Mr. Lionel  male   \n263          264         0       1             Harrison, Mr. William  male   \n271          272         1       3      Tornquist, Mr. William Henry  male   \n277          278         0       2       Parkes, Mr. Francis \"Frank\"  male   \n302          303         0       3   Johnson, Mr. William Cahoone Jr  male   \n413          414         0       2    Cunningham, Mr. Alfred Fleming  male   \n466          467         0       2             Campbell, Mr. William  male   \n481          482         0       2  Frost, Mr. Anthony Wood \"Archie\"  male   \n597          598         0       3               Johnson, Mr. Alfred  male   \n633          634         0       1     Parr, Mr. William Henry Marsh  male   \n674          675         0       2        Watson, Mr. Ennis Hastings  male   \n732          733         0       2              Knight, Mr. Robert J  male   \n806          807         0       1            Andrews, Mr. Thomas Jr  male   \n815          816         0       1                  Fry, Mr. Richard  male   \n822          823         0       1   Reuchlin, Jonkheer. John George  male   \n\n      Age  SibSp  Parch  Ticket  Fare Cabin Embarked  \n179  36.0      0      0    LINE   0.0   NaN        S  \n263  40.0      0      0  112059   0.0   B94        S  \n271  25.0      0      0    LINE   0.0   NaN        S  \n277   NaN      0      0  239853   0.0   NaN        S  \n302  19.0      0      0    LINE   0.0   NaN        S  \n413   NaN      0      0  239853   0.0   NaN        S  \n466   NaN      0      0  239853   0.0   NaN        S  \n481   NaN      0      0  239854   0.0   NaN        S  \n597  49.0      0      0    LINE   0.0   NaN        S  \n633   NaN      0      0  112052   0.0   NaN        S  \n674   NaN      0      0  239856   0.0   NaN        S  \n732   NaN      0      0  239855   0.0   NaN        S  \n806  39.0      0      0  112050   0.0   A36        S  \n815   NaN      0      0  112058   0.0  B102        S  \n822  38.0      0      0   19972   0.0   NaN        S  ",
      "text/html": "<div>\n<style scoped>\n    .dataframe tbody tr th:only-of-type {\n        vertical-align: middle;\n    }\n\n    .dataframe tbody tr th {\n        vertical-align: top;\n    }\n\n    .dataframe thead th {\n        text-align: right;\n    }\n</style>\n<table border=\"1\" class=\"dataframe\">\n  <thead>\n    <tr style=\"text-align: right;\">\n      <th></th>\n      <th>PassengerId</th>\n      <th>Survived</th>\n      <th>Pclass</th>\n      <th>Name</th>\n      <th>Sex</th>\n      <th>Age</th>\n      <th>SibSp</th>\n      <th>Parch</th>\n      <th>Ticket</th>\n      <th>Fare</th>\n      <th>Cabin</th>\n      <th>Embarked</th>\n    </tr>\n  </thead>\n  <tbody>\n    <tr>\n      <th>179</th>\n      <td>180</td>\n      <td>0</td>\n      <td>3</td>\n      <td>Leonard, Mr. Lionel</td>\n      <td>male</td>\n      <td>36.0</td>\n      <td>0</td>\n      <td>0</td>\n      <td>LINE</td>\n      <td>0.0</td>\n      <td>NaN</td>\n      <td>S</td>\n    </tr>\n    <tr>\n      <th>263</th>\n      <td>264</td>\n      <td>0</td>\n      <td>1</td>\n      <td>Harrison, Mr. William</td>\n      <td>male</td>\n      <td>40.0</td>\n      <td>0</td>\n      <td>0</td>\n      <td>112059</td>\n      <td>0.0</td>\n      <td>B94</td>\n      <td>S</td>\n    </tr>\n    <tr>\n      <th>271</th>\n      <td>272</td>\n      <td>1</td>\n      <td>3</td>\n      <td>Tornquist, Mr. William Henry</td>\n      <td>male</td>\n      <td>25.0</td>\n      <td>0</td>\n      <td>0</td>\n      <td>LINE</td>\n      <td>0.0</td>\n      <td>NaN</td>\n      <td>S</td>\n    </tr>\n    <tr>\n      <th>277</th>\n      <td>278</td>\n      <td>0</td>\n      <td>2</td>\n      <td>Parkes, Mr. Francis \"Frank\"</td>\n      <td>male</td>\n      <td>NaN</td>\n      <td>0</td>\n      <td>0</td>\n      <td>239853</td>\n      <td>0.0</td>\n      <td>NaN</td>\n      <td>S</td>\n    </tr>\n    <tr>\n      <th>302</th>\n      <td>303</td>\n      <td>0</td>\n      <td>3</td>\n      <td>Johnson, Mr. William Cahoone Jr</td>\n      <td>male</td>\n      <td>19.0</td>\n      <td>0</td>\n      <td>0</td>\n      <td>LINE</td>\n      <td>0.0</td>\n      <td>NaN</td>\n      <td>S</td>\n    </tr>\n    <tr>\n      <th>413</th>\n      <td>414</td>\n      <td>0</td>\n      <td>2</td>\n      <td>Cunningham, Mr. Alfred Fleming</td>\n      <td>male</td>\n      <td>NaN</td>\n      <td>0</td>\n      <td>0</td>\n      <td>239853</td>\n      <td>0.0</td>\n      <td>NaN</td>\n      <td>S</td>\n    </tr>\n    <tr>\n      <th>466</th>\n      <td>467</td>\n      <td>0</td>\n      <td>2</td>\n      <td>Campbell, Mr. William</td>\n      <td>male</td>\n      <td>NaN</td>\n      <td>0</td>\n      <td>0</td>\n      <td>239853</td>\n      <td>0.0</td>\n      <td>NaN</td>\n      <td>S</td>\n    </tr>\n    <tr>\n      <th>481</th>\n      <td>482</td>\n      <td>0</td>\n      <td>2</td>\n      <td>Frost, Mr. Anthony Wood \"Archie\"</td>\n      <td>male</td>\n      <td>NaN</td>\n      <td>0</td>\n      <td>0</td>\n      <td>239854</td>\n      <td>0.0</td>\n      <td>NaN</td>\n      <td>S</td>\n    </tr>\n    <tr>\n      <th>597</th>\n      <td>598</td>\n      <td>0</td>\n      <td>3</td>\n      <td>Johnson, Mr. Alfred</td>\n      <td>male</td>\n      <td>49.0</td>\n      <td>0</td>\n      <td>0</td>\n      <td>LINE</td>\n      <td>0.0</td>\n      <td>NaN</td>\n      <td>S</td>\n    </tr>\n    <tr>\n      <th>633</th>\n      <td>634</td>\n      <td>0</td>\n      <td>1</td>\n      <td>Parr, Mr. William Henry Marsh</td>\n      <td>male</td>\n      <td>NaN</td>\n      <td>0</td>\n      <td>0</td>\n      <td>112052</td>\n      <td>0.0</td>\n      <td>NaN</td>\n      <td>S</td>\n    </tr>\n    <tr>\n      <th>674</th>\n      <td>675</td>\n      <td>0</td>\n      <td>2</td>\n      <td>Watson, Mr. Ennis Hastings</td>\n      <td>male</td>\n      <td>NaN</td>\n      <td>0</td>\n      <td>0</td>\n      <td>239856</td>\n      <td>0.0</td>\n      <td>NaN</td>\n      <td>S</td>\n    </tr>\n    <tr>\n      <th>732</th>\n      <td>733</td>\n      <td>0</td>\n      <td>2</td>\n      <td>Knight, Mr. Robert J</td>\n      <td>male</td>\n      <td>NaN</td>\n      <td>0</td>\n      <td>0</td>\n      <td>239855</td>\n      <td>0.0</td>\n      <td>NaN</td>\n      <td>S</td>\n    </tr>\n    <tr>\n      <th>806</th>\n      <td>807</td>\n      <td>0</td>\n      <td>1</td>\n      <td>Andrews, Mr. Thomas Jr</td>\n      <td>male</td>\n      <td>39.0</td>\n      <td>0</td>\n      <td>0</td>\n      <td>112050</td>\n      <td>0.0</td>\n      <td>A36</td>\n      <td>S</td>\n    </tr>\n    <tr>\n      <th>815</th>\n      <td>816</td>\n      <td>0</td>\n      <td>1</td>\n      <td>Fry, Mr. Richard</td>\n      <td>male</td>\n      <td>NaN</td>\n      <td>0</td>\n      <td>0</td>\n      <td>112058</td>\n      <td>0.0</td>\n      <td>B102</td>\n      <td>S</td>\n    </tr>\n    <tr>\n      <th>822</th>\n      <td>823</td>\n      <td>0</td>\n      <td>1</td>\n      <td>Reuchlin, Jonkheer. John George</td>\n      <td>male</td>\n      <td>38.0</td>\n      <td>0</td>\n      <td>0</td>\n      <td>19972</td>\n      <td>0.0</td>\n      <td>NaN</td>\n      <td>S</td>\n    </tr>\n  </tbody>\n</table>\n</div>"
     },
     "execution_count": 41,
     "metadata": {},
     "output_type": "execute_result"
    }
   ],
   "source": [
    "train_data.loc[train_data[\"Fare\"] == 0]\n"
   ],
   "metadata": {
    "collapsed": false
   }
  },
  {
   "cell_type": "markdown",
   "source": [
    "Not a lot of info except maybe the fact that they were all men, they all embarked at Southampton and all except 1 of them died.\n",
    "Maybe they didnt pay because they were reporters, family members of the crew or something else.\n",
    "\n",
    "Besides these, since it doesn't make sense for Fare prices to be 0 we will replace them with NaN and we will fill them with the imputed using the median later when we feature engineer:"
   ],
   "metadata": {
    "collapsed": false
   }
  },
  {
   "cell_type": "code",
   "execution_count": 42,
   "outputs": [],
   "source": [
    "train_data.loc[train_data[\"Fare\"] == 0, \"Fare\"] = np.NaN\n",
    "test_data.loc[train_data[\"Fare\"] == 0, \"Fare\"] = np.NaN"
   ],
   "metadata": {
    "collapsed": false
   }
  },
  {
   "cell_type": "markdown",
   "source": [
    "## Could the place of embarkation influence the chance of survival?\n",
    "Logic would tell us that the embarkation place should not matter at all but we should investigate it and not make assumptions about the data.\n",
    "We count count how many embarkations we has at each location and plot them:"
   ],
   "metadata": {
    "collapsed": false
   }
  },
  {
   "cell_type": "code",
   "execution_count": 43,
   "outputs": [
    {
     "name": "stderr",
     "output_type": "stream",
     "text": [
      "C:\\ProgramData\\Anaconda3\\lib\\site-packages\\seaborn\\_decorators.py:36: FutureWarning: Pass the following variable as a keyword arg: x. From version 0.12, the only valid positional argument will be `data`, and passing other arguments without an explicit keyword will result in an error or misinterpretation.\n",
      "  warnings.warn(\n"
     ]
    },
    {
     "data": {
      "text/plain": "<AxesSubplot:xlabel='Embarked', ylabel='count'>"
     },
     "execution_count": 43,
     "metadata": {},
     "output_type": "execute_result"
    },
    {
     "data": {
      "text/plain": "<Figure size 432x288 with 1 Axes>",
      "image/png": "[encoded data removed]"
     },
     "metadata": {},
     "output_type": "display_data"
    }
   ],
   "source": [
    "sns.countplot(train_data[\"Embarked\"])\n"
   ],
   "metadata": {
    "collapsed": false
   }
  },
  {
   "cell_type": "code",
   "execution_count": 44,
   "outputs": [
    {
     "data": {
      "text/plain": "S    644\nC    168\nQ     77\nName: Embarked, dtype: int64"
     },
     "execution_count": 44,
     "metadata": {},
     "output_type": "execute_result"
    }
   ],
   "source": [
    "train_data[\"Embarked\"].value_counts()"
   ],
   "metadata": {
    "collapsed": false
   }
  },
  {
   "cell_type": "code",
   "execution_count": 45,
   "outputs": [
    {
     "data": {
      "text/plain": "Embarked  Survived\nC         1           0.553571\n          0           0.446429\nQ         0           0.610390\n          1           0.389610\nS         0           0.663043\n          1           0.336957\nName: Survived, dtype: float64"
     },
     "execution_count": 45,
     "metadata": {},
     "output_type": "execute_result"
    }
   ],
   "source": [
    "train_data.groupby(\"Embarked\")[\"Survived\"].value_counts(normalize=True)"
   ],
   "metadata": {
    "collapsed": false
   }
  },
  {
   "cell_type": "markdown",
   "source": [
    "We can also plot it against survival rate to see any connections there:"
   ],
   "metadata": {
    "collapsed": false
   }
  },
  {
   "cell_type": "code",
   "execution_count": 46,
   "outputs": [
    {
     "data": {
      "text/plain": "<Figure size 360x360 with 1 Axes>",
      "image/png": "[encoded data removed]"
     },
     "metadata": {},
     "output_type": "display_data"
    }
   ],
   "source": [
    "survival_chart_stacked(train_data, \"Embarked\")"
   ],
   "metadata": {
    "collapsed": false
   }
  },
  {
   "cell_type": "code",
   "execution_count": 47,
   "outputs": [
    {
     "data": {
      "text/plain": "<AxesSubplot:xlabel='Embarked', ylabel='count'>"
     },
     "execution_count": 47,
     "metadata": {},
     "output_type": "execute_result"
    },
    {
     "data": {
      "text/plain": "<Figure size 432x288 with 1 Axes>",
      "image/png": "[encoded data removed]"
     },
     "metadata": {},
     "output_type": "display_data"
    }
   ],
   "source": [
    "sns.countplot(x=\"Embarked\", hue=\"Survived\", data=train_data)\n"
   ],
   "metadata": {
    "collapsed": false
   }
  },
  {
   "cell_type": "markdown",
   "source": [
    "We can see that most of the passengers embarked at Southampton. However, only 33% survived. The passengers from Cherbourg have the highest survival rate of 55%.\n",
    "It's always important to not make prios assumptions we should use common sense all the time.Why should the place of embarkation influence the survival rate? Why is the likelihood higher at Cherbourg.\n",
    "\n",
    "## Was the high number of survivors that embarked at Cherbourg due to a high number of Class 1 passengers?\n",
    "We know the class increases the chance of survival so let's check if there's more class 1 passengers at Cherbourg vs the rest."
   ],
   "metadata": {
    "collapsed": false
   }
  },
  {
   "cell_type": "code",
   "execution_count": 48,
   "outputs": [
    {
     "data": {
      "text/plain": "<AxesSubplot:xlabel='Embarked', ylabel='count'>"
     },
     "execution_count": 48,
     "metadata": {},
     "output_type": "execute_result"
    },
    {
     "data": {
      "text/plain": "<Figure size 432x288 with 1 Axes>",
      "image/png": "[encoded data removed]"
     },
     "metadata": {},
     "output_type": "display_data"
    }
   ],
   "source": [
    "sns.countplot(x=\"Embarked\", hue=\"Pclass\", data=train_data)\n"
   ],
   "metadata": {
    "collapsed": false
   }
  },
  {
   "cell_type": "code",
   "execution_count": 49,
   "outputs": [
    {
     "data": {
      "text/plain": "Embarked  Pclass\nC         1         59\n          2          9\n          3         25\nQ         1          1\n          2          2\n          3         27\nS         1         74\n          2         76\n          3         67\nName: Survived, dtype: int64"
     },
     "execution_count": 49,
     "metadata": {},
     "output_type": "execute_result"
    }
   ],
   "source": [
    "train_data.groupby([\"Embarked\", \"Pclass\"])[\"Survived\"].sum()\n"
   ],
   "metadata": {
    "collapsed": false
   }
  },
  {
   "cell_type": "markdown",
   "source": [
    "Hey, our assumption was correct it seems. The majority of people that embarked at Cherbourg were class 1.\n",
    "In contrast, the majority that embarked at Southampton were class 3.\n",
    "\n",
    "Even so, going back to the survival percentages it's not clear why the survival rate for Queenstown is slightly higher (38.9% > 33%) than Southampton even though the number of class 1 passengers in relation to class 3 passengers is higher for Southampton.\n",
    "Maybe the difference is in the ration of males vs females.\n",
    "\n",
    "## Is gender distribution responsible for the slightly higher passenger survival rate in Queenstown compared to Southampton?"
   ],
   "metadata": {
    "collapsed": false
   }
  },
  {
   "cell_type": "code",
   "execution_count": 50,
   "outputs": [
    {
     "data": {
      "text/plain": "<AxesSubplot:xlabel='Embarked', ylabel='count'>"
     },
     "execution_count": 50,
     "metadata": {},
     "output_type": "execute_result"
    },
    {
     "data": {
      "text/plain": "<Figure size 432x288 with 1 Axes>",
      "image/png": "[encoded data removed]"
     },
     "metadata": {},
     "output_type": "display_data"
    }
   ],
   "source": [
    "sns.countplot(x=\"Embarked\", hue=\"Sex\", data=train_data)\n"
   ],
   "metadata": {
    "collapsed": false
   }
  },
  {
   "cell_type": "markdown",
   "source": [
    "Yea, this confirms what we thought... More than twice as many men embarked at Southampton than women as opposed to Queenstown where it's roughly the same number of men and women. It shown again how much the gender matters for survival.\n",
    "\n",
    "## Does the number of children/siblings/spouses or parents on board influence the chance of survival?"
   ],
   "metadata": {
    "collapsed": false
   }
  },
  {
   "cell_type": "code",
   "execution_count": 51,
   "outputs": [
    {
     "data": {
      "text/plain": "<AxesSubplot:xlabel='SibSp', ylabel='Survived'>"
     },
     "execution_count": 51,
     "metadata": {},
     "output_type": "execute_result"
    },
    {
     "data": {
      "text/plain": "<Figure size 432x288 with 1 Axes>",
      "image/png": "[encoded data removed]"
     },
     "metadata": {},
     "output_type": "display_data"
    }
   ],
   "source": [
    "sns.barplot(x=\"SibSp\", y=\"Survived\", data=train_data)\n"
   ],
   "metadata": {
    "collapsed": false
   }
  },
  {
   "cell_type": "code",
   "execution_count": 52,
   "outputs": [
    {
     "data": {
      "text/plain": "<AxesSubplot:xlabel='SibSp', ylabel='count'>"
     },
     "execution_count": 52,
     "metadata": {},
     "output_type": "execute_result"
    },
    {
     "data": {
      "text/plain": "<Figure size 432x288 with 1 Axes>",
      "image/png": "[encoded data removed]"
     },
     "metadata": {},
     "output_type": "display_data"
    }
   ],
   "source": [
    "sns.countplot(x=\"SibSp\", data=train_data)"
   ],
   "metadata": {
    "collapsed": false
   }
  },
  {
   "cell_type": "code",
   "execution_count": 53,
   "outputs": [
    {
     "data": {
      "text/plain": "<AxesSubplot:xlabel='SibSp', ylabel='count'>"
     },
     "execution_count": 53,
     "metadata": {},
     "output_type": "execute_result"
    },
    {
     "data": {
      "text/plain": "<Figure size 432x288 with 1 Axes>",
      "image/png": "[encoded data removed]"
     },
     "metadata": {},
     "output_type": "display_data"
    }
   ],
   "source": [
    "sns.countplot(x=\"SibSp\", hue=\"Survived\", data=train_data)\n"
   ],
   "metadata": {
    "collapsed": false
   }
  },
  {
   "cell_type": "code",
   "execution_count": 54,
   "outputs": [
    {
     "data": {
      "text/plain": "SibSp  Survived\n0      0           0.654605\n       1           0.345395\n1      1           0.535885\n       0           0.464115\n2      0           0.535714\n       1           0.464286\n3      0           0.750000\n       1           0.250000\n4      0           0.833333\n       1           0.166667\n5      0           1.000000\n8      0           1.000000\nName: Survived, dtype: float64"
     },
     "execution_count": 54,
     "metadata": {},
     "output_type": "execute_result"
    }
   ],
   "source": [
    "train_data.groupby(\"SibSp\")[\"Survived\"].value_counts(normalize=True)"
   ],
   "metadata": {
    "collapsed": false
   }
  },
  {
   "cell_type": "markdown",
   "source": [
    "We can see that the majority of the passenges travelled alone. Also, looking at the last graph we can also deduce that the more siblings a passenger had the smaller the chance of survival. It's worth noting that we can see an increase in survival chance if a passenger had 1 or 2 siblings but it falls fast for anything higher.\n",
    "\n",
    "Let's also check the parents and children which is in the Parch feature:"
   ],
   "metadata": {
    "collapsed": false
   }
  },
  {
   "cell_type": "code",
   "execution_count": 55,
   "outputs": [
    {
     "data": {
      "text/plain": "<AxesSubplot:xlabel='Parch', ylabel='count'>"
     },
     "execution_count": 55,
     "metadata": {},
     "output_type": "execute_result"
    },
    {
     "data": {
      "text/plain": "<Figure size 432x288 with 1 Axes>",
      "image/png": "[encoded data removed]"
     },
     "metadata": {},
     "output_type": "display_data"
    }
   ],
   "source": [
    "sns.countplot(x=\"Parch\", data=train_data)\n"
   ],
   "metadata": {
    "collapsed": false
   }
  },
  {
   "cell_type": "code",
   "execution_count": 56,
   "outputs": [
    {
     "data": {
      "text/plain": "<AxesSubplot:xlabel='Parch', ylabel='Survived'>"
     },
     "execution_count": 56,
     "metadata": {},
     "output_type": "execute_result"
    },
    {
     "data": {
      "text/plain": "<Figure size 432x288 with 1 Axes>",
      "image/png": "[encoded data removed]"
     },
     "metadata": {},
     "output_type": "display_data"
    }
   ],
   "source": [
    "sns.barplot(x=\"Parch\", y=\"Survived\", data=train_data)\n"
   ],
   "metadata": {
    "collapsed": false
   }
  },
  {
   "cell_type": "code",
   "execution_count": 57,
   "outputs": [
    {
     "data": {
      "text/plain": "<AxesSubplot:xlabel='Parch', ylabel='count'>"
     },
     "execution_count": 57,
     "metadata": {},
     "output_type": "execute_result"
    },
    {
     "data": {
      "text/plain": "<Figure size 432x288 with 1 Axes>",
      "image/png": "[encoded data removed]"
     },
     "metadata": {},
     "output_type": "display_data"
    }
   ],
   "source": [
    "sns.countplot(x=\"Parch\", hue=\"Survived\", data=train_data)\n"
   ],
   "metadata": {
    "collapsed": false
   }
  },
  {
   "cell_type": "code",
   "execution_count": 58,
   "outputs": [
    {
     "data": {
      "text/plain": "Parch  Survived\n0      0           0.656342\n       1           0.343658\n1      1           0.550847\n       0           0.449153\n2      0           0.500000\n       1           0.500000\n3      1           0.600000\n       0           0.400000\n4      0           1.000000\n5      0           0.800000\n       1           0.200000\n6      0           1.000000\nName: Survived, dtype: float64"
     },
     "execution_count": 58,
     "metadata": {},
     "output_type": "execute_result"
    }
   ],
   "source": [
    "train_data.groupby(\"Parch\")[\"Survived\"].value_counts(normalize=True)"
   ],
   "metadata": {
    "collapsed": false
   }
  },
  {
   "cell_type": "markdown",
   "source": [
    "We see the same thing here as we saw with the siblings. We can see that small families (2-4 members) had a higher chance of survival than large families or people who travelled alone.\n",
    "\n",
    "We learned a lot about the data. Let's get to some feature engineering to see what we can improve."
   ],
   "metadata": {
    "collapsed": false
   }
  },
  {
   "cell_type": "markdown",
   "source": [
    "# Feature Engineering\n",
    "## Adding a Title feature\n",
    "Let's look at the name feature because we avoided it until now. In theory a person's name should not have any importance related to survivability but let's look at the values"
   ],
   "metadata": {
    "collapsed": false
   }
  },
  {
   "cell_type": "code",
   "execution_count": 59,
   "outputs": [
    {
     "data": {
      "text/plain": "0                                Braund, Mr. Owen Harris\n1      Cumings, Mrs. John Bradley (Florence Briggs Th...\n2                                 Heikkinen, Miss. Laina\n3           Futrelle, Mrs. Jacques Heath (Lily May Peel)\n4                               Allen, Mr. William Henry\n                             ...                        \n886                                Montvila, Rev. Juozas\n887                         Graham, Miss. Margaret Edith\n888             Johnston, Miss. Catherine Helen \"Carrie\"\n889                                Behr, Mr. Karl Howell\n890                                  Dooley, Mr. Patrick\nName: Name, Length: 891, dtype: object"
     },
     "execution_count": 59,
     "metadata": {},
     "output_type": "execute_result"
    }
   ],
   "source": [
    "train_data['Name']\n"
   ],
   "metadata": {
    "collapsed": false
   }
  },
  {
   "cell_type": "markdown",
   "source": [
    "It seems that a title can be present in the name, we see that for most of them actually. How about we turn that into a feature that might be useful. Keeping the names as cateogrical values does not make any sense though. Let's make a piece of code that extracts the title from a string."
   ],
   "metadata": {
    "collapsed": false
   }
  },
  {
   "cell_type": "code",
   "execution_count": 60,
   "outputs": [],
   "source": [
    "train_data['Title'] = train_data['Name'].apply(lambda name: name.split(',')[1].split('.')[0].strip())"
   ],
   "metadata": {
    "collapsed": false
   }
  },
  {
   "cell_type": "code",
   "execution_count": 61,
   "outputs": [
    {
     "name": "stdout",
     "output_type": "stream",
     "text": [
      "<class 'pandas.core.series.Series'>\n",
      "RangeIndex: 891 entries, 0 to 890\n",
      "Series name: Title\n",
      "Non-Null Count  Dtype \n",
      "--------------  ----- \n",
      "891 non-null    object\n",
      "dtypes: object(1)\n",
      "memory usage: 7.1+ KB\n"
     ]
    }
   ],
   "source": [
    "train_data['Title'].info()"
   ],
   "metadata": {
    "collapsed": false
   }
  },
  {
   "cell_type": "markdown",
   "source": [
    "Cool, our code works and there are no null values in the new feature, let's look at its values:"
   ],
   "metadata": {
    "collapsed": false
   }
  },
  {
   "cell_type": "code",
   "execution_count": 62,
   "outputs": [
    {
     "data": {
      "text/plain": "Mr              517\nMiss            182\nMrs             125\nMaster           40\nDr                7\nRev               6\nMlle              2\nMajor             2\nCol               2\nthe Countess      1\nCapt              1\nMs                1\nSir               1\nLady              1\nMme               1\nDon               1\nJonkheer          1\nName: Title, dtype: int64"
     },
     "execution_count": 62,
     "metadata": {},
     "output_type": "execute_result"
    }
   ],
   "source": [
    "train_data['Title'].value_counts()\n"
   ],
   "metadata": {
    "collapsed": false
   }
  },
  {
   "cell_type": "markdown",
   "source": [
    "Some are outliers. Let's replace them and put outlier male titles in Mr and outlier female titles in Miss"
   ],
   "metadata": {
    "collapsed": false
   }
  },
  {
   "cell_type": "code",
   "execution_count": 63,
   "outputs": [
    {
     "data": {
      "text/plain": "Mr        525\nMiss      186\nMrs       127\nMaster     40\nDr          7\nRev         6\nName: Title, dtype: int64"
     },
     "execution_count": 63,
     "metadata": {},
     "output_type": "execute_result"
    }
   ],
   "source": [
    "train_data = train_data.replace({\n",
    "    'Title': {'Mlle': 'Miss', 'Major': 'Mr', 'Col': 'Mr', 'the Countess': 'Mrs', 'Don': 'Mr', 'Mme': 'Mrs',\n",
    "              'Ms': 'Miss', 'Lady': 'Miss', 'Sir': 'Mr', 'Capt': 'Mr', 'Jonkheer': 'Mr'}\n",
    "})\n",
    "\n",
    "train_data['Title'].value_counts()\n"
   ],
   "metadata": {
    "collapsed": false
   }
  },
  {
   "cell_type": "markdown",
   "source": [
    "Looks good. Let's check it's relatability with the Survival Rate:"
   ],
   "metadata": {
    "collapsed": false
   }
  },
  {
   "cell_type": "code",
   "execution_count": 64,
   "outputs": [
    {
     "data": {
      "text/plain": "<AxesSubplot:xlabel='Title', ylabel='count'>"
     },
     "execution_count": 64,
     "metadata": {},
     "output_type": "execute_result"
    },
    {
     "data": {
      "text/plain": "<Figure size 432x288 with 1 Axes>",
      "image/png": "[encoded data removed]"
     },
     "metadata": {},
     "output_type": "display_data"
    }
   ],
   "source": [
    "sns.countplot(x=\"Title\", data=train_data)\n"
   ],
   "metadata": {
    "collapsed": false
   }
  },
  {
   "cell_type": "code",
   "execution_count": 65,
   "outputs": [
    {
     "data": {
      "text/plain": "<AxesSubplot:xlabel='Title', ylabel='Survived'>"
     },
     "execution_count": 65,
     "metadata": {},
     "output_type": "execute_result"
    },
    {
     "data": {
      "text/plain": "<Figure size 432x288 with 1 Axes>",
      "image/png": "[encoded data removed]"
     },
     "metadata": {},
     "output_type": "display_data"
    }
   ],
   "source": [
    "sns.barplot(x=\"Title\", y=\"Survived\", data=train_data)"
   ],
   "metadata": {
    "collapsed": false
   }
  },
  {
   "cell_type": "code",
   "execution_count": 66,
   "outputs": [
    {
     "data": {
      "text/plain": "<AxesSubplot:xlabel='Title', ylabel='count'>"
     },
     "execution_count": 66,
     "metadata": {},
     "output_type": "execute_result"
    },
    {
     "data": {
      "text/plain": "<Figure size 432x288 with 1 Axes>",
      "image/png": "[encoded data removed]"
     },
     "metadata": {},
     "output_type": "display_data"
    }
   ],
   "source": [
    "sns.countplot(x=\"Title\", hue='Survived', data=train_data)\n"
   ],
   "metadata": {
    "collapsed": false
   }
  },
  {
   "cell_type": "markdown",
   "source": [
    "This new feature mas potential. We can see that female titles have high survival rates.\n",
    "Also, Master and Dr titles have a suprisingly high survival rate even though they are male titles.\n",
    "Being a Mr however has a small survival rate of 15%.\n",
    "All of the revenant died. Revenants are corpses that come back to life. No idea why this title is in the set:)). Maybe they finally accepted their fate.\n",
    "\n",
    "## Cabin and Ticket Features"
   ],
   "metadata": {
    "collapsed": false
   }
  },
  {
   "cell_type": "code",
   "execution_count": 67,
   "outputs": [
    {
     "data": {
      "text/plain": "    Cabin            Ticket\n0     NaN         A/5 21171\n1     C85          PC 17599\n2     NaN  STON/O2. 3101282\n3    C123            113803\n4     NaN            373450\n..    ...               ...\n886   NaN            211536\n887   B42            112053\n888   NaN        W./C. 6607\n889  C148            111369\n890   NaN            370376\n\n[891 rows x 2 columns]",
      "text/html": "<div>\n<style scoped>\n    .dataframe tbody tr th:only-of-type {\n        vertical-align: middle;\n    }\n\n    .dataframe tbody tr th {\n        vertical-align: top;\n    }\n\n    .dataframe thead th {\n        text-align: right;\n    }\n</style>\n<table border=\"1\" class=\"dataframe\">\n  <thead>\n    <tr style=\"text-align: right;\">\n      <th></th>\n      <th>Cabin</th>\n      <th>Ticket</th>\n    </tr>\n  </thead>\n  <tbody>\n    <tr>\n      <th>0</th>\n      <td>NaN</td>\n      <td>A/5 21171</td>\n    </tr>\n    <tr>\n      <th>1</th>\n      <td>C85</td>\n      <td>PC 17599</td>\n    </tr>\n    <tr>\n      <th>2</th>\n      <td>NaN</td>\n      <td>STON/O2. 3101282</td>\n    </tr>\n    <tr>\n      <th>3</th>\n      <td>C123</td>\n      <td>113803</td>\n    </tr>\n    <tr>\n      <th>4</th>\n      <td>NaN</td>\n      <td>373450</td>\n    </tr>\n    <tr>\n      <th>...</th>\n      <td>...</td>\n      <td>...</td>\n    </tr>\n    <tr>\n      <th>886</th>\n      <td>NaN</td>\n      <td>211536</td>\n    </tr>\n    <tr>\n      <th>887</th>\n      <td>B42</td>\n      <td>112053</td>\n    </tr>\n    <tr>\n      <th>888</th>\n      <td>NaN</td>\n      <td>W./C. 6607</td>\n    </tr>\n    <tr>\n      <th>889</th>\n      <td>C148</td>\n      <td>111369</td>\n    </tr>\n    <tr>\n      <th>890</th>\n      <td>NaN</td>\n      <td>370376</td>\n    </tr>\n  </tbody>\n</table>\n<p>891 rows × 2 columns</p>\n</div>"
     },
     "execution_count": 67,
     "metadata": {},
     "output_type": "execute_result"
    }
   ],
   "source": [
    "train_data[['Cabin', 'Ticket']]\n"
   ],
   "metadata": {
    "collapsed": false
   }
  },
  {
   "cell_type": "markdown",
   "source": [
    "Weird values for both of them... Cabin has a lot of missing values and the ticket values is all over the place.\n",
    "We can try a few things:\n",
    "* we can keep the first 2 letters of the ticket\n",
    "* we can keep the number of chars in the ticket\n",
    "* we can count the number of cabins used (they're separated by a space in the value)\n",
    "* we can keep the first letter of the cabin"
   ],
   "metadata": {
    "collapsed": false
   }
  },
  {
   "cell_type": "code",
   "execution_count": 68,
   "outputs": [],
   "source": [
    "train_data['Ticket_2letter'] = train_data['Ticket'].apply(lambda ticket: ticket[:2])\n",
    "train_data['Ticket_len'] = train_data['Ticket'].apply(lambda ticket: len(ticket))\n",
    "\n",
    "train_data['Cabin_sum'] = train_data[~train_data['Cabin'].isna()]['Cabin'].apply(lambda cabin: len(str(cabin).split()))\n",
    "train_data['Cabin_1letter'] = train_data[~train_data['Cabin'].isna()]['Cabin'].apply(lambda cabin: str(cabin)[:1])\n"
   ],
   "metadata": {
    "collapsed": false
   }
  },
  {
   "cell_type": "markdown",
   "source": [
    "## Adding a Family Size Feature\n",
    "We can combine Parch and SibSp can be added together since they behave the similarly"
   ],
   "metadata": {
    "collapsed": false
   }
  },
  {
   "cell_type": "code",
   "execution_count": 69,
   "outputs": [],
   "source": [
    "train_data['Family_Size'] = train_data['SibSp'] + train_data['Parch'] + 1  #the 1 is the person. he's part of the family\n"
   ],
   "metadata": {
    "collapsed": false
   }
  },
  {
   "cell_type": "code",
   "execution_count": 70,
   "outputs": [
    {
     "data": {
      "text/plain": "<AxesSubplot:xlabel='Family_Size', ylabel='Survived'>"
     },
     "execution_count": 70,
     "metadata": {},
     "output_type": "execute_result"
    },
    {
     "data": {
      "text/plain": "<Figure size 432x288 with 1 Axes>",
      "image/png": "[encoded data removed]"
     },
     "metadata": {},
     "output_type": "display_data"
    }
   ],
   "source": [
    "sns.barplot(x=\"Family_Size\", y=\"Survived\", data=train_data)\n"
   ],
   "metadata": {
    "collapsed": false
   }
  },
  {
   "cell_type": "code",
   "execution_count": 71,
   "outputs": [
    {
     "data": {
      "text/plain": "<AxesSubplot:xlabel='Family_Size', ylabel='count'>"
     },
     "execution_count": 71,
     "metadata": {},
     "output_type": "execute_result"
    },
    {
     "data": {
      "text/plain": "<Figure size 432x288 with 1 Axes>",
      "image/png": "[encoded data removed]"
     },
     "metadata": {},
     "output_type": "display_data"
    }
   ],
   "source": [
    "sns.countplot(x=\"Family_Size\", hue='Survived', data=train_data)\n"
   ],
   "metadata": {
    "collapsed": false
   }
  },
  {
   "cell_type": "markdown",
   "source": [
    "We can engineer it even more since we see a pattern introducing a family type by separating into 4 distinct groups"
   ],
   "metadata": {
    "collapsed": false
   }
  },
  {
   "cell_type": "code",
   "execution_count": 72,
   "outputs": [],
   "source": [
    "train_data['Family_Type'] = pd.cut(train_data['Family_Size'], [0, 1, 4, 7, 11],\n",
    "                                   labels=['Alone', 'Small', 'Big', 'Very Big'])\n"
   ],
   "metadata": {
    "collapsed": false
   }
  },
  {
   "cell_type": "code",
   "execution_count": 73,
   "outputs": [
    {
     "data": {
      "text/plain": "<AxesSubplot:xlabel='Family_Type', ylabel='Survived'>"
     },
     "execution_count": 73,
     "metadata": {},
     "output_type": "execute_result"
    },
    {
     "data": {
      "text/plain": "<Figure size 432x288 with 1 Axes>",
      "image/png": "[encoded data removed]"
     },
     "metadata": {},
     "output_type": "display_data"
    }
   ],
   "source": [
    "sns.barplot(x=\"Family_Type\", y=\"Survived\", data=train_data)\n"
   ],
   "metadata": {
    "collapsed": false
   }
  },
  {
   "cell_type": "code",
   "execution_count": 74,
   "outputs": [
    {
     "data": {
      "text/plain": "<AxesSubplot:xlabel='Family_Type', ylabel='count'>"
     },
     "execution_count": 74,
     "metadata": {},
     "output_type": "execute_result"
    },
    {
     "data": {
      "text/plain": "<Figure size 432x288 with 1 Axes>",
      "image/png": "[encoded data removed]"
     },
     "metadata": {},
     "output_type": "display_data"
    }
   ],
   "source": [
    "sns.countplot(x=\"Family_Type\", hue='Survived', data=train_data)\n"
   ],
   "metadata": {
    "collapsed": false
   }
  },
  {
   "cell_type": "markdown",
   "source": [
    "## Binning the age"
   ],
   "metadata": {
    "collapsed": false
   }
  },
  {
   "cell_type": "code",
   "execution_count": 75,
   "outputs": [
    {
     "data": {
      "text/plain": "<matplotlib.legend.Legend at 0x2d96c957c10>"
     },
     "execution_count": 75,
     "metadata": {},
     "output_type": "execute_result"
    },
    {
     "data": {
      "text/plain": "<Figure size 360x360 with 1 Axes>",
      "image/png": "[encoded data removed]"
     },
     "metadata": {},
     "output_type": "display_data"
    }
   ],
   "source": [
    "fig, ax = plt.subplots(figsize=(5, 5))\n",
    "sns.kdeplot(train_data[train_data[\"Survived\"] == 1][\"Age\"], shade=True, ax=ax, label=\"Survived\", color='g')\n",
    "sns.kdeplot(train_data[train_data[\"Survived\"] == 0][\"Age\"], shade=True, ax=ax, label=\"Died\", color='r')\n",
    "plt.legend()"
   ],
   "metadata": {
    "collapsed": false
   }
  },
  {
   "cell_type": "code",
   "execution_count": 260,
   "outputs": [],
   "source": [
    "train_data[\"Age_Group\"] = pd.cut(train_data[\"Age\"], [0, 15, 30, 45, 60, 100],\n",
    "                                 labels=['Child', 'Young Adult', 'Adult', 'Old', 'Very Old'])\n"
   ],
   "metadata": {
    "collapsed": false
   }
  },
  {
   "cell_type": "code",
   "execution_count": 261,
   "outputs": [
    {
     "data": {
      "text/plain": "<AxesSubplot:xlabel='Age_Group', ylabel='count'>"
     },
     "execution_count": 261,
     "metadata": {},
     "output_type": "execute_result"
    },
    {
     "data": {
      "text/plain": "<Figure size 1584x648 with 1 Axes>",
      "image/png": "[encoded data removed]"
     },
     "metadata": {},
     "output_type": "display_data"
    }
   ],
   "source": [
    "fig, axs = plt.subplots(figsize=(22, 9))\n",
    "sns.countplot(x='Age_Group', hue='Survived', data=train_data)\n"
   ],
   "metadata": {
    "collapsed": false
   }
  },
  {
   "cell_type": "markdown",
   "source": [
    "## Binning the Fares"
   ],
   "metadata": {
    "collapsed": false
   }
  },
  {
   "cell_type": "code",
   "execution_count": 262,
   "outputs": [
    {
     "data": {
      "text/plain": "<matplotlib.legend.Legend at 0x2d972608730>"
     },
     "execution_count": 262,
     "metadata": {},
     "output_type": "execute_result"
    },
    {
     "data": {
      "text/plain": "<Figure size 360x360 with 1 Axes>",
      "image/png": "[encoded data removed]"
     },
     "metadata": {},
     "output_type": "display_data"
    }
   ],
   "source": [
    "fig, ax = plt.subplots(figsize=(5, 5))\n",
    "sns.kdeplot(train_data[train_data[\"Survived\"] == 1][\"Fare\"], shade=True, ax=ax, label=\"Survived\", color='g')\n",
    "sns.kdeplot(train_data[train_data[\"Survived\"] == 0][\"Fare\"], shade=True, ax=ax, label=\"Died\", color='r')\n",
    "plt.legend()"
   ],
   "metadata": {
    "collapsed": false
   }
  },
  {
   "cell_type": "code",
   "execution_count": 78,
   "outputs": [],
   "source": [
    "train_data[\"Fare_Group\"] = pd.qcut(train_data[\"Fare\"], 4, labels=['Cheap', 'Standard', 'Expensive',\n",
    "                                                                  'Luxury'])\n"
   ],
   "metadata": {
    "collapsed": false
   }
  },
  {
   "cell_type": "code",
   "execution_count": 79,
   "outputs": [
    {
     "data": {
      "text/plain": "<AxesSubplot:xlabel='Fare_Group', ylabel='count'>"
     },
     "execution_count": 79,
     "metadata": {},
     "output_type": "execute_result"
    },
    {
     "data": {
      "text/plain": "<Figure size 1584x648 with 1 Axes>",
      "image/png": "[encoded data removed]"
     },
     "metadata": {},
     "output_type": "display_data"
    }
   ],
   "source": [
    "fig, axs = plt.subplots(figsize=(22, 9))\n",
    "sns.countplot(x='Fare_Group', hue='Survived', data=train_data)\n"
   ],
   "metadata": {
    "collapsed": false
   }
  },
  {
   "cell_type": "markdown",
   "source": [
    "## Are there any redundant features?\n",
    "\n",
    "Let's start with the sex and the Title. In theory the Sex should be now encoded in the title if the data is consistent."
   ],
   "metadata": {
    "collapsed": false
   }
  },
  {
   "cell_type": "code",
   "execution_count": 80,
   "outputs": [
    {
     "data": {
      "text/plain": "Title   Sex   \nDr      male        6\n        female      1\nMaster  male       40\nMiss    female    186\nMr      male      525\nMrs     female    127\nRev     male        6\nName: Sex, dtype: int64"
     },
     "execution_count": 80,
     "metadata": {},
     "output_type": "execute_result"
    }
   ],
   "source": [
    "train_data.groupby(\"Title\")[\"Sex\"].value_counts()\n"
   ],
   "metadata": {
    "collapsed": false
   }
  },
  {
   "cell_type": "markdown",
   "source": [
    "Good enough. Most title are sex specific except the Dr where we have one outlier."
   ],
   "metadata": {
    "collapsed": false
   }
  },
  {
   "cell_type": "markdown",
   "source": [
    "We know small children have a higher chance of survival. Is this information encoded somewhere else? Like in the Title?"
   ],
   "metadata": {
    "collapsed": false
   }
  },
  {
   "cell_type": "code",
   "execution_count": 81,
   "outputs": [
    {
     "data": {
      "text/plain": "Master    36\nMiss      32\nMr         1\nName: Title, dtype: int64"
     },
     "execution_count": 81,
     "metadata": {},
     "output_type": "execute_result"
    }
   ],
   "source": [
    "train_data[train_data[\"Age\"] <= 12][\"Title\"].value_counts()\n"
   ],
   "metadata": {
    "collapsed": false
   }
  },
  {
   "cell_type": "markdown",
   "source": [
    "No, doesn't seem like it."
   ],
   "metadata": {
    "collapsed": false
   }
  },
  {
   "cell_type": "markdown",
   "source": [
    "# Automating the entire transformation flow by building a pipeline"
   ],
   "metadata": {
    "collapsed": false
   }
  },
  {
   "cell_type": "code",
   "execution_count": 82,
   "outputs": [
    {
     "name": "stdout",
     "output_type": "stream",
     "text": [
      "<class 'pandas.core.frame.DataFrame'>\n",
      "RangeIndex: 891 entries, 0 to 890\n",
      "Data columns (total 21 columns):\n",
      " #   Column          Non-Null Count  Dtype   \n",
      "---  ------          --------------  -----   \n",
      " 0   PassengerId     891 non-null    int64   \n",
      " 1   Survived        891 non-null    int64   \n",
      " 2   Pclass          891 non-null    int64   \n",
      " 3   Name            891 non-null    object  \n",
      " 4   Sex             891 non-null    object  \n",
      " 5   Age             714 non-null    float64 \n",
      " 6   SibSp           891 non-null    int64   \n",
      " 7   Parch           891 non-null    int64   \n",
      " 8   Ticket          891 non-null    object  \n",
      " 9   Fare            876 non-null    float64 \n",
      " 10  Cabin           204 non-null    object  \n",
      " 11  Embarked        889 non-null    object  \n",
      " 12  Title           891 non-null    object  \n",
      " 13  Ticket_2letter  891 non-null    object  \n",
      " 14  Ticket_len      891 non-null    int64   \n",
      " 15  Cabin_sum       204 non-null    float64 \n",
      " 16  Cabin_1letter   204 non-null    object  \n",
      " 17  Family_Size     891 non-null    int64   \n",
      " 18  Family_Type     891 non-null    category\n",
      " 19  Age_Group       714 non-null    category\n",
      " 20  Fare_Group      876 non-null    category\n",
      "dtypes: category(3), float64(3), int64(7), object(8)\n",
      "memory usage: 128.9+ KB\n"
     ]
    }
   ],
   "source": [
    "train_data.info()"
   ],
   "metadata": {
    "collapsed": false
   }
  },
  {
   "cell_type": "code",
   "execution_count": 440,
   "outputs": [],
   "source": [
    "from sklearn.pipeline import Pipeline\n",
    "from sklearn.preprocessing import StandardScaler\n",
    "\n",
    "num_pipeline = Pipeline([\n",
    "    ('imputer', SimpleImputer(strategy=\"median\")),\n",
    "    ('std_scaler', StandardScaler()),\n",
    "])\n",
    "\n",
    "cat_pipeline = Pipeline([\n",
    "    ('imputer', SimpleImputer(strategy=\"most_frequent\")),\n",
    "    ('category_encoder', OneHotEncoder())\n",
    "])\n",
    "\n",
    "from sklearn.base import BaseEstimator, TransformerMixin\n",
    "\n",
    "\n",
    "class FeatureAdder(BaseEstimator, TransformerMixin):\n",
    "    def __init__(self):\n",
    "        pass\n",
    "\n",
    "    def fit(self, X, y=None):\n",
    "        return self\n",
    "\n",
    "    def transform(self, X):\n",
    "        new_data = X.copy()\n",
    "        new_data.loc[new_data[\"Fare\"] == 0, \"Fare\"] = np.NaN\n",
    "\n",
    "        new_data['Title'] = new_data['Name'].apply(lambda name: name.split(',')[1].split('.')[0].strip())\n",
    "        new_data = new_data.replace({\n",
    "            'Title': {'Mlle': 'Miss', 'Major': 'Mr', 'Col': 'Mr', 'the Countess': 'Mrs', 'Don': 'Mr', 'Mme': 'Mrs',\n",
    "                      'Ms': 'Miss', 'Lady': 'Miss', 'Sir': 'Mr', 'Capt': 'Mr', 'Jonkheer': 'Mr', 'Dona': 'Mrs', 'Dr': 'Other',\n",
    "                      'Rev': 'Other'}\n",
    "        })\n",
    "\n",
    "        new_data['Ticket_2letter'] = new_data['Ticket'] \\\n",
    "            .apply(lambda ticket: ticket[:2])\n",
    "        new_data['Ticket_len'] = new_data['Ticket'] \\\n",
    "            .apply(lambda ticket: len(ticket))\n",
    "\n",
    "        new_data['Cabin_sum'] = new_data[~new_data['Cabin'].isna()]['Cabin'] \\\n",
    "            .apply(lambda cabin: len(str(cabin).split()))\n",
    "        new_data['Cabin_1letter'] = new_data[~new_data['Cabin'].isna()]['Cabin'] \\\n",
    "            .apply(lambda cabin: str(cabin)[:1])\n",
    "\n",
    "        new_data['Family_Size'] = new_data['SibSp'] + new_data[\n",
    "            'Parch'] + 1  #the 1 is the person. he's part of the family\n",
    "        new_data['Family_Type'] = pd.cut(new_data['Family_Size'], [0, 1, 4, 7, 11],\n",
    "                                         labels=['Alone', 'Small', 'Big', 'Very Big'])\n",
    "\n",
    "        new_data[\"Age_Group\"] = pd.cut(new_data[\"Age\"], [0, 15, 30, 45, 60, 100],\n",
    "                                       labels=['Child', 'Young Adult', 'Adult', 'Old', 'Very Old'])\n",
    "\n",
    "        new_data[\"Fare_Group\"] = pd.qcut(new_data[\"Fare\"], 4, labels=['Cheap', 'Standard', 'Expensive',\n",
    "                                                                      'Luxury'])\n",
    "\n",
    "        return new_data\n",
    "\n",
    "\n",
    "class FeatureSelector(BaseEstimator, TransformerMixin):\n",
    "    def __init__(self):\n",
    "        pass\n",
    "\n",
    "    def fit(self, X, y=None):\n",
    "        return self\n",
    "\n",
    "    def transform(self, X):\n",
    "        return X[num_attribs + cat_attribs]"
   ],
   "metadata": {
    "collapsed": false
   }
  },
  {
   "cell_type": "markdown",
   "source": [
    "## Let's test it with various features enabled and disabled:"
   ],
   "metadata": {
    "collapsed": false
   }
  },
  {
   "cell_type": "markdown",
   "source": [
    "Create a function to do this in an easier way"
   ],
   "metadata": {
    "collapsed": false
   }
  },
  {
   "cell_type": "code",
   "execution_count": 413,
   "outputs": [],
   "source": [
    "def train_models_with_features(data, labels, num_attribs, cat_attribs):\n",
    "    full_transformer_pipeline = ColumnTransformer([\n",
    "        (\"num\", num_pipeline, num_attribs),\n",
    "        (\"cat\", cat_pipeline, cat_attribs)\n",
    "    ])\n",
    "\n",
    "    full_pipeline = Pipeline([\n",
    "        ('feature_adder', FeatureAdder()),\n",
    "        ('feature_selector', FeatureSelector()),\n",
    "        ('transformer', full_transformer_pipeline),\n",
    "    ])\n",
    "\n",
    "    titanic_data_prepared = full_pipeline.fit_transform(data)\n",
    "    forest_scores = cross_val_score(forest_clf, titanic_data_prepared, labels, cv=10)\n",
    "    print(\"Forest mean:\", forest_scores.mean())\n",
    "    svm_scores = cross_val_score(svm_clf, titanic_data_prepared, labels, cv=10)\n",
    "    print(\"SVM mean:\", svm_scores.mean())"
   ],
   "metadata": {
    "collapsed": false
   }
  },
  {
   "cell_type": "markdown",
   "source": [
    "Split the data first"
   ],
   "metadata": {
    "collapsed": false
   }
  },
  {
   "cell_type": "code",
   "execution_count": 301,
   "outputs": [],
   "source": [
    "train_data = load_titanic_data(\"train.csv\")\n",
    "titanic_data = train_data.drop(\"Survived\", axis=1)\n",
    "titanic_labels = train_data[\"Survived\"].copy()"
   ],
   "metadata": {
    "collapsed": false
   }
  },
  {
   "cell_type": "markdown",
   "source": [
    "## 1. Age vs Age_group"
   ],
   "metadata": {
    "collapsed": false
   }
  },
  {
   "cell_type": "code",
   "execution_count": 248,
   "outputs": [
    {
     "name": "stdout",
     "output_type": "stream",
     "text": [
      "Forest mean: 0.809250936329588\n",
      "SVM mean: 0.8327715355805243\n"
     ]
    }
   ],
   "source": [
    "num_attribs = [\"Pclass\"]\n",
    "cat_attribs = [\"Sex\", \"Embarked\", \"Title\", \"Family_Type\", \"Fare_Group\"]\n",
    "\n",
    "train_models_with_features(titanic_data, titanic_labels, num_attribs, cat_attribs)"
   ],
   "metadata": {
    "collapsed": false
   }
  },
  {
   "cell_type": "code",
   "execution_count": 249,
   "outputs": [
    {
     "name": "stdout",
     "output_type": "stream",
     "text": [
      "Forest mean: 0.798027465667915\n",
      "SVM mean: 0.8327715355805243\n"
     ]
    }
   ],
   "source": [
    "num_attribs = [\"Pclass\", \"Age\"]\n",
    "cat_attribs = [\"Sex\", \"Embarked\", \"Title\", \"Family_Type\", \"Fare_Group\"]\n",
    "\n",
    "train_models_with_features(titanic_data, titanic_labels, num_attribs, cat_attribs)"
   ],
   "metadata": {
    "collapsed": false
   }
  },
  {
   "cell_type": "code",
   "execution_count": 250,
   "outputs": [
    {
     "name": "stdout",
     "output_type": "stream",
     "text": [
      "Forest mean: 0.8193632958801498\n",
      "SVM mean: 0.8316479400749064\n"
     ]
    }
   ],
   "source": [
    "num_attribs = [\"Pclass\"]\n",
    "cat_attribs = [\"Sex\", \"Embarked\", \"Title\", \"Family_Type\", \"Fare_Group\", \"Age_Group\"]\n",
    "\n",
    "train_models_with_features(titanic_data, titanic_labels, num_attribs, cat_attribs)"
   ],
   "metadata": {
    "collapsed": false
   }
  },
  {
   "cell_type": "markdown",
   "source": [
    "Age group seems to add value and does not fuck up the SVM score a lot. Help forest model more though."
   ],
   "metadata": {
    "collapsed": false
   }
  },
  {
   "cell_type": "markdown",
   "source": [
    "## 2. Title vs Sex\n",
    "We're checking this because in theory Sex should be encoded in the Title feature."
   ],
   "metadata": {
    "collapsed": false
   }
  },
  {
   "cell_type": "code",
   "execution_count": 251,
   "outputs": [
    {
     "name": "stdout",
     "output_type": "stream",
     "text": [
      "Forest mean: 0.7172534332084894\n",
      "SVM mean: 0.7150062421972534\n"
     ]
    }
   ],
   "source": [
    "num_attribs = [\"Pclass\"]\n",
    "cat_attribs = [\"Embarked\", \"Family_Type\", \"Fare_Group\", \"Age_Group\"]\n",
    "\n",
    "train_models_with_features(titanic_data, titanic_labels, num_attribs, cat_attribs)"
   ],
   "metadata": {
    "collapsed": false
   }
  },
  {
   "cell_type": "code",
   "execution_count": 252,
   "outputs": [
    {
     "name": "stdout",
     "output_type": "stream",
     "text": [
      "Forest mean: 0.8294881398252183\n",
      "SVM mean: 0.8148064918851435\n"
     ]
    }
   ],
   "source": [
    "num_attribs = [\"Pclass\"]\n",
    "cat_attribs = [\"Sex\", \"Embarked\", \"Family_Type\", \"Fare_Group\", \"Age_Group\"]\n",
    "\n",
    "train_models_with_features(titanic_data, titanic_labels, num_attribs, cat_attribs)"
   ],
   "metadata": {
    "collapsed": false
   }
  },
  {
   "cell_type": "code",
   "execution_count": 255,
   "outputs": [
    {
     "name": "stdout",
     "output_type": "stream",
     "text": [
      "Forest mean: 0.8182397003745319\n",
      "SVM mean: 0.8294007490636706\n"
     ]
    }
   ],
   "source": [
    "num_attribs = [\"Pclass\"]\n",
    "cat_attribs = [\"Title\", \"Embarked\", \"Family_Type\", \"Fare_Group\", \"Age_Group\"]\n",
    "\n",
    "train_models_with_features(titanic_data, titanic_labels, num_attribs, cat_attribs)"
   ],
   "metadata": {
    "collapsed": false
   }
  },
  {
   "cell_type": "code",
   "execution_count": 256,
   "outputs": [
    {
     "name": "stdout",
     "output_type": "stream",
     "text": [
      "Forest mean: 0.8204868913857677\n",
      "SVM mean: 0.8316479400749064\n"
     ]
    }
   ],
   "source": [
    "num_attribs = [\"Pclass\"]\n",
    "cat_attribs = [\"Sex\", \"Title\", \"Embarked\", \"Family_Type\", \"Fare_Group\", \"Age_Group\"]\n",
    "\n",
    "train_models_with_features(titanic_data, titanic_labels, num_attribs, cat_attribs)"
   ],
   "metadata": {
    "collapsed": false
   }
  },
  {
   "cell_type": "markdown",
   "source": [
    "It's weird here because Sex and Title together give the best result. We need to keep one though because it makes no sense to have redundant features.\n",
    "We'll go with the Title because it has more info."
   ],
   "metadata": {
    "collapsed": false
   }
  },
  {
   "cell_type": "markdown",
   "source": [
    "## 3. Fare vs Fare_Group"
   ],
   "metadata": {
    "collapsed": false
   }
  },
  {
   "cell_type": "code",
   "execution_count": 284,
   "outputs": [
    {
     "name": "stdout",
     "output_type": "stream",
     "text": [
      "Forest mean: 0.809250936329588\n",
      "SVM mean: 0.8305243445692885\n"
     ]
    }
   ],
   "source": [
    "num_attribs = [\"Pclass\"]\n",
    "cat_attribs = [\"Title\", \"Embarked\", \"Family_Type\", \"Age_Group\"]\n",
    "\n",
    "train_models_with_features(titanic_data, titanic_labels, num_attribs, cat_attribs)"
   ],
   "metadata": {
    "collapsed": false
   }
  },
  {
   "cell_type": "code",
   "execution_count": 285,
   "outputs": [
    {
     "name": "stdout",
     "output_type": "stream",
     "text": [
      "Forest mean: 0.8047565543071162\n",
      "SVM mean: 0.8327715355805243\n"
     ]
    }
   ],
   "source": [
    "num_attribs = [\"Pclass\", \"Fare\"]\n",
    "cat_attribs = [\"Title\", \"Embarked\", \"Family_Type\", \"Age_Group\"]\n",
    "\n",
    "train_models_with_features(titanic_data, titanic_labels, num_attribs, cat_attribs)"
   ],
   "metadata": {
    "collapsed": false
   }
  },
  {
   "cell_type": "code",
   "execution_count": 302,
   "outputs": [
    {
     "name": "stdout",
     "output_type": "stream",
     "text": [
      "Forest mean: 0.81374531835206\n",
      "SVM mean: 0.8294007490636706\n"
     ]
    }
   ],
   "source": [
    "num_attribs = [\"Pclass\"]\n",
    "cat_attribs = [\"Title\", \"Embarked\", \"Family_Type\", \"Age_Group\", \"Fare_Group\"]\n",
    "\n",
    "train_models_with_features(titanic_data, titanic_labels, num_attribs, cat_attribs)"
   ],
   "metadata": {
    "collapsed": false
   }
  },
  {
   "cell_type": "markdown",
   "source": [
    "We'll keep the fare group with 4 categories here. Seems to impact SVM a bit negatively but it's not a lot and the feature makes nore sense."
   ],
   "metadata": {
    "collapsed": false
   }
  },
  {
   "cell_type": "markdown",
   "source": [
    "## 4. Family Size vs Family Type"
   ],
   "metadata": {
    "collapsed": false
   }
  },
  {
   "cell_type": "code",
   "execution_count": 303,
   "outputs": [
    {
     "name": "stdout",
     "output_type": "stream",
     "text": [
      "Forest mean: 0.8193882646691636\n",
      "SVM mean: 0.8058426966292135\n"
     ]
    }
   ],
   "source": [
    "num_attribs = [\"Pclass\"]\n",
    "cat_attribs = [\"Title\", \"Embarked\", \"Age_Group\", \"Fare_Group\"]\n",
    "\n",
    "train_models_with_features(titanic_data, titanic_labels, num_attribs, cat_attribs)"
   ],
   "metadata": {
    "collapsed": false
   }
  },
  {
   "cell_type": "code",
   "execution_count": 305,
   "outputs": [
    {
     "name": "stdout",
     "output_type": "stream",
     "text": [
      "Forest mean: 0.8126092384519351\n",
      "SVM mean: 0.8338951310861423\n"
     ]
    }
   ],
   "source": [
    "num_attribs = [\"Pclass\", \"Family_Size\"]\n",
    "cat_attribs = [\"Title\", \"Embarked\", \"Age_Group\", \"Fare_Group\"]\n",
    "\n",
    "train_models_with_features(titanic_data, titanic_labels, num_attribs, cat_attribs)"
   ],
   "metadata": {
    "collapsed": false
   }
  },
  {
   "cell_type": "code",
   "execution_count": 306,
   "outputs": [
    {
     "name": "stdout",
     "output_type": "stream",
     "text": [
      "Forest mean: 0.81374531835206\n",
      "SVM mean: 0.8294007490636706\n"
     ]
    }
   ],
   "source": [
    "num_attribs = [\"Pclass\"]\n",
    "cat_attribs = [\"Title\", \"Embarked\", \"Family_Type\", \"Age_Group\", \"Fare_Group\"]\n",
    "\n",
    "train_models_with_features(titanic_data, titanic_labels, num_attribs, cat_attribs)"
   ],
   "metadata": {
    "collapsed": false
   }
  },
  {
   "cell_type": "markdown",
   "source": [
    "I have no idea. The family group here does not help a lot even though it should. We'll keep the family size"
   ],
   "metadata": {
    "collapsed": false
   }
  },
  {
   "cell_type": "markdown",
   "source": [
    "## 5. Ticket length vs Ticket 2 letters"
   ],
   "metadata": {
    "collapsed": false
   }
  },
  {
   "cell_type": "code",
   "execution_count": 307,
   "outputs": [
    {
     "name": "stdout",
     "output_type": "stream",
     "text": [
      "Forest mean: 0.8126092384519351\n",
      "SVM mean: 0.8338951310861423\n"
     ]
    }
   ],
   "source": [
    "num_attribs = [\"Pclass\", \"Family_Size\"]\n",
    "cat_attribs = [\"Title\", \"Embarked\", \"Age_Group\", \"Fare_Group\"]\n",
    "\n",
    "train_models_with_features(titanic_data, titanic_labels, num_attribs, cat_attribs)"
   ],
   "metadata": {
    "collapsed": false
   }
  },
  {
   "cell_type": "code",
   "execution_count": 308,
   "outputs": [
    {
     "name": "stdout",
     "output_type": "stream",
     "text": [
      "Forest mean: 0.8103745318352059\n",
      "SVM mean: 0.8305243445692883\n"
     ]
    }
   ],
   "source": [
    "num_attribs = [\"Pclass\", \"Family_Size\", \"Ticket_len\"]\n",
    "cat_attribs = [\"Title\", \"Embarked\", \"Age_Group\", \"Fare_Group\"]\n",
    "\n",
    "train_models_with_features(titanic_data, titanic_labels, num_attribs, cat_attribs)"
   ],
   "metadata": {
    "collapsed": false
   }
  },
  {
   "cell_type": "code",
   "execution_count": 309,
   "outputs": [
    {
     "name": "stdout",
     "output_type": "stream",
     "text": [
      "Forest mean: 0.8137203495630463\n",
      "SVM mean: 0.8136828963795256\n"
     ]
    }
   ],
   "source": [
    "num_attribs = [\"Pclass\", \"Family_Size\"]\n",
    "cat_attribs = [\"Title\", \"Embarked\", \"Age_Group\", \"Fare_Group\", \"Ticket_2letter\"]\n",
    "\n",
    "train_models_with_features(titanic_data, titanic_labels, num_attribs, cat_attribs)"
   ],
   "metadata": {
    "collapsed": false
   }
  },
  {
   "cell_type": "markdown",
   "source": [
    "Ticket feature seems to be garbage and does not help a lot. We should try and engineer a better feature out of it or drop it.\n",
    "For now we'll drop it.\n"
   ],
   "metadata": {
    "collapsed": false
   }
  },
  {
   "cell_type": "markdown",
   "source": [
    "## 6. Cabin sum vs Cabin 1 letter\n",
    "Let's start with a clean run without any Cabin fields"
   ],
   "metadata": {
    "collapsed": false
   }
  },
  {
   "cell_type": "code",
   "execution_count": 310,
   "outputs": [
    {
     "name": "stdout",
     "output_type": "stream",
     "text": [
      "Forest mean: 0.8126092384519351\n",
      "SVM mean: 0.8338951310861423\n"
     ]
    }
   ],
   "source": [
    "num_attribs = [\"Pclass\", \"Family_Size\"]\n",
    "cat_attribs = [\"Title\", \"Embarked\", \"Age_Group\", \"Fare_Group\"]\n",
    "\n",
    "train_models_with_features(titanic_data, titanic_labels, num_attribs, cat_attribs)"
   ],
   "metadata": {
    "collapsed": false
   }
  },
  {
   "cell_type": "code",
   "execution_count": 311,
   "outputs": [
    {
     "name": "stdout",
     "output_type": "stream",
     "text": [
      "Forest mean: 0.812609238451935\n",
      "SVM mean: 0.8271660424469414\n"
     ]
    }
   ],
   "source": [
    "num_attribs = [\"Pclass\", \"Family_Size\", \"Cabin_sum\"]\n",
    "cat_attribs = [\"Title\", \"Embarked\", \"Age_Group\", \"Fare_Group\"]\n",
    "\n",
    "train_models_with_features(titanic_data, titanic_labels, num_attribs, cat_attribs)"
   ],
   "metadata": {
    "collapsed": false
   }
  },
  {
   "cell_type": "code",
   "execution_count": 312,
   "outputs": [
    {
     "name": "stdout",
     "output_type": "stream",
     "text": [
      "Forest mean: 0.8316978776529339\n",
      "SVM mean: 0.8305243445692883\n"
     ]
    }
   ],
   "source": [
    "num_attribs = [\"Pclass\", \"Family_Size\"]\n",
    "cat_attribs = [\"Title\", \"Embarked\", \"Age_Group\", \"Fare_Group\", \"Cabin_1letter\"]\n",
    "\n",
    "train_models_with_features(titanic_data, titanic_labels, num_attribs, cat_attribs)"
   ],
   "metadata": {
    "collapsed": false
   }
  },
  {
   "cell_type": "markdown",
   "source": [
    "This is so weird...Cabin 1 letter helped the forest a lot nad impacted SVM a bit negatively. Let's keep Cabin_1letter"
   ],
   "metadata": {
    "collapsed": false
   }
  },
  {
   "cell_type": "markdown",
   "source": [
    "## The prediction with the best features we decided together"
   ],
   "metadata": {
    "collapsed": false
   }
  },
  {
   "cell_type": "code",
   "execution_count": null,
   "outputs": [],
   "source": [
    "num_attribs = [\"Pclass\", \"Family_Size\"]\n",
    "cat_attribs = [\"Title\", \"Embarked\", \"Age_Group\", \"Fare_Group\", \"Cabin_1letter\"]\n",
    "\n",
    "train_models_with_features(titanic_data, titanic_labels, num_attribs, cat_attribs)"
   ],
   "metadata": {
    "collapsed": false
   }
  },
  {
   "cell_type": "markdown",
   "source": [
    "## Do a prediction with all the fields that helped the svm to see how the result is\n",
    "Keeping Age, keeping Title, keeping Fare, keeping Family_Size, dropping Ticket and cabin features"
   ],
   "metadata": {
    "collapsed": false
   }
  },
  {
   "cell_type": "code",
   "execution_count": 314,
   "outputs": [
    {
     "name": "stdout",
     "output_type": "stream",
     "text": [
      "Forest mean: 0.8081398252184769\n",
      "SVM mean: 0.8327840199750313\n"
     ]
    }
   ],
   "source": [
    "num_attribs = [\"Pclass\", \"Family_Size\", \"Age\", \"Fare\"]\n",
    "cat_attribs = [\"Title\", \"Embarked\"]\n",
    "\n",
    "train_models_with_features(titanic_data, titanic_labels, num_attribs, cat_attribs)\n"
   ],
   "metadata": {
    "collapsed": false
   }
  },
  {
   "cell_type": "markdown",
   "source": [],
   "metadata": {
    "collapsed": false
   }
  },
  {
   "cell_type": "markdown",
   "source": [
    "I mean it's ok... but it's still wore than a previous run:"
   ],
   "metadata": {
    "collapsed": false
   }
  },
  {
   "cell_type": "code",
   "execution_count": 315,
   "outputs": [
    {
     "name": "stdout",
     "output_type": "stream",
     "text": [
      "Forest mean: 0.8126092384519351\n",
      "SVM mean: 0.8338951310861423\n"
     ]
    }
   ],
   "source": [
    "num_attribs = [\"Pclass\", \"Family_Size\"]\n",
    "cat_attribs = [\"Title\", \"Embarked\", \"Age_Group\", \"Fare_Group\"]\n",
    "\n",
    "train_models_with_features(titanic_data, titanic_labels, num_attribs, cat_attribs)\n"
   ],
   "metadata": {
    "collapsed": false
   }
  },
  {
   "cell_type": "markdown",
   "source": [
    "It's interesting to see that the age and fare groups together add more value than keeping them numerical."
   ],
   "metadata": {
    "collapsed": false
   }
  },
  {
   "cell_type": "code",
   "execution_count": 344,
   "outputs": [
    {
     "name": "stdout",
     "output_type": "stream",
     "text": [
      "Forest mean: 0.8170911360799001\n",
      "SVM mean: 0.8350187265917602\n"
     ]
    }
   ],
   "source": [
    "num_attribs = [\"Pclass\", \"Family_Size\"]\n",
    "cat_attribs = [\"Sex\", \"Title\", \"Embarked\", \"Age_Group\", \"Fare_Group\"]\n",
    "\n",
    "train_models_with_features(titanic_data, titanic_labels, num_attribs, cat_attribs)\n"
   ],
   "metadata": {
    "collapsed": false
   }
  },
  {
   "cell_type": "markdown",
   "source": [
    "Adding the sex helps but I can't tell why"
   ],
   "metadata": {
    "collapsed": false
   }
  },
  {
   "cell_type": "code",
   "execution_count": 318,
   "outputs": [
    {
     "name": "stdout",
     "output_type": "stream",
     "text": [
      "Forest mean: 0.8182397003745319\n",
      "SVM mean: 0.8316479400749064\n"
     ]
    }
   ],
   "source": [
    "num_attribs = [\"Pclass\"]\n",
    "cat_attribs = [\"Sex\", \"Title\", \"Embarked\", \"Age_Group\", \"Fare_Group\", \"Family_Type\"]\n",
    "\n",
    "train_models_with_features(titanic_data, titanic_labels, num_attribs, cat_attribs)\n"
   ],
   "metadata": {
    "collapsed": false
   }
  },
  {
   "cell_type": "markdown",
   "source": [
    "Adding the family type instead of family size makes it much worse...\n",
    "\n",
    "I just realized that we treated the class a numerical field meaning class 3 might be given more importance. It should be a categorical field..."
   ],
   "metadata": {
    "collapsed": false
   }
  },
  {
   "cell_type": "code",
   "execution_count": 320,
   "outputs": [
    {
     "name": "stdout",
     "output_type": "stream",
     "text": [
      "Forest mean: 0.8159800249687889\n",
      "SVM mean: 0.8327715355805243\n"
     ]
    }
   ],
   "source": [
    "num_attribs = [\"Family_Size\"]\n",
    "cat_attribs = [\"Sex\", \"Title\", \"Embarked\", \"Age_Group\", \"Fare_Group\", \"Pclass\"]\n",
    "\n",
    "train_models_with_features(titanic_data, titanic_labels, num_attribs, cat_attribs)\n"
   ],
   "metadata": {
    "collapsed": false
   }
  },
  {
   "cell_type": "code",
   "execution_count": 326,
   "outputs": [
    {
     "name": "stdout",
     "output_type": "stream",
     "text": [
      "Forest mean: 0.8170911360799001\n",
      "SVM mean: 0.8316604244694131\n"
     ]
    }
   ],
   "source": [
    "num_attribs = [\"Family_Size\", \"Cabin_sum\"]\n",
    "cat_attribs = [\"Sex\", \"Title\", \"Embarked\", \"Age_Group\", \"Fare_Group\", \"Pclass\"]\n",
    "\n",
    "train_models_with_features(titanic_data, titanic_labels, num_attribs, cat_attribs)\n"
   ],
   "metadata": {
    "collapsed": false
   }
  },
  {
   "cell_type": "code",
   "execution_count": 327,
   "outputs": [
    {
     "name": "stdout",
     "output_type": "stream",
     "text": [
      "Forest mean: 0.8272034956304619\n",
      "SVM mean: 0.8271785268414481\n"
     ]
    }
   ],
   "source": [
    "num_attribs = [\"Family_Size\", \"Cabin_sum\"]\n",
    "cat_attribs = [\"Sex\", \"Title\", \"Embarked\", \"Age_Group\", \"Fare_Group\", \"Pclass\", \"Cabin_1letter\"]\n",
    "\n",
    "train_models_with_features(titanic_data, titanic_labels, num_attribs, cat_attribs)"
   ],
   "metadata": {
    "collapsed": false
   }
  },
  {
   "cell_type": "markdown",
   "source": [
    "For fuck's sake, now the scores are the same. This is both cabin features added"
   ],
   "metadata": {
    "collapsed": false
   }
  },
  {
   "cell_type": "code",
   "execution_count": 329,
   "outputs": [
    {
     "name": "stdout",
     "output_type": "stream",
     "text": [
      "Forest mean: 0.8159800249687891\n",
      "SVM mean: 0.8294132334581772\n"
     ]
    }
   ],
   "source": [
    "num_attribs = [\"Family_Size\", \"Cabin_sum\", \"Ticket_len\"]\n",
    "cat_attribs = [\"Sex\", \"Title\", \"Embarked\", \"Age_Group\", \"Fare_Group\", \"Pclass\"]\n",
    "\n",
    "train_models_with_features(titanic_data, titanic_labels, num_attribs, cat_attribs)"
   ],
   "metadata": {
    "collapsed": false
   }
  },
  {
   "cell_type": "code",
   "execution_count": 330,
   "outputs": [
    {
     "name": "stdout",
     "output_type": "stream",
     "text": [
      "Forest mean: 0.8215355805243446\n",
      "SVM mean: 0.7979775280898876\n"
     ]
    }
   ],
   "source": [
    "num_attribs = [\"Family_Size\", \"Cabin_sum\", \"Ticket_len\"]\n",
    "cat_attribs = [\"Sex\", \"Title\", \"Embarked\", \"Age_Group\", \"Fare_Group\", \"Pclass\", \"Ticket_2letter\"]\n",
    "\n",
    "train_models_with_features(titanic_data, titanic_labels, num_attribs, cat_attribs)\n"
   ],
   "metadata": {
    "collapsed": false
   }
  },
  {
   "cell_type": "markdown",
   "source": [
    "Ticket 2 letter is horrible, don't add it. Let's go back."
   ],
   "metadata": {
    "collapsed": false
   }
  },
  {
   "cell_type": "code",
   "execution_count": 332,
   "outputs": [
    {
     "name": "stdout",
     "output_type": "stream",
     "text": [
      "Forest mean: 0.8159800249687891\n",
      "SVM mean: 0.8294132334581772\n"
     ]
    }
   ],
   "source": [
    "num_attribs = [\"Family_Size\", \"Cabin_sum\", \"Ticket_len\"]\n",
    "cat_attribs = [\"Sex\", \"Title\", \"Embarked\", \"Age_Group\", \"Fare_Group\", \"Pclass\"]\n",
    "\n",
    "train_models_with_features(titanic_data, titanic_labels, num_attribs, cat_attribs)\n"
   ],
   "metadata": {
    "collapsed": false
   }
  },
  {
   "cell_type": "code",
   "execution_count": 334,
   "outputs": [
    {
     "name": "stdout",
     "output_type": "stream",
     "text": [
      "Forest mean: 0.8159800249687891\n",
      "SVM mean: 0.8294132334581772\n"
     ]
    }
   ],
   "source": [
    "num_attribs = [\"Family_Size\", \"Cabin_sum\", \"Ticket_len\"]\n",
    "cat_attribs = [\"Sex\", \"Title\", \"Embarked\", \"Age_Group\", \"Fare_Group\", \"Pclass\"]\n",
    "\n",
    "train_models_with_features(titanic_data, titanic_labels, num_attribs, cat_attribs)\n"
   ],
   "metadata": {
    "collapsed": false
   }
  },
  {
   "cell_type": "markdown",
   "source": [
    "## Ok the best result is this, where Pclass is treated as categorical, we keep both Sex and Title and both Fare instead of Fare Group:"
   ],
   "metadata": {
    "collapsed": false
   }
  },
  {
   "cell_type": "code",
   "execution_count": 397,
   "outputs": [
    {
     "name": "stdout",
     "output_type": "stream",
     "text": [
      "Forest mean: 0.8070037453183522\n",
      "SVM mean: 0.8372659176029963\n"
     ]
    }
   ],
   "source": [
    "num_attribs = [\"Family_Size\", \"Fare\"]\n",
    "cat_attribs = [\"Sex\", \"Title\", \"Embarked\", \"Age_Group\", \"Pclass\"]\n",
    "\n",
    "train_models_with_features(titanic_data, titanic_labels, num_attribs, cat_attribs)\n"
   ],
   "metadata": {
    "collapsed": false
   }
  },
  {
   "cell_type": "markdown",
   "source": [
    "The most logical feature selection for me is this:"
   ],
   "metadata": {
    "collapsed": false
   }
  },
  {
   "cell_type": "code",
   "execution_count": 368,
   "outputs": [
    {
     "name": "stdout",
     "output_type": "stream",
     "text": [
      "Forest mean: 0.8103870162297129\n",
      "SVM mean: 0.8260424469413232\n"
     ]
    }
   ],
   "source": [
    "num_attribs = [\"Cabin_sum\", \"Fare\"]\n",
    "cat_attribs = [\"Title\", \"Embarked\", \"Age_Group\", \"Fare_Group\", \"Pclass\", \"Family_Type\"]\n",
    "\n",
    "train_models_with_features(titanic_data, titanic_labels, num_attribs, cat_attribs)\n"
   ],
   "metadata": {
    "collapsed": false
   }
  },
  {
   "cell_type": "markdown",
   "source": [
    "However, this is more that 1% worse that the best so far."
   ],
   "metadata": {
    "collapsed": false
   }
  },
  {
   "cell_type": "markdown",
   "source": [
    "# Fine-tuning hyperparams"
   ],
   "metadata": {
    "collapsed": false
   }
  },
  {
   "cell_type": "code",
   "execution_count": 398,
   "outputs": [
    {
     "name": "stdout",
     "output_type": "stream",
     "text": [
      "Fitting 10 folds for each of 50 candidates, totalling 500 fits\n",
      "[CV] END ........C=96.70488316937897, gamma=auto, kernel=rbf; total time=   0.0s\n",
      "[CV] END ........C=96.70488316937897, gamma=auto, kernel=rbf; total time=   0.0s\n",
      "[CV] END ........C=96.70488316937897, gamma=auto, kernel=rbf; total time=   0.0s\n",
      "[CV] END ........C=96.70488316937897, gamma=auto, kernel=rbf; total time=   0.0s\n",
      "[CV] END ........C=96.70488316937897, gamma=auto, kernel=rbf; total time=   0.0s\n",
      "[CV] END ........C=96.70488316937897, gamma=auto, kernel=rbf; total time=   0.0s\n",
      "[CV] END ........C=96.70488316937897, gamma=auto, kernel=rbf; total time=   0.0s\n",
      "[CV] END ........C=96.70488316937897, gamma=auto, kernel=rbf; total time=   0.0s\n",
      "[CV] END ........C=96.70488316937897, gamma=auto, kernel=rbf; total time=   0.0s\n",
      "[CV] END ........C=96.70488316937897, gamma=auto, kernel=rbf; total time=   0.0s\n",
      "[CV] END .......C=109588.51843286837, gamma=auto, kernel=rbf; total time=   1.1s\n",
      "[CV] END .......C=109588.51843286837, gamma=auto, kernel=rbf; total time=   0.4s\n",
      "[CV] END .......C=109588.51843286837, gamma=auto, kernel=rbf; total time=   0.6s\n",
      "[CV] END .......C=109588.51843286837, gamma=auto, kernel=rbf; total time=   0.8s\n",
      "[CV] END .......C=109588.51843286837, gamma=auto, kernel=rbf; total time=   1.3s\n",
      "[CV] END .......C=109588.51843286837, gamma=auto, kernel=rbf; total time=   1.6s\n",
      "[CV] END .......C=109588.51843286837, gamma=auto, kernel=rbf; total time=   1.0s\n",
      "[CV] END .......C=109588.51843286837, gamma=auto, kernel=rbf; total time=   0.9s\n",
      "[CV] END .......C=109588.51843286837, gamma=auto, kernel=rbf; total time=   0.6s\n",
      "[CV] END .......C=109588.51843286837, gamma=auto, kernel=rbf; total time=   0.6s\n",
      "[CV] END .......C=7591.3994172066905, gamma=auto, kernel=rbf; total time=   0.1s\n",
      "[CV] END .......C=7591.3994172066905, gamma=auto, kernel=rbf; total time=   0.1s\n",
      "[CV] END .......C=7591.3994172066905, gamma=auto, kernel=rbf; total time=   0.0s\n",
      "[CV] END .......C=7591.3994172066905, gamma=auto, kernel=rbf; total time=   0.1s\n",
      "[CV] END .......C=7591.3994172066905, gamma=auto, kernel=rbf; total time=   0.1s\n",
      "[CV] END .......C=7591.3994172066905, gamma=auto, kernel=rbf; total time=   0.1s\n",
      "[CV] END .......C=7591.3994172066905, gamma=auto, kernel=rbf; total time=   0.1s\n",
      "[CV] END .......C=7591.3994172066905, gamma=auto, kernel=rbf; total time=   0.1s\n",
      "[CV] END .......C=7591.3994172066905, gamma=auto, kernel=rbf; total time=   0.1s\n",
      "[CV] END .......C=7591.3994172066905, gamma=auto, kernel=rbf; total time=   0.1s\n",
      "[CV] END .......C=1491.0993534221182, gamma=auto, kernel=rbf; total time=   0.0s\n",
      "[CV] END .......C=1491.0993534221182, gamma=auto, kernel=rbf; total time=   0.0s\n",
      "[CV] END .......C=1491.0993534221182, gamma=auto, kernel=rbf; total time=   0.0s\n",
      "[CV] END .......C=1491.0993534221182, gamma=auto, kernel=rbf; total time=   0.0s\n",
      "[CV] END .......C=1491.0993534221182, gamma=auto, kernel=rbf; total time=   0.0s\n",
      "[CV] END .......C=1491.0993534221182, gamma=auto, kernel=rbf; total time=   0.0s\n",
      "[CV] END .......C=1491.0993534221182, gamma=auto, kernel=rbf; total time=   0.0s\n",
      "[CV] END .......C=1491.0993534221182, gamma=auto, kernel=rbf; total time=   0.0s\n",
      "[CV] END .......C=1491.0993534221182, gamma=auto, kernel=rbf; total time=   0.0s\n",
      "[CV] END .......C=1491.0993534221182, gamma=auto, kernel=rbf; total time=   0.0s\n",
      "[CV] END ........C=6.715208365130137, gamma=auto, kernel=rbf; total time=   0.0s\n",
      "[CV] END ........C=6.715208365130137, gamma=auto, kernel=rbf; total time=   0.0s\n",
      "[CV] END ........C=6.715208365130137, gamma=auto, kernel=rbf; total time=   0.0s\n",
      "[CV] END ........C=6.715208365130137, gamma=auto, kernel=rbf; total time=   0.0s\n",
      "[CV] END ........C=6.715208365130137, gamma=auto, kernel=rbf; total time=   0.0s\n",
      "[CV] END ........C=6.715208365130137, gamma=auto, kernel=rbf; total time=   0.0s\n",
      "[CV] END ........C=6.715208365130137, gamma=auto, kernel=rbf; total time=   0.0s\n",
      "[CV] END ........C=6.715208365130137, gamma=auto, kernel=rbf; total time=   0.0s\n",
      "[CV] END ........C=6.715208365130137, gamma=auto, kernel=rbf; total time=   0.0s\n",
      "[CV] END ........C=6.715208365130137, gamma=auto, kernel=rbf; total time=   0.0s\n",
      "[CV] END ........C=6.713231619759599, gamma=auto, kernel=rbf; total time=   0.0s\n",
      "[CV] END ........C=6.713231619759599, gamma=auto, kernel=rbf; total time=   0.0s\n",
      "[CV] END ........C=6.713231619759599, gamma=auto, kernel=rbf; total time=   0.0s\n",
      "[CV] END ........C=6.713231619759599, gamma=auto, kernel=rbf; total time=   0.0s\n",
      "[CV] END ........C=6.713231619759599, gamma=auto, kernel=rbf; total time=   0.0s\n",
      "[CV] END ........C=6.713231619759599, gamma=auto, kernel=rbf; total time=   0.0s\n",
      "[CV] END ........C=6.713231619759599, gamma=auto, kernel=rbf; total time=   0.0s\n",
      "[CV] END ........C=6.713231619759599, gamma=auto, kernel=rbf; total time=   0.0s\n",
      "[CV] END ........C=6.713231619759599, gamma=auto, kernel=rbf; total time=   0.0s\n",
      "[CV] END ........C=6.713231619759599, gamma=auto, kernel=rbf; total time=   0.0s\n",
      "[CV] END ........C=2.031902994480314, gamma=auto, kernel=rbf; total time=   0.0s\n",
      "[CV] END ........C=2.031902994480314, gamma=auto, kernel=rbf; total time=   0.0s\n",
      "[CV] END ........C=2.031902994480314, gamma=auto, kernel=rbf; total time=   0.0s\n",
      "[CV] END ........C=2.031902994480314, gamma=auto, kernel=rbf; total time=   0.0s\n",
      "[CV] END ........C=2.031902994480314, gamma=auto, kernel=rbf; total time=   0.0s\n",
      "[CV] END ........C=2.031902994480314, gamma=auto, kernel=rbf; total time=   0.0s\n",
      "[CV] END ........C=2.031902994480314, gamma=auto, kernel=rbf; total time=   0.0s\n",
      "[CV] END ........C=2.031902994480314, gamma=auto, kernel=rbf; total time=   0.0s\n",
      "[CV] END ........C=2.031902994480314, gamma=auto, kernel=rbf; total time=   0.0s\n",
      "[CV] END ........C=2.031902994480314, gamma=auto, kernel=rbf; total time=   0.0s\n",
      "[CV] END ........C=39050.42189404142, gamma=auto, kernel=rbf; total time=   0.2s\n",
      "[CV] END ........C=39050.42189404142, gamma=auto, kernel=rbf; total time=   0.2s\n",
      "[CV] END ........C=39050.42189404142, gamma=auto, kernel=rbf; total time=   0.1s\n",
      "[CV] END ........C=39050.42189404142, gamma=auto, kernel=rbf; total time=   0.5s\n",
      "[CV] END ........C=39050.42189404142, gamma=auto, kernel=rbf; total time=   0.3s\n",
      "[CV] END ........C=39050.42189404142, gamma=auto, kernel=rbf; total time=   0.2s\n",
      "[CV] END ........C=39050.42189404142, gamma=auto, kernel=rbf; total time=   0.2s\n",
      "[CV] END ........C=39050.42189404142, gamma=auto, kernel=rbf; total time=   0.3s\n",
      "[CV] END ........C=39050.42189404142, gamma=auto, kernel=rbf; total time=   0.3s\n",
      "[CV] END ........C=39050.42189404142, gamma=auto, kernel=rbf; total time=   0.2s\n",
      "[CV] END .......C=1536.4863560723961, gamma=auto, kernel=rbf; total time=   0.0s\n",
      "[CV] END .......C=1536.4863560723961, gamma=auto, kernel=rbf; total time=   0.0s\n",
      "[CV] END .......C=1536.4863560723961, gamma=auto, kernel=rbf; total time=   0.0s\n",
      "[CV] END .......C=1536.4863560723961, gamma=auto, kernel=rbf; total time=   0.0s\n",
      "[CV] END .......C=1536.4863560723961, gamma=auto, kernel=rbf; total time=   0.0s\n",
      "[CV] END .......C=1536.4863560723961, gamma=auto, kernel=rbf; total time=   0.0s\n",
      "[CV] END .......C=1536.4863560723961, gamma=auto, kernel=rbf; total time=   0.0s\n",
      "[CV] END .......C=1536.4863560723961, gamma=auto, kernel=rbf; total time=   0.0s\n",
      "[CV] END .......C=1536.4863560723961, gamma=auto, kernel=rbf; total time=   0.0s\n",
      "[CV] END .......C=1536.4863560723961, gamma=auto, kernel=rbf; total time=   0.0s\n",
      "[CV] END ........C=5669.098123087404, gamma=auto, kernel=rbf; total time=   0.1s\n",
      "[CV] END ........C=5669.098123087404, gamma=auto, kernel=rbf; total time=   0.0s\n",
      "[CV] END ........C=5669.098123087404, gamma=auto, kernel=rbf; total time=   0.0s\n",
      "[CV] END ........C=5669.098123087404, gamma=auto, kernel=rbf; total time=   0.1s\n",
      "[CV] END ........C=5669.098123087404, gamma=auto, kernel=rbf; total time=   0.0s\n",
      "[CV] END ........C=5669.098123087404, gamma=auto, kernel=rbf; total time=   0.1s\n",
      "[CV] END ........C=5669.098123087404, gamma=auto, kernel=rbf; total time=   0.0s\n",
      "[CV] END ........C=5669.098123087404, gamma=auto, kernel=rbf; total time=   0.1s\n",
      "[CV] END ........C=5669.098123087404, gamma=auto, kernel=rbf; total time=   0.1s\n",
      "[CV] END ........C=5669.098123087404, gamma=auto, kernel=rbf; total time=   0.1s\n",
      "[CV] END ........C=1.285638950805229, gamma=auto, kernel=rbf; total time=   0.0s\n",
      "[CV] END ........C=1.285638950805229, gamma=auto, kernel=rbf; total time=   0.0s\n",
      "[CV] END ........C=1.285638950805229, gamma=auto, kernel=rbf; total time=   0.0s\n",
      "[CV] END ........C=1.285638950805229, gamma=auto, kernel=rbf; total time=   0.0s\n",
      "[CV] END ........C=1.285638950805229, gamma=auto, kernel=rbf; total time=   0.0s\n",
      "[CV] END ........C=1.285638950805229, gamma=auto, kernel=rbf; total time=   0.0s\n",
      "[CV] END ........C=1.285638950805229, gamma=auto, kernel=rbf; total time=   0.0s\n",
      "[CV] END ........C=1.285638950805229, gamma=auto, kernel=rbf; total time=   0.0s\n",
      "[CV] END ........C=1.285638950805229, gamma=auto, kernel=rbf; total time=   0.0s\n",
      "[CV] END ........C=1.285638950805229, gamma=auto, kernel=rbf; total time=   0.0s\n",
      "[CV] END ........C=138522.7865778499, gamma=auto, kernel=rbf; total time=   1.0s\n",
      "[CV] END ........C=138522.7865778499, gamma=auto, kernel=rbf; total time=   0.7s\n",
      "[CV] END ........C=138522.7865778499, gamma=auto, kernel=rbf; total time=   0.6s\n",
      "[CV] END ........C=138522.7865778499, gamma=auto, kernel=rbf; total time=   0.8s\n",
      "[CV] END ........C=138522.7865778499, gamma=auto, kernel=rbf; total time=   0.9s\n",
      "[CV] END ........C=138522.7865778499, gamma=auto, kernel=rbf; total time=   1.0s\n",
      "[CV] END ........C=138522.7865778499, gamma=auto, kernel=rbf; total time=   0.7s\n",
      "[CV] END ........C=138522.7865778499, gamma=auto, kernel=rbf; total time=   2.0s\n",
      "[CV] END ........C=138522.7865778499, gamma=auto, kernel=rbf; total time=   1.2s\n",
      "[CV] END ........C=138522.7865778499, gamma=auto, kernel=rbf; total time=   0.6s\n",
      "[CV] END .........C=25870.4157773626, gamma=auto, kernel=rbf; total time=   0.2s\n",
      "[CV] END .........C=25870.4157773626, gamma=auto, kernel=rbf; total time=   0.1s\n",
      "[CV] END .........C=25870.4157773626, gamma=auto, kernel=rbf; total time=   0.1s\n",
      "[CV] END .........C=25870.4157773626, gamma=auto, kernel=rbf; total time=   0.1s\n",
      "[CV] END .........C=25870.4157773626, gamma=auto, kernel=rbf; total time=   0.2s\n",
      "[CV] END .........C=25870.4157773626, gamma=auto, kernel=rbf; total time=   0.2s\n",
      "[CV] END .........C=25870.4157773626, gamma=auto, kernel=rbf; total time=   0.2s\n",
      "[CV] END .........C=25870.4157773626, gamma=auto, kernel=rbf; total time=   0.2s\n",
      "[CV] END .........C=25870.4157773626, gamma=auto, kernel=rbf; total time=   0.2s\n",
      "[CV] END .........C=25870.4157773626, gamma=auto, kernel=rbf; total time=   0.2s\n",
      "[CV] END .......C=13.354142153961533, gamma=auto, kernel=rbf; total time=   0.0s\n",
      "[CV] END .......C=13.354142153961533, gamma=auto, kernel=rbf; total time=   0.0s\n",
      "[CV] END .......C=13.354142153961533, gamma=auto, kernel=rbf; total time=   0.0s\n",
      "[CV] END .......C=13.354142153961533, gamma=auto, kernel=rbf; total time=   0.0s\n",
      "[CV] END .......C=13.354142153961533, gamma=auto, kernel=rbf; total time=   0.0s\n",
      "[CV] END .......C=13.354142153961533, gamma=auto, kernel=rbf; total time=   0.0s\n",
      "[CV] END .......C=13.354142153961533, gamma=auto, kernel=rbf; total time=   0.0s\n",
      "[CV] END .......C=13.354142153961533, gamma=auto, kernel=rbf; total time=   0.0s\n",
      "[CV] END .......C=13.354142153961533, gamma=auto, kernel=rbf; total time=   0.0s\n",
      "[CV] END .......C=13.354142153961533, gamma=auto, kernel=rbf; total time=   0.0s\n",
      "[CV] END ........C=9.201520650562236, gamma=auto, kernel=rbf; total time=   0.0s\n",
      "[CV] END ........C=9.201520650562236, gamma=auto, kernel=rbf; total time=   0.0s\n",
      "[CV] END ........C=9.201520650562236, gamma=auto, kernel=rbf; total time=   0.0s\n",
      "[CV] END ........C=9.201520650562236, gamma=auto, kernel=rbf; total time=   0.0s\n",
      "[CV] END ........C=9.201520650562236, gamma=auto, kernel=rbf; total time=   0.0s\n",
      "[CV] END ........C=9.201520650562236, gamma=auto, kernel=rbf; total time=   0.0s\n",
      "[CV] END ........C=9.201520650562236, gamma=auto, kernel=rbf; total time=   0.0s\n",
      "[CV] END ........C=9.201520650562236, gamma=auto, kernel=rbf; total time=   0.0s\n",
      "[CV] END ........C=9.201520650562236, gamma=auto, kernel=rbf; total time=   0.0s\n",
      "[CV] END ........C=9.201520650562236, gamma=auto, kernel=rbf; total time=   0.0s\n",
      "[CV] END ........C=9.380647315224122, gamma=auto, kernel=rbf; total time=   0.0s\n",
      "[CV] END ........C=9.380647315224122, gamma=auto, kernel=rbf; total time=   0.0s\n",
      "[CV] END ........C=9.380647315224122, gamma=auto, kernel=rbf; total time=   0.0s\n",
      "[CV] END ........C=9.380647315224122, gamma=auto, kernel=rbf; total time=   0.0s\n",
      "[CV] END ........C=9.380647315224122, gamma=auto, kernel=rbf; total time=   0.0s\n",
      "[CV] END ........C=9.380647315224122, gamma=auto, kernel=rbf; total time=   0.0s\n",
      "[CV] END ........C=9.380647315224122, gamma=auto, kernel=rbf; total time=   0.0s\n",
      "[CV] END ........C=9.380647315224122, gamma=auto, kernel=rbf; total time=   0.0s\n",
      "[CV] END ........C=9.380647315224122, gamma=auto, kernel=rbf; total time=   0.0s\n",
      "[CV] END ........C=9.380647315224122, gamma=auto, kernel=rbf; total time=   0.0s\n",
      "[CV] END .........C=41.0012649801668, gamma=auto, kernel=rbf; total time=   0.0s\n",
      "[CV] END .........C=41.0012649801668, gamma=auto, kernel=rbf; total time=   0.0s\n",
      "[CV] END .........C=41.0012649801668, gamma=auto, kernel=rbf; total time=   0.0s\n",
      "[CV] END .........C=41.0012649801668, gamma=auto, kernel=rbf; total time=   0.0s\n",
      "[CV] END .........C=41.0012649801668, gamma=auto, kernel=rbf; total time=   0.0s\n",
      "[CV] END .........C=41.0012649801668, gamma=auto, kernel=rbf; total time=   0.0s\n",
      "[CV] END .........C=41.0012649801668, gamma=auto, kernel=rbf; total time=   0.0s\n",
      "[CV] END .........C=41.0012649801668, gamma=auto, kernel=rbf; total time=   0.0s\n",
      "[CV] END .........C=41.0012649801668, gamma=auto, kernel=rbf; total time=   0.0s\n",
      "[CV] END .........C=41.0012649801668, gamma=auto, kernel=rbf; total time=   0.0s\n",
      "[CV] END ........C=604.9919340010415, gamma=auto, kernel=rbf; total time=   0.0s\n",
      "[CV] END ........C=604.9919340010415, gamma=auto, kernel=rbf; total time=   0.0s\n",
      "[CV] END ........C=604.9919340010415, gamma=auto, kernel=rbf; total time=   0.0s\n",
      "[CV] END ........C=604.9919340010415, gamma=auto, kernel=rbf; total time=   0.0s\n",
      "[CV] END ........C=604.9919340010415, gamma=auto, kernel=rbf; total time=   0.0s\n",
      "[CV] END ........C=604.9919340010415, gamma=auto, kernel=rbf; total time=   0.0s\n",
      "[CV] END ........C=604.9919340010415, gamma=auto, kernel=rbf; total time=   0.0s\n",
      "[CV] END ........C=604.9919340010415, gamma=auto, kernel=rbf; total time=   0.0s\n",
      "[CV] END ........C=604.9919340010415, gamma=auto, kernel=rbf; total time=   0.0s\n",
      "[CV] END ........C=604.9919340010415, gamma=auto, kernel=rbf; total time=   0.0s\n",
      "[CV] END .......C=194.87382082324612, gamma=auto, kernel=rbf; total time=   0.0s\n",
      "[CV] END .......C=194.87382082324612, gamma=auto, kernel=rbf; total time=   0.0s\n",
      "[CV] END .......C=194.87382082324612, gamma=auto, kernel=rbf; total time=   0.0s\n",
      "[CV] END .......C=194.87382082324612, gamma=auto, kernel=rbf; total time=   0.0s\n",
      "[CV] END .......C=194.87382082324612, gamma=auto, kernel=rbf; total time=   0.0s\n",
      "[CV] END .......C=194.87382082324612, gamma=auto, kernel=rbf; total time=   0.0s\n",
      "[CV] END .......C=194.87382082324612, gamma=auto, kernel=rbf; total time=   0.0s\n",
      "[CV] END .......C=194.87382082324612, gamma=auto, kernel=rbf; total time=   0.0s\n",
      "[CV] END .......C=194.87382082324612, gamma=auto, kernel=rbf; total time=   0.0s\n",
      "[CV] END .......C=194.87382082324612, gamma=auto, kernel=rbf; total time=   0.0s\n",
      "[CV] END ........C=34.97956527693283, gamma=auto, kernel=rbf; total time=   0.0s\n",
      "[CV] END ........C=34.97956527693283, gamma=auto, kernel=rbf; total time=   0.0s\n",
      "[CV] END ........C=34.97956527693283, gamma=auto, kernel=rbf; total time=   0.0s\n",
      "[CV] END ........C=34.97956527693283, gamma=auto, kernel=rbf; total time=   0.0s\n",
      "[CV] END ........C=34.97956527693283, gamma=auto, kernel=rbf; total time=   0.0s\n",
      "[CV] END ........C=34.97956527693283, gamma=auto, kernel=rbf; total time=   0.0s\n",
      "[CV] END ........C=34.97956527693283, gamma=auto, kernel=rbf; total time=   0.0s\n",
      "[CV] END ........C=34.97956527693283, gamma=auto, kernel=rbf; total time=   0.0s\n",
      "[CV] END ........C=34.97956527693283, gamma=auto, kernel=rbf; total time=   0.0s\n",
      "[CV] END ........C=34.97956527693283, gamma=auto, kernel=rbf; total time=   0.0s\n",
      "[CV] END .......C=1751.6629649020467, gamma=auto, kernel=rbf; total time=   0.0s\n",
      "[CV] END .......C=1751.6629649020467, gamma=auto, kernel=rbf; total time=   0.0s\n",
      "[CV] END .......C=1751.6629649020467, gamma=auto, kernel=rbf; total time=   0.0s\n",
      "[CV] END .......C=1751.6629649020467, gamma=auto, kernel=rbf; total time=   0.0s\n",
      "[CV] END .......C=1751.6629649020467, gamma=auto, kernel=rbf; total time=   0.0s\n",
      "[CV] END .......C=1751.6629649020467, gamma=auto, kernel=rbf; total time=   0.0s\n",
      "[CV] END .......C=1751.6629649020467, gamma=auto, kernel=rbf; total time=   0.0s\n",
      "[CV] END .......C=1751.6629649020467, gamma=auto, kernel=rbf; total time=   0.0s\n",
      "[CV] END .......C=1751.6629649020467, gamma=auto, kernel=rbf; total time=   0.0s\n",
      "[CV] END .......C=1751.6629649020467, gamma=auto, kernel=rbf; total time=   0.0s\n",
      "[CV] END ........C=5.488594417167231, gamma=auto, kernel=rbf; total time=   0.0s\n",
      "[CV] END ........C=5.488594417167231, gamma=auto, kernel=rbf; total time=   0.0s\n",
      "[CV] END ........C=5.488594417167231, gamma=auto, kernel=rbf; total time=   0.0s\n",
      "[CV] END ........C=5.488594417167231, gamma=auto, kernel=rbf; total time=   0.0s\n",
      "[CV] END ........C=5.488594417167231, gamma=auto, kernel=rbf; total time=   0.0s\n",
      "[CV] END ........C=5.488594417167231, gamma=auto, kernel=rbf; total time=   0.0s\n",
      "[CV] END ........C=5.488594417167231, gamma=auto, kernel=rbf; total time=   0.0s\n",
      "[CV] END ........C=5.488594417167231, gamma=auto, kernel=rbf; total time=   0.0s\n",
      "[CV] END ........C=5.488594417167231, gamma=auto, kernel=rbf; total time=   0.0s\n",
      "[CV] END ........C=5.488594417167231, gamma=auto, kernel=rbf; total time=   0.0s\n",
      "[CV] END ........C=35.37264576810132, gamma=auto, kernel=rbf; total time=   0.0s\n",
      "[CV] END ........C=35.37264576810132, gamma=auto, kernel=rbf; total time=   0.0s\n",
      "[CV] END ........C=35.37264576810132, gamma=auto, kernel=rbf; total time=   0.0s\n",
      "[CV] END ........C=35.37264576810132, gamma=auto, kernel=rbf; total time=   0.0s\n",
      "[CV] END ........C=35.37264576810132, gamma=auto, kernel=rbf; total time=   0.0s\n",
      "[CV] END ........C=35.37264576810132, gamma=auto, kernel=rbf; total time=   0.0s\n",
      "[CV] END ........C=35.37264576810132, gamma=auto, kernel=rbf; total time=   0.0s\n",
      "[CV] END ........C=35.37264576810132, gamma=auto, kernel=rbf; total time=   0.0s\n",
      "[CV] END ........C=35.37264576810132, gamma=auto, kernel=rbf; total time=   0.0s\n",
      "[CV] END ........C=35.37264576810132, gamma=auto, kernel=rbf; total time=   0.0s\n",
      "[CV] END ........C=87.51754379612282, gamma=auto, kernel=rbf; total time=   0.0s\n",
      "[CV] END ........C=87.51754379612282, gamma=auto, kernel=rbf; total time=   0.0s\n",
      "[CV] END ........C=87.51754379612282, gamma=auto, kernel=rbf; total time=   0.0s\n",
      "[CV] END ........C=87.51754379612282, gamma=auto, kernel=rbf; total time=   0.0s\n",
      "[CV] END ........C=87.51754379612282, gamma=auto, kernel=rbf; total time=   0.0s\n",
      "[CV] END ........C=87.51754379612282, gamma=auto, kernel=rbf; total time=   0.0s\n",
      "[CV] END ........C=87.51754379612282, gamma=auto, kernel=rbf; total time=   0.0s\n",
      "[CV] END ........C=87.51754379612282, gamma=auto, kernel=rbf; total time=   0.0s\n",
      "[CV] END ........C=87.51754379612282, gamma=auto, kernel=rbf; total time=   0.0s\n",
      "[CV] END ........C=87.51754379612282, gamma=auto, kernel=rbf; total time=   0.0s\n",
      "[CV] END ........C=261.6017629848191, gamma=auto, kernel=rbf; total time=   0.0s\n",
      "[CV] END ........C=261.6017629848191, gamma=auto, kernel=rbf; total time=   0.0s\n",
      "[CV] END ........C=261.6017629848191, gamma=auto, kernel=rbf; total time=   0.0s\n",
      "[CV] END ........C=261.6017629848191, gamma=auto, kernel=rbf; total time=   0.0s\n",
      "[CV] END ........C=261.6017629848191, gamma=auto, kernel=rbf; total time=   0.0s\n",
      "[CV] END ........C=261.6017629848191, gamma=auto, kernel=rbf; total time=   0.0s\n",
      "[CV] END ........C=261.6017629848191, gamma=auto, kernel=rbf; total time=   0.0s\n",
      "[CV] END ........C=261.6017629848191, gamma=auto, kernel=rbf; total time=   0.0s\n",
      "[CV] END ........C=261.6017629848191, gamma=auto, kernel=rbf; total time=   0.0s\n",
      "[CV] END ........C=261.6017629848191, gamma=auto, kernel=rbf; total time=   0.0s\n",
      "[CV] END .......C=14529.187326739691, gamma=auto, kernel=rbf; total time=   0.2s\n",
      "[CV] END .......C=14529.187326739691, gamma=auto, kernel=rbf; total time=   0.1s\n",
      "[CV] END .......C=14529.187326739691, gamma=auto, kernel=rbf; total time=   0.1s\n",
      "[CV] END .......C=14529.187326739691, gamma=auto, kernel=rbf; total time=   0.1s\n",
      "[CV] END .......C=14529.187326739691, gamma=auto, kernel=rbf; total time=   0.2s\n",
      "[CV] END .......C=14529.187326739691, gamma=auto, kernel=rbf; total time=   0.2s\n",
      "[CV] END .......C=14529.187326739691, gamma=auto, kernel=rbf; total time=   0.1s\n",
      "[CV] END .......C=14529.187326739691, gamma=auto, kernel=rbf; total time=   0.2s\n",
      "[CV] END .......C=14529.187326739691, gamma=auto, kernel=rbf; total time=   0.2s\n",
      "[CV] END .......C=14529.187326739691, gamma=auto, kernel=rbf; total time=   0.1s\n",
      "[CV] END ........C=11.44133517717232, gamma=auto, kernel=rbf; total time=   0.0s\n",
      "[CV] END ........C=11.44133517717232, gamma=auto, kernel=rbf; total time=   0.0s\n",
      "[CV] END ........C=11.44133517717232, gamma=auto, kernel=rbf; total time=   0.0s\n",
      "[CV] END ........C=11.44133517717232, gamma=auto, kernel=rbf; total time=   0.0s\n",
      "[CV] END ........C=11.44133517717232, gamma=auto, kernel=rbf; total time=   0.0s\n",
      "[CV] END ........C=11.44133517717232, gamma=auto, kernel=rbf; total time=   0.0s\n",
      "[CV] END ........C=11.44133517717232, gamma=auto, kernel=rbf; total time=   0.0s\n",
      "[CV] END ........C=11.44133517717232, gamma=auto, kernel=rbf; total time=   0.0s\n",
      "[CV] END ........C=11.44133517717232, gamma=auto, kernel=rbf; total time=   0.0s\n",
      "[CV] END ........C=11.44133517717232, gamma=auto, kernel=rbf; total time=   0.0s\n",
      "[CV] END ........C=532.0741780836781, gamma=auto, kernel=rbf; total time=   0.0s\n",
      "[CV] END ........C=532.0741780836781, gamma=auto, kernel=rbf; total time=   0.0s\n",
      "[CV] END ........C=532.0741780836781, gamma=auto, kernel=rbf; total time=   0.0s\n",
      "[CV] END ........C=532.0741780836781, gamma=auto, kernel=rbf; total time=   0.0s\n",
      "[CV] END ........C=532.0741780836781, gamma=auto, kernel=rbf; total time=   0.0s\n",
      "[CV] END ........C=532.0741780836781, gamma=auto, kernel=rbf; total time=   0.0s\n",
      "[CV] END ........C=532.0741780836781, gamma=auto, kernel=rbf; total time=   0.0s\n",
      "[CV] END ........C=532.0741780836781, gamma=auto, kernel=rbf; total time=   0.0s\n",
      "[CV] END ........C=532.0741780836781, gamma=auto, kernel=rbf; total time=   0.0s\n",
      "[CV] END ........C=532.0741780836781, gamma=auto, kernel=rbf; total time=   0.0s\n",
      "[CV] END .......C=1381.6797716979363, gamma=auto, kernel=rbf; total time=   0.0s\n",
      "[CV] END .......C=1381.6797716979363, gamma=auto, kernel=rbf; total time=   0.0s\n",
      "[CV] END .......C=1381.6797716979363, gamma=auto, kernel=rbf; total time=   0.0s\n",
      "[CV] END .......C=1381.6797716979363, gamma=auto, kernel=rbf; total time=   0.0s\n",
      "[CV] END .......C=1381.6797716979363, gamma=auto, kernel=rbf; total time=   0.0s\n",
      "[CV] END .......C=1381.6797716979363, gamma=auto, kernel=rbf; total time=   0.0s\n",
      "[CV] END .......C=1381.6797716979363, gamma=auto, kernel=rbf; total time=   0.0s\n",
      "[CV] END .......C=1381.6797716979363, gamma=auto, kernel=rbf; total time=   0.0s\n",
      "[CV] END .......C=1381.6797716979363, gamma=auto, kernel=rbf; total time=   0.0s\n",
      "[CV] END .......C=1381.6797716979363, gamma=auto, kernel=rbf; total time=   0.0s\n",
      "[CV] END ........C=1.762929849262259, gamma=auto, kernel=rbf; total time=   0.0s\n",
      "[CV] END ........C=1.762929849262259, gamma=auto, kernel=rbf; total time=   0.0s\n",
      "[CV] END ........C=1.762929849262259, gamma=auto, kernel=rbf; total time=   0.0s\n",
      "[CV] END ........C=1.762929849262259, gamma=auto, kernel=rbf; total time=   0.0s\n",
      "[CV] END ........C=1.762929849262259, gamma=auto, kernel=rbf; total time=   0.0s\n",
      "[CV] END ........C=1.762929849262259, gamma=auto, kernel=rbf; total time=   0.0s\n",
      "[CV] END ........C=1.762929849262259, gamma=auto, kernel=rbf; total time=   0.0s\n",
      "[CV] END ........C=1.762929849262259, gamma=auto, kernel=rbf; total time=   0.0s\n",
      "[CV] END ........C=1.762929849262259, gamma=auto, kernel=rbf; total time=   0.0s\n",
      "[CV] END ........C=1.762929849262259, gamma=auto, kernel=rbf; total time=   0.0s\n",
      "[CV] END .......C=1661.9328936364122, gamma=auto, kernel=rbf; total time=   0.0s\n",
      "[CV] END .......C=1661.9328936364122, gamma=auto, kernel=rbf; total time=   0.0s\n",
      "[CV] END .......C=1661.9328936364122, gamma=auto, kernel=rbf; total time=   0.0s\n",
      "[CV] END .......C=1661.9328936364122, gamma=auto, kernel=rbf; total time=   0.0s\n",
      "[CV] END .......C=1661.9328936364122, gamma=auto, kernel=rbf; total time=   0.0s\n",
      "[CV] END .......C=1661.9328936364122, gamma=auto, kernel=rbf; total time=   0.0s\n",
      "[CV] END .......C=1661.9328936364122, gamma=auto, kernel=rbf; total time=   0.0s\n",
      "[CV] END .......C=1661.9328936364122, gamma=auto, kernel=rbf; total time=   0.0s\n",
      "[CV] END .......C=1661.9328936364122, gamma=auto, kernel=rbf; total time=   0.0s\n",
      "[CV] END .......C=1661.9328936364122, gamma=auto, kernel=rbf; total time=   0.0s\n",
      "[CV] END ........C=8.015922222732081, gamma=auto, kernel=rbf; total time=   0.0s\n",
      "[CV] END ........C=8.015922222732081, gamma=auto, kernel=rbf; total time=   0.0s\n",
      "[CV] END ........C=8.015922222732081, gamma=auto, kernel=rbf; total time=   0.0s\n",
      "[CV] END ........C=8.015922222732081, gamma=auto, kernel=rbf; total time=   0.0s\n",
      "[CV] END ........C=8.015922222732081, gamma=auto, kernel=rbf; total time=   0.0s\n",
      "[CV] END ........C=8.015922222732081, gamma=auto, kernel=rbf; total time=   0.0s\n",
      "[CV] END ........C=8.015922222732081, gamma=auto, kernel=rbf; total time=   0.0s\n",
      "[CV] END ........C=8.015922222732081, gamma=auto, kernel=rbf; total time=   0.0s\n",
      "[CV] END ........C=8.015922222732081, gamma=auto, kernel=rbf; total time=   0.0s\n",
      "[CV] END ........C=8.015922222732081, gamma=auto, kernel=rbf; total time=   0.0s\n",
      "[CV] END ........C=2.212281795836881, gamma=auto, kernel=rbf; total time=   0.0s\n",
      "[CV] END ........C=2.212281795836881, gamma=auto, kernel=rbf; total time=   0.0s\n",
      "[CV] END ........C=2.212281795836881, gamma=auto, kernel=rbf; total time=   0.0s\n",
      "[CV] END ........C=2.212281795836881, gamma=auto, kernel=rbf; total time=   0.0s\n",
      "[CV] END ........C=2.212281795836881, gamma=auto, kernel=rbf; total time=   0.0s\n",
      "[CV] END ........C=2.212281795836881, gamma=auto, kernel=rbf; total time=   0.0s\n",
      "[CV] END ........C=2.212281795836881, gamma=auto, kernel=rbf; total time=   0.0s\n",
      "[CV] END ........C=2.212281795836881, gamma=auto, kernel=rbf; total time=   0.0s\n",
      "[CV] END ........C=2.212281795836881, gamma=auto, kernel=rbf; total time=   0.0s\n",
      "[CV] END ........C=2.212281795836881, gamma=auto, kernel=rbf; total time=   0.0s\n",
      "[CV] END ........C=107169.3743755247, gamma=auto, kernel=rbf; total time=   0.4s\n",
      "[CV] END ........C=107169.3743755247, gamma=auto, kernel=rbf; total time=   0.4s\n",
      "[CV] END ........C=107169.3743755247, gamma=auto, kernel=rbf; total time=   0.5s\n",
      "[CV] END ........C=107169.3743755247, gamma=auto, kernel=rbf; total time=   0.6s\n",
      "[CV] END ........C=107169.3743755247, gamma=auto, kernel=rbf; total time=   1.2s\n",
      "[CV] END ........C=107169.3743755247, gamma=auto, kernel=rbf; total time=   0.6s\n",
      "[CV] END ........C=107169.3743755247, gamma=auto, kernel=rbf; total time=   1.0s\n",
      "[CV] END ........C=107169.3743755247, gamma=auto, kernel=rbf; total time=   0.8s\n",
      "[CV] END ........C=107169.3743755247, gamma=auto, kernel=rbf; total time=   0.7s\n",
      "[CV] END ........C=107169.3743755247, gamma=auto, kernel=rbf; total time=   0.5s\n",
      "[CV] END .......C=131475.36104419336, gamma=auto, kernel=rbf; total time=   1.0s\n",
      "[CV] END .......C=131475.36104419336, gamma=auto, kernel=rbf; total time=   0.6s\n",
      "[CV] END .......C=131475.36104419336, gamma=auto, kernel=rbf; total time=   0.9s\n",
      "[CV] END .......C=131475.36104419336, gamma=auto, kernel=rbf; total time=   1.6s\n",
      "[CV] END .......C=131475.36104419336, gamma=auto, kernel=rbf; total time=   1.0s\n",
      "[CV] END .......C=131475.36104419336, gamma=auto, kernel=rbf; total time=   1.7s\n",
      "[CV] END .......C=131475.36104419336, gamma=auto, kernel=rbf; total time=   0.7s\n",
      "[CV] END .......C=131475.36104419336, gamma=auto, kernel=rbf; total time=   0.8s\n",
      "[CV] END .......C=131475.36104419336, gamma=auto, kernel=rbf; total time=   1.4s\n",
      "[CV] END .......C=131475.36104419336, gamma=auto, kernel=rbf; total time=   0.7s\n",
      "[CV] END .......C=19290.282632663188, gamma=auto, kernel=rbf; total time=   0.2s\n",
      "[CV] END .......C=19290.282632663188, gamma=auto, kernel=rbf; total time=   0.1s\n",
      "[CV] END .......C=19290.282632663188, gamma=auto, kernel=rbf; total time=   0.1s\n",
      "[CV] END .......C=19290.282632663188, gamma=auto, kernel=rbf; total time=   0.2s\n",
      "[CV] END .......C=19290.282632663188, gamma=auto, kernel=rbf; total time=   0.2s\n",
      "[CV] END .......C=19290.282632663188, gamma=auto, kernel=rbf; total time=   0.2s\n",
      "[CV] END .......C=19290.282632663188, gamma=auto, kernel=rbf; total time=   0.1s\n",
      "[CV] END .......C=19290.282632663188, gamma=auto, kernel=rbf; total time=   0.2s\n",
      "[CV] END .......C=19290.282632663188, gamma=auto, kernel=rbf; total time=   0.2s\n",
      "[CV] END .......C=19290.282632663188, gamma=auto, kernel=rbf; total time=   0.1s\n",
      "[CV] END ........C=41.18762286645785, gamma=auto, kernel=rbf; total time=   0.0s\n",
      "[CV] END ........C=41.18762286645785, gamma=auto, kernel=rbf; total time=   0.0s\n",
      "[CV] END ........C=41.18762286645785, gamma=auto, kernel=rbf; total time=   0.0s\n",
      "[CV] END ........C=41.18762286645785, gamma=auto, kernel=rbf; total time=   0.0s\n",
      "[CV] END ........C=41.18762286645785, gamma=auto, kernel=rbf; total time=   0.0s\n",
      "[CV] END ........C=41.18762286645785, gamma=auto, kernel=rbf; total time=   0.0s\n",
      "[CV] END ........C=41.18762286645785, gamma=auto, kernel=rbf; total time=   0.0s\n",
      "[CV] END ........C=41.18762286645785, gamma=auto, kernel=rbf; total time=   0.0s\n",
      "[CV] END ........C=41.18762286645785, gamma=auto, kernel=rbf; total time=   0.0s\n",
      "[CV] END ........C=41.18762286645785, gamma=auto, kernel=rbf; total time=   0.0s\n",
      "[CV] END ........C=3.294297419624532, gamma=auto, kernel=rbf; total time=   0.0s\n",
      "[CV] END ........C=3.294297419624532, gamma=auto, kernel=rbf; total time=   0.0s\n",
      "[CV] END ........C=3.294297419624532, gamma=auto, kernel=rbf; total time=   0.0s\n",
      "[CV] END ........C=3.294297419624532, gamma=auto, kernel=rbf; total time=   0.0s\n",
      "[CV] END ........C=3.294297419624532, gamma=auto, kernel=rbf; total time=   0.0s\n",
      "[CV] END ........C=3.294297419624532, gamma=auto, kernel=rbf; total time=   0.0s\n",
      "[CV] END ........C=3.294297419624532, gamma=auto, kernel=rbf; total time=   0.0s\n",
      "[CV] END ........C=3.294297419624532, gamma=auto, kernel=rbf; total time=   0.0s\n",
      "[CV] END ........C=3.294297419624532, gamma=auto, kernel=rbf; total time=   0.0s\n",
      "[CV] END ........C=3.294297419624532, gamma=auto, kernel=rbf; total time=   0.0s\n",
      "[CV] END .........C=4237.79356886974, gamma=auto, kernel=rbf; total time=   0.0s\n",
      "[CV] END .........C=4237.79356886974, gamma=auto, kernel=rbf; total time=   0.0s\n",
      "[CV] END .........C=4237.79356886974, gamma=auto, kernel=rbf; total time=   0.0s\n",
      "[CV] END .........C=4237.79356886974, gamma=auto, kernel=rbf; total time=   0.1s\n",
      "[CV] END .........C=4237.79356886974, gamma=auto, kernel=rbf; total time=   0.0s\n",
      "[CV] END .........C=4237.79356886974, gamma=auto, kernel=rbf; total time=   0.1s\n",
      "[CV] END .........C=4237.79356886974, gamma=auto, kernel=rbf; total time=   0.0s\n",
      "[CV] END .........C=4237.79356886974, gamma=auto, kernel=rbf; total time=   0.0s\n",
      "[CV] END .........C=4237.79356886974, gamma=auto, kernel=rbf; total time=   0.1s\n",
      "[CV] END .........C=4237.79356886974, gamma=auto, kernel=rbf; total time=   0.1s\n",
      "[CV] END ........C=215.4078727929885, gamma=auto, kernel=rbf; total time=   0.0s\n",
      "[CV] END ........C=215.4078727929885, gamma=auto, kernel=rbf; total time=   0.0s\n",
      "[CV] END ........C=215.4078727929885, gamma=auto, kernel=rbf; total time=   0.0s\n",
      "[CV] END ........C=215.4078727929885, gamma=auto, kernel=rbf; total time=   0.0s\n",
      "[CV] END ........C=215.4078727929885, gamma=auto, kernel=rbf; total time=   0.0s\n",
      "[CV] END ........C=215.4078727929885, gamma=auto, kernel=rbf; total time=   0.0s\n",
      "[CV] END ........C=215.4078727929885, gamma=auto, kernel=rbf; total time=   0.0s\n",
      "[CV] END ........C=215.4078727929885, gamma=auto, kernel=rbf; total time=   0.0s\n",
      "[CV] END ........C=215.4078727929885, gamma=auto, kernel=rbf; total time=   0.0s\n",
      "[CV] END ........C=215.4078727929885, gamma=auto, kernel=rbf; total time=   0.0s\n",
      "[CV] END ........C=4.435354567081467, gamma=auto, kernel=rbf; total time=   0.0s\n",
      "[CV] END ........C=4.435354567081467, gamma=auto, kernel=rbf; total time=   0.0s\n",
      "[CV] END ........C=4.435354567081467, gamma=auto, kernel=rbf; total time=   0.0s\n",
      "[CV] END ........C=4.435354567081467, gamma=auto, kernel=rbf; total time=   0.0s\n",
      "[CV] END ........C=4.435354567081467, gamma=auto, kernel=rbf; total time=   0.0s\n",
      "[CV] END ........C=4.435354567081467, gamma=auto, kernel=rbf; total time=   0.0s\n",
      "[CV] END ........C=4.435354567081467, gamma=auto, kernel=rbf; total time=   0.0s\n",
      "[CV] END ........C=4.435354567081467, gamma=auto, kernel=rbf; total time=   0.0s\n",
      "[CV] END ........C=4.435354567081467, gamma=auto, kernel=rbf; total time=   0.0s\n",
      "[CV] END ........C=4.435354567081467, gamma=auto, kernel=rbf; total time=   0.0s\n",
      "[CV] END .......C=421.64567861000745, gamma=auto, kernel=rbf; total time=   0.0s\n",
      "[CV] END .......C=421.64567861000745, gamma=auto, kernel=rbf; total time=   0.0s\n",
      "[CV] END .......C=421.64567861000745, gamma=auto, kernel=rbf; total time=   0.0s\n",
      "[CV] END .......C=421.64567861000745, gamma=auto, kernel=rbf; total time=   0.0s\n",
      "[CV] END .......C=421.64567861000745, gamma=auto, kernel=rbf; total time=   0.0s\n",
      "[CV] END .......C=421.64567861000745, gamma=auto, kernel=rbf; total time=   0.0s\n",
      "[CV] END .......C=421.64567861000745, gamma=auto, kernel=rbf; total time=   0.0s\n",
      "[CV] END .......C=421.64567861000745, gamma=auto, kernel=rbf; total time=   0.0s\n",
      "[CV] END .......C=421.64567861000745, gamma=auto, kernel=rbf; total time=   0.0s\n",
      "[CV] END .......C=421.64567861000745, gamma=auto, kernel=rbf; total time=   0.0s\n",
      "[CV] END .......C=1.5215792669652939, gamma=auto, kernel=rbf; total time=   0.0s\n",
      "[CV] END .......C=1.5215792669652939, gamma=auto, kernel=rbf; total time=   0.0s\n",
      "[CV] END .......C=1.5215792669652939, gamma=auto, kernel=rbf; total time=   0.0s\n",
      "[CV] END .......C=1.5215792669652939, gamma=auto, kernel=rbf; total time=   0.0s\n",
      "[CV] END .......C=1.5215792669652939, gamma=auto, kernel=rbf; total time=   0.0s\n",
      "[CV] END .......C=1.5215792669652939, gamma=auto, kernel=rbf; total time=   0.0s\n",
      "[CV] END .......C=1.5215792669652939, gamma=auto, kernel=rbf; total time=   0.0s\n",
      "[CV] END .......C=1.5215792669652939, gamma=auto, kernel=rbf; total time=   0.0s\n",
      "[CV] END .......C=1.5215792669652939, gamma=auto, kernel=rbf; total time=   0.0s\n",
      "[CV] END .......C=1.5215792669652939, gamma=auto, kernel=rbf; total time=   0.0s\n",
      "[CV] END .........C=66120.2865581789, gamma=auto, kernel=rbf; total time=   0.3s\n",
      "[CV] END .........C=66120.2865581789, gamma=auto, kernel=rbf; total time=   0.2s\n",
      "[CV] END .........C=66120.2865581789, gamma=auto, kernel=rbf; total time=   0.2s\n",
      "[CV] END .........C=66120.2865581789, gamma=auto, kernel=rbf; total time=   0.5s\n",
      "[CV] END .........C=66120.2865581789, gamma=auto, kernel=rbf; total time=   0.6s\n",
      "[CV] END .........C=66120.2865581789, gamma=auto, kernel=rbf; total time=   0.5s\n",
      "[CV] END .........C=66120.2865581789, gamma=auto, kernel=rbf; total time=   0.4s\n",
      "[CV] END .........C=66120.2865581789, gamma=auto, kernel=rbf; total time=   0.5s\n",
      "[CV] END .........C=66120.2865581789, gamma=auto, kernel=rbf; total time=   0.6s\n",
      "[CV] END .........C=66120.2865581789, gamma=auto, kernel=rbf; total time=   0.6s\n",
      "[CV] END ........C=23.53967403885428, gamma=auto, kernel=rbf; total time=   0.0s\n",
      "[CV] END ........C=23.53967403885428, gamma=auto, kernel=rbf; total time=   0.0s\n",
      "[CV] END ........C=23.53967403885428, gamma=auto, kernel=rbf; total time=   0.0s\n",
      "[CV] END ........C=23.53967403885428, gamma=auto, kernel=rbf; total time=   0.0s\n",
      "[CV] END ........C=23.53967403885428, gamma=auto, kernel=rbf; total time=   0.0s\n",
      "[CV] END ........C=23.53967403885428, gamma=auto, kernel=rbf; total time=   0.0s\n",
      "[CV] END ........C=23.53967403885428, gamma=auto, kernel=rbf; total time=   0.0s\n",
      "[CV] END ........C=23.53967403885428, gamma=auto, kernel=rbf; total time=   0.0s\n",
      "[CV] END ........C=23.53967403885428, gamma=auto, kernel=rbf; total time=   0.0s\n",
      "[CV] END ........C=23.53967403885428, gamma=auto, kernel=rbf; total time=   0.0s\n",
      "[CV] END ........C=3251.251025263777, gamma=auto, kernel=rbf; total time=   0.0s\n",
      "[CV] END ........C=3251.251025263777, gamma=auto, kernel=rbf; total time=   0.0s\n",
      "[CV] END ........C=3251.251025263777, gamma=auto, kernel=rbf; total time=   0.0s\n",
      "[CV] END ........C=3251.251025263777, gamma=auto, kernel=rbf; total time=   0.0s\n",
      "[CV] END ........C=3251.251025263777, gamma=auto, kernel=rbf; total time=   0.0s\n",
      "[CV] END ........C=3251.251025263777, gamma=auto, kernel=rbf; total time=   0.0s\n",
      "[CV] END ........C=3251.251025263777, gamma=auto, kernel=rbf; total time=   0.0s\n",
      "[CV] END ........C=3251.251025263777, gamma=auto, kernel=rbf; total time=   0.0s\n",
      "[CV] END ........C=3251.251025263777, gamma=auto, kernel=rbf; total time=   0.1s\n",
      "[CV] END ........C=3251.251025263777, gamma=auto, kernel=rbf; total time=   0.0s\n",
      "[CV] END .......C=44.914830422954466, gamma=auto, kernel=rbf; total time=   0.0s\n",
      "[CV] END .......C=44.914830422954466, gamma=auto, kernel=rbf; total time=   0.0s\n",
      "[CV] END .......C=44.914830422954466, gamma=auto, kernel=rbf; total time=   0.0s\n",
      "[CV] END .......C=44.914830422954466, gamma=auto, kernel=rbf; total time=   0.0s\n",
      "[CV] END .......C=44.914830422954466, gamma=auto, kernel=rbf; total time=   0.0s\n",
      "[CV] END .......C=44.914830422954466, gamma=auto, kernel=rbf; total time=   0.0s\n",
      "[CV] END .......C=44.914830422954466, gamma=auto, kernel=rbf; total time=   0.0s\n",
      "[CV] END .......C=44.914830422954466, gamma=auto, kernel=rbf; total time=   0.0s\n",
      "[CV] END .......C=44.914830422954466, gamma=auto, kernel=rbf; total time=   0.0s\n",
      "[CV] END .......C=44.914830422954466, gamma=auto, kernel=rbf; total time=   0.0s\n",
      "[CV] END ........C=571.3420385907559, gamma=auto, kernel=rbf; total time=   0.0s\n",
      "[CV] END ........C=571.3420385907559, gamma=auto, kernel=rbf; total time=   0.0s\n",
      "[CV] END ........C=571.3420385907559, gamma=auto, kernel=rbf; total time=   0.0s\n",
      "[CV] END ........C=571.3420385907559, gamma=auto, kernel=rbf; total time=   0.0s\n",
      "[CV] END ........C=571.3420385907559, gamma=auto, kernel=rbf; total time=   0.0s\n",
      "[CV] END ........C=571.3420385907559, gamma=auto, kernel=rbf; total time=   0.0s\n",
      "[CV] END ........C=571.3420385907559, gamma=auto, kernel=rbf; total time=   0.0s\n",
      "[CV] END ........C=571.3420385907559, gamma=auto, kernel=rbf; total time=   0.0s\n",
      "[CV] END ........C=571.3420385907559, gamma=auto, kernel=rbf; total time=   0.0s\n",
      "[CV] END ........C=571.3420385907559, gamma=auto, kernel=rbf; total time=   0.0s\n",
      "[CV] END ........C=790.9109526146813, gamma=auto, kernel=rbf; total time=   0.0s\n",
      "[CV] END ........C=790.9109526146813, gamma=auto, kernel=rbf; total time=   0.0s\n",
      "[CV] END ........C=790.9109526146813, gamma=auto, kernel=rbf; total time=   0.0s\n",
      "[CV] END ........C=790.9109526146813, gamma=auto, kernel=rbf; total time=   0.0s\n",
      "[CV] END ........C=790.9109526146813, gamma=auto, kernel=rbf; total time=   0.0s\n",
      "[CV] END ........C=790.9109526146813, gamma=auto, kernel=rbf; total time=   0.0s\n",
      "[CV] END ........C=790.9109526146813, gamma=auto, kernel=rbf; total time=   0.0s\n",
      "[CV] END ........C=790.9109526146813, gamma=auto, kernel=rbf; total time=   0.0s\n",
      "[CV] END ........C=790.9109526146813, gamma=auto, kernel=rbf; total time=   0.0s\n",
      "[CV] END ........C=790.9109526146813, gamma=auto, kernel=rbf; total time=   0.0s\n",
      "[CV] END ........C=9.548145173840805, gamma=auto, kernel=rbf; total time=   0.0s\n",
      "[CV] END ........C=9.548145173840805, gamma=auto, kernel=rbf; total time=   0.0s\n",
      "[CV] END ........C=9.548145173840805, gamma=auto, kernel=rbf; total time=   0.0s\n",
      "[CV] END ........C=9.548145173840805, gamma=auto, kernel=rbf; total time=   0.0s\n",
      "[CV] END ........C=9.548145173840805, gamma=auto, kernel=rbf; total time=   0.0s\n",
      "[CV] END ........C=9.548145173840805, gamma=auto, kernel=rbf; total time=   0.0s\n",
      "[CV] END ........C=9.548145173840805, gamma=auto, kernel=rbf; total time=   0.0s\n",
      "[CV] END ........C=9.548145173840805, gamma=auto, kernel=rbf; total time=   0.0s\n",
      "[CV] END ........C=9.548145173840805, gamma=auto, kernel=rbf; total time=   0.0s\n",
      "[CV] END ........C=9.548145173840805, gamma=auto, kernel=rbf; total time=   0.0s\n"
     ]
    },
    {
     "data": {
      "text/plain": "RandomizedSearchCV(cv=10, estimator=SVC(gamma='auto'), n_iter=50,\n                   param_distributions={'C': <scipy.stats._distn_infrastructure.rv_frozen object at 0x000002D97645BCA0>,\n                                        'gamma': ['auto'], 'kernel': ['rbf']},\n                   random_state=42, verbose=2)"
     },
     "execution_count": 398,
     "metadata": {},
     "output_type": "execute_result"
    }
   ],
   "source": [
    "from scipy.stats import reciprocal, expon\n",
    "from sklearn.model_selection import RandomizedSearchCV\n",
    "\n",
    "num_attribs = [\"Family_Size\", \"Fare\"]\n",
    "cat_attribs = [\"Sex\", \"Title\", \"Embarked\", \"Age_Group\", \"Pclass\"]\n",
    "\n",
    "full_transformer_pipeline = ColumnTransformer([\n",
    "    (\"num\", num_pipeline, num_attribs),\n",
    "    (\"cat\", cat_pipeline, cat_attribs)\n",
    "])\n",
    "\n",
    "full_pipeline = Pipeline([\n",
    "    ('feature_adder', FeatureAdder()),\n",
    "    ('feature_selector', FeatureSelector()),\n",
    "    ('transformer', full_transformer_pipeline),\n",
    "])\n",
    "\n",
    "titanic_data_prepared = full_pipeline.fit_transform(titanic_data)\n",
    "\n",
    "param_distribs = {\n",
    "    'kernel': ['rbf'],\n",
    "    'C': reciprocal(1, 200000),\n",
    "    'gamma': ['auto'],\n",
    "}\n",
    "\n",
    "rnd_search = RandomizedSearchCV(svm_clf, param_distributions=param_distribs, n_iter=50, cv=10, verbose=2,\n",
    "                                random_state=42)\n",
    "rnd_search.fit(titanic_data_prepared, titanic_labels)\n"
   ],
   "metadata": {
    "collapsed": false
   }
  },
  {
   "cell_type": "code",
   "execution_count": 399,
   "outputs": [
    {
     "data": {
      "text/plain": "0.8384019975031209"
     },
     "execution_count": 399,
     "metadata": {},
     "output_type": "execute_result"
    }
   ],
   "source": [
    "rnd_search.best_score_"
   ],
   "metadata": {
    "collapsed": false
   }
  },
  {
   "cell_type": "markdown",
   "source": [
    "Not bad, 83.8 % asccuracy."
   ],
   "metadata": {
    "collapsed": false
   }
  },
  {
   "cell_type": "code",
   "execution_count": 400,
   "outputs": [
    {
     "name": "stdout",
     "output_type": "stream",
     "text": [
      "0.8160049937578029 {'C': 96.70488316937897, 'gamma': 'auto', 'kernel': 'rbf'}\n",
      "0.776716604244694 {'C': 109588.51843286837, 'gamma': 'auto', 'kernel': 'rbf'}\n",
      "0.7991510611735331 {'C': 7591.3994172066905, 'gamma': 'auto', 'kernel': 'rbf'}\n",
      "0.8126342072409487 {'C': 1491.0993534221182, 'gamma': 'auto', 'kernel': 'rbf'}\n",
      "0.8327715355805243 {'C': 6.715208365130137, 'gamma': 'auto', 'kernel': 'rbf'}\n",
      "0.8327715355805243 {'C': 6.713231619759599, 'gamma': 'auto', 'kernel': 'rbf'}\n",
      "0.8372659176029963 {'C': 2.031902994480314, 'gamma': 'auto', 'kernel': 'rbf'}\n",
      "0.7789637952559301 {'C': 39050.42189404142, 'gamma': 'auto', 'kernel': 'rbf'}\n",
      "0.8126342072409487 {'C': 1536.4863560723961, 'gamma': 'auto', 'kernel': 'rbf'}\n",
      "0.802521847690387 {'C': 5669.098123087404, 'gamma': 'auto', 'kernel': 'rbf'}\n",
      "0.8361423220973784 {'C': 1.285638950805229, 'gamma': 'auto', 'kernel': 'rbf'}\n",
      "0.7778401997503119 {'C': 138522.7865778499, 'gamma': 'auto', 'kernel': 'rbf'}\n",
      "0.78458177278402 {'C': 25870.4157773626, 'gamma': 'auto', 'kernel': 'rbf'}\n",
      "0.8361548064918851 {'C': 13.354142153961533, 'gamma': 'auto', 'kernel': 'rbf'}\n",
      "0.8327840199750313 {'C': 9.201520650562236, 'gamma': 'auto', 'kernel': 'rbf'}\n",
      "0.8327840199750313 {'C': 9.380647315224122, 'gamma': 'auto', 'kernel': 'rbf'}\n",
      "0.8316729088639201 {'C': 41.0012649801668, 'gamma': 'auto', 'kernel': 'rbf'}\n",
      "0.8137203495630463 {'C': 604.9919340010415, 'gamma': 'auto', 'kernel': 'rbf'}\n",
      "0.8170911360799001 {'C': 194.87382082324612, 'gamma': 'auto', 'kernel': 'rbf'}\n",
      "0.8339076154806492 {'C': 34.97956527693283, 'gamma': 'auto', 'kernel': 'rbf'}\n",
      "0.8115106117353308 {'C': 1751.6629649020467, 'gamma': 'auto', 'kernel': 'rbf'}\n",
      "0.8327590511860175 {'C': 5.488594417167231, 'gamma': 'auto', 'kernel': 'rbf'}\n",
      "0.8339076154806492 {'C': 35.37264576810132, 'gamma': 'auto', 'kernel': 'rbf'}\n",
      "0.8182397003745319 {'C': 87.51754379612282, 'gamma': 'auto', 'kernel': 'rbf'}\n",
      "0.8159550561797753 {'C': 261.6017629848191, 'gamma': 'auto', 'kernel': 'rbf'}\n",
      "0.7913108614232209 {'C': 14529.187326739691, 'gamma': 'auto', 'kernel': 'rbf'}\n",
      "0.8327840199750313 {'C': 11.44133517717232, 'gamma': 'auto', 'kernel': 'rbf'}\n",
      "0.8125967540574284 {'C': 532.0741780836781, 'gamma': 'auto', 'kernel': 'rbf'}\n",
      "0.8126342072409487 {'C': 1381.6797716979363, 'gamma': 'auto', 'kernel': 'rbf'}\n",
      "0.8372659176029963 {'C': 1.762929849262259, 'gamma': 'auto', 'kernel': 'rbf'}\n",
      "0.8126342072409487 {'C': 1661.9328936364122, 'gamma': 'auto', 'kernel': 'rbf'}\n",
      "0.8316604244694131 {'C': 8.015922222732081, 'gamma': 'auto', 'kernel': 'rbf'}\n",
      "0.8372659176029963 {'C': 2.212281795836881, 'gamma': 'auto', 'kernel': 'rbf'}\n",
      "0.777840199750312 {'C': 107169.3743755247, 'gamma': 'auto', 'kernel': 'rbf'}\n",
      "0.776716604244694 {'C': 131475.36104419336, 'gamma': 'auto', 'kernel': 'rbf'}\n",
      "0.792434456928839 {'C': 19290.282632663188, 'gamma': 'auto', 'kernel': 'rbf'}\n",
      "0.8316729088639201 {'C': 41.18762286645785, 'gamma': 'auto', 'kernel': 'rbf'}\n",
      "0.8383770287141074 {'C': 3.294297419624532, 'gamma': 'auto', 'kernel': 'rbf'}\n",
      "0.8081398252184769 {'C': 4237.79356886974, 'gamma': 'auto', 'kernel': 'rbf'}\n",
      "0.8148439450686642 {'C': 215.4078727929885, 'gamma': 'auto', 'kernel': 'rbf'}\n",
      "0.8372534332084894 {'C': 4.435354567081467, 'gamma': 'auto', 'kernel': 'rbf'}\n",
      "0.8137203495630463 {'C': 421.64567861000745, 'gamma': 'auto', 'kernel': 'rbf'}\n",
      "0.8372659176029963 {'C': 1.5215792669652939, 'gamma': 'auto', 'kernel': 'rbf'}\n",
      "0.7789762796504369 {'C': 66120.2865581789, 'gamma': 'auto', 'kernel': 'rbf'}\n",
      "0.8384019975031209 {'C': 23.53967403885428, 'gamma': 'auto', 'kernel': 'rbf'}\n",
      "0.8070162297128588 {'C': 3251.251025263777, 'gamma': 'auto', 'kernel': 'rbf'}\n",
      "0.828314606741573 {'C': 44.914830422954466, 'gamma': 'auto', 'kernel': 'rbf'}\n",
      "0.8137203495630463 {'C': 571.3420385907559, 'gamma': 'auto', 'kernel': 'rbf'}\n",
      "0.8148439450686642 {'C': 790.9109526146813, 'gamma': 'auto', 'kernel': 'rbf'}\n",
      "0.8327840199750313 {'C': 9.548145173840805, 'gamma': 'auto', 'kernel': 'rbf'}\n"
     ]
    }
   ],
   "source": [
    "cvres = rnd_search.cv_results_\n",
    "for mean_score, params in zip(cvres[\"mean_test_score\"], cvres[\"params\"]):\n",
    "    print(mean_score, params)\n"
   ],
   "metadata": {
    "collapsed": false
   }
  },
  {
   "cell_type": "code",
   "execution_count": 401,
   "outputs": [
    {
     "data": {
      "text/plain": "SVC(C=23.53967403885428, gamma='auto')"
     },
     "execution_count": 401,
     "metadata": {},
     "output_type": "execute_result"
    }
   ],
   "source": [
    "rnd_search.best_estimator_\n"
   ],
   "metadata": {
    "collapsed": false
   }
  },
  {
   "cell_type": "markdown",
   "source": [
    "Let's finally do it on the test set and generate the submission CSV."
   ],
   "metadata": {
    "collapsed": false
   }
  },
  {
   "cell_type": "code",
   "execution_count": 445,
   "outputs": [
    {
     "data": {
      "text/plain": "array([0, 0, 0, 0, 0, 0, 1, 0, 1, 0, 0, 0, 1, 0, 1, 1, 0, 0, 0, 0, 0, 1,\n       1, 0, 1, 0, 1, 0, 0, 0, 0, 0, 0, 0, 0, 0, 0, 0, 0, 0, 0, 0, 0, 1,\n       1, 0, 0, 0, 1, 0, 0, 0, 1, 1, 0, 0, 0, 0, 0, 1, 0, 0, 0, 1, 1, 1,\n       1, 0, 0, 1, 1, 0, 0, 0, 1, 0, 0, 1, 0, 1, 1, 0, 0, 0, 0, 0, 1, 0,\n       1, 1, 1, 0, 1, 0, 0, 0, 1, 0, 0, 0, 1, 0, 0, 0, 1, 0, 0, 0, 0, 0,\n       0, 1, 1, 1, 1, 0, 0, 1, 0, 1, 1, 0, 1, 0, 0, 0, 0, 1, 0, 0, 0, 0,\n       0, 0, 0, 0, 0, 0, 0, 0, 0, 1, 0, 0, 0, 0, 0, 0, 0, 0, 1, 0, 0, 0,\n       0, 0, 1, 0, 0, 0, 1, 1, 1, 0, 0, 0, 0, 0, 1, 0, 0, 0, 0, 0, 0, 1,\n       1, 0, 1, 1, 0, 0, 1, 0, 1, 0, 1, 0, 0, 0, 0, 0, 1, 0, 1, 0, 1, 0,\n       0, 1, 1, 1, 0, 1, 0, 0, 0, 0, 1, 0, 0, 0, 0, 1, 0, 0, 1, 0, 1, 0,\n       1, 0, 1, 0, 1, 1, 0, 1, 0, 0, 0, 1, 0, 0, 0, 0, 0, 0, 1, 1, 1, 1,\n       0, 0, 0, 0, 1, 0, 1, 1, 1, 0, 0, 0, 0, 0, 0, 0, 1, 0, 0, 0, 1, 1,\n       0, 0, 0, 0, 0, 0, 0, 0, 1, 1, 0, 1, 0, 0, 0, 0, 0, 1, 1, 1, 1, 0,\n       0, 0, 0, 0, 0, 1, 0, 1, 0, 0, 1, 0, 0, 0, 0, 0, 0, 0, 1, 1, 0, 1,\n       0, 0, 0, 0, 0, 0, 1, 1, 0, 0, 0, 0, 0, 0, 0, 0, 1, 0, 1, 0, 0, 0,\n       1, 0, 0, 1, 0, 0, 0, 0, 0, 1, 0, 0, 0, 1, 1, 0, 0, 0, 0, 1, 1, 0,\n       0, 0, 0, 0, 1, 0, 0, 1, 0, 1, 1, 0, 1, 0, 0, 0, 1, 0, 0, 1, 0, 0,\n       1, 1, 0, 0, 0, 0, 0, 0, 1, 1, 0, 1, 0, 0, 0, 0, 0, 1, 1, 0, 0, 1,\n       0, 1, 0, 0, 1, 0, 1, 0, 0, 0, 0, 0, 1, 1, 1, 1, 0, 0, 1, 0, 0, 1],\n      dtype=int64)"
     },
     "execution_count": 445,
     "metadata": {},
     "output_type": "execute_result"
    }
   ],
   "source": [
    "num_attribs = [\"Family_Size\", \"Fare\"]\n",
    "cat_attribs = [\"Sex\", \"Title\", \"Embarked\", \"Age_Group\", \"Pclass\"]\n",
    "\n",
    "full_transformer_pipeline = ColumnTransformer([\n",
    "    (\"num\", num_pipeline, num_attribs),\n",
    "    (\"cat\", cat_pipeline, cat_attribs)\n",
    "])\n",
    "\n",
    "full_pipeline = Pipeline([\n",
    "    ('feature_adder', FeatureAdder()),\n",
    "    ('feature_selector', FeatureSelector()),\n",
    "    ('transformer', full_transformer_pipeline),\n",
    "])\n",
    "\n",
    "titanic_train_prepared = full_pipeline.fit_transform(titanic_data)\n",
    "\n",
    "\n",
    "test_data = load_titanic_data(\"test.csv\")\n",
    "\n",
    "best_svc = rnd_search.best_estimator_\n",
    "best_svc.fit(titanic_train_prepared, titanic_labels)\n",
    "\n",
    "titanic_test_prepared = full_pipeline.fit_transform(test_data)\n",
    "titanic_predictions = best_svc.predict(titanic_test_prepared)\n",
    "titanic_predictions"
   ],
   "metadata": {
    "collapsed": false
   }
  },
  {
   "cell_type": "code",
   "execution_count": 446,
   "outputs": [
    {
     "data": {
      "text/plain": "     PassengerId  Survived\n0            892         0\n1            893         0\n2            894         0\n3            895         0\n4            896         0\n..           ...       ...\n413         1305         0\n414         1306         1\n415         1307         0\n416         1308         0\n417         1309         1\n\n[418 rows x 2 columns]",
      "text/html": "<div>\n<style scoped>\n    .dataframe tbody tr th:only-of-type {\n        vertical-align: middle;\n    }\n\n    .dataframe tbody tr th {\n        vertical-align: top;\n    }\n\n    .dataframe thead th {\n        text-align: right;\n    }\n</style>\n<table border=\"1\" class=\"dataframe\">\n  <thead>\n    <tr style=\"text-align: right;\">\n      <th></th>\n      <th>PassengerId</th>\n      <th>Survived</th>\n    </tr>\n  </thead>\n  <tbody>\n    <tr>\n      <th>0</th>\n      <td>892</td>\n      <td>0</td>\n    </tr>\n    <tr>\n      <th>1</th>\n      <td>893</td>\n      <td>0</td>\n    </tr>\n    <tr>\n      <th>2</th>\n      <td>894</td>\n      <td>0</td>\n    </tr>\n    <tr>\n      <th>3</th>\n      <td>895</td>\n      <td>0</td>\n    </tr>\n    <tr>\n      <th>4</th>\n      <td>896</td>\n      <td>0</td>\n    </tr>\n    <tr>\n      <th>...</th>\n      <td>...</td>\n      <td>...</td>\n    </tr>\n    <tr>\n      <th>413</th>\n      <td>1305</td>\n      <td>0</td>\n    </tr>\n    <tr>\n      <th>414</th>\n      <td>1306</td>\n      <td>1</td>\n    </tr>\n    <tr>\n      <th>415</th>\n      <td>1307</td>\n      <td>0</td>\n    </tr>\n    <tr>\n      <th>416</th>\n      <td>1308</td>\n      <td>0</td>\n    </tr>\n    <tr>\n      <th>417</th>\n      <td>1309</td>\n      <td>1</td>\n    </tr>\n  </tbody>\n</table>\n<p>418 rows × 2 columns</p>\n</div>"
     },
     "execution_count": 446,
     "metadata": {},
     "output_type": "execute_result"
    }
   ],
   "source": [
    "submission = pd.DataFrame({\n",
    "    \"PassengerId\": test_data[\"PassengerId\"],\n",
    "    \"Survived\": titanic_predictions\n",
    "})\n",
    "submission\n"
   ],
   "metadata": {
    "collapsed": false
   }
  },
  {
   "cell_type": "code",
   "execution_count": 447,
   "outputs": [],
   "source": [
    "submission.to_csv(\"titanic_submission.csv\", index=False)\n"
   ],
   "metadata": {
    "collapsed": false
   }
  }
 ],
 "metadata": {
  "kernelspec": {
   "display_name": "Python 3",
   "language": "python",
   "name": "python3"
  },
  "language_info": {
   "codemirror_mode": {
    "name": "ipython",
    "version": 2
   },
   "file_extension": ".py",
   "mimetype": "text/x-python",
   "name": "python",
   "nbconvert_exporter": "python",
   "pygments_lexer": "ipython2",
   "version": "2.7.6"
  }
 },
 "nbformat": 4,
 "nbformat_minor": 0
}
